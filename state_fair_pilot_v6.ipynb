{
    "cells": [
        {
            "cell_type": "code",
            "execution_count": 1,
            "metadata": {},
            "outputs": [],
            "source": [
                "import pandas as pd\n",
                "import numpy as np\n",
                "import matplotlib.pyplot as plt\n",
                "from sklearn.preprocessing import StandardScaler, MinMaxScaler\n",
                "from sklearn.compose import ColumnTransformer\n",
                "\n",
                "from plotly.subplots import make_subplots\n",
                "import plotly.graph_objects as go\n",
                "import plotly.express as px\n",
                "\n",
                "from scipy.stats import pearsonr, spearmanr"
            ]
        },
        {
            "cell_type": "markdown",
            "metadata": {},
            "source": [
                "---\n",
                "\n",
                "# Load data"
            ]
        },
        {
            "cell_type": "markdown",
            "metadata": {},
            "source": [
                "We will look at 4 different state fairs that span a variety of climates and that were the largest of the US: Minnesota, Texas, New York and North Carolina."
            ]
        },
        {
            "cell_type": "code",
            "execution_count": 2,
            "metadata": {},
            "outputs": [],
            "source": [
                "attendance2 = pd.read_csv(\"state_fair_attendance_v4.csv\", parse_dates = [\"date\"], dayfirst=True)\n",
                "#attendance2['date'] = pd.to_datetime(attendance2['date'])\n",
                "\n",
                "MN_prec = pd.read_csv(\"MN_Prism.csv\", parse_dates = True)\n",
                "NY_prec = pd.read_csv(\"NY_Prism.csv\", parse_dates = True)\n",
                "TX_prec = pd.read_csv(\"TX_Prism.csv\", parse_dates = True)\n",
                "NC_prec = pd.read_csv(\"NC_Prism.csv\", parse_dates = True)"
            ]
        },
        {
            "cell_type": "code",
            "execution_count": 3,
            "metadata": {},
            "outputs": [
                {
                    "data": {
                        "text/html": [
                            "<div>\n",
                            "<style scoped>\n",
                            "    .dataframe tbody tr th:only-of-type {\n",
                            "        vertical-align: middle;\n",
                            "    }\n",
                            "\n",
                            "    .dataframe tbody tr th {\n",
                            "        vertical-align: top;\n",
                            "    }\n",
                            "\n",
                            "    .dataframe thead th {\n",
                            "        text-align: right;\n",
                            "    }\n",
                            "</style>\n",
                            "<table border=\"1\" class=\"dataframe\">\n",
                            "  <thead>\n",
                            "    <tr style=\"text-align: right;\">\n",
                            "      <th></th>\n",
                            "      <th>state</th>\n",
                            "      <th>year</th>\n",
                            "      <th>date</th>\n",
                            "      <th>attendance</th>\n",
                            "    </tr>\n",
                            "  </thead>\n",
                            "  <tbody>\n",
                            "    <tr>\n",
                            "      <th>0</th>\n",
                            "      <td>MN</td>\n",
                            "      <td>2018</td>\n",
                            "      <td>2018-08-23</td>\n",
                            "      <td>122695</td>\n",
                            "    </tr>\n",
                            "    <tr>\n",
                            "      <th>1</th>\n",
                            "      <td>MN</td>\n",
                            "      <td>2018</td>\n",
                            "      <td>2018-08-24</td>\n",
                            "      <td>108059</td>\n",
                            "    </tr>\n",
                            "    <tr>\n",
                            "      <th>2</th>\n",
                            "      <td>MN</td>\n",
                            "      <td>2018</td>\n",
                            "      <td>2018-08-25</td>\n",
                            "      <td>222194</td>\n",
                            "    </tr>\n",
                            "    <tr>\n",
                            "      <th>3</th>\n",
                            "      <td>MN</td>\n",
                            "      <td>2018</td>\n",
                            "      <td>2018-08-26</td>\n",
                            "      <td>184715</td>\n",
                            "    </tr>\n",
                            "    <tr>\n",
                            "      <th>4</th>\n",
                            "      <td>MN</td>\n",
                            "      <td>2018</td>\n",
                            "      <td>2018-08-27</td>\n",
                            "      <td>124438</td>\n",
                            "    </tr>\n",
                            "    <tr>\n",
                            "      <th>5</th>\n",
                            "      <td>MN</td>\n",
                            "      <td>2018</td>\n",
                            "      <td>2018-08-28</td>\n",
                            "      <td>120209</td>\n",
                            "    </tr>\n",
                            "    <tr>\n",
                            "      <th>6</th>\n",
                            "      <td>MN</td>\n",
                            "      <td>2018</td>\n",
                            "      <td>2018-08-29</td>\n",
                            "      <td>144940</td>\n",
                            "    </tr>\n",
                            "    <tr>\n",
                            "      <th>7</th>\n",
                            "      <td>MN</td>\n",
                            "      <td>2018</td>\n",
                            "      <td>2018-08-30</td>\n",
                            "      <td>156764</td>\n",
                            "    </tr>\n",
                            "    <tr>\n",
                            "      <th>8</th>\n",
                            "      <td>MN</td>\n",
                            "      <td>2018</td>\n",
                            "      <td>2018-08-31</td>\n",
                            "      <td>179402</td>\n",
                            "    </tr>\n",
                            "    <tr>\n",
                            "      <th>9</th>\n",
                            "      <td>MN</td>\n",
                            "      <td>2018</td>\n",
                            "      <td>2018-09-01</td>\n",
                            "      <td>270426</td>\n",
                            "    </tr>\n",
                            "    <tr>\n",
                            "      <th>10</th>\n",
                            "      <td>MN</td>\n",
                            "      <td>2018</td>\n",
                            "      <td>2018-09-02</td>\n",
                            "      <td>241102</td>\n",
                            "    </tr>\n",
                            "    <tr>\n",
                            "      <th>11</th>\n",
                            "      <td>MN</td>\n",
                            "      <td>2018</td>\n",
                            "      <td>2018-09-03</td>\n",
                            "      <td>171588</td>\n",
                            "    </tr>\n",
                            "    <tr>\n",
                            "      <th>12</th>\n",
                            "      <td>MN</td>\n",
                            "      <td>2019</td>\n",
                            "      <td>2019-08-22</td>\n",
                            "      <td>133326</td>\n",
                            "    </tr>\n",
                            "    <tr>\n",
                            "      <th>13</th>\n",
                            "      <td>MN</td>\n",
                            "      <td>2019</td>\n",
                            "      <td>2019-08-23</td>\n",
                            "      <td>157224</td>\n",
                            "    </tr>\n",
                            "    <tr>\n",
                            "      <th>14</th>\n",
                            "      <td>MN</td>\n",
                            "      <td>2019</td>\n",
                            "      <td>2019-08-24</td>\n",
                            "      <td>209105</td>\n",
                            "    </tr>\n",
                            "    <tr>\n",
                            "      <th>15</th>\n",
                            "      <td>MN</td>\n",
                            "      <td>2019</td>\n",
                            "      <td>2019-08-25</td>\n",
                            "      <td>191524</td>\n",
                            "    </tr>\n",
                            "    <tr>\n",
                            "      <th>16</th>\n",
                            "      <td>MN</td>\n",
                            "      <td>2019</td>\n",
                            "      <td>2019-08-26</td>\n",
                            "      <td>96716</td>\n",
                            "    </tr>\n",
                            "    <tr>\n",
                            "      <th>17</th>\n",
                            "      <td>MN</td>\n",
                            "      <td>2019</td>\n",
                            "      <td>2019-08-27</td>\n",
                            "      <td>136987</td>\n",
                            "    </tr>\n",
                            "    <tr>\n",
                            "      <th>18</th>\n",
                            "      <td>MN</td>\n",
                            "      <td>2019</td>\n",
                            "      <td>2019-08-28</td>\n",
                            "      <td>142211</td>\n",
                            "    </tr>\n",
                            "    <tr>\n",
                            "      <th>19</th>\n",
                            "      <td>MN</td>\n",
                            "      <td>2019</td>\n",
                            "      <td>2019-08-29</td>\n",
                            "      <td>153274</td>\n",
                            "    </tr>\n",
                            "    <tr>\n",
                            "      <th>20</th>\n",
                            "      <td>MN</td>\n",
                            "      <td>2019</td>\n",
                            "      <td>2019-08-30</td>\n",
                            "      <td>209789</td>\n",
                            "    </tr>\n",
                            "    <tr>\n",
                            "      <th>21</th>\n",
                            "      <td>MN</td>\n",
                            "      <td>2019</td>\n",
                            "      <td>2019-08-31</td>\n",
                            "      <td>266412</td>\n",
                            "    </tr>\n",
                            "    <tr>\n",
                            "      <th>22</th>\n",
                            "      <td>MN</td>\n",
                            "      <td>2019</td>\n",
                            "      <td>2019-09-01</td>\n",
                            "      <td>245243</td>\n",
                            "    </tr>\n",
                            "    <tr>\n",
                            "      <th>23</th>\n",
                            "      <td>MN</td>\n",
                            "      <td>2019</td>\n",
                            "      <td>2019-09-02</td>\n",
                            "      <td>184740</td>\n",
                            "    </tr>\n",
                            "    <tr>\n",
                            "      <th>24</th>\n",
                            "      <td>MN</td>\n",
                            "      <td>2021</td>\n",
                            "      <td>2021-08-26</td>\n",
                            "      <td>61983</td>\n",
                            "    </tr>\n",
                            "    <tr>\n",
                            "      <th>25</th>\n",
                            "      <td>MN</td>\n",
                            "      <td>2021</td>\n",
                            "      <td>2021-08-27</td>\n",
                            "      <td>77406</td>\n",
                            "    </tr>\n",
                            "    <tr>\n",
                            "      <th>26</th>\n",
                            "      <td>MN</td>\n",
                            "      <td>2021</td>\n",
                            "      <td>2021-08-28</td>\n",
                            "      <td>129984</td>\n",
                            "    </tr>\n",
                            "    <tr>\n",
                            "      <th>27</th>\n",
                            "      <td>MN</td>\n",
                            "      <td>2021</td>\n",
                            "      <td>2021-08-29</td>\n",
                            "      <td>149247</td>\n",
                            "    </tr>\n",
                            "    <tr>\n",
                            "      <th>28</th>\n",
                            "      <td>MN</td>\n",
                            "      <td>2021</td>\n",
                            "      <td>2021-08-30</td>\n",
                            "      <td>91568</td>\n",
                            "    </tr>\n",
                            "    <tr>\n",
                            "      <th>29</th>\n",
                            "      <td>MN</td>\n",
                            "      <td>2021</td>\n",
                            "      <td>2021-08-31</td>\n",
                            "      <td>89618</td>\n",
                            "    </tr>\n",
                            "    <tr>\n",
                            "      <th>30</th>\n",
                            "      <td>MN</td>\n",
                            "      <td>2021</td>\n",
                            "      <td>2021-09-01</td>\n",
                            "      <td>88027</td>\n",
                            "    </tr>\n",
                            "    <tr>\n",
                            "      <th>31</th>\n",
                            "      <td>MN</td>\n",
                            "      <td>2021</td>\n",
                            "      <td>2021-09-02</td>\n",
                            "      <td>80778</td>\n",
                            "    </tr>\n",
                            "    <tr>\n",
                            "      <th>32</th>\n",
                            "      <td>MN</td>\n",
                            "      <td>2021</td>\n",
                            "      <td>2021-09-03</td>\n",
                            "      <td>102020</td>\n",
                            "    </tr>\n",
                            "    <tr>\n",
                            "      <th>33</th>\n",
                            "      <td>MN</td>\n",
                            "      <td>2021</td>\n",
                            "      <td>2021-09-04</td>\n",
                            "      <td>153953</td>\n",
                            "    </tr>\n",
                            "    <tr>\n",
                            "      <th>34</th>\n",
                            "      <td>MN</td>\n",
                            "      <td>2021</td>\n",
                            "      <td>2021-09-05</td>\n",
                            "      <td>153422</td>\n",
                            "    </tr>\n",
                            "    <tr>\n",
                            "      <th>35</th>\n",
                            "      <td>MN</td>\n",
                            "      <td>2021</td>\n",
                            "      <td>2021-09-06</td>\n",
                            "      <td>123578</td>\n",
                            "    </tr>\n",
                            "  </tbody>\n",
                            "</table>\n",
                            "</div>"
                        ],
                        "text/plain": [
                            "   state  year       date  attendance\n",
                            "0     MN  2018 2018-08-23      122695\n",
                            "1     MN  2018 2018-08-24      108059\n",
                            "2     MN  2018 2018-08-25      222194\n",
                            "3     MN  2018 2018-08-26      184715\n",
                            "4     MN  2018 2018-08-27      124438\n",
                            "5     MN  2018 2018-08-28      120209\n",
                            "6     MN  2018 2018-08-29      144940\n",
                            "7     MN  2018 2018-08-30      156764\n",
                            "8     MN  2018 2018-08-31      179402\n",
                            "9     MN  2018 2018-09-01      270426\n",
                            "10    MN  2018 2018-09-02      241102\n",
                            "11    MN  2018 2018-09-03      171588\n",
                            "12    MN  2019 2019-08-22      133326\n",
                            "13    MN  2019 2019-08-23      157224\n",
                            "14    MN  2019 2019-08-24      209105\n",
                            "15    MN  2019 2019-08-25      191524\n",
                            "16    MN  2019 2019-08-26       96716\n",
                            "17    MN  2019 2019-08-27      136987\n",
                            "18    MN  2019 2019-08-28      142211\n",
                            "19    MN  2019 2019-08-29      153274\n",
                            "20    MN  2019 2019-08-30      209789\n",
                            "21    MN  2019 2019-08-31      266412\n",
                            "22    MN  2019 2019-09-01      245243\n",
                            "23    MN  2019 2019-09-02      184740\n",
                            "24    MN  2021 2021-08-26       61983\n",
                            "25    MN  2021 2021-08-27       77406\n",
                            "26    MN  2021 2021-08-28      129984\n",
                            "27    MN  2021 2021-08-29      149247\n",
                            "28    MN  2021 2021-08-30       91568\n",
                            "29    MN  2021 2021-08-31       89618\n",
                            "30    MN  2021 2021-09-01       88027\n",
                            "31    MN  2021 2021-09-02       80778\n",
                            "32    MN  2021 2021-09-03      102020\n",
                            "33    MN  2021 2021-09-04      153953\n",
                            "34    MN  2021 2021-09-05      153422\n",
                            "35    MN  2021 2021-09-06      123578"
                        ]
                    },
                    "execution_count": 3,
                    "metadata": {},
                    "output_type": "execute_result"
                }
            ],
            "source": [
                "attendance2[attendance2['state']=='MN']"
            ]
        },
        {
            "cell_type": "code",
            "execution_count": 4,
            "metadata": {},
            "outputs": [],
            "source": [
                "MN_prec['state']='MN'\n",
                "MN_prec['date'] = pd.to_datetime(MN_prec['date'])\n",
                "NY_prec['state']='NY'\n",
                "NY_prec['date'] = pd.to_datetime(NY_prec['date'])\n",
                "TX_prec['state']='TX'\n",
                "TX_prec['date'] = pd.to_datetime(TX_prec['date'])\n",
                "NC_prec['state']='NC'\n",
                "NC_prec['date'] = pd.to_datetime(NC_prec['date'])\n"
            ]
        },
        {
            "cell_type": "code",
            "execution_count": 5,
            "metadata": {},
            "outputs": [],
            "source": [
                "MN_prec['date'] = MN_prec.date - pd.Timedelta(days=1)\n",
                "NY_prec['date'] = NY_prec.date - pd.Timedelta(days=1)\n",
                "TX_prec['date'] = TX_prec.date - pd.Timedelta(days=1)\n",
                "NC_prec['date'] = NC_prec.date - pd.Timedelta(days=1)"
            ]
        },
        {
            "cell_type": "code",
            "execution_count": 6,
            "metadata": {},
            "outputs": [
                {
                    "data": {
                        "text/html": [
                            "<div>\n",
                            "<style scoped>\n",
                            "    .dataframe tbody tr th:only-of-type {\n",
                            "        vertical-align: middle;\n",
                            "    }\n",
                            "\n",
                            "    .dataframe tbody tr th {\n",
                            "        vertical-align: top;\n",
                            "    }\n",
                            "\n",
                            "    .dataframe thead th {\n",
                            "        text-align: right;\n",
                            "    }\n",
                            "</style>\n",
                            "<table border=\"1\" class=\"dataframe\">\n",
                            "  <thead>\n",
                            "    <tr style=\"text-align: right;\">\n",
                            "      <th></th>\n",
                            "      <th>state</th>\n",
                            "      <th>year</th>\n",
                            "      <th>date</th>\n",
                            "      <th>attendance</th>\n",
                            "      <th>precip</th>\n",
                            "    </tr>\n",
                            "  </thead>\n",
                            "  <tbody>\n",
                            "    <tr>\n",
                            "      <th>0</th>\n",
                            "      <td>MN</td>\n",
                            "      <td>2018</td>\n",
                            "      <td>2018-08-23</td>\n",
                            "      <td>122695</td>\n",
                            "      <td>2.79</td>\n",
                            "    </tr>\n",
                            "    <tr>\n",
                            "      <th>1</th>\n",
                            "      <td>MN</td>\n",
                            "      <td>2018</td>\n",
                            "      <td>2018-08-24</td>\n",
                            "      <td>108059</td>\n",
                            "      <td>32.78</td>\n",
                            "    </tr>\n",
                            "    <tr>\n",
                            "      <th>2</th>\n",
                            "      <td>MN</td>\n",
                            "      <td>2018</td>\n",
                            "      <td>2018-08-25</td>\n",
                            "      <td>222194</td>\n",
                            "      <td>0.00</td>\n",
                            "    </tr>\n",
                            "    <tr>\n",
                            "      <th>3</th>\n",
                            "      <td>MN</td>\n",
                            "      <td>2018</td>\n",
                            "      <td>2018-08-26</td>\n",
                            "      <td>184715</td>\n",
                            "      <td>0.72</td>\n",
                            "    </tr>\n",
                            "    <tr>\n",
                            "      <th>4</th>\n",
                            "      <td>MN</td>\n",
                            "      <td>2018</td>\n",
                            "      <td>2018-08-27</td>\n",
                            "      <td>124438</td>\n",
                            "      <td>5.10</td>\n",
                            "    </tr>\n",
                            "    <tr>\n",
                            "      <th>...</th>\n",
                            "      <td>...</td>\n",
                            "      <td>...</td>\n",
                            "      <td>...</td>\n",
                            "      <td>...</td>\n",
                            "      <td>...</td>\n",
                            "    </tr>\n",
                            "    <tr>\n",
                            "      <th>355</th>\n",
                            "      <td>NC</td>\n",
                            "      <td>2013</td>\n",
                            "      <td>2013-10-23</td>\n",
                            "      <td>68252</td>\n",
                            "      <td>NaN</td>\n",
                            "    </tr>\n",
                            "    <tr>\n",
                            "      <th>356</th>\n",
                            "      <td>NC</td>\n",
                            "      <td>2013</td>\n",
                            "      <td>2013-10-24</td>\n",
                            "      <td>102176</td>\n",
                            "      <td>NaN</td>\n",
                            "    </tr>\n",
                            "    <tr>\n",
                            "      <th>357</th>\n",
                            "      <td>NC</td>\n",
                            "      <td>2013</td>\n",
                            "      <td>2013-10-25</td>\n",
                            "      <td>82163</td>\n",
                            "      <td>NaN</td>\n",
                            "    </tr>\n",
                            "    <tr>\n",
                            "      <th>358</th>\n",
                            "      <td>NC</td>\n",
                            "      <td>2013</td>\n",
                            "      <td>2013-10-26</td>\n",
                            "      <td>122223</td>\n",
                            "      <td>NaN</td>\n",
                            "    </tr>\n",
                            "    <tr>\n",
                            "      <th>359</th>\n",
                            "      <td>NC</td>\n",
                            "      <td>2013</td>\n",
                            "      <td>2013-10-27</td>\n",
                            "      <td>98221</td>\n",
                            "      <td>NaN</td>\n",
                            "    </tr>\n",
                            "  </tbody>\n",
                            "</table>\n",
                            "<p>360 rows × 5 columns</p>\n",
                            "</div>"
                        ],
                        "text/plain": [
                            "    state  year       date  attendance  precip\n",
                            "0      MN  2018 2018-08-23      122695    2.79\n",
                            "1      MN  2018 2018-08-24      108059   32.78\n",
                            "2      MN  2018 2018-08-25      222194    0.00\n",
                            "3      MN  2018 2018-08-26      184715    0.72\n",
                            "4      MN  2018 2018-08-27      124438    5.10\n",
                            "..    ...   ...        ...         ...     ...\n",
                            "355    NC  2013 2013-10-23       68252     NaN\n",
                            "356    NC  2013 2013-10-24      102176     NaN\n",
                            "357    NC  2013 2013-10-25       82163     NaN\n",
                            "358    NC  2013 2013-10-26      122223     NaN\n",
                            "359    NC  2013 2013-10-27       98221     NaN\n",
                            "\n",
                            "[360 rows x 5 columns]"
                        ]
                    },
                    "execution_count": 6,
                    "metadata": {},
                    "output_type": "execute_result"
                }
            ],
            "source": [
                "attendance2.merge(MN_prec, right_on=['state','date'], left_on=['state','date'], how='left',suffixes=('_MN', '_y'))"
            ]
        },
        {
            "cell_type": "code",
            "execution_count": 7,
            "metadata": {},
            "outputs": [
                {
                    "data": {
                        "text/html": [
                            "<div>\n",
                            "<style scoped>\n",
                            "    .dataframe tbody tr th:only-of-type {\n",
                            "        vertical-align: middle;\n",
                            "    }\n",
                            "\n",
                            "    .dataframe tbody tr th {\n",
                            "        vertical-align: top;\n",
                            "    }\n",
                            "\n",
                            "    .dataframe thead th {\n",
                            "        text-align: right;\n",
                            "    }\n",
                            "</style>\n",
                            "<table border=\"1\" class=\"dataframe\">\n",
                            "  <thead>\n",
                            "    <tr style=\"text-align: right;\">\n",
                            "      <th></th>\n",
                            "      <th>state</th>\n",
                            "      <th>year</th>\n",
                            "      <th>date</th>\n",
                            "      <th>attendance</th>\n",
                            "      <th>prec</th>\n",
                            "    </tr>\n",
                            "  </thead>\n",
                            "  <tbody>\n",
                            "    <tr>\n",
                            "      <th>0</th>\n",
                            "      <td>MN</td>\n",
                            "      <td>2018</td>\n",
                            "      <td>2018-08-23</td>\n",
                            "      <td>122695</td>\n",
                            "      <td>2.79</td>\n",
                            "    </tr>\n",
                            "    <tr>\n",
                            "      <th>1</th>\n",
                            "      <td>MN</td>\n",
                            "      <td>2018</td>\n",
                            "      <td>2018-08-24</td>\n",
                            "      <td>108059</td>\n",
                            "      <td>32.78</td>\n",
                            "    </tr>\n",
                            "    <tr>\n",
                            "      <th>2</th>\n",
                            "      <td>MN</td>\n",
                            "      <td>2018</td>\n",
                            "      <td>2018-08-25</td>\n",
                            "      <td>222194</td>\n",
                            "      <td>0.00</td>\n",
                            "    </tr>\n",
                            "    <tr>\n",
                            "      <th>3</th>\n",
                            "      <td>MN</td>\n",
                            "      <td>2018</td>\n",
                            "      <td>2018-08-26</td>\n",
                            "      <td>184715</td>\n",
                            "      <td>0.72</td>\n",
                            "    </tr>\n",
                            "    <tr>\n",
                            "      <th>4</th>\n",
                            "      <td>MN</td>\n",
                            "      <td>2018</td>\n",
                            "      <td>2018-08-27</td>\n",
                            "      <td>124438</td>\n",
                            "      <td>5.10</td>\n",
                            "    </tr>\n",
                            "    <tr>\n",
                            "      <th>...</th>\n",
                            "      <td>...</td>\n",
                            "      <td>...</td>\n",
                            "      <td>...</td>\n",
                            "      <td>...</td>\n",
                            "      <td>...</td>\n",
                            "    </tr>\n",
                            "    <tr>\n",
                            "      <th>355</th>\n",
                            "      <td>NC</td>\n",
                            "      <td>2013</td>\n",
                            "      <td>2013-10-23</td>\n",
                            "      <td>68252</td>\n",
                            "      <td>0.00</td>\n",
                            "    </tr>\n",
                            "    <tr>\n",
                            "      <th>356</th>\n",
                            "      <td>NC</td>\n",
                            "      <td>2013</td>\n",
                            "      <td>2013-10-24</td>\n",
                            "      <td>102176</td>\n",
                            "      <td>0.00</td>\n",
                            "    </tr>\n",
                            "    <tr>\n",
                            "      <th>357</th>\n",
                            "      <td>NC</td>\n",
                            "      <td>2013</td>\n",
                            "      <td>2013-10-25</td>\n",
                            "      <td>82163</td>\n",
                            "      <td>0.00</td>\n",
                            "    </tr>\n",
                            "    <tr>\n",
                            "      <th>358</th>\n",
                            "      <td>NC</td>\n",
                            "      <td>2013</td>\n",
                            "      <td>2013-10-26</td>\n",
                            "      <td>122223</td>\n",
                            "      <td>0.00</td>\n",
                            "    </tr>\n",
                            "    <tr>\n",
                            "      <th>359</th>\n",
                            "      <td>NC</td>\n",
                            "      <td>2013</td>\n",
                            "      <td>2013-10-27</td>\n",
                            "      <td>98221</td>\n",
                            "      <td>0.00</td>\n",
                            "    </tr>\n",
                            "  </tbody>\n",
                            "</table>\n",
                            "<p>360 rows × 5 columns</p>\n",
                            "</div>"
                        ],
                        "text/plain": [
                            "    state  year       date  attendance   prec\n",
                            "0      MN  2018 2018-08-23      122695   2.79\n",
                            "1      MN  2018 2018-08-24      108059  32.78\n",
                            "2      MN  2018 2018-08-25      222194   0.00\n",
                            "3      MN  2018 2018-08-26      184715   0.72\n",
                            "4      MN  2018 2018-08-27      124438   5.10\n",
                            "..    ...   ...        ...         ...    ...\n",
                            "355    NC  2013 2013-10-23       68252   0.00\n",
                            "356    NC  2013 2013-10-24      102176   0.00\n",
                            "357    NC  2013 2013-10-25       82163   0.00\n",
                            "358    NC  2013 2013-10-26      122223   0.00\n",
                            "359    NC  2013 2013-10-27       98221   0.00\n",
                            "\n",
                            "[360 rows x 5 columns]"
                        ]
                    },
                    "execution_count": 7,
                    "metadata": {},
                    "output_type": "execute_result"
                }
            ],
            "source": [
                "df = attendance2.merge(MN_prec, on=['state','date'], how='left').merge(NC_prec, on=['state','date'], how='left',suffixes=(None, '_NC')).merge(TX_prec, on=['state','date'], how='left',suffixes=(None, '_TX')).merge(NY_prec, on=['state','date'], how='left',suffixes=(None, '_NY'))\n",
                "df = df.fillna(0)\n",
                "df['prec'] = df['precip']+ df['precip_NC']+df['precip_NY']+df['precip_TX']\n",
                "df = df.drop(['precip','precip_NC','precip_NY', 'precip_TX'], axis=1)\n",
                "df"
            ]
        },
        {
            "cell_type": "code",
            "execution_count": 8,
            "metadata": {},
            "outputs": [],
            "source": [
                "df['date']=pd.to_datetime(df['date'])\n"
            ]
        },
        {
            "cell_type": "markdown",
            "metadata": {},
            "source": [
                "# Scale\n",
                "Use robust scaler for prec and attendance"
            ]
        },
        {
            "cell_type": "code",
            "execution_count": 9,
            "metadata": {},
            "outputs": [],
            "source": [
                "from sklearn.preprocessing import QuantileTransformer"
            ]
        },
        {
            "cell_type": "code",
            "execution_count": 10,
            "metadata": {},
            "outputs": [
                {
                    "name": "stderr",
                    "output_type": "stream",
                    "text": [
                        "C:\\Users\\joyji\\Anaconda3\\envs\\myenv\\lib\\site-packages\\sklearn\\preprocessing\\data.py:2239: UserWarning: n_quantiles (1000) is greater than the total number of samples (360). n_quantiles is set to n_samples.\n",
                        "  % (self.n_quantiles, n_samples))\n"
                    ]
                }
            ],
            "source": [
                "transformer_prec = [('prec_transform', QuantileTransformer(), ['prec'])]\n",
                "col_transform = ColumnTransformer(transformers=transformer_prec, remainder = \"drop\" )\n",
                "\n",
                "scaled_prec = col_transform.fit_transform(df)\n",
                "df[\"scaled_prec\"] = scaled_prec\n"
            ]
        },
        {
            "cell_type": "code",
            "execution_count": 11,
            "metadata": {},
            "outputs": [
                {
                    "name": "stderr",
                    "output_type": "stream",
                    "text": [
                        "C:\\Users\\joyji\\Anaconda3\\envs\\myenv\\lib\\site-packages\\sklearn\\preprocessing\\data.py:2239: UserWarning: n_quantiles (1000) is greater than the total number of samples (36). n_quantiles is set to n_samples.\n",
                        "  % (self.n_quantiles, n_samples))\n",
                        "C:\\Users\\joyji\\Anaconda3\\envs\\myenv\\lib\\site-packages\\ipykernel_launcher.py:10: SettingWithCopyWarning: \n",
                        "A value is trying to be set on a copy of a slice from a DataFrame.\n",
                        "Try using .loc[row_indexer,col_indexer] = value instead\n",
                        "\n",
                        "See the caveats in the documentation: https://pandas.pydata.org/pandas-docs/stable/user_guide/indexing.html#returning-a-view-versus-a-copy\n",
                        "  # Remove the CWD from sys.path while we load stuff.\n",
                        "C:\\Users\\joyji\\Anaconda3\\envs\\myenv\\lib\\site-packages\\sklearn\\preprocessing\\data.py:2239: UserWarning: n_quantiles (1000) is greater than the total number of samples (87). n_quantiles is set to n_samples.\n",
                        "  % (self.n_quantiles, n_samples))\n",
                        "C:\\Users\\joyji\\Anaconda3\\envs\\myenv\\lib\\site-packages\\ipykernel_launcher.py:10: SettingWithCopyWarning: \n",
                        "A value is trying to be set on a copy of a slice from a DataFrame.\n",
                        "Try using .loc[row_indexer,col_indexer] = value instead\n",
                        "\n",
                        "See the caveats in the documentation: https://pandas.pydata.org/pandas-docs/stable/user_guide/indexing.html#returning-a-view-versus-a-copy\n",
                        "  # Remove the CWD from sys.path while we load stuff.\n",
                        "C:\\Users\\joyji\\Anaconda3\\envs\\myenv\\lib\\site-packages\\sklearn\\preprocessing\\data.py:2239: UserWarning: n_quantiles (1000) is greater than the total number of samples (141). n_quantiles is set to n_samples.\n",
                        "  % (self.n_quantiles, n_samples))\n",
                        "C:\\Users\\joyji\\Anaconda3\\envs\\myenv\\lib\\site-packages\\ipykernel_launcher.py:10: SettingWithCopyWarning: \n",
                        "A value is trying to be set on a copy of a slice from a DataFrame.\n",
                        "Try using .loc[row_indexer,col_indexer] = value instead\n",
                        "\n",
                        "See the caveats in the documentation: https://pandas.pydata.org/pandas-docs/stable/user_guide/indexing.html#returning-a-view-versus-a-copy\n",
                        "  # Remove the CWD from sys.path while we load stuff.\n",
                        "C:\\Users\\joyji\\Anaconda3\\envs\\myenv\\lib\\site-packages\\sklearn\\preprocessing\\data.py:2239: UserWarning: n_quantiles (1000) is greater than the total number of samples (96). n_quantiles is set to n_samples.\n",
                        "  % (self.n_quantiles, n_samples))\n",
                        "C:\\Users\\joyji\\Anaconda3\\envs\\myenv\\lib\\site-packages\\ipykernel_launcher.py:10: SettingWithCopyWarning: \n",
                        "A value is trying to be set on a copy of a slice from a DataFrame.\n",
                        "Try using .loc[row_indexer,col_indexer] = value instead\n",
                        "\n",
                        "See the caveats in the documentation: https://pandas.pydata.org/pandas-docs/stable/user_guide/indexing.html#returning-a-view-versus-a-copy\n",
                        "  # Remove the CWD from sys.path while we load stuff.\n"
                    ]
                }
            ],
            "source": [
                "\n",
                "# scaling attendance sepaately\n",
                "scaled_df = pd.DataFrame()\n",
                "scaled_attendances = np.array([])\n",
                "for state in df['state'].unique():\n",
                "    state_df = df[df['state']==state]\n",
                "    transformer_attendance = [('attendance_transform', QuantileTransformer(), ['attendance'])]\n",
                "    col_transform = ColumnTransformer(transformers=transformer_attendance, remainder = \"drop\" )\n",
                "\n",
                "    scaled_attendance = col_transform.fit_transform(state_df)\n",
                "    state_df['scaled_attendance'] = scaled_attendance\n",
                "    scaled_df = pd.concat([scaled_df,state_df], ignore_index=True)"
            ]
        },
        {
            "cell_type": "code",
            "execution_count": 12,
            "metadata": {},
            "outputs": [
                {
                    "data": {
                        "text/html": [
                            "<div>\n",
                            "<style scoped>\n",
                            "    .dataframe tbody tr th:only-of-type {\n",
                            "        vertical-align: middle;\n",
                            "    }\n",
                            "\n",
                            "    .dataframe tbody tr th {\n",
                            "        vertical-align: top;\n",
                            "    }\n",
                            "\n",
                            "    .dataframe thead th {\n",
                            "        text-align: right;\n",
                            "    }\n",
                            "</style>\n",
                            "<table border=\"1\" class=\"dataframe\">\n",
                            "  <thead>\n",
                            "    <tr style=\"text-align: right;\">\n",
                            "      <th></th>\n",
                            "      <th>state</th>\n",
                            "      <th>year</th>\n",
                            "      <th>date</th>\n",
                            "      <th>attendance</th>\n",
                            "      <th>prec</th>\n",
                            "      <th>scaled_prec</th>\n",
                            "      <th>scaled_attendance</th>\n",
                            "    </tr>\n",
                            "  </thead>\n",
                            "  <tbody>\n",
                            "    <tr>\n",
                            "      <th>0</th>\n",
                            "      <td>MN</td>\n",
                            "      <td>2018</td>\n",
                            "      <td>2018-08-23</td>\n",
                            "      <td>122695</td>\n",
                            "      <td>2.79</td>\n",
                            "      <td>0.835655</td>\n",
                            "      <td>0.285714</td>\n",
                            "    </tr>\n",
                            "    <tr>\n",
                            "      <th>1</th>\n",
                            "      <td>MN</td>\n",
                            "      <td>2018</td>\n",
                            "      <td>2018-08-24</td>\n",
                            "      <td>108059</td>\n",
                            "      <td>32.78</td>\n",
                            "      <td>0.983287</td>\n",
                            "      <td>0.228571</td>\n",
                            "    </tr>\n",
                            "    <tr>\n",
                            "      <th>2</th>\n",
                            "      <td>MN</td>\n",
                            "      <td>2018</td>\n",
                            "      <td>2018-08-25</td>\n",
                            "      <td>222194</td>\n",
                            "      <td>0.00</td>\n",
                            "      <td>0.000000</td>\n",
                            "      <td>0.885714</td>\n",
                            "    </tr>\n",
                            "    <tr>\n",
                            "      <th>3</th>\n",
                            "      <td>MN</td>\n",
                            "      <td>2018</td>\n",
                            "      <td>2018-08-26</td>\n",
                            "      <td>184715</td>\n",
                            "      <td>0.72</td>\n",
                            "      <td>0.750696</td>\n",
                            "      <td>0.742857</td>\n",
                            "    </tr>\n",
                            "    <tr>\n",
                            "      <th>4</th>\n",
                            "      <td>MN</td>\n",
                            "      <td>2018</td>\n",
                            "      <td>2018-08-27</td>\n",
                            "      <td>124438</td>\n",
                            "      <td>5.10</td>\n",
                            "      <td>0.874652</td>\n",
                            "      <td>0.342857</td>\n",
                            "    </tr>\n",
                            "    <tr>\n",
                            "      <th>...</th>\n",
                            "      <td>...</td>\n",
                            "      <td>...</td>\n",
                            "      <td>...</td>\n",
                            "      <td>...</td>\n",
                            "      <td>...</td>\n",
                            "      <td>...</td>\n",
                            "      <td>...</td>\n",
                            "    </tr>\n",
                            "    <tr>\n",
                            "      <th>355</th>\n",
                            "      <td>TX</td>\n",
                            "      <td>2021</td>\n",
                            "      <td>2021-10-13</td>\n",
                            "      <td>43976</td>\n",
                            "      <td>52.52</td>\n",
                            "      <td>0.991643</td>\n",
                            "      <td>0.115789</td>\n",
                            "    </tr>\n",
                            "    <tr>\n",
                            "      <th>356</th>\n",
                            "      <td>TX</td>\n",
                            "      <td>2021</td>\n",
                            "      <td>2021-10-14</td>\n",
                            "      <td>86096</td>\n",
                            "      <td>0.00</td>\n",
                            "      <td>0.000000</td>\n",
                            "      <td>0.557895</td>\n",
                            "    </tr>\n",
                            "    <tr>\n",
                            "      <th>357</th>\n",
                            "      <td>TX</td>\n",
                            "      <td>2021</td>\n",
                            "      <td>2021-10-15</td>\n",
                            "      <td>148893</td>\n",
                            "      <td>0.00</td>\n",
                            "      <td>0.000000</td>\n",
                            "      <td>0.842105</td>\n",
                            "    </tr>\n",
                            "    <tr>\n",
                            "      <th>358</th>\n",
                            "      <td>TX</td>\n",
                            "      <td>2021</td>\n",
                            "      <td>2021-10-16</td>\n",
                            "      <td>164021</td>\n",
                            "      <td>0.00</td>\n",
                            "      <td>0.000000</td>\n",
                            "      <td>0.884211</td>\n",
                            "    </tr>\n",
                            "    <tr>\n",
                            "      <th>359</th>\n",
                            "      <td>TX</td>\n",
                            "      <td>2021</td>\n",
                            "      <td>2021-10-17</td>\n",
                            "      <td>135338</td>\n",
                            "      <td>0.00</td>\n",
                            "      <td>0.000000</td>\n",
                            "      <td>0.800000</td>\n",
                            "    </tr>\n",
                            "  </tbody>\n",
                            "</table>\n",
                            "<p>360 rows × 7 columns</p>\n",
                            "</div>"
                        ],
                        "text/plain": [
                            "    state  year       date  attendance   prec  scaled_prec  scaled_attendance\n",
                            "0      MN  2018 2018-08-23      122695   2.79     0.835655           0.285714\n",
                            "1      MN  2018 2018-08-24      108059  32.78     0.983287           0.228571\n",
                            "2      MN  2018 2018-08-25      222194   0.00     0.000000           0.885714\n",
                            "3      MN  2018 2018-08-26      184715   0.72     0.750696           0.742857\n",
                            "4      MN  2018 2018-08-27      124438   5.10     0.874652           0.342857\n",
                            "..    ...   ...        ...         ...    ...          ...                ...\n",
                            "355    TX  2021 2021-10-13       43976  52.52     0.991643           0.115789\n",
                            "356    TX  2021 2021-10-14       86096   0.00     0.000000           0.557895\n",
                            "357    TX  2021 2021-10-15      148893   0.00     0.000000           0.842105\n",
                            "358    TX  2021 2021-10-16      164021   0.00     0.000000           0.884211\n",
                            "359    TX  2021 2021-10-17      135338   0.00     0.000000           0.800000\n",
                            "\n",
                            "[360 rows x 7 columns]"
                        ]
                    },
                    "execution_count": 12,
                    "metadata": {},
                    "output_type": "execute_result"
                }
            ],
            "source": [
                "scaled_df"
            ]
        },
        {
            "cell_type": "code",
            "execution_count": 13,
            "metadata": {},
            "outputs": [
                {
                    "data": {
                        "text/html": [
                            "<div>\n",
                            "<style scoped>\n",
                            "    .dataframe tbody tr th:only-of-type {\n",
                            "        vertical-align: middle;\n",
                            "    }\n",
                            "\n",
                            "    .dataframe tbody tr th {\n",
                            "        vertical-align: top;\n",
                            "    }\n",
                            "\n",
                            "    .dataframe thead th {\n",
                            "        text-align: right;\n",
                            "    }\n",
                            "</style>\n",
                            "<table border=\"1\" class=\"dataframe\">\n",
                            "  <thead>\n",
                            "    <tr style=\"text-align: right;\">\n",
                            "      <th></th>\n",
                            "      <th>state</th>\n",
                            "      <th>year</th>\n",
                            "      <th>date</th>\n",
                            "      <th>attendance</th>\n",
                            "      <th>prec</th>\n",
                            "      <th>scaled_prec</th>\n",
                            "      <th>scaled_attendance</th>\n",
                            "    </tr>\n",
                            "  </thead>\n",
                            "  <tbody>\n",
                            "    <tr>\n",
                            "      <th>36</th>\n",
                            "      <td>NC</td>\n",
                            "      <td>2015</td>\n",
                            "      <td>2015-10-15</td>\n",
                            "      <td>50327</td>\n",
                            "      <td>0.0</td>\n",
                            "      <td>0.0</td>\n",
                            "      <td>0.058140</td>\n",
                            "    </tr>\n",
                            "    <tr>\n",
                            "      <th>37</th>\n",
                            "      <td>NC</td>\n",
                            "      <td>2015</td>\n",
                            "      <td>2015-10-16</td>\n",
                            "      <td>90954</td>\n",
                            "      <td>0.0</td>\n",
                            "      <td>0.0</td>\n",
                            "      <td>0.534884</td>\n",
                            "    </tr>\n",
                            "    <tr>\n",
                            "      <th>38</th>\n",
                            "      <td>NC</td>\n",
                            "      <td>2015</td>\n",
                            "      <td>2015-10-17</td>\n",
                            "      <td>126666</td>\n",
                            "      <td>0.0</td>\n",
                            "      <td>0.0</td>\n",
                            "      <td>0.924419</td>\n",
                            "    </tr>\n",
                            "    <tr>\n",
                            "      <th>39</th>\n",
                            "      <td>NC</td>\n",
                            "      <td>2015</td>\n",
                            "      <td>2015-10-18</td>\n",
                            "      <td>97906</td>\n",
                            "      <td>0.0</td>\n",
                            "      <td>0.0</td>\n",
                            "      <td>0.616279</td>\n",
                            "    </tr>\n",
                            "    <tr>\n",
                            "      <th>40</th>\n",
                            "      <td>NC</td>\n",
                            "      <td>2015</td>\n",
                            "      <td>2015-10-19</td>\n",
                            "      <td>63989</td>\n",
                            "      <td>0.0</td>\n",
                            "      <td>0.0</td>\n",
                            "      <td>0.174419</td>\n",
                            "    </tr>\n",
                            "    <tr>\n",
                            "      <th>...</th>\n",
                            "      <td>...</td>\n",
                            "      <td>...</td>\n",
                            "      <td>...</td>\n",
                            "      <td>...</td>\n",
                            "      <td>...</td>\n",
                            "      <td>...</td>\n",
                            "      <td>...</td>\n",
                            "    </tr>\n",
                            "    <tr>\n",
                            "      <th>118</th>\n",
                            "      <td>NC</td>\n",
                            "      <td>2013</td>\n",
                            "      <td>2013-10-23</td>\n",
                            "      <td>68252</td>\n",
                            "      <td>0.0</td>\n",
                            "      <td>0.0</td>\n",
                            "      <td>0.220930</td>\n",
                            "    </tr>\n",
                            "    <tr>\n",
                            "      <th>119</th>\n",
                            "      <td>NC</td>\n",
                            "      <td>2013</td>\n",
                            "      <td>2013-10-24</td>\n",
                            "      <td>102176</td>\n",
                            "      <td>0.0</td>\n",
                            "      <td>0.0</td>\n",
                            "      <td>0.686047</td>\n",
                            "    </tr>\n",
                            "    <tr>\n",
                            "      <th>120</th>\n",
                            "      <td>NC</td>\n",
                            "      <td>2013</td>\n",
                            "      <td>2013-10-25</td>\n",
                            "      <td>82163</td>\n",
                            "      <td>0.0</td>\n",
                            "      <td>0.0</td>\n",
                            "      <td>0.476744</td>\n",
                            "    </tr>\n",
                            "    <tr>\n",
                            "      <th>121</th>\n",
                            "      <td>NC</td>\n",
                            "      <td>2013</td>\n",
                            "      <td>2013-10-26</td>\n",
                            "      <td>122223</td>\n",
                            "      <td>0.0</td>\n",
                            "      <td>0.0</td>\n",
                            "      <td>0.883721</td>\n",
                            "    </tr>\n",
                            "    <tr>\n",
                            "      <th>122</th>\n",
                            "      <td>NC</td>\n",
                            "      <td>2013</td>\n",
                            "      <td>2013-10-27</td>\n",
                            "      <td>98221</td>\n",
                            "      <td>0.0</td>\n",
                            "      <td>0.0</td>\n",
                            "      <td>0.627907</td>\n",
                            "    </tr>\n",
                            "  </tbody>\n",
                            "</table>\n",
                            "<p>87 rows × 7 columns</p>\n",
                            "</div>"
                        ],
                        "text/plain": [
                            "    state  year       date  attendance  prec  scaled_prec  scaled_attendance\n",
                            "36     NC  2015 2015-10-15       50327   0.0          0.0           0.058140\n",
                            "37     NC  2015 2015-10-16       90954   0.0          0.0           0.534884\n",
                            "38     NC  2015 2015-10-17      126666   0.0          0.0           0.924419\n",
                            "39     NC  2015 2015-10-18       97906   0.0          0.0           0.616279\n",
                            "40     NC  2015 2015-10-19       63989   0.0          0.0           0.174419\n",
                            "..    ...   ...        ...         ...   ...          ...                ...\n",
                            "118    NC  2013 2013-10-23       68252   0.0          0.0           0.220930\n",
                            "119    NC  2013 2013-10-24      102176   0.0          0.0           0.686047\n",
                            "120    NC  2013 2013-10-25       82163   0.0          0.0           0.476744\n",
                            "121    NC  2013 2013-10-26      122223   0.0          0.0           0.883721\n",
                            "122    NC  2013 2013-10-27       98221   0.0          0.0           0.627907\n",
                            "\n",
                            "[87 rows x 7 columns]"
                        ]
                    },
                    "execution_count": 13,
                    "metadata": {},
                    "output_type": "execute_result"
                }
            ],
            "source": [
                "scaled_df[(scaled_df['state']=='NC')&(scaled_df['prec']>-1)]"
            ]
        },
        {
            "cell_type": "code",
            "execution_count": 14,
            "metadata": {},
            "outputs": [
                {
                    "data": {
                        "text/plain": [
                            "<matplotlib.axes._subplots.AxesSubplot at 0x1bf94f52688>"
                        ]
                    },
                    "execution_count": 14,
                    "metadata": {},
                    "output_type": "execute_result"
                },
                {
                    "data": {
                        "image/png": "[encoded data removed]",
                        "text/plain": [
                            "<Figure size 1440x360 with 1 Axes>"
                        ]
                    },
                    "metadata": {
                        "needs_background": "light"
                    },
                    "output_type": "display_data"
                }
            ],
            "source": [
                "scaled_df.plot('date', ['scaled_prec', 'scaled_attendance'],figsize=(20,5))"
            ]
        },
        {
            "cell_type": "code",
            "execution_count": 15,
            "metadata": {},
            "outputs": [
                {
                    "name": "stdout",
                    "output_type": "stream",
                    "text": [
                        "Pearsons correlation MN: -0.5192703618096502\n",
                        "Pearsons correlation NC: -0.15902435776281199\n",
                        "Pearsons correlation NY: -0.27159742259764513\n",
                        "Pearsons correlation TX: -0.2575030224499544\n"
                    ]
                }
            ],
            "source": [
                "# calculate Pearson's correlation before 2019\n",
                "for state in scaled_df.state.unique():\n",
                "    corr, _ = pearsonr(scaled_df[(scaled_df['state']==state) & (scaled_df['year']<2019)]['prec'], scaled_df[(scaled_df['state']==state) & (scaled_df['year']<2019)]['attendance'])\n",
                "    print('Pearsons correlation {}: {}'.format(state,corr))"
            ]
        },
        {
            "cell_type": "code",
            "execution_count": 16,
            "metadata": {},
            "outputs": [
                {
                    "name": "stdout",
                    "output_type": "stream",
                    "text": [
                        "Pearsons correlation MN: -0.6071484983385812\n",
                        "Pearsons correlation NC: -0.0004154514431818977\n",
                        "Pearsons correlation NY: -0.15056774441087833\n",
                        "Pearsons correlation TX: -0.0462343694185572\n"
                    ]
                }
            ],
            "source": [
                "# calculate Pearson's correlation before 2020\n",
                "for state in scaled_df.state.unique():\n",
                "    corr, _ = pearsonr(scaled_df[(scaled_df['state']==state) & (scaled_df['year']<2020)]['scaled_prec'], scaled_df[(scaled_df['state']==state)& (scaled_df['year']<2020)]['scaled_attendance'])\n",
                "    print('Pearsons correlation {}: {}'.format(state,corr))"
            ]
        },
        {
            "cell_type": "code",
            "execution_count": 17,
            "metadata": {},
            "outputs": [
                {
                    "name": "stdout",
                    "output_type": "stream",
                    "text": [
                        "Pearsons correlation MN: -0.7087792871354726\n",
                        "Pearsons correlation NC: 0.2563102760800219\n",
                        "Pearsons correlation NY: -0.20649826710346017\n",
                        "Pearsons correlation TX: -0.37424618138108573\n"
                    ]
                }
            ],
            "source": [
                "# calculate Pearson's correlation before 2020 and with prec>1\n",
                "for state in scaled_df.state.unique():\n",
                "    try:\n",
                "        corr, _ = pearsonr(scaled_df[(scaled_df['state']==state) & (scaled_df['year']<2020) & (scaled_df['prec']>1)]['scaled_prec'], \n",
                "        scaled_df[(scaled_df['state']==state)& (scaled_df['year']<2020)& (scaled_df['prec']>1)]['scaled_attendance'])\n",
                "        print('Pearsons correlation {}: {}'.format(state,corr))\n",
                "    except:\n",
                "        pass"
            ]
        },
        {
            "cell_type": "markdown",
            "metadata": {},
            "source": [
                "---\n",
                "# T test between 2 groups: rainy and non rainy days"
            ]
        },
        {
            "cell_type": "code",
            "execution_count": 18,
            "metadata": {},
            "outputs": [
                {
                    "data": {
                        "text/plain": [
                            "'1.7.2'"
                        ]
                    },
                    "execution_count": 18,
                    "metadata": {},
                    "output_type": "execute_result"
                }
            ],
            "source": [
                "import scipy\n",
                "scipy.__version__"
            ]
        },
        {
            "cell_type": "code",
            "execution_count": 19,
            "metadata": {},
            "outputs": [],
            "source": [
                "rain = scaled_df[scaled_df['prec']>0]['scaled_attendance']\n",
                "no_rain = scaled_df[scaled_df['prec']==0]['scaled_attendance']"
            ]
        },
        {
            "cell_type": "code",
            "execution_count": 20,
            "metadata": {},
            "outputs": [],
            "source": [
                "from scipy import stats"
            ]
        },
        {
            "cell_type": "code",
            "execution_count": 21,
            "metadata": {},
            "outputs": [
                {
                    "name": "stdout",
                    "output_type": "stream",
                    "text": [
                        "P value: 0.0183\n"
                    ]
                }
            ],
            "source": [
                "ttest = stats.ttest_ind(rain, no_rain, equal_var=False, alternative=\"less\", permutations=10000,\n",
                "                random_state=2)\n",
                "\n",
                "print(\"P value:\",ttest[1])"
            ]
        },
        {
            "cell_type": "markdown",
            "metadata": {},
            "source": [
                "P value is below commonly-agreed threshold of 0.05"
            ]
        },
        {
            "cell_type": "markdown",
            "metadata": {},
            "source": [
                "---\n",
                "# Optimized curve fit"
            ]
        },
        {
            "cell_type": "code",
            "execution_count": 22,
            "metadata": {},
            "outputs": [],
            "source": [
                "from sklearn.preprocessing import MaxAbsScaler, RobustScaler \n",
                "\n",
                "from scipy.optimize import curve_fit"
            ]
        },
        {
            "cell_type": "markdown",
            "metadata": {},
            "source": [
                "## Reprocessing dataframe"
            ]
        },
        {
            "cell_type": "code",
            "execution_count": 23,
            "metadata": {},
            "outputs": [],
            "source": [
                "MN_df = df[df['state']=='MN']\n",
                "TX_df = df[df['state']=='TX']\n",
                "NC_df = df[df['state']=='NC']\n",
                "NY_df = df[df['state']=='NY']\n"
            ]
        },
        {
            "cell_type": "code",
            "execution_count": 32,
            "metadata": {},
            "outputs": [],
            "source": [
                "def preprocess_state_df(df):\n",
                "    df = df[df['year']<2019]\n",
                "    scaler_prec = MaxAbsScaler()\n",
                "    X_train_prec = scaler_prec.fit_transform(np.array(df ['prec']).reshape(-1,1))\n",
                "    scaler_att = MaxAbsScaler()\n",
                "    X_train_att = scaler_att.fit_transform(np.array(df['attendance']).reshape(-1,1))\n",
                "    df['scaled_prec'] = X_train_prec\n",
                "    df['scaled_att'] = X_train_att\n",
                "    df = df[df['prec']>0]\n",
                "\n",
                "    q_low = df[\"attendance\"].quantile(0.0)\n",
                "    q_hi  = df[\"attendance\"].quantile(1)\n",
                "    df_filtered = df[(df[\"attendance\"] < q_hi) & (df[\"attendance\"] > q_low)]\n",
                "    return df_filtered, scaler_prec, scaler_att"
            ]
        },
        {
            "cell_type": "code",
            "execution_count": 33,
            "metadata": {},
            "outputs": [
                {
                    "name": "stderr",
                    "output_type": "stream",
                    "text": [
                        "C:\\Users\\joyji\\Anaconda3\\envs\\myenv\\lib\\site-packages\\ipykernel_launcher.py:7: SettingWithCopyWarning:\n",
                        "\n",
                        "\n",
                        "A value is trying to be set on a copy of a slice from a DataFrame.\n",
                        "Try using .loc[row_indexer,col_indexer] = value instead\n",
                        "\n",
                        "See the caveats in the documentation: https://pandas.pydata.org/pandas-docs/stable/user_guide/indexing.html#returning-a-view-versus-a-copy\n",
                        "\n",
                        "C:\\Users\\joyji\\Anaconda3\\envs\\myenv\\lib\\site-packages\\ipykernel_launcher.py:8: SettingWithCopyWarning:\n",
                        "\n",
                        "\n",
                        "A value is trying to be set on a copy of a slice from a DataFrame.\n",
                        "Try using .loc[row_indexer,col_indexer] = value instead\n",
                        "\n",
                        "See the caveats in the documentation: https://pandas.pydata.org/pandas-docs/stable/user_guide/indexing.html#returning-a-view-versus-a-copy\n",
                        "\n",
                        "C:\\Users\\joyji\\Anaconda3\\envs\\myenv\\lib\\site-packages\\ipykernel_launcher.py:7: SettingWithCopyWarning:\n",
                        "\n",
                        "\n",
                        "A value is trying to be set on a copy of a slice from a DataFrame.\n",
                        "Try using .loc[row_indexer,col_indexer] = value instead\n",
                        "\n",
                        "See the caveats in the documentation: https://pandas.pydata.org/pandas-docs/stable/user_guide/indexing.html#returning-a-view-versus-a-copy\n",
                        "\n",
                        "C:\\Users\\joyji\\Anaconda3\\envs\\myenv\\lib\\site-packages\\ipykernel_launcher.py:8: SettingWithCopyWarning:\n",
                        "\n",
                        "\n",
                        "A value is trying to be set on a copy of a slice from a DataFrame.\n",
                        "Try using .loc[row_indexer,col_indexer] = value instead\n",
                        "\n",
                        "See the caveats in the documentation: https://pandas.pydata.org/pandas-docs/stable/user_guide/indexing.html#returning-a-view-versus-a-copy\n",
                        "\n",
                        "C:\\Users\\joyji\\Anaconda3\\envs\\myenv\\lib\\site-packages\\ipykernel_launcher.py:7: SettingWithCopyWarning:\n",
                        "\n",
                        "\n",
                        "A value is trying to be set on a copy of a slice from a DataFrame.\n",
                        "Try using .loc[row_indexer,col_indexer] = value instead\n",
                        "\n",
                        "See the caveats in the documentation: https://pandas.pydata.org/pandas-docs/stable/user_guide/indexing.html#returning-a-view-versus-a-copy\n",
                        "\n",
                        "C:\\Users\\joyji\\Anaconda3\\envs\\myenv\\lib\\site-packages\\ipykernel_launcher.py:8: SettingWithCopyWarning:\n",
                        "\n",
                        "\n",
                        "A value is trying to be set on a copy of a slice from a DataFrame.\n",
                        "Try using .loc[row_indexer,col_indexer] = value instead\n",
                        "\n",
                        "See the caveats in the documentation: https://pandas.pydata.org/pandas-docs/stable/user_guide/indexing.html#returning-a-view-versus-a-copy\n",
                        "\n"
                    ]
                }
            ],
            "source": [
                "MN_df_scaled, MN_scaler_prec, MN_scaler_att = preprocess_state_df(MN_df)\n",
                "\n",
                "NC_df_scaled, NC_scaler_prec, NC_scaler_att = preprocess_state_df(NC_df)\n",
                "\n",
                "NY_df_scaled, NY_scaler_prec, NY_scaler_att = preprocess_state_df(NY_df)\n"
            ]
        },
        {
            "cell_type": "code",
            "execution_count": 34,
            "metadata": {},
            "outputs": [
                {
                    "name": "stderr",
                    "output_type": "stream",
                    "text": [
                        "C:\\Users\\joyji\\Anaconda3\\envs\\myenv\\lib\\site-packages\\ipykernel_launcher.py:7: SettingWithCopyWarning:\n",
                        "\n",
                        "\n",
                        "A value is trying to be set on a copy of a slice from a DataFrame.\n",
                        "Try using .loc[row_indexer,col_indexer] = value instead\n",
                        "\n",
                        "See the caveats in the documentation: https://pandas.pydata.org/pandas-docs/stable/user_guide/indexing.html#returning-a-view-versus-a-copy\n",
                        "\n",
                        "C:\\Users\\joyji\\Anaconda3\\envs\\myenv\\lib\\site-packages\\ipykernel_launcher.py:8: SettingWithCopyWarning:\n",
                        "\n",
                        "\n",
                        "A value is trying to be set on a copy of a slice from a DataFrame.\n",
                        "Try using .loc[row_indexer,col_indexer] = value instead\n",
                        "\n",
                        "See the caveats in the documentation: https://pandas.pydata.org/pandas-docs/stable/user_guide/indexing.html#returning-a-view-versus-a-copy\n",
                        "\n"
                    ]
                },
                {
                    "data": {
                        "application/vnd.plotly.v1+json": {
                            "config": {
                                "plotlyServerURL": "https://plot.ly"
                            },
                            "data": [
                                {
                                    "hovertemplate": "prec=%{x}<br>attendance=%{y}<extra></extra>",
                                    "legendgroup": "",
                                    "marker": {
                                        "color": "#636efa",
                                        "symbol": "circle"
                                    },
                                    "mode": "markers",
                                    "name": "",
                                    "orientation": "v",
                                    "showlegend": false,
                                    "type": "scatter",
                                    "x": [
                                        3.39,
                                        17.7,
                                        0.22,
                                        7.98,
                                        0.26,
                                        24.52,
                                        1.9,
                                        5.44,
                                        5.87,
                                        47.48,
                                        19.59,
                                        66.86,
                                        25.94,
                                        59.94,
                                        9.93,
                                        0.59,
                                        13.47
                                    ],
                                    "xaxis": "x",
                                    "y": [
                                        75089,
                                        54754,
                                        66181,
                                        122911,
                                        132705,
                                        144560,
                                        122708,
                                        190490,
                                        93636,
                                        35092,
                                        91290,
                                        59309,
                                        104649,
                                        28237,
                                        39946,
                                        81652,
                                        45345
                                    ],
                                    "yaxis": "y"
                                }
                            ],
                            "layout": {
                                "legend": {
                                    "tracegroupgap": 0
                                },
                                "margin": {
                                    "t": 60
                                },
                                "template": {
                                    "data": {
                                        "bar": [
                                            {
                                                "error_x": {
                                                    "color": "#2a3f5f"
                                                },
                                                "error_y": {
                                                    "color": "#2a3f5f"
                                                },
                                                "marker": {
                                                    "line": {
                                                        "color": "#E5ECF6",
                                                        "width": 0.5
                                                    }
                                                },
                                                "type": "bar"
                                            }
                                        ],
                                        "barpolar": [
                                            {
                                                "marker": {
                                                    "line": {
                                                        "color": "#E5ECF6",
                                                        "width": 0.5
                                                    }
                                                },
                                                "type": "barpolar"
                                            }
                                        ],
                                        "carpet": [
                                            {
                                                "aaxis": {
                                                    "endlinecolor": "#2a3f5f",
                                                    "gridcolor": "white",
                                                    "linecolor": "white",
                                                    "minorgridcolor": "white",
                                                    "startlinecolor": "#2a3f5f"
                                                },
                                                "baxis": {
                                                    "endlinecolor": "#2a3f5f",
                                                    "gridcolor": "white",
                                                    "linecolor": "white",
                                                    "minorgridcolor": "white",
                                                    "startlinecolor": "#2a3f5f"
                                                },
                                                "type": "carpet"
                                            }
                                        ],
                                        "choropleth": [
                                            {
                                                "colorbar": {
                                                    "outlinewidth": 0,
                                                    "ticks": ""
                                                },
                                                "type": "choropleth"
                                            }
                                        ],
                                        "contour": [
                                            {
                                                "colorbar": {
                                                    "outlinewidth": 0,
                                                    "ticks": ""
                                                },
                                                "colorscale": [
                                                    [
                                                        0,
                                                        "#0d0887"
                                                    ],
                                                    [
                                                        0.1111111111111111,
                                                        "#46039f"
                                                    ],
                                                    [
                                                        0.2222222222222222,
                                                        "#7201a8"
                                                    ],
                                                    [
                                                        0.3333333333333333,
                                                        "#9c179e"
                                                    ],
                                                    [
                                                        0.4444444444444444,
                                                        "#bd3786"
                                                    ],
                                                    [
                                                        0.5555555555555556,
                                                        "#d8576b"
                                                    ],
                                                    [
                                                        0.6666666666666666,
                                                        "#ed7953"
                                                    ],
                                                    [
                                                        0.7777777777777778,
                                                        "#fb9f3a"
                                                    ],
                                                    [
                                                        0.8888888888888888,
                                                        "#fdca26"
                                                    ],
                                                    [
                                                        1,
                                                        "#f0f921"
                                                    ]
                                                ],
                                                "type": "contour"
                                            }
                                        ],
                                        "contourcarpet": [
                                            {
                                                "colorbar": {
                                                    "outlinewidth": 0,
                                                    "ticks": ""
                                                },
                                                "type": "contourcarpet"
                                            }
                                        ],
                                        "heatmap": [
                                            {
                                                "colorbar": {
                                                    "outlinewidth": 0,
                                                    "ticks": ""
                                                },
                                                "colorscale": [
                                                    [
                                                        0,
                                                        "#0d0887"
                                                    ],
                                                    [
                                                        0.1111111111111111,
                                                        "#46039f"
                                                    ],
                                                    [
                                                        0.2222222222222222,
                                                        "#7201a8"
                                                    ],
                                                    [
                                                        0.3333333333333333,
                                                        "#9c179e"
                                                    ],
                                                    [
                                                        0.4444444444444444,
                                                        "#bd3786"
                                                    ],
                                                    [
                                                        0.5555555555555556,
                                                        "#d8576b"
                                                    ],
                                                    [
                                                        0.6666666666666666,
                                                        "#ed7953"
                                                    ],
                                                    [
                                                        0.7777777777777778,
                                                        "#fb9f3a"
                                                    ],
                                                    [
                                                        0.8888888888888888,
                                                        "#fdca26"
                                                    ],
                                                    [
                                                        1,
                                                        "#f0f921"
                                                    ]
                                                ],
                                                "type": "heatmap"
                                            }
                                        ],
                                        "heatmapgl": [
                                            {
                                                "colorbar": {
                                                    "outlinewidth": 0,
                                                    "ticks": ""
                                                },
                                                "colorscale": [
                                                    [
                                                        0,
                                                        "#0d0887"
                                                    ],
                                                    [
                                                        0.1111111111111111,
                                                        "#46039f"
                                                    ],
                                                    [
                                                        0.2222222222222222,
                                                        "#7201a8"
                                                    ],
                                                    [
                                                        0.3333333333333333,
                                                        "#9c179e"
                                                    ],
                                                    [
                                                        0.4444444444444444,
                                                        "#bd3786"
                                                    ],
                                                    [
                                                        0.5555555555555556,
                                                        "#d8576b"
                                                    ],
                                                    [
                                                        0.6666666666666666,
                                                        "#ed7953"
                                                    ],
                                                    [
                                                        0.7777777777777778,
                                                        "#fb9f3a"
                                                    ],
                                                    [
                                                        0.8888888888888888,
                                                        "#fdca26"
                                                    ],
                                                    [
                                                        1,
                                                        "#f0f921"
                                                    ]
                                                ],
                                                "type": "heatmapgl"
                                            }
                                        ],
                                        "histogram": [
                                            {
                                                "marker": {
                                                    "colorbar": {
                                                        "outlinewidth": 0,
                                                        "ticks": ""
                                                    }
                                                },
                                                "type": "histogram"
                                            }
                                        ],
                                        "histogram2d": [
                                            {
                                                "colorbar": {
                                                    "outlinewidth": 0,
                                                    "ticks": ""
                                                },
                                                "colorscale": [
                                                    [
                                                        0,
                                                        "#0d0887"
                                                    ],
                                                    [
                                                        0.1111111111111111,
                                                        "#46039f"
                                                    ],
                                                    [
                                                        0.2222222222222222,
                                                        "#7201a8"
                                                    ],
                                                    [
                                                        0.3333333333333333,
                                                        "#9c179e"
                                                    ],
                                                    [
                                                        0.4444444444444444,
                                                        "#bd3786"
                                                    ],
                                                    [
                                                        0.5555555555555556,
                                                        "#d8576b"
                                                    ],
                                                    [
                                                        0.6666666666666666,
                                                        "#ed7953"
                                                    ],
                                                    [
                                                        0.7777777777777778,
                                                        "#fb9f3a"
                                                    ],
                                                    [
                                                        0.8888888888888888,
                                                        "#fdca26"
                                                    ],
                                                    [
                                                        1,
                                                        "#f0f921"
                                                    ]
                                                ],
                                                "type": "histogram2d"
                                            }
                                        ],
                                        "histogram2dcontour": [
                                            {
                                                "colorbar": {
                                                    "outlinewidth": 0,
                                                    "ticks": ""
                                                },
                                                "colorscale": [
                                                    [
                                                        0,
                                                        "#0d0887"
                                                    ],
                                                    [
                                                        0.1111111111111111,
                                                        "#46039f"
                                                    ],
                                                    [
                                                        0.2222222222222222,
                                                        "#7201a8"
                                                    ],
                                                    [
                                                        0.3333333333333333,
                                                        "#9c179e"
                                                    ],
                                                    [
                                                        0.4444444444444444,
                                                        "#bd3786"
                                                    ],
                                                    [
                                                        0.5555555555555556,
                                                        "#d8576b"
                                                    ],
                                                    [
                                                        0.6666666666666666,
                                                        "#ed7953"
                                                    ],
                                                    [
                                                        0.7777777777777778,
                                                        "#fb9f3a"
                                                    ],
                                                    [
                                                        0.8888888888888888,
                                                        "#fdca26"
                                                    ],
                                                    [
                                                        1,
                                                        "#f0f921"
                                                    ]
                                                ],
                                                "type": "histogram2dcontour"
                                            }
                                        ],
                                        "mesh3d": [
                                            {
                                                "colorbar": {
                                                    "outlinewidth": 0,
                                                    "ticks": ""
                                                },
                                                "type": "mesh3d"
                                            }
                                        ],
                                        "parcoords": [
                                            {
                                                "line": {
                                                    "colorbar": {
                                                        "outlinewidth": 0,
                                                        "ticks": ""
                                                    }
                                                },
                                                "type": "parcoords"
                                            }
                                        ],
                                        "pie": [
                                            {
                                                "automargin": true,
                                                "type": "pie"
                                            }
                                        ],
                                        "scatter": [
                                            {
                                                "marker": {
                                                    "colorbar": {
                                                        "outlinewidth": 0,
                                                        "ticks": ""
                                                    }
                                                },
                                                "type": "scatter"
                                            }
                                        ],
                                        "scatter3d": [
                                            {
                                                "line": {
                                                    "colorbar": {
                                                        "outlinewidth": 0,
                                                        "ticks": ""
                                                    }
                                                },
                                                "marker": {
                                                    "colorbar": {
                                                        "outlinewidth": 0,
                                                        "ticks": ""
                                                    }
                                                },
                                                "type": "scatter3d"
                                            }
                                        ],
                                        "scattercarpet": [
                                            {
                                                "marker": {
                                                    "colorbar": {
                                                        "outlinewidth": 0,
                                                        "ticks": ""
                                                    }
                                                },
                                                "type": "scattercarpet"
                                            }
                                        ],
                                        "scattergeo": [
                                            {
                                                "marker": {
                                                    "colorbar": {
                                                        "outlinewidth": 0,
                                                        "ticks": ""
                                                    }
                                                },
                                                "type": "scattergeo"
                                            }
                                        ],
                                        "scattergl": [
                                            {
                                                "marker": {
                                                    "colorbar": {
                                                        "outlinewidth": 0,
                                                        "ticks": ""
                                                    }
                                                },
                                                "type": "scattergl"
                                            }
                                        ],
                                        "scattermapbox": [
                                            {
                                                "marker": {
                                                    "colorbar": {
                                                        "outlinewidth": 0,
                                                        "ticks": ""
                                                    }
                                                },
                                                "type": "scattermapbox"
                                            }
                                        ],
                                        "scatterpolar": [
                                            {
                                                "marker": {
                                                    "colorbar": {
                                                        "outlinewidth": 0,
                                                        "ticks": ""
                                                    }
                                                },
                                                "type": "scatterpolar"
                                            }
                                        ],
                                        "scatterpolargl": [
                                            {
                                                "marker": {
                                                    "colorbar": {
                                                        "outlinewidth": 0,
                                                        "ticks": ""
                                                    }
                                                },
                                                "type": "scatterpolargl"
                                            }
                                        ],
                                        "scatterternary": [
                                            {
                                                "marker": {
                                                    "colorbar": {
                                                        "outlinewidth": 0,
                                                        "ticks": ""
                                                    }
                                                },
                                                "type": "scatterternary"
                                            }
                                        ],
                                        "surface": [
                                            {
                                                "colorbar": {
                                                    "outlinewidth": 0,
                                                    "ticks": ""
                                                },
                                                "colorscale": [
                                                    [
                                                        0,
                                                        "#0d0887"
                                                    ],
                                                    [
                                                        0.1111111111111111,
                                                        "#46039f"
                                                    ],
                                                    [
                                                        0.2222222222222222,
                                                        "#7201a8"
                                                    ],
                                                    [
                                                        0.3333333333333333,
                                                        "#9c179e"
                                                    ],
                                                    [
                                                        0.4444444444444444,
                                                        "#bd3786"
                                                    ],
                                                    [
                                                        0.5555555555555556,
                                                        "#d8576b"
                                                    ],
                                                    [
                                                        0.6666666666666666,
                                                        "#ed7953"
                                                    ],
                                                    [
                                                        0.7777777777777778,
                                                        "#fb9f3a"
                                                    ],
                                                    [
                                                        0.8888888888888888,
                                                        "#fdca26"
                                                    ],
                                                    [
                                                        1,
                                                        "#f0f921"
                                                    ]
                                                ],
                                                "type": "surface"
                                            }
                                        ],
                                        "table": [
                                            {
                                                "cells": {
                                                    "fill": {
                                                        "color": "#EBF0F8"
                                                    },
                                                    "line": {
                                                        "color": "white"
                                                    }
                                                },
                                                "header": {
                                                    "fill": {
                                                        "color": "#C8D4E3"
                                                    },
                                                    "line": {
                                                        "color": "white"
                                                    }
                                                },
                                                "type": "table"
                                            }
                                        ]
                                    },
                                    "layout": {
                                        "annotationdefaults": {
                                            "arrowcolor": "#2a3f5f",
                                            "arrowhead": 0,
                                            "arrowwidth": 1
                                        },
                                        "autotypenumbers": "strict",
                                        "coloraxis": {
                                            "colorbar": {
                                                "outlinewidth": 0,
                                                "ticks": ""
                                            }
                                        },
                                        "colorscale": {
                                            "diverging": [
                                                [
                                                    0,
                                                    "#8e0152"
                                                ],
                                                [
                                                    0.1,
                                                    "#c51b7d"
                                                ],
                                                [
                                                    0.2,
                                                    "#de77ae"
                                                ],
                                                [
                                                    0.3,
                                                    "#f1b6da"
                                                ],
                                                [
                                                    0.4,
                                                    "#fde0ef"
                                                ],
                                                [
                                                    0.5,
                                                    "#f7f7f7"
                                                ],
                                                [
                                                    0.6,
                                                    "#e6f5d0"
                                                ],
                                                [
                                                    0.7,
                                                    "#b8e186"
                                                ],
                                                [
                                                    0.8,
                                                    "#7fbc41"
                                                ],
                                                [
                                                    0.9,
                                                    "#4d9221"
                                                ],
                                                [
                                                    1,
                                                    "#276419"
                                                ]
                                            ],
                                            "sequential": [
                                                [
                                                    0,
                                                    "#0d0887"
                                                ],
                                                [
                                                    0.1111111111111111,
                                                    "#46039f"
                                                ],
                                                [
                                                    0.2222222222222222,
                                                    "#7201a8"
                                                ],
                                                [
                                                    0.3333333333333333,
                                                    "#9c179e"
                                                ],
                                                [
                                                    0.4444444444444444,
                                                    "#bd3786"
                                                ],
                                                [
                                                    0.5555555555555556,
                                                    "#d8576b"
                                                ],
                                                [
                                                    0.6666666666666666,
                                                    "#ed7953"
                                                ],
                                                [
                                                    0.7777777777777778,
                                                    "#fb9f3a"
                                                ],
                                                [
                                                    0.8888888888888888,
                                                    "#fdca26"
                                                ],
                                                [
                                                    1,
                                                    "#f0f921"
                                                ]
                                            ],
                                            "sequentialminus": [
                                                [
                                                    0,
                                                    "#0d0887"
                                                ],
                                                [
                                                    0.1111111111111111,
                                                    "#46039f"
                                                ],
                                                [
                                                    0.2222222222222222,
                                                    "#7201a8"
                                                ],
                                                [
                                                    0.3333333333333333,
                                                    "#9c179e"
                                                ],
                                                [
                                                    0.4444444444444444,
                                                    "#bd3786"
                                                ],
                                                [
                                                    0.5555555555555556,
                                                    "#d8576b"
                                                ],
                                                [
                                                    0.6666666666666666,
                                                    "#ed7953"
                                                ],
                                                [
                                                    0.7777777777777778,
                                                    "#fb9f3a"
                                                ],
                                                [
                                                    0.8888888888888888,
                                                    "#fdca26"
                                                ],
                                                [
                                                    1,
                                                    "#f0f921"
                                                ]
                                            ]
                                        },
                                        "colorway": [
                                            "#636efa",
                                            "#EF553B",
                                            "#00cc96",
                                            "#ab63fa",
                                            "#FFA15A",
                                            "#19d3f3",
                                            "#FF6692",
                                            "#B6E880",
                                            "#FF97FF",
                                            "#FECB52"
                                        ],
                                        "font": {
                                            "color": "#2a3f5f"
                                        },
                                        "geo": {
                                            "bgcolor": "white",
                                            "lakecolor": "white",
                                            "landcolor": "#E5ECF6",
                                            "showlakes": true,
                                            "showland": true,
                                            "subunitcolor": "white"
                                        },
                                        "hoverlabel": {
                                            "align": "left"
                                        },
                                        "hovermode": "closest",
                                        "mapbox": {
                                            "style": "light"
                                        },
                                        "paper_bgcolor": "white",
                                        "plot_bgcolor": "#E5ECF6",
                                        "polar": {
                                            "angularaxis": {
                                                "gridcolor": "white",
                                                "linecolor": "white",
                                                "ticks": ""
                                            },
                                            "bgcolor": "#E5ECF6",
                                            "radialaxis": {
                                                "gridcolor": "white",
                                                "linecolor": "white",
                                                "ticks": ""
                                            }
                                        },
                                        "scene": {
                                            "xaxis": {
                                                "backgroundcolor": "#E5ECF6",
                                                "gridcolor": "white",
                                                "gridwidth": 2,
                                                "linecolor": "white",
                                                "showbackground": true,
                                                "ticks": "",
                                                "zerolinecolor": "white"
                                            },
                                            "yaxis": {
                                                "backgroundcolor": "#E5ECF6",
                                                "gridcolor": "white",
                                                "gridwidth": 2,
                                                "linecolor": "white",
                                                "showbackground": true,
                                                "ticks": "",
                                                "zerolinecolor": "white"
                                            },
                                            "zaxis": {
                                                "backgroundcolor": "#E5ECF6",
                                                "gridcolor": "white",
                                                "gridwidth": 2,
                                                "linecolor": "white",
                                                "showbackground": true,
                                                "ticks": "",
                                                "zerolinecolor": "white"
                                            }
                                        },
                                        "shapedefaults": {
                                            "line": {
                                                "color": "#2a3f5f"
                                            }
                                        },
                                        "ternary": {
                                            "aaxis": {
                                                "gridcolor": "white",
                                                "linecolor": "white",
                                                "ticks": ""
                                            },
                                            "baxis": {
                                                "gridcolor": "white",
                                                "linecolor": "white",
                                                "ticks": ""
                                            },
                                            "bgcolor": "#E5ECF6",
                                            "caxis": {
                                                "gridcolor": "white",
                                                "linecolor": "white",
                                                "ticks": ""
                                            }
                                        },
                                        "title": {
                                            "x": 0.05
                                        },
                                        "xaxis": {
                                            "automargin": true,
                                            "gridcolor": "white",
                                            "linecolor": "white",
                                            "ticks": "",
                                            "title": {
                                                "standoff": 15
                                            },
                                            "zerolinecolor": "white",
                                            "zerolinewidth": 2
                                        },
                                        "yaxis": {
                                            "automargin": true,
                                            "gridcolor": "white",
                                            "linecolor": "white",
                                            "ticks": "",
                                            "title": {
                                                "standoff": 15
                                            },
                                            "zerolinecolor": "white",
                                            "zerolinewidth": 2
                                        }
                                    }
                                },
                                "xaxis": {
                                    "anchor": "y",
                                    "domain": [
                                        0,
                                        1
                                    ],
                                    "title": {
                                        "text": "prec"
                                    }
                                },
                                "yaxis": {
                                    "anchor": "x",
                                    "domain": [
                                        0,
                                        1
                                    ],
                                    "title": {
                                        "text": "attendance"
                                    }
                                }
                            }
                        }
                    },
                    "metadata": {},
                    "output_type": "display_data"
                }
            ],
            "source": [
                "TX_df_scaled, TX_scaler_prec, TX_scaler_att = preprocess_state_df(TX_df)\n",
                "px.scatter(TX_df_scaled, x='scaled_prec',y='scaled_att')\n",
                "px.scatter(TX_df_scaled, x='prec',y='attendance')"
            ]
        },
        {
            "cell_type": "code",
            "execution_count": 27,
            "metadata": {},
            "outputs": [],
            "source": [
                "# assuming curve is in the form below\n",
                "# sigmoid\n",
                "# https://math.stackexchange.com/questions/1328566/slow-decreasing-function-that-exhibits-asymptotic-behaviour \n",
                "def func(t, a, b, c):\n",
                "    #return a + b * np.log(c*t)\n",
                "    #return a * 1/(1 + np.exp(b*t+c))\n",
                "    return a*np.exp(-b*t-c) \n",
                "\n"
            ]
        },
        {
            "cell_type": "code",
            "execution_count": 28,
            "metadata": {},
            "outputs": [],
            "source": [
                "def fit_curve(state_df):\n",
                "    x = np.array(state_df[\"scaled_prec\"])\n",
                "    y = np.array(state_df[\"scaled_att\"])\n",
                "    popt, pcov = curve_fit(func, x, y,maxfev=5000, bounds=(0, np.inf))\n",
                "    p,a = zip(*sorted(zip(x, func(x, *popt))))\n",
                "    plt.plot(p,a, label=\"fit: a={}, b={}, c={}\".format(popt[0],popt[1],popt[2]))\n",
                "    plt.scatter(x,y)\n",
                "\n",
                "    plt.xlabel('Scaled precipitation')\n",
                "    plt.ylabel('Scaled attendance')\n",
                "    plt.show()\n",
                "    return popt"
            ]
        },
        {
            "cell_type": "code",
            "execution_count": 29,
            "metadata": {},
            "outputs": [
                {
                    "data": {
                        "image/png": "[encoded data removed]",
                        "text/plain": [
                            "<Figure size 432x288 with 1 Axes>"
                        ]
                    },
                    "metadata": {
                        "needs_background": "light"
                    },
                    "output_type": "display_data"
                },
                {
                    "data": {
                        "image/png": "[encoded data removed]",
                        "text/plain": [
                            "<Figure size 432x288 with 1 Axes>"
                        ]
                    },
                    "metadata": {
                        "needs_background": "light"
                    },
                    "output_type": "display_data"
                },
                {
                    "data": {
                        "image/png": "[encoded data removed]",
                        "text/plain": [
                            "<Figure size 432x288 with 1 Axes>"
                        ]
                    },
                    "metadata": {
                        "needs_background": "light"
                    },
                    "output_type": "display_data"
                }
            ],
            "source": [
                "popt_NC = fit_curve(NC_df_scaled)\n",
                "popt_MN = fit_curve(MN_df_scaled)\n",
                "popt_NY = fit_curve(NY_df_scaled)\n"
            ]
        },
        {
            "cell_type": "code",
            "execution_count": 30,
            "metadata": {},
            "outputs": [
                {
                    "data": {
                        "image/png": "[encoded data removed]",
                        "text/plain": [
                            "<Figure size 432x288 with 1 Axes>"
                        ]
                    },
                    "metadata": {
                        "needs_background": "light"
                    },
                    "output_type": "display_data"
                },
                {
                    "data": {
                        "text/plain": [
                            "array([1.48084916, 0.82617433, 1.01660853])"
                        ]
                    },
                    "execution_count": 30,
                    "metadata": {},
                    "output_type": "execute_result"
                }
            ],
            "source": [
                "popt_TX = fit_curve(TX_df_scaled)\n",
                "popt_TX"
            ]
        },
        {
            "cell_type": "code",
            "execution_count": 31,
            "metadata": {},
            "outputs": [
                {
                    "ename": "NameError",
                    "evalue": "name 'p' is not defined",
                    "output_type": "error",
                    "traceback": [
                        "\u001b[1;31m---------------------------------------------------------------------------\u001b[0m",
                        "\u001b[1;31mNameError\u001b[0m                                 Traceback (most recent call last)",
                        "\u001b[1;32m<ipython-input-31-65ec2a10288a>\u001b[0m in \u001b[0;36m<module>\u001b[1;34m\u001b[0m\n\u001b[0;32m      1\u001b[0m \u001b[1;32mimport\u001b[0m \u001b[0mplotly\u001b[0m\u001b[1;33m.\u001b[0m\u001b[0mgraph_objects\u001b[0m \u001b[1;32mas\u001b[0m \u001b[0mgo\u001b[0m\u001b[1;33m\u001b[0m\u001b[1;33m\u001b[0m\u001b[0m\n\u001b[0;32m      2\u001b[0m \u001b[0mfig\u001b[0m \u001b[1;33m=\u001b[0m \u001b[0mgo\u001b[0m\u001b[1;33m.\u001b[0m\u001b[0mFigure\u001b[0m\u001b[1;33m(\u001b[0m\u001b[1;33m)\u001b[0m\u001b[1;33m\u001b[0m\u001b[1;33m\u001b[0m\u001b[0m\n\u001b[1;32m----> 3\u001b[1;33m fig.add_trace(go.Scatter(x=p, y=a,\n\u001b[0m\u001b[0;32m      4\u001b[0m                     \u001b[0mmode\u001b[0m\u001b[1;33m=\u001b[0m\u001b[1;34m'lines'\u001b[0m\u001b[1;33m,\u001b[0m\u001b[1;33m\u001b[0m\u001b[1;33m\u001b[0m\u001b[0m\n\u001b[0;32m      5\u001b[0m                     name='lines'))\n",
                        "\u001b[1;31mNameError\u001b[0m: name 'p' is not defined"
                    ]
                }
            ],
            "source": [
                "import plotly.graph_objects as go\n",
                "fig = go.Figure()\n",
                "fig.add_trace(go.Scatter(x=p, y=a,\n",
                "                    mode='lines',\n",
                "                    name='lines'))\n",
                "\n",
                "fig.add_trace(go.Scatter(x=x, y=y,\n",
                "                    mode='markers', name='markers'))\n",
                "\n",
                "# Edit the layout\n",
                "fig.update_layout(title='Scaled',\n",
                "                   xaxis_title='Scaled precipitation',\n",
                "                   yaxis_title='Scaled attendance')\n",
                "\n",
                "\n",
                "fig.show()"
            ]
        },
        {
            "cell_type": "markdown",
            "metadata": {},
            "source": [
                "---\n",
                "# vendors - revenue loss"
            ]
        },
        {
            "cell_type": "code",
            "execution_count": null,
            "metadata": {},
            "outputs": [],
            "source": [
                "# old\n",
                "def adjust_vendor_revenue(df,precipitation, gross_revenue, popt):\n",
                "    # gross revenue per day\n",
                "    # optimised_curve_fit\n",
                "    # how many more or less people than average, assuming an average attendance gives the same revenue\n",
                "\n",
                "    scaled_avg_attendance = df['scaled_att'].mean()\n",
                "    y_pred = func(precipitation, popt[0],popt[1],popt[2]) #returns scaled attendance\n",
                "    sf = (y_pred-scaled_avg_attendance)/scaled_avg_attendance\n",
                "\n",
                "    new_revenue = sf*gross_revenue+gross_revenue\n",
                "\n",
                "    return (new_revenue)"
            ]
        },
        {
            "cell_type": "code",
            "execution_count": 72,
            "metadata": {},
            "outputs": [],
            "source": [
                "def adjust_vendor_revenue(df,precipitation, gross_revenue, popt, scaler_prec):\n",
                "    # gross revenue per day\n",
                "    # optimised_curve_fit\n",
                "    # how many more or less people than average, assuming an average attendance gives the same revenue\n",
                "\n",
                "    #scaled_avg_attendance = df['scaled_att'].mean()\n",
                "    \n",
                "    scaled_prec = scaler_prec.transform(np.array(precipitation).reshape(-1, 1))\n",
                "    no_rain_att =  func(0, popt[0],popt[1],popt[2]) #returns scaled attendance no rain\n",
                "    y_pred = func(scaled_prec[0,0], popt[0],popt[1],popt[2]) #returns scaled attendance with rain\n",
                "    sf = (y_pred)/no_rain_att\n",
                "\n",
                "    new_revenue = sf*gross_revenue\n",
                "\n",
                "    return (new_revenue)"
            ]
        },
        {
            "cell_type": "code",
            "execution_count": 73,
            "metadata": {},
            "outputs": [
                {
                    "data": {
                        "text/plain": [
                            "9636.083518210091"
                        ]
                    },
                    "execution_count": 73,
                    "metadata": {},
                    "output_type": "execute_result"
                }
            ],
            "source": [
                "adjust_vendor_revenue(TX_df_scaled, 3,10000, popt_TX, TX_scaler_prec)"
            ]
        },
        {
            "cell_type": "code",
            "execution_count": 74,
            "metadata": {},
            "outputs": [],
            "source": [
                "def plot_adj_rev(scaled_df, popt, scaler_prec):\n",
                "    adj_rev = []\n",
                "    for i in range(100):\n",
                "        adj_rev.append(adjust_vendor_revenue(scaled_df, i,10000, popt, scaler_prec))\n",
                "\n",
                "    fig, ax = plt.subplots()\n",
                "\n",
                "\n",
                "    plt.xlabel(\"Daily rainfall\")\n",
                "    plt.ylabel(\"Expected daily gross revenue\")\n",
                "    ax.axhline(y=0, color='k')\n",
                "    ax.axvline(x=0, color='k')\n",
                "\n",
                "\n",
                "    ax.plot(list(range(100)), adj_rev)\n"
            ]
        },
        {
            "cell_type": "code",
            "execution_count": 75,
            "metadata": {},
            "outputs": [
                {
                    "data": {
                        "image/png": "[encoded data removed]",
                        "text/plain": [
                            "<Figure size 432x288 with 1 Axes>"
                        ]
                    },
                    "metadata": {
                        "needs_background": "light"
                    },
                    "output_type": "display_data"
                }
            ],
            "source": [
                "plot_adj_rev(TX_df_scaled, popt_TX,TX_scaler_prec)"
            ]
        },
        {
            "cell_type": "code",
            "execution_count": null,
            "metadata": {},
            "outputs": [
                {
                    "data": {
                        "image/png": "[encoded data removed]",
                        "text/plain": [
                            "<Figure size 432x288 with 1 Axes>"
                        ]
                    },
                    "metadata": {
                        "needs_background": "light"
                    },
                    "output_type": "display_data"
                }
            ],
            "source": [
                "plot_adj_rev(NY_df_scaled, popt_NY)"
            ]
        },
        {
            "cell_type": "code",
            "execution_count": null,
            "metadata": {},
            "outputs": [
                {
                    "data": {
                        "image/png": "[encoded data removed]",
                        "text/plain": [
                            "<Figure size 432x288 with 1 Axes>"
                        ]
                    },
                    "metadata": {
                        "needs_background": "light"
                    },
                    "output_type": "display_data"
                }
            ],
            "source": [
                "plot_adj_rev(NC_df_scaled, popt_NC)"
            ]
        },
        {
            "cell_type": "code",
            "execution_count": null,
            "metadata": {},
            "outputs": [
                {
                    "data": {
                        "image/png": "[encoded data removed]",
                        "text/plain": [
                            "<Figure size 432x288 with 1 Axes>"
                        ]
                    },
                    "metadata": {
                        "needs_background": "light"
                    },
                    "output_type": "display_data"
                }
            ],
            "source": [
                "plot_adj_rev(MN_df_scaled, popt_MN)"
            ]
        },
        {
            "cell_type": "markdown",
            "metadata": {},
            "source": [
                "Some assumptions:\n",
                "* The revenue from concessions and admissions is proportional to the attendance rate\n",
                "* Attendance rate is predicted by rainfall in a decreasing-log\n",
                "* Expenses do not change depending on rainfall, assuming the rainfall is unexpected\n",
                "* Data for US, 2015-2019\n"
            ]
        },
        {
            "cell_type": "markdown",
            "metadata": {},
            "source": [
                "## Vendor simulation (with costs)"
            ]
        },
        {
            "cell_type": "code",
            "execution_count": null,
            "metadata": {},
            "outputs": [],
            "source": [
                "def rainfall_profit(df_scaled, popt, rainfall, revenue, percent_commission=0.15, percent_sales_tax=0.0738,percent_admission=0.02, percent_labour=0.18, percent_food=0.25, percent_income_tax = 0.12, extra_costs=0, fair_length=13):\n",
                "    daily_revenue = revenue/fair_length\n",
                "    adjusted_rev = adjust_vendor_revenue(df_scaled, rainfall,revenue, popt)/fair_length\n",
                "    commission = percent_commission*adjusted_rev\n",
                "    sales_tax = percent_sales_tax*adjusted_rev\n",
                "\n",
                "    admission = percent_admission*daily_revenue\n",
                "    labour = percent_labour*daily_revenue\n",
                "    food_cost = percent_food*daily_revenue\n",
                "\n",
                "    pre_tax_profit = adjusted_rev - commission - sales_tax - admission - labour - food_cost - extra_costs\n",
                "\n",
                "\n",
                "    calc_income_tax = lambda a : a*percent_income_tax if a > 0 else 0\n",
                "    income_tax = calc_income_tax(pre_tax_profit)\n",
                "\n",
                "    net_profit = pre_tax_profit - income_tax\n",
                "    return net_profit\n"
            ]
        },
        {
            "cell_type": "code",
            "execution_count": null,
            "metadata": {},
            "outputs": [],
            "source": [
                "# save dfs\n",
                "MN_df_scaled.to_csv(\"MN_df_scaled.csv\", index=False)\n",
                "TX_df_scaled.to_csv(\"TX_df_scaled.csv\", index=False)\n",
                "NC_df_scaled.to_csv(\"NC_df_scaled.csv\", index=False)\n",
                "NY_df_scaled.to_csv(\"NY_df_scaled.csv\", index=False)\n"
            ]
        },
        {
            "cell_type": "code",
            "execution_count": null,
            "metadata": {},
            "outputs": [
                {
                    "data": {
                        "text/plain": [
                            "2386.430557000027"
                        ]
                    },
                    "execution_count": 161,
                    "metadata": {},
                    "output_type": "execute_result"
                }
            ],
            "source": [
                "rainfall_profit(MN_df_scaled, popt_MN,0,70000, extra_costs=0)"
            ]
        },
        {
            "cell_type": "code",
            "execution_count": null,
            "metadata": {},
            "outputs": [],
            "source": [
                "# assuming no extra costs\n",
                "# per day\n",
                "def plot_profit(df_scaled, popt, revenue, extra_costs=0):\n",
                "    profit_list = []\n",
                "    for i in range(1,35):\n",
                "        profit_list.append(rainfall_profit(df_scaled, popt,i,revenue, extra_costs=0))\n",
                "\n",
                "    fig, ax = plt.subplots(figsize=(14,4))\n",
                "\n",
                "\n",
                "    plt.xlabel(\"Rainfall for day\")\n",
                "    plt.ylabel(\"Profit\")\n",
                "    ax.axhline(y=0, color='k')\n",
                "    ax.axvline(x=0, color='k')\n",
                "\n",
                "\n",
                "    ax.set_xticks(np.arange(0, 35, 5))\n",
                "\n",
                "\n",
                "    ax.plot(list(range(1,35)), profit_list)"
            ]
        },
        {
            "cell_type": "code",
            "execution_count": null,
            "metadata": {},
            "outputs": [
                {
                    "data": {
                        "image/png": "[encoded data removed]",
                        "text/plain": [
                            "<Figure size 1008x288 with 1 Axes>"
                        ]
                    },
                    "metadata": {
                        "needs_background": "light"
                    },
                    "output_type": "display_data"
                }
            ],
            "source": [
                "plot_profit(MN_df_scaled, popt_MN, 70000, extra_costs=0)"
            ]
        },
        {
            "cell_type": "code",
            "execution_count": null,
            "metadata": {},
            "outputs": [
                {
                    "data": {
                        "image/png": "[encoded data removed]",
                        "text/plain": [
                            "<Figure size 1008x288 with 1 Axes>"
                        ]
                    },
                    "metadata": {
                        "needs_background": "light"
                    },
                    "output_type": "display_data"
                }
            ],
            "source": [
                "plot_profit(TX_df_scaled, popt_TX, 70000, extra_costs=0)"
            ]
        },
        {
            "cell_type": "code",
            "execution_count": null,
            "metadata": {},
            "outputs": [
                {
                    "data": {
                        "image/png": "[encoded data removed]",
                        "text/plain": [
                            "<Figure size 1008x288 with 1 Axes>"
                        ]
                    },
                    "metadata": {
                        "needs_background": "light"
                    },
                    "output_type": "display_data"
                }
            ],
            "source": [
                "plot_profit(NC_df_scaled, popt_NC, 70000, extra_costs=0)"
            ]
        },
        {
            "cell_type": "code",
            "execution_count": null,
            "metadata": {},
            "outputs": [
                {
                    "data": {
                        "image/png": "[encoded data removed]",
                        "text/plain": [
                            "<Figure size 1008x288 with 1 Axes>"
                        ]
                    },
                    "metadata": {
                        "needs_background": "light"
                    },
                    "output_type": "display_data"
                }
            ],
            "source": [
                "plot_profit(NY_df_scaled, popt_NY, 70000, extra_costs=0)"
            ]
        },
        {
            "cell_type": "code",
            "execution_count": null,
            "metadata": {},
            "outputs": [],
            "source": [
                "def total_profit_fair(df_scaled, popt, total_revenue, prec_list, extra_costs=0):\n",
                "    profit_list = []\n",
                "    for prec in prec_list:\n",
                "        profit_list.append(rainfall_profit(df_scaled, popt,prec,total_revenue, extra_costs=0, fair_length=len(prec_list)))\n",
                "    \n",
                "    total_profit = sum(profit_list)\n",
                "    rainy_days = len([x for x in prec_list if x > 0])\n",
                "\n",
                "    print('Total days: {}'.format(len(prec_list)))\n",
                "    print('Rainy days: {}'.format(rainy_days))\n",
                "    print('Daily Profit: {}'.format(profit_list))\n",
                "    print('Total Profit: {}'.format(total_profit))\n",
                "\n",
                "    return prec_list, profit_list, rainy_days, total_profit\n",
                "\n",
                "    "
            ]
        },
        {
            "cell_type": "code",
            "execution_count": null,
            "metadata": {},
            "outputs": [
                {
                    "name": "stdout",
                    "output_type": "stream",
                    "text": [
                        "Total days: 14\n",
                        "Rainy days: 6\n",
                        "Daily Profit: [1619.233949085135, -2249.999440781731, 1619.233949085135, 1619.233949085135, 1619.233949085135, -1154.2405284879123, 145.2264291447089, 1619.233949085135, 1619.233949085135, -1752.8265475200847, -1956.435820503414, -2248.487642802191, 1619.233949085135, 1619.233949085135]\n",
                        "Total Profit: 3737.108041730456\n"
                    ]
                },
                {
                    "data": {
                        "text/plain": [
                            "([0, 60, 0, 0, 0, 5, 2, 0, 0, 8, 10, 30, 0, 0],\n",
                            " [1619.233949085135,\n",
                            "  -2249.999440781731,\n",
                            "  1619.233949085135,\n",
                            "  1619.233949085135,\n",
                            "  1619.233949085135,\n",
                            "  -1154.2405284879123,\n",
                            "  145.2264291447089,\n",
                            "  1619.233949085135,\n",
                            "  1619.233949085135,\n",
                            "  -1752.8265475200847,\n",
                            "  -1956.435820503414,\n",
                            "  -2248.487642802191,\n",
                            "  1619.233949085135,\n",
                            "  1619.233949085135],\n",
                            " 6,\n",
                            " 3737.108041730456)"
                        ]
                    },
                    "execution_count": 168,
                    "metadata": {},
                    "output_type": "execute_result"
                }
            ],
            "source": [
                "total_profit_fair(NY_df_scaled, popt_NY, 70000, [0,60,0,0,0,5,2,0,0,8,10,30,0,0],extra_costs=0)"
            ]
        },
        {
            "cell_type": "code",
            "execution_count": null,
            "metadata": {},
            "outputs": [
                {
                    "name": "stdout",
                    "output_type": "stream",
                    "text": [
                        "Total days: 14\n",
                        "Rainy days: 6\n",
                        "Daily Profit: [2215.9712315000243, -2250.0, 2215.9712315000243, 2215.9712315000243, 2215.9712315000243, -2249.440718622373, -2122.337883169816, 2215.9712315000243, 2215.9712315000243, -2249.997549816131, -2249.9999343989357, -2250.0, 2215.9712315000243, 2215.9712315000243]\n",
                        "Total Profit: 4355.993765992938\n"
                    ]
                },
                {
                    "data": {
                        "text/plain": [
                            "([0, 60, 0, 0, 0, 5, 2, 0, 0, 8, 10, 30, 0, 0],\n",
                            " [2215.9712315000243,\n",
                            "  -2250.0,\n",
                            "  2215.9712315000243,\n",
                            "  2215.9712315000243,\n",
                            "  2215.9712315000243,\n",
                            "  -2249.440718622373,\n",
                            "  -2122.337883169816,\n",
                            "  2215.9712315000243,\n",
                            "  2215.9712315000243,\n",
                            "  -2249.997549816131,\n",
                            "  -2249.9999343989357,\n",
                            "  -2250.0,\n",
                            "  2215.9712315000243,\n",
                            "  2215.9712315000243],\n",
                            " 6,\n",
                            " 4355.993765992938)"
                        ]
                    },
                    "execution_count": 169,
                    "metadata": {},
                    "output_type": "execute_result"
                }
            ],
            "source": [
                "total_profit_fair(MN_df_scaled, popt_MN, 70000, [0,60,0,0,0,5,2,0,0,8,10,30,0,0],extra_costs=0)"
            ]
        },
        {
            "cell_type": "code",
            "execution_count": null,
            "metadata": {},
            "outputs": [],
            "source": [
                "def total_profit_fair_us(total_revenue, prec_list, extra_costs=0):\n",
                "    profit_list_MN = []\n",
                "    profit_list_TX = []\n",
                "    profit_list_NC = []\n",
                "    profit_list_NY = []\n",
                "\n",
                "    for prec in prec_list:\n",
                "        profit_list_MN.append(rainfall_profit(MN_df_scaled, popt_MN,prec,total_revenue, extra_costs=0, fair_length=len(prec_list)))\n",
                "        profit_list_TX.append(rainfall_profit(TX_df_scaled, popt_TX,prec,total_revenue, extra_costs=0, fair_length=len(prec_list)))\n",
                "        profit_list_NC.append(rainfall_profit(NC_df_scaled, popt_NC,prec,total_revenue, extra_costs=0, fair_length=len(prec_list)))\n",
                "        profit_list_NY.append(rainfall_profit(NY_df_scaled, popt_NY,prec,total_revenue, extra_costs=0, fair_length=len(prec_list)))\n",
                "    \n",
                "    avg_profit_list = np.average(np.array([profit_list_MN, profit_list_TX, profit_list_NC, profit_list_NY]), axis=0)\n",
                "    \n",
                "    total_profit_MN = sum(profit_list_MN)\n",
                "    total_profit_TX = sum(profit_list_TX)\n",
                "    total_profit_NC = sum(profit_list_NC)\n",
                "    total_profit_NY = sum(profit_list_NY)\n",
                "\n",
                "    total_profit = total_profit_MN + total_profit_TX + total_profit_NC + total_profit_NY\n",
                "\n",
                "    rainy_days = len([x for x in prec_list if x > 0])\n",
                "\n",
                "    print('Total days: {}'.format(len(prec_list)))\n",
                "    print('Rainy days: {}'.format(rainy_days))\n",
                "    print('Average Daily Profit: {}'.format(avg_profit_list))\n",
                "    print('Average Total Profit: {}'.format(total_profit))\n",
                "\n",
                "    return prec_list, avg_profit_list, rainy_days, total_profit"
            ]
        },
        {
            "cell_type": "code",
            "execution_count": null,
            "metadata": {},
            "outputs": [
                {
                    "name": "stdout",
                    "output_type": "stream",
                    "text": [
                        "Total days: 14\n",
                        "Rainy days: 8\n",
                        "Average Daily Profit: [ 1992.80065354  1992.80065354  1992.80065354  1992.80065354\n",
                        "  1992.80065354 -1906.37492966 -1068.84025513 -2249.62190108\n",
                        " -2249.62190108 -2249.62190108 -2174.01635487 -2249.62190108\n",
                        " -2249.62190108  1992.80065354]\n",
                        "Average Total Profit: -17762.1484952931\n"
                    ]
                },
                {
                    "data": {
                        "text/plain": [
                            "([0, 0, 0, 0, 0, 5, 2, 30, 30, 30, 10, 30, 30, 0],\n",
                            " array([ 1992.80065354,  1992.80065354,  1992.80065354,  1992.80065354,\n",
                            "         1992.80065354, -1906.37492966, -1068.84025513, -2249.62190108,\n",
                            "        -2249.62190108, -2249.62190108, -2174.01635487, -2249.62190108,\n",
                            "        -2249.62190108,  1992.80065354]),\n",
                            " 8,\n",
                            " -17762.1484952931)"
                        ]
                    },
                    "execution_count": 171,
                    "metadata": {},
                    "output_type": "execute_result"
                }
            ],
            "source": [
                "total_profit_fair_us(70000, [0,0,0,0,0,5,2,30,30,30,10,30,30,0],extra_costs=0)"
            ]
        },
        {
            "cell_type": "markdown",
            "metadata": {},
            "source": [
                "# Add insurance"
            ]
        },
        {
            "cell_type": "code",
            "execution_count": null,
            "metadata": {},
            "outputs": [],
            "source": [
                "def add_insurance(prec_list, profit_list, threshold, payout, premium):\n",
                "    paid = False\n",
                "    new_profit_list = profit_list.copy()\n",
                "    for i in range(len(prec_list)):\n",
                "        if (prec_list[i]>threshold) and (paid==False):\n",
                "            new_profit_list[i] = profit_list[i] + payout\n",
                "            paid = True\n",
                "        elif (paid==True):\n",
                "            new_profit_list[i] = profit_list[i]\n",
                "        elif (paid==False):\n",
                "            new_profit_list[i] = profit_list[i] - premium\n",
                "\n",
                "    return new_profit_list\n"
            ]
        },
        {
            "cell_type": "markdown",
            "metadata": {},
            "source": [
                "# Find average fair duration"
            ]
        },
        {
            "cell_type": "code",
            "execution_count": null,
            "metadata": {},
            "outputs": [
                {
                    "data": {
                        "text/html": [
                            "<div>\n",
                            "<style scoped>\n",
                            "    .dataframe tbody tr th:only-of-type {\n",
                            "        vertical-align: middle;\n",
                            "    }\n",
                            "\n",
                            "    .dataframe tbody tr th {\n",
                            "        vertical-align: top;\n",
                            "    }\n",
                            "\n",
                            "    .dataframe thead th {\n",
                            "        text-align: right;\n",
                            "    }\n",
                            "</style>\n",
                            "<table border=\"1\" class=\"dataframe\">\n",
                            "  <thead>\n",
                            "    <tr style=\"text-align: right;\">\n",
                            "      <th></th>\n",
                            "      <th>state</th>\n",
                            "      <th>year</th>\n",
                            "      <th>date</th>\n",
                            "    </tr>\n",
                            "  </thead>\n",
                            "  <tbody>\n",
                            "    <tr>\n",
                            "      <th>0</th>\n",
                            "      <td>MN</td>\n",
                            "      <td>2018</td>\n",
                            "      <td>11 days</td>\n",
                            "    </tr>\n",
                            "    <tr>\n",
                            "      <th>1</th>\n",
                            "      <td>MN</td>\n",
                            "      <td>2019</td>\n",
                            "      <td>11 days</td>\n",
                            "    </tr>\n",
                            "    <tr>\n",
                            "      <th>2</th>\n",
                            "      <td>MN</td>\n",
                            "      <td>2021</td>\n",
                            "      <td>11 days</td>\n",
                            "    </tr>\n",
                            "    <tr>\n",
                            "      <th>3</th>\n",
                            "      <td>NC</td>\n",
                            "      <td>2013</td>\n",
                            "      <td>10 days</td>\n",
                            "    </tr>\n",
                            "    <tr>\n",
                            "      <th>4</th>\n",
                            "      <td>NC</td>\n",
                            "      <td>2014</td>\n",
                            "      <td>10 days</td>\n",
                            "    </tr>\n",
                            "    <tr>\n",
                            "      <th>5</th>\n",
                            "      <td>NC</td>\n",
                            "      <td>2015</td>\n",
                            "      <td>10 days</td>\n",
                            "    </tr>\n",
                            "    <tr>\n",
                            "      <th>6</th>\n",
                            "      <td>NC</td>\n",
                            "      <td>2016</td>\n",
                            "      <td>10 days</td>\n",
                            "    </tr>\n",
                            "    <tr>\n",
                            "      <th>7</th>\n",
                            "      <td>NC</td>\n",
                            "      <td>2017</td>\n",
                            "      <td>10 days</td>\n",
                            "    </tr>\n",
                            "    <tr>\n",
                            "      <th>8</th>\n",
                            "      <td>NC</td>\n",
                            "      <td>2018</td>\n",
                            "      <td>9 days</td>\n",
                            "    </tr>\n",
                            "    <tr>\n",
                            "      <th>9</th>\n",
                            "      <td>NC</td>\n",
                            "      <td>2019</td>\n",
                            "      <td>10 days</td>\n",
                            "    </tr>\n",
                            "    <tr>\n",
                            "      <th>10</th>\n",
                            "      <td>NC</td>\n",
                            "      <td>2021</td>\n",
                            "      <td>10 days</td>\n",
                            "    </tr>\n",
                            "    <tr>\n",
                            "      <th>11</th>\n",
                            "      <td>NY</td>\n",
                            "      <td>2010</td>\n",
                            "      <td>11 days</td>\n",
                            "    </tr>\n",
                            "    <tr>\n",
                            "      <th>12</th>\n",
                            "      <td>NY</td>\n",
                            "      <td>2011</td>\n",
                            "      <td>11 days</td>\n",
                            "    </tr>\n",
                            "    <tr>\n",
                            "      <th>13</th>\n",
                            "      <td>NY</td>\n",
                            "      <td>2012</td>\n",
                            "      <td>11 days</td>\n",
                            "    </tr>\n",
                            "    <tr>\n",
                            "      <th>14</th>\n",
                            "      <td>NY</td>\n",
                            "      <td>2013</td>\n",
                            "      <td>11 days</td>\n",
                            "    </tr>\n",
                            "    <tr>\n",
                            "      <th>15</th>\n",
                            "      <td>NY</td>\n",
                            "      <td>2014</td>\n",
                            "      <td>11 days</td>\n",
                            "    </tr>\n",
                            "    <tr>\n",
                            "      <th>16</th>\n",
                            "      <td>NY</td>\n",
                            "      <td>2015</td>\n",
                            "      <td>11 days</td>\n",
                            "    </tr>\n",
                            "    <tr>\n",
                            "      <th>17</th>\n",
                            "      <td>NY</td>\n",
                            "      <td>2016</td>\n",
                            "      <td>11 days</td>\n",
                            "    </tr>\n",
                            "    <tr>\n",
                            "      <th>18</th>\n",
                            "      <td>NY</td>\n",
                            "      <td>2017</td>\n",
                            "      <td>12 days</td>\n",
                            "    </tr>\n",
                            "    <tr>\n",
                            "      <th>19</th>\n",
                            "      <td>NY</td>\n",
                            "      <td>2018</td>\n",
                            "      <td>12 days</td>\n",
                            "    </tr>\n",
                            "    <tr>\n",
                            "      <th>20</th>\n",
                            "      <td>NY</td>\n",
                            "      <td>2019</td>\n",
                            "      <td>12 days</td>\n",
                            "    </tr>\n",
                            "    <tr>\n",
                            "      <th>21</th>\n",
                            "      <td>NY</td>\n",
                            "      <td>2021</td>\n",
                            "      <td>17 days</td>\n",
                            "    </tr>\n",
                            "    <tr>\n",
                            "      <th>22</th>\n",
                            "      <td>TX</td>\n",
                            "      <td>2017</td>\n",
                            "      <td>23 days</td>\n",
                            "    </tr>\n",
                            "    <tr>\n",
                            "      <th>23</th>\n",
                            "      <td>TX</td>\n",
                            "      <td>2018</td>\n",
                            "      <td>23 days</td>\n",
                            "    </tr>\n",
                            "    <tr>\n",
                            "      <th>24</th>\n",
                            "      <td>TX</td>\n",
                            "      <td>2019</td>\n",
                            "      <td>23 days</td>\n",
                            "    </tr>\n",
                            "    <tr>\n",
                            "      <th>25</th>\n",
                            "      <td>TX</td>\n",
                            "      <td>2021</td>\n",
                            "      <td>23 days</td>\n",
                            "    </tr>\n",
                            "  </tbody>\n",
                            "</table>\n",
                            "</div>"
                        ],
                        "text/plain": [
                            "   state  year    date\n",
                            "0     MN  2018 11 days\n",
                            "1     MN  2019 11 days\n",
                            "2     MN  2021 11 days\n",
                            "3     NC  2013 10 days\n",
                            "4     NC  2014 10 days\n",
                            "5     NC  2015 10 days\n",
                            "6     NC  2016 10 days\n",
                            "7     NC  2017 10 days\n",
                            "8     NC  2018  9 days\n",
                            "9     NC  2019 10 days\n",
                            "10    NC  2021 10 days\n",
                            "11    NY  2010 11 days\n",
                            "12    NY  2011 11 days\n",
                            "13    NY  2012 11 days\n",
                            "14    NY  2013 11 days\n",
                            "15    NY  2014 11 days\n",
                            "16    NY  2015 11 days\n",
                            "17    NY  2016 11 days\n",
                            "18    NY  2017 12 days\n",
                            "19    NY  2018 12 days\n",
                            "20    NY  2019 12 days\n",
                            "21    NY  2021 17 days\n",
                            "22    TX  2017 23 days\n",
                            "23    TX  2018 23 days\n",
                            "24    TX  2019 23 days\n",
                            "25    TX  2021 23 days"
                        ]
                    },
                    "execution_count": 174,
                    "metadata": {},
                    "output_type": "execute_result"
                }
            ],
            "source": [
                "date_df = scaled_df.groupby(['state','year'],as_index=False)['date'].agg(np.ptp) \n",
                "date_df"
            ]
        },
        {
            "cell_type": "code",
            "execution_count": null,
            "metadata": {},
            "outputs": [
                {
                    "data": {
                        "text/plain": [
                            "Timedelta('12 days 20:18:27.692307692')"
                        ]
                    },
                    "execution_count": 175,
                    "metadata": {},
                    "output_type": "execute_result"
                }
            ],
            "source": [
                "date_df['date'].mean()"
            ]
        },
        {
            "cell_type": "code",
            "execution_count": null,
            "metadata": {},
            "outputs": [
                {
                    "data": {
                        "text/plain": [
                            "0     2018-08-23\n",
                            "1     2018-08-24\n",
                            "2     2018-08-25\n",
                            "3     2018-08-26\n",
                            "4     2018-08-27\n",
                            "         ...    \n",
                            "355   2021-10-13\n",
                            "356   2021-10-14\n",
                            "357   2021-10-15\n",
                            "358   2021-10-16\n",
                            "359   2021-10-17\n",
                            "Name: date, Length: 360, dtype: datetime64[ns]"
                        ]
                    },
                    "execution_count": 176,
                    "metadata": {},
                    "output_type": "execute_result"
                }
            ],
            "source": [
                "scaled_df['date']"
            ]
        },
        {
            "cell_type": "code",
            "execution_count": null,
            "metadata": {},
            "outputs": [],
            "source": []
        },
        {
            "cell_type": "markdown",
            "metadata": {},
            "source": [
                "# Plot outputs"
            ]
        },
        {
            "cell_type": "code",
            "execution_count": null,
            "metadata": {},
            "outputs": [],
            "source": [
                "from plotly.subplots import make_subplots\n",
                "import plotly.graph_objects as go"
            ]
        },
        {
            "cell_type": "code",
            "execution_count": null,
            "metadata": {},
            "outputs": [],
            "source": [
                "def plotly_prec_profit(prec_list, profit_list):\n",
                "\n",
                "    fig = make_subplots(rows=2, cols=1,\n",
                "                    shared_xaxes=True)\n",
                "    \n",
                "\n",
                "    fig.add_trace(\n",
                "        go.Bar(x=[x for x in range(1,len(prec_list)+1)], y=prec_list,name=\"Precipitation\"),\n",
                "        row=1, col=1\n",
                "    )\n",
                "\n",
                "    fig.add_trace(\n",
                "        go.Bar(x=[x for x in range(1,len(profit_list)+1)], y=profit_list, name = \"Profit\"),\n",
                "        row=2, col=1\n",
                "    )\n",
                "\n",
                "\n",
                "    fig.update_layout(title_text=\"Daily Precipitation and Profit\",)\n",
                "\n",
                "    # Update xaxis properties\n",
                "    fig.update_xaxes(title_text=\"Day\",row=1, col=1)\n",
                "    fig.update_xaxes(title_text=\"Day\", row=2, col=1)\n",
                "\n",
                "\n",
                "    # Update yaxis properties\n",
                "    fig.update_yaxes(title_text=\"Precipitation (mm)\", row=1, col=1)\n",
                "    fig.update_yaxes(title_text=\"Expected Profit (USD)\", row=2, col=1)\n",
                "\n",
                "    fig.show()\n",
                "    "
            ]
        },
        {
            "cell_type": "code",
            "execution_count": null,
            "metadata": {},
            "outputs": [
                {
                    "name": "stdout",
                    "output_type": "stream",
                    "text": [
                        "Total days: 14\n",
                        "Rainy days: 8\n",
                        "Average Daily Profit: [ 1992.80065354  1992.80065354  1992.80065354  1992.80065354\n",
                        "  1992.80065354 -1906.37492966 -1068.84025513 -2249.62190108\n",
                        " -2249.62190108 -2249.99805219 -2174.01635487 -2249.62190108\n",
                        " -2249.62190108  1992.80065354]\n",
                        "Average Total Profit: -17763.653099752315\n"
                    ]
                },
                {
                    "data": {
                        "application/vnd.plotly.v1+json": {
                            "config": {
                                "plotlyServerURL": "https://plot.ly"
                            },
                            "data": [
                                {
                                    "name": "Precipitation",
                                    "type": "bar",
                                    "x": [
                                        1,
                                        2,
                                        3,
                                        4,
                                        5,
                                        6,
                                        7,
                                        8,
                                        9,
                                        10,
                                        11,
                                        12,
                                        13,
                                        14
                                    ],
                                    "xaxis": "x",
                                    "y": [
                                        0,
                                        0,
                                        0,
                                        0,
                                        0,
                                        5,
                                        2,
                                        30,
                                        30,
                                        50,
                                        10,
                                        30,
                                        30,
                                        0
                                    ],
                                    "yaxis": "y"
                                },
                                {
                                    "name": "Profit",
                                    "type": "bar",
                                    "x": [
                                        1,
                                        2,
                                        3,
                                        4,
                                        5,
                                        6,
                                        7,
                                        8,
                                        9,
                                        10,
                                        11,
                                        12,
                                        13,
                                        14
                                    ],
                                    "xaxis": "x2",
                                    "y": [
                                        1992.8006535385134,
                                        1992.8006535385134,
                                        1992.8006535385134,
                                        1992.8006535385134,
                                        1992.8006535385134,
                                        -1906.374929660867,
                                        -1068.8402551293298,
                                        -2249.621901079144,
                                        -2249.621901079144,
                                        -2249.9980521939483,
                                        -2174.0163548684386,
                                        -2249.621901079144,
                                        -2249.621901079144,
                                        1992.8006535385134
                                    ],
                                    "yaxis": "y2"
                                }
                            ],
                            "layout": {
                                "template": {
                                    "data": {
                                        "bar": [
                                            {
                                                "error_x": {
                                                    "color": "#2a3f5f"
                                                },
                                                "error_y": {
                                                    "color": "#2a3f5f"
                                                },
                                                "marker": {
                                                    "line": {
                                                        "color": "#E5ECF6",
                                                        "width": 0.5
                                                    }
                                                },
                                                "type": "bar"
                                            }
                                        ],
                                        "barpolar": [
                                            {
                                                "marker": {
                                                    "line": {
                                                        "color": "#E5ECF6",
                                                        "width": 0.5
                                                    }
                                                },
                                                "type": "barpolar"
                                            }
                                        ],
                                        "carpet": [
                                            {
                                                "aaxis": {
                                                    "endlinecolor": "#2a3f5f",
                                                    "gridcolor": "white",
                                                    "linecolor": "white",
                                                    "minorgridcolor": "white",
                                                    "startlinecolor": "#2a3f5f"
                                                },
                                                "baxis": {
                                                    "endlinecolor": "#2a3f5f",
                                                    "gridcolor": "white",
                                                    "linecolor": "white",
                                                    "minorgridcolor": "white",
                                                    "startlinecolor": "#2a3f5f"
                                                },
                                                "type": "carpet"
                                            }
                                        ],
                                        "choropleth": [
                                            {
                                                "colorbar": {
                                                    "outlinewidth": 0,
                                                    "ticks": ""
                                                },
                                                "type": "choropleth"
                                            }
                                        ],
                                        "contour": [
                                            {
                                                "colorbar": {
                                                    "outlinewidth": 0,
                                                    "ticks": ""
                                                },
                                                "colorscale": [
                                                    [
                                                        0,
                                                        "#0d0887"
                                                    ],
                                                    [
                                                        0.1111111111111111,
                                                        "#46039f"
                                                    ],
                                                    [
                                                        0.2222222222222222,
                                                        "#7201a8"
                                                    ],
                                                    [
                                                        0.3333333333333333,
                                                        "#9c179e"
                                                    ],
                                                    [
                                                        0.4444444444444444,
                                                        "#bd3786"
                                                    ],
                                                    [
                                                        0.5555555555555556,
                                                        "#d8576b"
                                                    ],
                                                    [
                                                        0.6666666666666666,
                                                        "#ed7953"
                                                    ],
                                                    [
                                                        0.7777777777777778,
                                                        "#fb9f3a"
                                                    ],
                                                    [
                                                        0.8888888888888888,
                                                        "#fdca26"
                                                    ],
                                                    [
                                                        1,
                                                        "#f0f921"
                                                    ]
                                                ],
                                                "type": "contour"
                                            }
                                        ],
                                        "contourcarpet": [
                                            {
                                                "colorbar": {
                                                    "outlinewidth": 0,
                                                    "ticks": ""
                                                },
                                                "type": "contourcarpet"
                                            }
                                        ],
                                        "heatmap": [
                                            {
                                                "colorbar": {
                                                    "outlinewidth": 0,
                                                    "ticks": ""
                                                },
                                                "colorscale": [
                                                    [
                                                        0,
                                                        "#0d0887"
                                                    ],
                                                    [
                                                        0.1111111111111111,
                                                        "#46039f"
                                                    ],
                                                    [
                                                        0.2222222222222222,
                                                        "#7201a8"
                                                    ],
                                                    [
                                                        0.3333333333333333,
                                                        "#9c179e"
                                                    ],
                                                    [
                                                        0.4444444444444444,
                                                        "#bd3786"
                                                    ],
                                                    [
                                                        0.5555555555555556,
                                                        "#d8576b"
                                                    ],
                                                    [
                                                        0.6666666666666666,
                                                        "#ed7953"
                                                    ],
                                                    [
                                                        0.7777777777777778,
                                                        "#fb9f3a"
                                                    ],
                                                    [
                                                        0.8888888888888888,
                                                        "#fdca26"
                                                    ],
                                                    [
                                                        1,
                                                        "#f0f921"
                                                    ]
                                                ],
                                                "type": "heatmap"
                                            }
                                        ],
                                        "heatmapgl": [
                                            {
                                                "colorbar": {
                                                    "outlinewidth": 0,
                                                    "ticks": ""
                                                },
                                                "colorscale": [
                                                    [
                                                        0,
                                                        "#0d0887"
                                                    ],
                                                    [
                                                        0.1111111111111111,
                                                        "#46039f"
                                                    ],
                                                    [
                                                        0.2222222222222222,
                                                        "#7201a8"
                                                    ],
                                                    [
                                                        0.3333333333333333,
                                                        "#9c179e"
                                                    ],
                                                    [
                                                        0.4444444444444444,
                                                        "#bd3786"
                                                    ],
                                                    [
                                                        0.5555555555555556,
                                                        "#d8576b"
                                                    ],
                                                    [
                                                        0.6666666666666666,
                                                        "#ed7953"
                                                    ],
                                                    [
                                                        0.7777777777777778,
                                                        "#fb9f3a"
                                                    ],
                                                    [
                                                        0.8888888888888888,
                                                        "#fdca26"
                                                    ],
                                                    [
                                                        1,
                                                        "#f0f921"
                                                    ]
                                                ],
                                                "type": "heatmapgl"
                                            }
                                        ],
                                        "histogram": [
                                            {
                                                "marker": {
                                                    "colorbar": {
                                                        "outlinewidth": 0,
                                                        "ticks": ""
                                                    }
                                                },
                                                "type": "histogram"
                                            }
                                        ],
                                        "histogram2d": [
                                            {
                                                "colorbar": {
                                                    "outlinewidth": 0,
                                                    "ticks": ""
                                                },
                                                "colorscale": [
                                                    [
                                                        0,
                                                        "#0d0887"
                                                    ],
                                                    [
                                                        0.1111111111111111,
                                                        "#46039f"
                                                    ],
                                                    [
                                                        0.2222222222222222,
                                                        "#7201a8"
                                                    ],
                                                    [
                                                        0.3333333333333333,
                                                        "#9c179e"
                                                    ],
                                                    [
                                                        0.4444444444444444,
                                                        "#bd3786"
                                                    ],
                                                    [
                                                        0.5555555555555556,
                                                        "#d8576b"
                                                    ],
                                                    [
                                                        0.6666666666666666,
                                                        "#ed7953"
                                                    ],
                                                    [
                                                        0.7777777777777778,
                                                        "#fb9f3a"
                                                    ],
                                                    [
                                                        0.8888888888888888,
                                                        "#fdca26"
                                                    ],
                                                    [
                                                        1,
                                                        "#f0f921"
                                                    ]
                                                ],
                                                "type": "histogram2d"
                                            }
                                        ],
                                        "histogram2dcontour": [
                                            {
                                                "colorbar": {
                                                    "outlinewidth": 0,
                                                    "ticks": ""
                                                },
                                                "colorscale": [
                                                    [
                                                        0,
                                                        "#0d0887"
                                                    ],
                                                    [
                                                        0.1111111111111111,
                                                        "#46039f"
                                                    ],
                                                    [
                                                        0.2222222222222222,
                                                        "#7201a8"
                                                    ],
                                                    [
                                                        0.3333333333333333,
                                                        "#9c179e"
                                                    ],
                                                    [
                                                        0.4444444444444444,
                                                        "#bd3786"
                                                    ],
                                                    [
                                                        0.5555555555555556,
                                                        "#d8576b"
                                                    ],
                                                    [
                                                        0.6666666666666666,
                                                        "#ed7953"
                                                    ],
                                                    [
                                                        0.7777777777777778,
                                                        "#fb9f3a"
                                                    ],
                                                    [
                                                        0.8888888888888888,
                                                        "#fdca26"
                                                    ],
                                                    [
                                                        1,
                                                        "#f0f921"
                                                    ]
                                                ],
                                                "type": "histogram2dcontour"
                                            }
                                        ],
                                        "mesh3d": [
                                            {
                                                "colorbar": {
                                                    "outlinewidth": 0,
                                                    "ticks": ""
                                                },
                                                "type": "mesh3d"
                                            }
                                        ],
                                        "parcoords": [
                                            {
                                                "line": {
                                                    "colorbar": {
                                                        "outlinewidth": 0,
                                                        "ticks": ""
                                                    }
                                                },
                                                "type": "parcoords"
                                            }
                                        ],
                                        "pie": [
                                            {
                                                "automargin": true,
                                                "type": "pie"
                                            }
                                        ],
                                        "scatter": [
                                            {
                                                "marker": {
                                                    "colorbar": {
                                                        "outlinewidth": 0,
                                                        "ticks": ""
                                                    }
                                                },
                                                "type": "scatter"
                                            }
                                        ],
                                        "scatter3d": [
                                            {
                                                "line": {
                                                    "colorbar": {
                                                        "outlinewidth": 0,
                                                        "ticks": ""
                                                    }
                                                },
                                                "marker": {
                                                    "colorbar": {
                                                        "outlinewidth": 0,
                                                        "ticks": ""
                                                    }
                                                },
                                                "type": "scatter3d"
                                            }
                                        ],
                                        "scattercarpet": [
                                            {
                                                "marker": {
                                                    "colorbar": {
                                                        "outlinewidth": 0,
                                                        "ticks": ""
                                                    }
                                                },
                                                "type": "scattercarpet"
                                            }
                                        ],
                                        "scattergeo": [
                                            {
                                                "marker": {
                                                    "colorbar": {
                                                        "outlinewidth": 0,
                                                        "ticks": ""
                                                    }
                                                },
                                                "type": "scattergeo"
                                            }
                                        ],
                                        "scattergl": [
                                            {
                                                "marker": {
                                                    "colorbar": {
                                                        "outlinewidth": 0,
                                                        "ticks": ""
                                                    }
                                                },
                                                "type": "scattergl"
                                            }
                                        ],
                                        "scattermapbox": [
                                            {
                                                "marker": {
                                                    "colorbar": {
                                                        "outlinewidth": 0,
                                                        "ticks": ""
                                                    }
                                                },
                                                "type": "scattermapbox"
                                            }
                                        ],
                                        "scatterpolar": [
                                            {
                                                "marker": {
                                                    "colorbar": {
                                                        "outlinewidth": 0,
                                                        "ticks": ""
                                                    }
                                                },
                                                "type": "scatterpolar"
                                            }
                                        ],
                                        "scatterpolargl": [
                                            {
                                                "marker": {
                                                    "colorbar": {
                                                        "outlinewidth": 0,
                                                        "ticks": ""
                                                    }
                                                },
                                                "type": "scatterpolargl"
                                            }
                                        ],
                                        "scatterternary": [
                                            {
                                                "marker": {
                                                    "colorbar": {
                                                        "outlinewidth": 0,
                                                        "ticks": ""
                                                    }
                                                },
                                                "type": "scatterternary"
                                            }
                                        ],
                                        "surface": [
                                            {
                                                "colorbar": {
                                                    "outlinewidth": 0,
                                                    "ticks": ""
                                                },
                                                "colorscale": [
                                                    [
                                                        0,
                                                        "#0d0887"
                                                    ],
                                                    [
                                                        0.1111111111111111,
                                                        "#46039f"
                                                    ],
                                                    [
                                                        0.2222222222222222,
                                                        "#7201a8"
                                                    ],
                                                    [
                                                        0.3333333333333333,
                                                        "#9c179e"
                                                    ],
                                                    [
                                                        0.4444444444444444,
                                                        "#bd3786"
                                                    ],
                                                    [
                                                        0.5555555555555556,
                                                        "#d8576b"
                                                    ],
                                                    [
                                                        0.6666666666666666,
                                                        "#ed7953"
                                                    ],
                                                    [
                                                        0.7777777777777778,
                                                        "#fb9f3a"
                                                    ],
                                                    [
                                                        0.8888888888888888,
                                                        "#fdca26"
                                                    ],
                                                    [
                                                        1,
                                                        "#f0f921"
                                                    ]
                                                ],
                                                "type": "surface"
                                            }
                                        ],
                                        "table": [
                                            {
                                                "cells": {
                                                    "fill": {
                                                        "color": "#EBF0F8"
                                                    },
                                                    "line": {
                                                        "color": "white"
                                                    }
                                                },
                                                "header": {
                                                    "fill": {
                                                        "color": "#C8D4E3"
                                                    },
                                                    "line": {
                                                        "color": "white"
                                                    }
                                                },
                                                "type": "table"
                                            }
                                        ]
                                    },
                                    "layout": {
                                        "annotationdefaults": {
                                            "arrowcolor": "#2a3f5f",
                                            "arrowhead": 0,
                                            "arrowwidth": 1
                                        },
                                        "autotypenumbers": "strict",
                                        "coloraxis": {
                                            "colorbar": {
                                                "outlinewidth": 0,
                                                "ticks": ""
                                            }
                                        },
                                        "colorscale": {
                                            "diverging": [
                                                [
                                                    0,
                                                    "#8e0152"
                                                ],
                                                [
                                                    0.1,
                                                    "#c51b7d"
                                                ],
                                                [
                                                    0.2,
                                                    "#de77ae"
                                                ],
                                                [
                                                    0.3,
                                                    "#f1b6da"
                                                ],
                                                [
                                                    0.4,
                                                    "#fde0ef"
                                                ],
                                                [
                                                    0.5,
                                                    "#f7f7f7"
                                                ],
                                                [
                                                    0.6,
                                                    "#e6f5d0"
                                                ],
                                                [
                                                    0.7,
                                                    "#b8e186"
                                                ],
                                                [
                                                    0.8,
                                                    "#7fbc41"
                                                ],
                                                [
                                                    0.9,
                                                    "#4d9221"
                                                ],
                                                [
                                                    1,
                                                    "#276419"
                                                ]
                                            ],
                                            "sequential": [
                                                [
                                                    0,
                                                    "#0d0887"
                                                ],
                                                [
                                                    0.1111111111111111,
                                                    "#46039f"
                                                ],
                                                [
                                                    0.2222222222222222,
                                                    "#7201a8"
                                                ],
                                                [
                                                    0.3333333333333333,
                                                    "#9c179e"
                                                ],
                                                [
                                                    0.4444444444444444,
                                                    "#bd3786"
                                                ],
                                                [
                                                    0.5555555555555556,
                                                    "#d8576b"
                                                ],
                                                [
                                                    0.6666666666666666,
                                                    "#ed7953"
                                                ],
                                                [
                                                    0.7777777777777778,
                                                    "#fb9f3a"
                                                ],
                                                [
                                                    0.8888888888888888,
                                                    "#fdca26"
                                                ],
                                                [
                                                    1,
                                                    "#f0f921"
                                                ]
                                            ],
                                            "sequentialminus": [
                                                [
                                                    0,
                                                    "#0d0887"
                                                ],
                                                [
                                                    0.1111111111111111,
                                                    "#46039f"
                                                ],
                                                [
                                                    0.2222222222222222,
                                                    "#7201a8"
                                                ],
                                                [
                                                    0.3333333333333333,
                                                    "#9c179e"
                                                ],
                                                [
                                                    0.4444444444444444,
                                                    "#bd3786"
                                                ],
                                                [
                                                    0.5555555555555556,
                                                    "#d8576b"
                                                ],
                                                [
                                                    0.6666666666666666,
                                                    "#ed7953"
                                                ],
                                                [
                                                    0.7777777777777778,
                                                    "#fb9f3a"
                                                ],
                                                [
                                                    0.8888888888888888,
                                                    "#fdca26"
                                                ],
                                                [
                                                    1,
                                                    "#f0f921"
                                                ]
                                            ]
                                        },
                                        "colorway": [
                                            "#636efa",
                                            "#EF553B",
                                            "#00cc96",
                                            "#ab63fa",
                                            "#FFA15A",
                                            "#19d3f3",
                                            "#FF6692",
                                            "#B6E880",
                                            "#FF97FF",
                                            "#FECB52"
                                        ],
                                        "font": {
                                            "color": "#2a3f5f"
                                        },
                                        "geo": {
                                            "bgcolor": "white",
                                            "lakecolor": "white",
                                            "landcolor": "#E5ECF6",
                                            "showlakes": true,
                                            "showland": true,
                                            "subunitcolor": "white"
                                        },
                                        "hoverlabel": {
                                            "align": "left"
                                        },
                                        "hovermode": "closest",
                                        "mapbox": {
                                            "style": "light"
                                        },
                                        "paper_bgcolor": "white",
                                        "plot_bgcolor": "#E5ECF6",
                                        "polar": {
                                            "angularaxis": {
                                                "gridcolor": "white",
                                                "linecolor": "white",
                                                "ticks": ""
                                            },
                                            "bgcolor": "#E5ECF6",
                                            "radialaxis": {
                                                "gridcolor": "white",
                                                "linecolor": "white",
                                                "ticks": ""
                                            }
                                        },
                                        "scene": {
                                            "xaxis": {
                                                "backgroundcolor": "#E5ECF6",
                                                "gridcolor": "white",
                                                "gridwidth": 2,
                                                "linecolor": "white",
                                                "showbackground": true,
                                                "ticks": "",
                                                "zerolinecolor": "white"
                                            },
                                            "yaxis": {
                                                "backgroundcolor": "#E5ECF6",
                                                "gridcolor": "white",
                                                "gridwidth": 2,
                                                "linecolor": "white",
                                                "showbackground": true,
                                                "ticks": "",
                                                "zerolinecolor": "white"
                                            },
                                            "zaxis": {
                                                "backgroundcolor": "#E5ECF6",
                                                "gridcolor": "white",
                                                "gridwidth": 2,
                                                "linecolor": "white",
                                                "showbackground": true,
                                                "ticks": "",
                                                "zerolinecolor": "white"
                                            }
                                        },
                                        "shapedefaults": {
                                            "line": {
                                                "color": "#2a3f5f"
                                            }
                                        },
                                        "ternary": {
                                            "aaxis": {
                                                "gridcolor": "white",
                                                "linecolor": "white",
                                                "ticks": ""
                                            },
                                            "baxis": {
                                                "gridcolor": "white",
                                                "linecolor": "white",
                                                "ticks": ""
                                            },
                                            "bgcolor": "#E5ECF6",
                                            "caxis": {
                                                "gridcolor": "white",
                                                "linecolor": "white",
                                                "ticks": ""
                                            }
                                        },
                                        "title": {
                                            "x": 0.05
                                        },
                                        "xaxis": {
                                            "automargin": true,
                                            "gridcolor": "white",
                                            "linecolor": "white",
                                            "ticks": "",
                                            "title": {
                                                "standoff": 15
                                            },
                                            "zerolinecolor": "white",
                                            "zerolinewidth": 2
                                        },
                                        "yaxis": {
                                            "automargin": true,
                                            "gridcolor": "white",
                                            "linecolor": "white",
                                            "ticks": "",
                                            "title": {
                                                "standoff": 15
                                            },
                                            "zerolinecolor": "white",
                                            "zerolinewidth": 2
                                        }
                                    }
                                },
                                "title": {
                                    "text": "Daily Precipitation and Profit"
                                },
                                "xaxis": {
                                    "anchor": "y",
                                    "domain": [
                                        0,
                                        1
                                    ],
                                    "matches": "x2",
                                    "showticklabels": false,
                                    "title": {
                                        "text": "Day"
                                    }
                                },
                                "xaxis2": {
                                    "anchor": "y2",
                                    "domain": [
                                        0,
                                        1
                                    ],
                                    "title": {
                                        "text": "Day"
                                    }
                                },
                                "yaxis": {
                                    "anchor": "x",
                                    "domain": [
                                        0.575,
                                        1
                                    ],
                                    "title": {
                                        "text": "Precipitation (mm)"
                                    }
                                },
                                "yaxis2": {
                                    "anchor": "x2",
                                    "domain": [
                                        0,
                                        0.425
                                    ],
                                    "title": {
                                        "text": "Expected Profit (USD)"
                                    }
                                }
                            }
                        }
                    },
                    "metadata": {},
                    "output_type": "display_data"
                }
            ],
            "source": [
                "prec_list, avg_profit_list, rainy_days, total_profit = total_profit_fair_us(70000, [0,0,0,0,0,5,2,30,30,50,10,30,30,0],extra_costs=0)\n",
                "\n",
                "plotly_prec_profit(prec_list,avg_profit_list)"
            ]
        },
        {
            "cell_type": "code",
            "execution_count": null,
            "metadata": {},
            "outputs": [
                {
                    "data": {
                        "application/vnd.plotly.v1+json": {
                            "config": {
                                "plotlyServerURL": "https://plot.ly"
                            },
                            "data": [
                                {
                                    "name": "Precipitation",
                                    "type": "bar",
                                    "x": [
                                        1,
                                        2,
                                        3,
                                        4,
                                        5,
                                        6,
                                        7,
                                        8,
                                        9,
                                        10,
                                        11,
                                        12,
                                        13,
                                        14
                                    ],
                                    "xaxis": "x",
                                    "y": [
                                        0,
                                        0,
                                        0,
                                        0,
                                        0,
                                        5,
                                        2,
                                        30,
                                        30,
                                        50,
                                        10,
                                        30,
                                        30,
                                        0
                                    ],
                                    "yaxis": "y"
                                },
                                {
                                    "name": "Profit",
                                    "type": "bar",
                                    "x": [
                                        1,
                                        2,
                                        3,
                                        4,
                                        5,
                                        6,
                                        7,
                                        8,
                                        9,
                                        10,
                                        11,
                                        12,
                                        13,
                                        14
                                    ],
                                    "xaxis": "x2",
                                    "y": [
                                        1992.8006535385134,
                                        1992.8006535385134,
                                        1992.8006535385134,
                                        1992.8006535385134,
                                        1992.8006535385134,
                                        -1906.374929660867,
                                        -1068.8402551293298,
                                        -2249.621901079144,
                                        -2249.621901079144,
                                        17750.001947806053,
                                        -2174.0163548684386,
                                        -2249.621901079144,
                                        -2249.621901079144,
                                        1992.8006535385134
                                    ],
                                    "yaxis": "y2"
                                }
                            ],
                            "layout": {
                                "template": {
                                    "data": {
                                        "bar": [
                                            {
                                                "error_x": {
                                                    "color": "#2a3f5f"
                                                },
                                                "error_y": {
                                                    "color": "#2a3f5f"
                                                },
                                                "marker": {
                                                    "line": {
                                                        "color": "#E5ECF6",
                                                        "width": 0.5
                                                    }
                                                },
                                                "type": "bar"
                                            }
                                        ],
                                        "barpolar": [
                                            {
                                                "marker": {
                                                    "line": {
                                                        "color": "#E5ECF6",
                                                        "width": 0.5
                                                    }
                                                },
                                                "type": "barpolar"
                                            }
                                        ],
                                        "carpet": [
                                            {
                                                "aaxis": {
                                                    "endlinecolor": "#2a3f5f",
                                                    "gridcolor": "white",
                                                    "linecolor": "white",
                                                    "minorgridcolor": "white",
                                                    "startlinecolor": "#2a3f5f"
                                                },
                                                "baxis": {
                                                    "endlinecolor": "#2a3f5f",
                                                    "gridcolor": "white",
                                                    "linecolor": "white",
                                                    "minorgridcolor": "white",
                                                    "startlinecolor": "#2a3f5f"
                                                },
                                                "type": "carpet"
                                            }
                                        ],
                                        "choropleth": [
                                            {
                                                "colorbar": {
                                                    "outlinewidth": 0,
                                                    "ticks": ""
                                                },
                                                "type": "choropleth"
                                            }
                                        ],
                                        "contour": [
                                            {
                                                "colorbar": {
                                                    "outlinewidth": 0,
                                                    "ticks": ""
                                                },
                                                "colorscale": [
                                                    [
                                                        0,
                                                        "#0d0887"
                                                    ],
                                                    [
                                                        0.1111111111111111,
                                                        "#46039f"
                                                    ],
                                                    [
                                                        0.2222222222222222,
                                                        "#7201a8"
                                                    ],
                                                    [
                                                        0.3333333333333333,
                                                        "#9c179e"
                                                    ],
                                                    [
                                                        0.4444444444444444,
                                                        "#bd3786"
                                                    ],
                                                    [
                                                        0.5555555555555556,
                                                        "#d8576b"
                                                    ],
                                                    [
                                                        0.6666666666666666,
                                                        "#ed7953"
                                                    ],
                                                    [
                                                        0.7777777777777778,
                                                        "#fb9f3a"
                                                    ],
                                                    [
                                                        0.8888888888888888,
                                                        "#fdca26"
                                                    ],
                                                    [
                                                        1,
                                                        "#f0f921"
                                                    ]
                                                ],
                                                "type": "contour"
                                            }
                                        ],
                                        "contourcarpet": [
                                            {
                                                "colorbar": {
                                                    "outlinewidth": 0,
                                                    "ticks": ""
                                                },
                                                "type": "contourcarpet"
                                            }
                                        ],
                                        "heatmap": [
                                            {
                                                "colorbar": {
                                                    "outlinewidth": 0,
                                                    "ticks": ""
                                                },
                                                "colorscale": [
                                                    [
                                                        0,
                                                        "#0d0887"
                                                    ],
                                                    [
                                                        0.1111111111111111,
                                                        "#46039f"
                                                    ],
                                                    [
                                                        0.2222222222222222,
                                                        "#7201a8"
                                                    ],
                                                    [
                                                        0.3333333333333333,
                                                        "#9c179e"
                                                    ],
                                                    [
                                                        0.4444444444444444,
                                                        "#bd3786"
                                                    ],
                                                    [
                                                        0.5555555555555556,
                                                        "#d8576b"
                                                    ],
                                                    [
                                                        0.6666666666666666,
                                                        "#ed7953"
                                                    ],
                                                    [
                                                        0.7777777777777778,
                                                        "#fb9f3a"
                                                    ],
                                                    [
                                                        0.8888888888888888,
                                                        "#fdca26"
                                                    ],
                                                    [
                                                        1,
                                                        "#f0f921"
                                                    ]
                                                ],
                                                "type": "heatmap"
                                            }
                                        ],
                                        "heatmapgl": [
                                            {
                                                "colorbar": {
                                                    "outlinewidth": 0,
                                                    "ticks": ""
                                                },
                                                "colorscale": [
                                                    [
                                                        0,
                                                        "#0d0887"
                                                    ],
                                                    [
                                                        0.1111111111111111,
                                                        "#46039f"
                                                    ],
                                                    [
                                                        0.2222222222222222,
                                                        "#7201a8"
                                                    ],
                                                    [
                                                        0.3333333333333333,
                                                        "#9c179e"
                                                    ],
                                                    [
                                                        0.4444444444444444,
                                                        "#bd3786"
                                                    ],
                                                    [
                                                        0.5555555555555556,
                                                        "#d8576b"
                                                    ],
                                                    [
                                                        0.6666666666666666,
                                                        "#ed7953"
                                                    ],
                                                    [
                                                        0.7777777777777778,
                                                        "#fb9f3a"
                                                    ],
                                                    [
                                                        0.8888888888888888,
                                                        "#fdca26"
                                                    ],
                                                    [
                                                        1,
                                                        "#f0f921"
                                                    ]
                                                ],
                                                "type": "heatmapgl"
                                            }
                                        ],
                                        "histogram": [
                                            {
                                                "marker": {
                                                    "colorbar": {
                                                        "outlinewidth": 0,
                                                        "ticks": ""
                                                    }
                                                },
                                                "type": "histogram"
                                            }
                                        ],
                                        "histogram2d": [
                                            {
                                                "colorbar": {
                                                    "outlinewidth": 0,
                                                    "ticks": ""
                                                },
                                                "colorscale": [
                                                    [
                                                        0,
                                                        "#0d0887"
                                                    ],
                                                    [
                                                        0.1111111111111111,
                                                        "#46039f"
                                                    ],
                                                    [
                                                        0.2222222222222222,
                                                        "#7201a8"
                                                    ],
                                                    [
                                                        0.3333333333333333,
                                                        "#9c179e"
                                                    ],
                                                    [
                                                        0.4444444444444444,
                                                        "#bd3786"
                                                    ],
                                                    [
                                                        0.5555555555555556,
                                                        "#d8576b"
                                                    ],
                                                    [
                                                        0.6666666666666666,
                                                        "#ed7953"
                                                    ],
                                                    [
                                                        0.7777777777777778,
                                                        "#fb9f3a"
                                                    ],
                                                    [
                                                        0.8888888888888888,
                                                        "#fdca26"
                                                    ],
                                                    [
                                                        1,
                                                        "#f0f921"
                                                    ]
                                                ],
                                                "type": "histogram2d"
                                            }
                                        ],
                                        "histogram2dcontour": [
                                            {
                                                "colorbar": {
                                                    "outlinewidth": 0,
                                                    "ticks": ""
                                                },
                                                "colorscale": [
                                                    [
                                                        0,
                                                        "#0d0887"
                                                    ],
                                                    [
                                                        0.1111111111111111,
                                                        "#46039f"
                                                    ],
                                                    [
                                                        0.2222222222222222,
                                                        "#7201a8"
                                                    ],
                                                    [
                                                        0.3333333333333333,
                                                        "#9c179e"
                                                    ],
                                                    [
                                                        0.4444444444444444,
                                                        "#bd3786"
                                                    ],
                                                    [
                                                        0.5555555555555556,
                                                        "#d8576b"
                                                    ],
                                                    [
                                                        0.6666666666666666,
                                                        "#ed7953"
                                                    ],
                                                    [
                                                        0.7777777777777778,
                                                        "#fb9f3a"
                                                    ],
                                                    [
                                                        0.8888888888888888,
                                                        "#fdca26"
                                                    ],
                                                    [
                                                        1,
                                                        "#f0f921"
                                                    ]
                                                ],
                                                "type": "histogram2dcontour"
                                            }
                                        ],
                                        "mesh3d": [
                                            {
                                                "colorbar": {
                                                    "outlinewidth": 0,
                                                    "ticks": ""
                                                },
                                                "type": "mesh3d"
                                            }
                                        ],
                                        "parcoords": [
                                            {
                                                "line": {
                                                    "colorbar": {
                                                        "outlinewidth": 0,
                                                        "ticks": ""
                                                    }
                                                },
                                                "type": "parcoords"
                                            }
                                        ],
                                        "pie": [
                                            {
                                                "automargin": true,
                                                "type": "pie"
                                            }
                                        ],
                                        "scatter": [
                                            {
                                                "marker": {
                                                    "colorbar": {
                                                        "outlinewidth": 0,
                                                        "ticks": ""
                                                    }
                                                },
                                                "type": "scatter"
                                            }
                                        ],
                                        "scatter3d": [
                                            {
                                                "line": {
                                                    "colorbar": {
                                                        "outlinewidth": 0,
                                                        "ticks": ""
                                                    }
                                                },
                                                "marker": {
                                                    "colorbar": {
                                                        "outlinewidth": 0,
                                                        "ticks": ""
                                                    }
                                                },
                                                "type": "scatter3d"
                                            }
                                        ],
                                        "scattercarpet": [
                                            {
                                                "marker": {
                                                    "colorbar": {
                                                        "outlinewidth": 0,
                                                        "ticks": ""
                                                    }
                                                },
                                                "type": "scattercarpet"
                                            }
                                        ],
                                        "scattergeo": [
                                            {
                                                "marker": {
                                                    "colorbar": {
                                                        "outlinewidth": 0,
                                                        "ticks": ""
                                                    }
                                                },
                                                "type": "scattergeo"
                                            }
                                        ],
                                        "scattergl": [
                                            {
                                                "marker": {
                                                    "colorbar": {
                                                        "outlinewidth": 0,
                                                        "ticks": ""
                                                    }
                                                },
                                                "type": "scattergl"
                                            }
                                        ],
                                        "scattermapbox": [
                                            {
                                                "marker": {
                                                    "colorbar": {
                                                        "outlinewidth": 0,
                                                        "ticks": ""
                                                    }
                                                },
                                                "type": "scattermapbox"
                                            }
                                        ],
                                        "scatterpolar": [
                                            {
                                                "marker": {
                                                    "colorbar": {
                                                        "outlinewidth": 0,
                                                        "ticks": ""
                                                    }
                                                },
                                                "type": "scatterpolar"
                                            }
                                        ],
                                        "scatterpolargl": [
                                            {
                                                "marker": {
                                                    "colorbar": {
                                                        "outlinewidth": 0,
                                                        "ticks": ""
                                                    }
                                                },
                                                "type": "scatterpolargl"
                                            }
                                        ],
                                        "scatterternary": [
                                            {
                                                "marker": {
                                                    "colorbar": {
                                                        "outlinewidth": 0,
                                                        "ticks": ""
                                                    }
                                                },
                                                "type": "scatterternary"
                                            }
                                        ],
                                        "surface": [
                                            {
                                                "colorbar": {
                                                    "outlinewidth": 0,
                                                    "ticks": ""
                                                },
                                                "colorscale": [
                                                    [
                                                        0,
                                                        "#0d0887"
                                                    ],
                                                    [
                                                        0.1111111111111111,
                                                        "#46039f"
                                                    ],
                                                    [
                                                        0.2222222222222222,
                                                        "#7201a8"
                                                    ],
                                                    [
                                                        0.3333333333333333,
                                                        "#9c179e"
                                                    ],
                                                    [
                                                        0.4444444444444444,
                                                        "#bd3786"
                                                    ],
                                                    [
                                                        0.5555555555555556,
                                                        "#d8576b"
                                                    ],
                                                    [
                                                        0.6666666666666666,
                                                        "#ed7953"
                                                    ],
                                                    [
                                                        0.7777777777777778,
                                                        "#fb9f3a"
                                                    ],
                                                    [
                                                        0.8888888888888888,
                                                        "#fdca26"
                                                    ],
                                                    [
                                                        1,
                                                        "#f0f921"
                                                    ]
                                                ],
                                                "type": "surface"
                                            }
                                        ],
                                        "table": [
                                            {
                                                "cells": {
                                                    "fill": {
                                                        "color": "#EBF0F8"
                                                    },
                                                    "line": {
                                                        "color": "white"
                                                    }
                                                },
                                                "header": {
                                                    "fill": {
                                                        "color": "#C8D4E3"
                                                    },
                                                    "line": {
                                                        "color": "white"
                                                    }
                                                },
                                                "type": "table"
                                            }
                                        ]
                                    },
                                    "layout": {
                                        "annotationdefaults": {
                                            "arrowcolor": "#2a3f5f",
                                            "arrowhead": 0,
                                            "arrowwidth": 1
                                        },
                                        "autotypenumbers": "strict",
                                        "coloraxis": {
                                            "colorbar": {
                                                "outlinewidth": 0,
                                                "ticks": ""
                                            }
                                        },
                                        "colorscale": {
                                            "diverging": [
                                                [
                                                    0,
                                                    "#8e0152"
                                                ],
                                                [
                                                    0.1,
                                                    "#c51b7d"
                                                ],
                                                [
                                                    0.2,
                                                    "#de77ae"
                                                ],
                                                [
                                                    0.3,
                                                    "#f1b6da"
                                                ],
                                                [
                                                    0.4,
                                                    "#fde0ef"
                                                ],
                                                [
                                                    0.5,
                                                    "#f7f7f7"
                                                ],
                                                [
                                                    0.6,
                                                    "#e6f5d0"
                                                ],
                                                [
                                                    0.7,
                                                    "#b8e186"
                                                ],
                                                [
                                                    0.8,
                                                    "#7fbc41"
                                                ],
                                                [
                                                    0.9,
                                                    "#4d9221"
                                                ],
                                                [
                                                    1,
                                                    "#276419"
                                                ]
                                            ],
                                            "sequential": [
                                                [
                                                    0,
                                                    "#0d0887"
                                                ],
                                                [
                                                    0.1111111111111111,
                                                    "#46039f"
                                                ],
                                                [
                                                    0.2222222222222222,
                                                    "#7201a8"
                                                ],
                                                [
                                                    0.3333333333333333,
                                                    "#9c179e"
                                                ],
                                                [
                                                    0.4444444444444444,
                                                    "#bd3786"
                                                ],
                                                [
                                                    0.5555555555555556,
                                                    "#d8576b"
                                                ],
                                                [
                                                    0.6666666666666666,
                                                    "#ed7953"
                                                ],
                                                [
                                                    0.7777777777777778,
                                                    "#fb9f3a"
                                                ],
                                                [
                                                    0.8888888888888888,
                                                    "#fdca26"
                                                ],
                                                [
                                                    1,
                                                    "#f0f921"
                                                ]
                                            ],
                                            "sequentialminus": [
                                                [
                                                    0,
                                                    "#0d0887"
                                                ],
                                                [
                                                    0.1111111111111111,
                                                    "#46039f"
                                                ],
                                                [
                                                    0.2222222222222222,
                                                    "#7201a8"
                                                ],
                                                [
                                                    0.3333333333333333,
                                                    "#9c179e"
                                                ],
                                                [
                                                    0.4444444444444444,
                                                    "#bd3786"
                                                ],
                                                [
                                                    0.5555555555555556,
                                                    "#d8576b"
                                                ],
                                                [
                                                    0.6666666666666666,
                                                    "#ed7953"
                                                ],
                                                [
                                                    0.7777777777777778,
                                                    "#fb9f3a"
                                                ],
                                                [
                                                    0.8888888888888888,
                                                    "#fdca26"
                                                ],
                                                [
                                                    1,
                                                    "#f0f921"
                                                ]
                                            ]
                                        },
                                        "colorway": [
                                            "#636efa",
                                            "#EF553B",
                                            "#00cc96",
                                            "#ab63fa",
                                            "#FFA15A",
                                            "#19d3f3",
                                            "#FF6692",
                                            "#B6E880",
                                            "#FF97FF",
                                            "#FECB52"
                                        ],
                                        "font": {
                                            "color": "#2a3f5f"
                                        },
                                        "geo": {
                                            "bgcolor": "white",
                                            "lakecolor": "white",
                                            "landcolor": "#E5ECF6",
                                            "showlakes": true,
                                            "showland": true,
                                            "subunitcolor": "white"
                                        },
                                        "hoverlabel": {
                                            "align": "left"
                                        },
                                        "hovermode": "closest",
                                        "mapbox": {
                                            "style": "light"
                                        },
                                        "paper_bgcolor": "white",
                                        "plot_bgcolor": "#E5ECF6",
                                        "polar": {
                                            "angularaxis": {
                                                "gridcolor": "white",
                                                "linecolor": "white",
                                                "ticks": ""
                                            },
                                            "bgcolor": "#E5ECF6",
                                            "radialaxis": {
                                                "gridcolor": "white",
                                                "linecolor": "white",
                                                "ticks": ""
                                            }
                                        },
                                        "scene": {
                                            "xaxis": {
                                                "backgroundcolor": "#E5ECF6",
                                                "gridcolor": "white",
                                                "gridwidth": 2,
                                                "linecolor": "white",
                                                "showbackground": true,
                                                "ticks": "",
                                                "zerolinecolor": "white"
                                            },
                                            "yaxis": {
                                                "backgroundcolor": "#E5ECF6",
                                                "gridcolor": "white",
                                                "gridwidth": 2,
                                                "linecolor": "white",
                                                "showbackground": true,
                                                "ticks": "",
                                                "zerolinecolor": "white"
                                            },
                                            "zaxis": {
                                                "backgroundcolor": "#E5ECF6",
                                                "gridcolor": "white",
                                                "gridwidth": 2,
                                                "linecolor": "white",
                                                "showbackground": true,
                                                "ticks": "",
                                                "zerolinecolor": "white"
                                            }
                                        },
                                        "shapedefaults": {
                                            "line": {
                                                "color": "#2a3f5f"
                                            }
                                        },
                                        "ternary": {
                                            "aaxis": {
                                                "gridcolor": "white",
                                                "linecolor": "white",
                                                "ticks": ""
                                            },
                                            "baxis": {
                                                "gridcolor": "white",
                                                "linecolor": "white",
                                                "ticks": ""
                                            },
                                            "bgcolor": "#E5ECF6",
                                            "caxis": {
                                                "gridcolor": "white",
                                                "linecolor": "white",
                                                "ticks": ""
                                            }
                                        },
                                        "title": {
                                            "x": 0.05
                                        },
                                        "xaxis": {
                                            "automargin": true,
                                            "gridcolor": "white",
                                            "linecolor": "white",
                                            "ticks": "",
                                            "title": {
                                                "standoff": 15
                                            },
                                            "zerolinecolor": "white",
                                            "zerolinewidth": 2
                                        },
                                        "yaxis": {
                                            "automargin": true,
                                            "gridcolor": "white",
                                            "linecolor": "white",
                                            "ticks": "",
                                            "title": {
                                                "standoff": 15
                                            },
                                            "zerolinecolor": "white",
                                            "zerolinewidth": 2
                                        }
                                    }
                                },
                                "title": {
                                    "text": "Daily Precipitation and Profit"
                                },
                                "xaxis": {
                                    "anchor": "y",
                                    "domain": [
                                        0,
                                        1
                                    ],
                                    "matches": "x2",
                                    "showticklabels": false,
                                    "title": {
                                        "text": "Day"
                                    }
                                },
                                "xaxis2": {
                                    "anchor": "y2",
                                    "domain": [
                                        0,
                                        1
                                    ],
                                    "title": {
                                        "text": "Day"
                                    }
                                },
                                "yaxis": {
                                    "anchor": "x",
                                    "domain": [
                                        0.575,
                                        1
                                    ],
                                    "title": {
                                        "text": "Precipitation (mm)"
                                    }
                                },
                                "yaxis2": {
                                    "anchor": "x2",
                                    "domain": [
                                        0,
                                        0.425
                                    ],
                                    "title": {
                                        "text": "Expected Profit (USD)"
                                    }
                                }
                            }
                        }
                    },
                    "metadata": {},
                    "output_type": "display_data"
                }
            ],
            "source": [
                "new_profit_lst = add_insurance(prec_list,avg_profit_list,40,20000)\n",
                "plotly_prec_profit(prec_list,new_profit_lst)"
            ]
        },
        {
            "cell_type": "code",
            "execution_count": null,
            "metadata": {},
            "outputs": [],
            "source": []
        }
    ],
    "metadata": {
        "interpreter": {
            "hash": "1651fbb118edb08c0f1f9378d1167219bf84ed532f9f8babdd0e85557419e599"
        },
        "kernelspec": {
            "display_name": "Python 3.7.4 64-bit ('base': conda)",
            "name": "python3"
        },
        "language_info": {
            "codemirror_mode": {
                "name": "ipython",
                "version": 3
            },
            "file_extension": ".py",
            "mimetype": "text/x-python",
            "name": "python",
            "nbconvert_exporter": "python",
            "pygments_lexer": "ipython3",
            "version": "3.7.4"
        },
        "orig_nbformat": 4
    },
    "nbformat": 4,
    "nbformat_minor": 2
}
