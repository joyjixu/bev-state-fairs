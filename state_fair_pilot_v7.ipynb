{
    "cells": [
        {
            "cell_type": "code",
            "execution_count": 49,
            "metadata": {},
            "outputs": [],
            "source": [
                "import pandas as pd\n",
                "import numpy as np\n",
                "import matplotlib.pyplot as plt\n",
                "from sklearn.preprocessing import StandardScaler, MinMaxScaler\n",
                "from sklearn.compose import ColumnTransformer\n",
                "\n",
                "from plotly.subplots import make_subplots\n",
                "import plotly.graph_objects as go\n",
                "import plotly.express as px\n",
                "\n",
                "from scipy.stats import pearsonr, spearmanr"
            ]
        },
        {
            "cell_type": "markdown",
            "metadata": {},
            "source": [
                "---\n",
                "\n",
                "# Load data"
            ]
        },
        {
            "cell_type": "markdown",
            "metadata": {},
            "source": [
                "We will look at 4 different state fairs that span a variety of climates and that were the largest of the US: Minnesota, Texas, New York and North Carolina."
            ]
        },
        {
            "cell_type": "code",
            "execution_count": 50,
            "metadata": {},
            "outputs": [],
            "source": [
                "attendance2 = pd.read_csv(\"state_fair_attendance_v4.csv\", parse_dates = [\"date\"], dayfirst=True)\n",
                "#attendance2['date'] = pd.to_datetime(attendance2['date'])\n",
                "\n",
                "MN_prec = pd.read_csv(\"MN_Prism.csv\", parse_dates = True)\n",
                "NY_prec = pd.read_csv(\"NY_Prism.csv\", parse_dates = True)\n",
                "TX_prec = pd.read_csv(\"TX_Prism.csv\", parse_dates = True)\n",
                "NC_prec = pd.read_csv(\"NC_Prism.csv\", parse_dates = True)"
            ]
        },
        {
            "cell_type": "code",
            "execution_count": 51,
            "metadata": {},
            "outputs": [
                {
                    "data": {
                        "text/html": [
                            "<div>\n",
                            "<style scoped>\n",
                            "    .dataframe tbody tr th:only-of-type {\n",
                            "        vertical-align: middle;\n",
                            "    }\n",
                            "\n",
                            "    .dataframe tbody tr th {\n",
                            "        vertical-align: top;\n",
                            "    }\n",
                            "\n",
                            "    .dataframe thead th {\n",
                            "        text-align: right;\n",
                            "    }\n",
                            "</style>\n",
                            "<table border=\"1\" class=\"dataframe\">\n",
                            "  <thead>\n",
                            "    <tr style=\"text-align: right;\">\n",
                            "      <th></th>\n",
                            "      <th>state</th>\n",
                            "      <th>year</th>\n",
                            "      <th>date</th>\n",
                            "      <th>attendance</th>\n",
                            "    </tr>\n",
                            "  </thead>\n",
                            "  <tbody>\n",
                            "    <tr>\n",
                            "      <th>0</th>\n",
                            "      <td>MN</td>\n",
                            "      <td>2018</td>\n",
                            "      <td>2018-08-23</td>\n",
                            "      <td>122695</td>\n",
                            "    </tr>\n",
                            "    <tr>\n",
                            "      <th>1</th>\n",
                            "      <td>MN</td>\n",
                            "      <td>2018</td>\n",
                            "      <td>2018-08-24</td>\n",
                            "      <td>108059</td>\n",
                            "    </tr>\n",
                            "    <tr>\n",
                            "      <th>2</th>\n",
                            "      <td>MN</td>\n",
                            "      <td>2018</td>\n",
                            "      <td>2018-08-25</td>\n",
                            "      <td>222194</td>\n",
                            "    </tr>\n",
                            "    <tr>\n",
                            "      <th>3</th>\n",
                            "      <td>MN</td>\n",
                            "      <td>2018</td>\n",
                            "      <td>2018-08-26</td>\n",
                            "      <td>184715</td>\n",
                            "    </tr>\n",
                            "    <tr>\n",
                            "      <th>4</th>\n",
                            "      <td>MN</td>\n",
                            "      <td>2018</td>\n",
                            "      <td>2018-08-27</td>\n",
                            "      <td>124438</td>\n",
                            "    </tr>\n",
                            "  </tbody>\n",
                            "</table>\n",
                            "</div>"
                        ],
                        "text/plain": [
                            "  state  year       date  attendance\n",
                            "0    MN  2018 2018-08-23      122695\n",
                            "1    MN  2018 2018-08-24      108059\n",
                            "2    MN  2018 2018-08-25      222194\n",
                            "3    MN  2018 2018-08-26      184715\n",
                            "4    MN  2018 2018-08-27      124438"
                        ]
                    },
                    "execution_count": 51,
                    "metadata": {},
                    "output_type": "execute_result"
                }
            ],
            "source": [
                "attendance2[attendance2['state']=='MN'].head()"
            ]
        },
        {
            "cell_type": "code",
            "execution_count": 52,
            "metadata": {},
            "outputs": [],
            "source": [
                "MN_prec['state']='MN'\n",
                "MN_prec['date'] = pd.to_datetime(MN_prec['date'])\n",
                "NY_prec['state']='NY'\n",
                "NY_prec['date'] = pd.to_datetime(NY_prec['date'])\n",
                "TX_prec['state']='TX'\n",
                "TX_prec['date'] = pd.to_datetime(TX_prec['date'])\n",
                "NC_prec['state']='NC'\n",
                "NC_prec['date'] = pd.to_datetime(NC_prec['date'])\n"
            ]
        },
        {
            "cell_type": "code",
            "execution_count": 53,
            "metadata": {},
            "outputs": [],
            "source": [
                "# PRISM rainfall data runs from 12pm to 12pm the following day, we found that subtracting a day for this reason was best\n",
                "# especially considering that attendance is expected to peak in the afternoon/evening rather than morning\n",
                "MN_prec['date'] = MN_prec.date - pd.Timedelta(days=1)\n",
                "NY_prec['date'] = NY_prec.date - pd.Timedelta(days=1)\n",
                "TX_prec['date'] = TX_prec.date - pd.Timedelta(days=1)\n",
                "NC_prec['date'] = NC_prec.date - pd.Timedelta(days=1)"
            ]
        },
        {
            "cell_type": "code",
            "execution_count": 54,
            "metadata": {},
            "outputs": [
                {
                    "data": {
                        "text/html": [
                            "<div>\n",
                            "<style scoped>\n",
                            "    .dataframe tbody tr th:only-of-type {\n",
                            "        vertical-align: middle;\n",
                            "    }\n",
                            "\n",
                            "    .dataframe tbody tr th {\n",
                            "        vertical-align: top;\n",
                            "    }\n",
                            "\n",
                            "    .dataframe thead th {\n",
                            "        text-align: right;\n",
                            "    }\n",
                            "</style>\n",
                            "<table border=\"1\" class=\"dataframe\">\n",
                            "  <thead>\n",
                            "    <tr style=\"text-align: right;\">\n",
                            "      <th></th>\n",
                            "      <th>state</th>\n",
                            "      <th>year</th>\n",
                            "      <th>date</th>\n",
                            "      <th>attendance</th>\n",
                            "      <th>prec</th>\n",
                            "    </tr>\n",
                            "  </thead>\n",
                            "  <tbody>\n",
                            "    <tr>\n",
                            "      <th>0</th>\n",
                            "      <td>MN</td>\n",
                            "      <td>2018</td>\n",
                            "      <td>2018-08-23</td>\n",
                            "      <td>122695</td>\n",
                            "      <td>2.79</td>\n",
                            "    </tr>\n",
                            "    <tr>\n",
                            "      <th>1</th>\n",
                            "      <td>MN</td>\n",
                            "      <td>2018</td>\n",
                            "      <td>2018-08-24</td>\n",
                            "      <td>108059</td>\n",
                            "      <td>32.78</td>\n",
                            "    </tr>\n",
                            "    <tr>\n",
                            "      <th>2</th>\n",
                            "      <td>MN</td>\n",
                            "      <td>2018</td>\n",
                            "      <td>2018-08-25</td>\n",
                            "      <td>222194</td>\n",
                            "      <td>0.00</td>\n",
                            "    </tr>\n",
                            "    <tr>\n",
                            "      <th>3</th>\n",
                            "      <td>MN</td>\n",
                            "      <td>2018</td>\n",
                            "      <td>2018-08-26</td>\n",
                            "      <td>184715</td>\n",
                            "      <td>0.72</td>\n",
                            "    </tr>\n",
                            "    <tr>\n",
                            "      <th>4</th>\n",
                            "      <td>MN</td>\n",
                            "      <td>2018</td>\n",
                            "      <td>2018-08-27</td>\n",
                            "      <td>124438</td>\n",
                            "      <td>5.10</td>\n",
                            "    </tr>\n",
                            "  </tbody>\n",
                            "</table>\n",
                            "</div>"
                        ],
                        "text/plain": [
                            "  state  year       date  attendance   prec\n",
                            "0    MN  2018 2018-08-23      122695   2.79\n",
                            "1    MN  2018 2018-08-24      108059  32.78\n",
                            "2    MN  2018 2018-08-25      222194   0.00\n",
                            "3    MN  2018 2018-08-26      184715   0.72\n",
                            "4    MN  2018 2018-08-27      124438   5.10"
                        ]
                    },
                    "execution_count": 54,
                    "metadata": {},
                    "output_type": "execute_result"
                }
            ],
            "source": [
                "df = attendance2.merge(MN_prec, on=['state','date'], how='left').merge(NC_prec, on=['state','date'], how='left',suffixes=(None, '_NC')).merge(TX_prec, on=['state','date'], how='left',suffixes=(None, '_TX')).merge(NY_prec, on=['state','date'], how='left',suffixes=(None, '_NY'))\n",
                "df = df.fillna(0)\n",
                "df['prec'] = df['precip']+ df['precip_NC']+df['precip_NY']+df['precip_TX']\n",
                "df = df.drop(['precip','precip_NC','precip_NY', 'precip_TX'], axis=1)\n",
                "df.head()"
            ]
        },
        {
            "cell_type": "code",
            "execution_count": 55,
            "metadata": {},
            "outputs": [],
            "source": [
                "# ensures we can use pandas timeseries functions\n",
                "df['date']=pd.to_datetime(df['date'])"
            ]
        },
        {
            "cell_type": "markdown",
            "metadata": {},
            "source": [
                "---\n",
                "# T-test between 2 groups: rainy and non rainy days"
            ]
        },
        {
            "cell_type": "markdown",
            "metadata": {},
            "source": [
                "We compare the means of attendance rates for days with and without rain."
            ]
        },
        {
            "cell_type": "code",
            "execution_count": 56,
            "metadata": {},
            "outputs": [
                {
                    "data": {
                        "text/plain": [
                            "'1.7.2'"
                        ]
                    },
                    "execution_count": 56,
                    "metadata": {},
                    "output_type": "execute_result"
                }
            ],
            "source": [
                "import scipy\n",
                "scipy.__version__"
            ]
        },
        {
            "cell_type": "code",
            "execution_count": 57,
            "metadata": {},
            "outputs": [],
            "source": [
                "rain = df[df['prec']>0]['attendance']\n",
                "no_rain = df[df['prec']==0]['attendance']"
            ]
        },
        {
            "cell_type": "code",
            "execution_count": 58,
            "metadata": {},
            "outputs": [],
            "source": [
                "from scipy import stats"
            ]
        },
        {
            "cell_type": "code",
            "execution_count": 59,
            "metadata": {},
            "outputs": [
                {
                    "name": "stdout",
                    "output_type": "stream",
                    "text": [
                        "P value: 0.0453\n"
                    ]
                }
            ],
            "source": [
                "ttest = stats.ttest_ind(rain, no_rain, equal_var=False, alternative=\"less\", permutations=10000,\n",
                "                random_state=2)\n",
                "\n",
                "print(\"P value:\",ttest[1])"
            ]
        },
        {
            "cell_type": "markdown",
            "metadata": {},
            "source": [
                "P value is below the conventional threshold of 0.05"
            ]
        },
        {
            "cell_type": "markdown",
            "metadata": {},
            "source": [
                "---\n",
                "# Scale\n",
                "We first use sklearn's Quantile Transformer, which is a robust preprocessing scheme that \"renders variables measured at different scales more directly comparable\" (https://scikit-learn.org/stable/modules/generated/sklearn.preprocessing.QuantileTransformer.html)"
            ]
        },
        {
            "cell_type": "code",
            "execution_count": 60,
            "metadata": {},
            "outputs": [],
            "source": [
                "from sklearn.preprocessing import QuantileTransformer"
            ]
        },
        {
            "cell_type": "code",
            "execution_count": 61,
            "metadata": {},
            "outputs": [
                {
                    "name": "stderr",
                    "output_type": "stream",
                    "text": [
                        "C:\\Users\\joyji\\Anaconda3\\envs\\myenv\\lib\\site-packages\\sklearn\\preprocessing\\data.py:2239: UserWarning:\n",
                        "\n",
                        "n_quantiles (1000) is greater than the total number of samples (360). n_quantiles is set to n_samples.\n",
                        "\n"
                    ]
                }
            ],
            "source": [
                "transformer_prec = [('prec_transform', QuantileTransformer(), ['prec'])]\n",
                "col_transform = ColumnTransformer(transformers=transformer_prec, remainder = \"drop\" )\n",
                "\n",
                "scaled_prec = col_transform.fit_transform(df)\n",
                "df[\"scaled_prec\"] = scaled_prec\n"
            ]
        },
        {
            "cell_type": "code",
            "execution_count": 62,
            "metadata": {},
            "outputs": [
                {
                    "name": "stderr",
                    "output_type": "stream",
                    "text": [
                        "C:\\Users\\joyji\\Anaconda3\\envs\\myenv\\lib\\site-packages\\sklearn\\preprocessing\\data.py:2239: UserWarning:\n",
                        "\n",
                        "n_quantiles (1000) is greater than the total number of samples (36). n_quantiles is set to n_samples.\n",
                        "\n",
                        "C:\\Users\\joyji\\Anaconda3\\envs\\myenv\\lib\\site-packages\\ipykernel_launcher.py:10: SettingWithCopyWarning:\n",
                        "\n",
                        "\n",
                        "A value is trying to be set on a copy of a slice from a DataFrame.\n",
                        "Try using .loc[row_indexer,col_indexer] = value instead\n",
                        "\n",
                        "See the caveats in the documentation: https://pandas.pydata.org/pandas-docs/stable/user_guide/indexing.html#returning-a-view-versus-a-copy\n",
                        "\n",
                        "C:\\Users\\joyji\\Anaconda3\\envs\\myenv\\lib\\site-packages\\sklearn\\preprocessing\\data.py:2239: UserWarning:\n",
                        "\n",
                        "n_quantiles (1000) is greater than the total number of samples (87). n_quantiles is set to n_samples.\n",
                        "\n",
                        "C:\\Users\\joyji\\Anaconda3\\envs\\myenv\\lib\\site-packages\\ipykernel_launcher.py:10: SettingWithCopyWarning:\n",
                        "\n",
                        "\n",
                        "A value is trying to be set on a copy of a slice from a DataFrame.\n",
                        "Try using .loc[row_indexer,col_indexer] = value instead\n",
                        "\n",
                        "See the caveats in the documentation: https://pandas.pydata.org/pandas-docs/stable/user_guide/indexing.html#returning-a-view-versus-a-copy\n",
                        "\n",
                        "C:\\Users\\joyji\\Anaconda3\\envs\\myenv\\lib\\site-packages\\sklearn\\preprocessing\\data.py:2239: UserWarning:\n",
                        "\n",
                        "n_quantiles (1000) is greater than the total number of samples (141). n_quantiles is set to n_samples.\n",
                        "\n",
                        "C:\\Users\\joyji\\Anaconda3\\envs\\myenv\\lib\\site-packages\\ipykernel_launcher.py:10: SettingWithCopyWarning:\n",
                        "\n",
                        "\n",
                        "A value is trying to be set on a copy of a slice from a DataFrame.\n",
                        "Try using .loc[row_indexer,col_indexer] = value instead\n",
                        "\n",
                        "See the caveats in the documentation: https://pandas.pydata.org/pandas-docs/stable/user_guide/indexing.html#returning-a-view-versus-a-copy\n",
                        "\n",
                        "C:\\Users\\joyji\\Anaconda3\\envs\\myenv\\lib\\site-packages\\sklearn\\preprocessing\\data.py:2239: UserWarning:\n",
                        "\n",
                        "n_quantiles (1000) is greater than the total number of samples (96). n_quantiles is set to n_samples.\n",
                        "\n",
                        "C:\\Users\\joyji\\Anaconda3\\envs\\myenv\\lib\\site-packages\\ipykernel_launcher.py:10: SettingWithCopyWarning:\n",
                        "\n",
                        "\n",
                        "A value is trying to be set on a copy of a slice from a DataFrame.\n",
                        "Try using .loc[row_indexer,col_indexer] = value instead\n",
                        "\n",
                        "See the caveats in the documentation: https://pandas.pydata.org/pandas-docs/stable/user_guide/indexing.html#returning-a-view-versus-a-copy\n",
                        "\n"
                    ]
                }
            ],
            "source": [
                "\n",
                "# scaling attendance sepaately\n",
                "scaled_df = pd.DataFrame()\n",
                "scaled_attendances = np.array([])\n",
                "for state in df['state'].unique():\n",
                "    state_df = df[df['state']==state]\n",
                "    transformer_attendance = [('attendance_transform', QuantileTransformer(), ['attendance'])]\n",
                "    col_transform = ColumnTransformer(transformers=transformer_attendance, remainder = \"drop\" )\n",
                "\n",
                "    scaled_attendance = col_transform.fit_transform(state_df)\n",
                "    state_df['scaled_attendance'] = scaled_attendance\n",
                "    scaled_df = pd.concat([scaled_df,state_df], ignore_index=True)"
            ]
        },
        {
            "cell_type": "code",
            "execution_count": 63,
            "metadata": {},
            "outputs": [
                {
                    "data": {
                        "text/html": [
                            "<div>\n",
                            "<style scoped>\n",
                            "    .dataframe tbody tr th:only-of-type {\n",
                            "        vertical-align: middle;\n",
                            "    }\n",
                            "\n",
                            "    .dataframe tbody tr th {\n",
                            "        vertical-align: top;\n",
                            "    }\n",
                            "\n",
                            "    .dataframe thead th {\n",
                            "        text-align: right;\n",
                            "    }\n",
                            "</style>\n",
                            "<table border=\"1\" class=\"dataframe\">\n",
                            "  <thead>\n",
                            "    <tr style=\"text-align: right;\">\n",
                            "      <th></th>\n",
                            "      <th>state</th>\n",
                            "      <th>year</th>\n",
                            "      <th>date</th>\n",
                            "      <th>attendance</th>\n",
                            "      <th>prec</th>\n",
                            "      <th>scaled_prec</th>\n",
                            "      <th>scaled_attendance</th>\n",
                            "    </tr>\n",
                            "  </thead>\n",
                            "  <tbody>\n",
                            "    <tr>\n",
                            "      <th>36</th>\n",
                            "      <td>NC</td>\n",
                            "      <td>2015</td>\n",
                            "      <td>2015-10-15</td>\n",
                            "      <td>50327</td>\n",
                            "      <td>0.0</td>\n",
                            "      <td>0.0</td>\n",
                            "      <td>0.058140</td>\n",
                            "    </tr>\n",
                            "    <tr>\n",
                            "      <th>37</th>\n",
                            "      <td>NC</td>\n",
                            "      <td>2015</td>\n",
                            "      <td>2015-10-16</td>\n",
                            "      <td>90954</td>\n",
                            "      <td>0.0</td>\n",
                            "      <td>0.0</td>\n",
                            "      <td>0.534884</td>\n",
                            "    </tr>\n",
                            "    <tr>\n",
                            "      <th>38</th>\n",
                            "      <td>NC</td>\n",
                            "      <td>2015</td>\n",
                            "      <td>2015-10-17</td>\n",
                            "      <td>126666</td>\n",
                            "      <td>0.0</td>\n",
                            "      <td>0.0</td>\n",
                            "      <td>0.924419</td>\n",
                            "    </tr>\n",
                            "    <tr>\n",
                            "      <th>39</th>\n",
                            "      <td>NC</td>\n",
                            "      <td>2015</td>\n",
                            "      <td>2015-10-18</td>\n",
                            "      <td>97906</td>\n",
                            "      <td>0.0</td>\n",
                            "      <td>0.0</td>\n",
                            "      <td>0.616279</td>\n",
                            "    </tr>\n",
                            "    <tr>\n",
                            "      <th>40</th>\n",
                            "      <td>NC</td>\n",
                            "      <td>2015</td>\n",
                            "      <td>2015-10-19</td>\n",
                            "      <td>63989</td>\n",
                            "      <td>0.0</td>\n",
                            "      <td>0.0</td>\n",
                            "      <td>0.174419</td>\n",
                            "    </tr>\n",
                            "    <tr>\n",
                            "      <th>...</th>\n",
                            "      <td>...</td>\n",
                            "      <td>...</td>\n",
                            "      <td>...</td>\n",
                            "      <td>...</td>\n",
                            "      <td>...</td>\n",
                            "      <td>...</td>\n",
                            "      <td>...</td>\n",
                            "    </tr>\n",
                            "    <tr>\n",
                            "      <th>118</th>\n",
                            "      <td>NC</td>\n",
                            "      <td>2013</td>\n",
                            "      <td>2013-10-23</td>\n",
                            "      <td>68252</td>\n",
                            "      <td>0.0</td>\n",
                            "      <td>0.0</td>\n",
                            "      <td>0.220930</td>\n",
                            "    </tr>\n",
                            "    <tr>\n",
                            "      <th>119</th>\n",
                            "      <td>NC</td>\n",
                            "      <td>2013</td>\n",
                            "      <td>2013-10-24</td>\n",
                            "      <td>102176</td>\n",
                            "      <td>0.0</td>\n",
                            "      <td>0.0</td>\n",
                            "      <td>0.686047</td>\n",
                            "    </tr>\n",
                            "    <tr>\n",
                            "      <th>120</th>\n",
                            "      <td>NC</td>\n",
                            "      <td>2013</td>\n",
                            "      <td>2013-10-25</td>\n",
                            "      <td>82163</td>\n",
                            "      <td>0.0</td>\n",
                            "      <td>0.0</td>\n",
                            "      <td>0.476744</td>\n",
                            "    </tr>\n",
                            "    <tr>\n",
                            "      <th>121</th>\n",
                            "      <td>NC</td>\n",
                            "      <td>2013</td>\n",
                            "      <td>2013-10-26</td>\n",
                            "      <td>122223</td>\n",
                            "      <td>0.0</td>\n",
                            "      <td>0.0</td>\n",
                            "      <td>0.883721</td>\n",
                            "    </tr>\n",
                            "    <tr>\n",
                            "      <th>122</th>\n",
                            "      <td>NC</td>\n",
                            "      <td>2013</td>\n",
                            "      <td>2013-10-27</td>\n",
                            "      <td>98221</td>\n",
                            "      <td>0.0</td>\n",
                            "      <td>0.0</td>\n",
                            "      <td>0.627907</td>\n",
                            "    </tr>\n",
                            "  </tbody>\n",
                            "</table>\n",
                            "<p>87 rows × 7 columns</p>\n",
                            "</div>"
                        ],
                        "text/plain": [
                            "    state  year       date  attendance  prec  scaled_prec  scaled_attendance\n",
                            "36     NC  2015 2015-10-15       50327   0.0          0.0           0.058140\n",
                            "37     NC  2015 2015-10-16       90954   0.0          0.0           0.534884\n",
                            "38     NC  2015 2015-10-17      126666   0.0          0.0           0.924419\n",
                            "39     NC  2015 2015-10-18       97906   0.0          0.0           0.616279\n",
                            "40     NC  2015 2015-10-19       63989   0.0          0.0           0.174419\n",
                            "..    ...   ...        ...         ...   ...          ...                ...\n",
                            "118    NC  2013 2013-10-23       68252   0.0          0.0           0.220930\n",
                            "119    NC  2013 2013-10-24      102176   0.0          0.0           0.686047\n",
                            "120    NC  2013 2013-10-25       82163   0.0          0.0           0.476744\n",
                            "121    NC  2013 2013-10-26      122223   0.0          0.0           0.883721\n",
                            "122    NC  2013 2013-10-27       98221   0.0          0.0           0.627907\n",
                            "\n",
                            "[87 rows x 7 columns]"
                        ]
                    },
                    "execution_count": 63,
                    "metadata": {},
                    "output_type": "execute_result"
                }
            ],
            "source": [
                "scaled_df[(scaled_df['state']=='NC')&(scaled_df['prec']>-1)]"
            ]
        },
        {
            "cell_type": "code",
            "execution_count": 64,
            "metadata": {},
            "outputs": [
                {
                    "name": "stdout",
                    "output_type": "stream",
                    "text": [
                        "Pearsons correlation MN: -0.5192703618096502\n",
                        "Pearsons correlation NC: -0.15902435776281199\n",
                        "Pearsons correlation NY: -0.27159742259764513\n",
                        "Pearsons correlation TX: -0.2575030224499544\n"
                    ]
                }
            ],
            "source": [
                "# calculate Pearson's correlation before 2019\n",
                "for state in scaled_df.state.unique():\n",
                "    corr, _ = pearsonr(scaled_df[(scaled_df['state']==state) & (scaled_df['year']<2019)]['prec'], scaled_df[(scaled_df['state']==state) & (scaled_df['year']<2019)]['attendance'])\n",
                "    print('Pearsons correlation {}: {}'.format(state,corr))"
            ]
        },
        {
            "cell_type": "code",
            "execution_count": 65,
            "metadata": {},
            "outputs": [
                {
                    "data": {
                        "application/vnd.plotly.v1+json": {
                            "config": {
                                "plotlyServerURL": "https://plot.ly"
                            },
                            "data": [
                                {
                                    "customdata": [
                                        [
                                            2018
                                        ],
                                        [
                                            2018
                                        ],
                                        [
                                            2018
                                        ],
                                        [
                                            2018
                                        ],
                                        [
                                            2018
                                        ],
                                        [
                                            2018
                                        ],
                                        [
                                            2018
                                        ],
                                        [
                                            2018
                                        ],
                                        [
                                            2018
                                        ],
                                        [
                                            2018
                                        ],
                                        [
                                            2018
                                        ],
                                        [
                                            2018
                                        ],
                                        [
                                            2019
                                        ],
                                        [
                                            2019
                                        ],
                                        [
                                            2019
                                        ],
                                        [
                                            2019
                                        ],
                                        [
                                            2019
                                        ],
                                        [
                                            2019
                                        ],
                                        [
                                            2019
                                        ],
                                        [
                                            2019
                                        ],
                                        [
                                            2019
                                        ],
                                        [
                                            2019
                                        ],
                                        [
                                            2019
                                        ],
                                        [
                                            2019
                                        ],
                                        [
                                            2021
                                        ],
                                        [
                                            2021
                                        ],
                                        [
                                            2021
                                        ],
                                        [
                                            2021
                                        ],
                                        [
                                            2021
                                        ],
                                        [
                                            2021
                                        ],
                                        [
                                            2021
                                        ],
                                        [
                                            2021
                                        ],
                                        [
                                            2021
                                        ],
                                        [
                                            2021
                                        ],
                                        [
                                            2021
                                        ],
                                        [
                                            2021
                                        ]
                                    ],
                                    "hovertemplate": "state=MN<br>prec=%{x}<br>attendance=%{y}<br>year=%{customdata[0]}<extra></extra>",
                                    "legendgroup": "MN",
                                    "marker": {
                                        "color": "#636efa",
                                        "symbol": "circle"
                                    },
                                    "mode": "markers",
                                    "name": "MN",
                                    "orientation": "v",
                                    "showlegend": true,
                                    "type": "scatter",
                                    "x": [
                                        2.79,
                                        32.78,
                                        0,
                                        0.72,
                                        5.1,
                                        5.89,
                                        0,
                                        1.72,
                                        0,
                                        0,
                                        0,
                                        3.45,
                                        0,
                                        0,
                                        0,
                                        1.45,
                                        21.15,
                                        1.52,
                                        0,
                                        0,
                                        0,
                                        0,
                                        0,
                                        0,
                                        58.76,
                                        1.97,
                                        26.88,
                                        0,
                                        0,
                                        0,
                                        0.03,
                                        0,
                                        6.23,
                                        0,
                                        0,
                                        0
                                    ],
                                    "xaxis": "x",
                                    "y": [
                                        122695,
                                        108059,
                                        222194,
                                        184715,
                                        124438,
                                        120209,
                                        144940,
                                        156764,
                                        179402,
                                        270426,
                                        241102,
                                        171588,
                                        133326,
                                        157224,
                                        209105,
                                        191524,
                                        96716,
                                        136987,
                                        142211,
                                        153274,
                                        209789,
                                        266412,
                                        245243,
                                        184740,
                                        61983,
                                        77406,
                                        129984,
                                        149247,
                                        91568,
                                        89618,
                                        88027,
                                        80778,
                                        102020,
                                        153953,
                                        153422,
                                        123578
                                    ],
                                    "yaxis": "y"
                                },
                                {
                                    "customdata": [
                                        [
                                            2015
                                        ],
                                        [
                                            2015
                                        ],
                                        [
                                            2015
                                        ],
                                        [
                                            2015
                                        ],
                                        [
                                            2015
                                        ],
                                        [
                                            2015
                                        ],
                                        [
                                            2015
                                        ],
                                        [
                                            2015
                                        ],
                                        [
                                            2015
                                        ],
                                        [
                                            2015
                                        ],
                                        [
                                            2015
                                        ],
                                        [
                                            2016
                                        ],
                                        [
                                            2016
                                        ],
                                        [
                                            2016
                                        ],
                                        [
                                            2016
                                        ],
                                        [
                                            2016
                                        ],
                                        [
                                            2016
                                        ],
                                        [
                                            2016
                                        ],
                                        [
                                            2016
                                        ],
                                        [
                                            2016
                                        ],
                                        [
                                            2016
                                        ],
                                        [
                                            2016
                                        ],
                                        [
                                            2017
                                        ],
                                        [
                                            2017
                                        ],
                                        [
                                            2017
                                        ],
                                        [
                                            2017
                                        ],
                                        [
                                            2017
                                        ],
                                        [
                                            2017
                                        ],
                                        [
                                            2017
                                        ],
                                        [
                                            2017
                                        ],
                                        [
                                            2017
                                        ],
                                        [
                                            2017
                                        ],
                                        [
                                            2017
                                        ],
                                        [
                                            2018
                                        ],
                                        [
                                            2018
                                        ],
                                        [
                                            2018
                                        ],
                                        [
                                            2018
                                        ],
                                        [
                                            2018
                                        ],
                                        [
                                            2018
                                        ],
                                        [
                                            2018
                                        ],
                                        [
                                            2018
                                        ],
                                        [
                                            2018
                                        ],
                                        [
                                            2018
                                        ],
                                        [
                                            2019
                                        ],
                                        [
                                            2019
                                        ],
                                        [
                                            2019
                                        ],
                                        [
                                            2019
                                        ],
                                        [
                                            2019
                                        ],
                                        [
                                            2019
                                        ],
                                        [
                                            2019
                                        ],
                                        [
                                            2019
                                        ],
                                        [
                                            2019
                                        ],
                                        [
                                            2019
                                        ],
                                        [
                                            2019
                                        ],
                                        [
                                            2021
                                        ],
                                        [
                                            2021
                                        ],
                                        [
                                            2021
                                        ],
                                        [
                                            2021
                                        ],
                                        [
                                            2021
                                        ],
                                        [
                                            2021
                                        ],
                                        [
                                            2021
                                        ],
                                        [
                                            2021
                                        ],
                                        [
                                            2021
                                        ],
                                        [
                                            2021
                                        ],
                                        [
                                            2021
                                        ],
                                        [
                                            2014
                                        ],
                                        [
                                            2014
                                        ],
                                        [
                                            2014
                                        ],
                                        [
                                            2014
                                        ],
                                        [
                                            2014
                                        ],
                                        [
                                            2014
                                        ],
                                        [
                                            2014
                                        ],
                                        [
                                            2014
                                        ],
                                        [
                                            2014
                                        ],
                                        [
                                            2014
                                        ],
                                        [
                                            2014
                                        ],
                                        [
                                            2013
                                        ],
                                        [
                                            2013
                                        ],
                                        [
                                            2013
                                        ],
                                        [
                                            2013
                                        ],
                                        [
                                            2013
                                        ],
                                        [
                                            2013
                                        ],
                                        [
                                            2013
                                        ],
                                        [
                                            2013
                                        ],
                                        [
                                            2013
                                        ],
                                        [
                                            2013
                                        ],
                                        [
                                            2013
                                        ]
                                    ],
                                    "hovertemplate": "state=NC<br>prec=%{x}<br>attendance=%{y}<br>year=%{customdata[0]}<extra></extra>",
                                    "legendgroup": "NC",
                                    "marker": {
                                        "color": "#EF553B",
                                        "symbol": "circle"
                                    },
                                    "mode": "markers",
                                    "name": "NC",
                                    "orientation": "v",
                                    "showlegend": true,
                                    "type": "scatter",
                                    "x": [
                                        0,
                                        0,
                                        0,
                                        0,
                                        0,
                                        0,
                                        0,
                                        0,
                                        0,
                                        0,
                                        0,
                                        0,
                                        0,
                                        0,
                                        0,
                                        0,
                                        0,
                                        0,
                                        0,
                                        1.27,
                                        0,
                                        0,
                                        0,
                                        0,
                                        0,
                                        0,
                                        6.22,
                                        0,
                                        0,
                                        0,
                                        0,
                                        0,
                                        0,
                                        0,
                                        0,
                                        0,
                                        0,
                                        1.83,
                                        0,
                                        0,
                                        0.51,
                                        2.1,
                                        0,
                                        0,
                                        0,
                                        42.67,
                                        1.9,
                                        0,
                                        0.75,
                                        0,
                                        0,
                                        0,
                                        3.16,
                                        0.55,
                                        0,
                                        0,
                                        9.09,
                                        0,
                                        0,
                                        0,
                                        0,
                                        0.22,
                                        0,
                                        0,
                                        0,
                                        0,
                                        0,
                                        0,
                                        0,
                                        0,
                                        0,
                                        0,
                                        0,
                                        0,
                                        0,
                                        0,
                                        0,
                                        0,
                                        0.04,
                                        0,
                                        0,
                                        0,
                                        0,
                                        0,
                                        0,
                                        0,
                                        0
                                    ],
                                    "xaxis": "x",
                                    "y": [
                                        50327,
                                        90954,
                                        126666,
                                        97906,
                                        63989,
                                        69687,
                                        71348,
                                        104887,
                                        95685,
                                        140886,
                                        107397,
                                        40449,
                                        78364,
                                        119117,
                                        109429,
                                        75243,
                                        75995,
                                        72654,
                                        104852,
                                        85473,
                                        150747,
                                        116041,
                                        57083,
                                        71211,
                                        113291,
                                        99148,
                                        55041,
                                        76844,
                                        75041,
                                        104409,
                                        100516,
                                        148424,
                                        113470,
                                        78275,
                                        123303,
                                        101003,
                                        71538,
                                        71287,
                                        74153,
                                        110322,
                                        109396,
                                        107660,
                                        130319,
                                        42898,
                                        78019,
                                        111438,
                                        68538,
                                        80167,
                                        50653,
                                        82311,
                                        116017,
                                        94491,
                                        136448,
                                        77049,
                                        27209,
                                        56034,
                                        83737,
                                        93182,
                                        57852,
                                        59002,
                                        58441,
                                        78107,
                                        79049,
                                        126715,
                                        102135,
                                        46478,
                                        73571,
                                        126666,
                                        94691,
                                        62499,
                                        66758,
                                        63616,
                                        93808,
                                        87827,
                                        126629,
                                        97604,
                                        42626,
                                        72794,
                                        116267,
                                        105310,
                                        67770,
                                        68092,
                                        68252,
                                        102176,
                                        82163,
                                        122223,
                                        98221
                                    ],
                                    "yaxis": "y"
                                },
                                {
                                    "customdata": [
                                        [
                                            2010
                                        ],
                                        [
                                            2010
                                        ],
                                        [
                                            2010
                                        ],
                                        [
                                            2010
                                        ],
                                        [
                                            2010
                                        ],
                                        [
                                            2010
                                        ],
                                        [
                                            2010
                                        ],
                                        [
                                            2010
                                        ],
                                        [
                                            2010
                                        ],
                                        [
                                            2010
                                        ],
                                        [
                                            2010
                                        ],
                                        [
                                            2010
                                        ],
                                        [
                                            2011
                                        ],
                                        [
                                            2011
                                        ],
                                        [
                                            2011
                                        ],
                                        [
                                            2011
                                        ],
                                        [
                                            2011
                                        ],
                                        [
                                            2011
                                        ],
                                        [
                                            2011
                                        ],
                                        [
                                            2011
                                        ],
                                        [
                                            2011
                                        ],
                                        [
                                            2011
                                        ],
                                        [
                                            2011
                                        ],
                                        [
                                            2011
                                        ],
                                        [
                                            2012
                                        ],
                                        [
                                            2012
                                        ],
                                        [
                                            2012
                                        ],
                                        [
                                            2012
                                        ],
                                        [
                                            2012
                                        ],
                                        [
                                            2012
                                        ],
                                        [
                                            2012
                                        ],
                                        [
                                            2012
                                        ],
                                        [
                                            2012
                                        ],
                                        [
                                            2012
                                        ],
                                        [
                                            2012
                                        ],
                                        [
                                            2012
                                        ],
                                        [
                                            2013
                                        ],
                                        [
                                            2013
                                        ],
                                        [
                                            2013
                                        ],
                                        [
                                            2013
                                        ],
                                        [
                                            2013
                                        ],
                                        [
                                            2013
                                        ],
                                        [
                                            2013
                                        ],
                                        [
                                            2013
                                        ],
                                        [
                                            2013
                                        ],
                                        [
                                            2013
                                        ],
                                        [
                                            2013
                                        ],
                                        [
                                            2013
                                        ],
                                        [
                                            2014
                                        ],
                                        [
                                            2014
                                        ],
                                        [
                                            2014
                                        ],
                                        [
                                            2014
                                        ],
                                        [
                                            2014
                                        ],
                                        [
                                            2014
                                        ],
                                        [
                                            2014
                                        ],
                                        [
                                            2014
                                        ],
                                        [
                                            2014
                                        ],
                                        [
                                            2014
                                        ],
                                        [
                                            2014
                                        ],
                                        [
                                            2014
                                        ],
                                        [
                                            2015
                                        ],
                                        [
                                            2015
                                        ],
                                        [
                                            2015
                                        ],
                                        [
                                            2015
                                        ],
                                        [
                                            2015
                                        ],
                                        [
                                            2015
                                        ],
                                        [
                                            2015
                                        ],
                                        [
                                            2015
                                        ],
                                        [
                                            2015
                                        ],
                                        [
                                            2015
                                        ],
                                        [
                                            2015
                                        ],
                                        [
                                            2015
                                        ],
                                        [
                                            2016
                                        ],
                                        [
                                            2016
                                        ],
                                        [
                                            2016
                                        ],
                                        [
                                            2016
                                        ],
                                        [
                                            2016
                                        ],
                                        [
                                            2016
                                        ],
                                        [
                                            2016
                                        ],
                                        [
                                            2016
                                        ],
                                        [
                                            2016
                                        ],
                                        [
                                            2016
                                        ],
                                        [
                                            2016
                                        ],
                                        [
                                            2016
                                        ],
                                        [
                                            2017
                                        ],
                                        [
                                            2017
                                        ],
                                        [
                                            2017
                                        ],
                                        [
                                            2017
                                        ],
                                        [
                                            2017
                                        ],
                                        [
                                            2017
                                        ],
                                        [
                                            2017
                                        ],
                                        [
                                            2017
                                        ],
                                        [
                                            2017
                                        ],
                                        [
                                            2017
                                        ],
                                        [
                                            2017
                                        ],
                                        [
                                            2017
                                        ],
                                        [
                                            2017
                                        ],
                                        [
                                            2018
                                        ],
                                        [
                                            2018
                                        ],
                                        [
                                            2018
                                        ],
                                        [
                                            2018
                                        ],
                                        [
                                            2018
                                        ],
                                        [
                                            2018
                                        ],
                                        [
                                            2018
                                        ],
                                        [
                                            2018
                                        ],
                                        [
                                            2018
                                        ],
                                        [
                                            2018
                                        ],
                                        [
                                            2018
                                        ],
                                        [
                                            2018
                                        ],
                                        [
                                            2018
                                        ],
                                        [
                                            2019
                                        ],
                                        [
                                            2019
                                        ],
                                        [
                                            2019
                                        ],
                                        [
                                            2019
                                        ],
                                        [
                                            2019
                                        ],
                                        [
                                            2019
                                        ],
                                        [
                                            2019
                                        ],
                                        [
                                            2019
                                        ],
                                        [
                                            2019
                                        ],
                                        [
                                            2019
                                        ],
                                        [
                                            2019
                                        ],
                                        [
                                            2019
                                        ],
                                        [
                                            2019
                                        ],
                                        [
                                            2021
                                        ],
                                        [
                                            2021
                                        ],
                                        [
                                            2021
                                        ],
                                        [
                                            2021
                                        ],
                                        [
                                            2021
                                        ],
                                        [
                                            2021
                                        ],
                                        [
                                            2021
                                        ],
                                        [
                                            2021
                                        ],
                                        [
                                            2021
                                        ],
                                        [
                                            2021
                                        ],
                                        [
                                            2021
                                        ],
                                        [
                                            2021
                                        ],
                                        [
                                            2021
                                        ],
                                        [
                                            2021
                                        ],
                                        [
                                            2021
                                        ],
                                        [
                                            2021
                                        ],
                                        [
                                            2021
                                        ],
                                        [
                                            2021
                                        ]
                                    ],
                                    "hovertemplate": "state=NY<br>prec=%{x}<br>attendance=%{y}<br>year=%{customdata[0]}<extra></extra>",
                                    "legendgroup": "NY",
                                    "marker": {
                                        "color": "#00cc96",
                                        "symbol": "circle"
                                    },
                                    "mode": "markers",
                                    "name": "NY",
                                    "orientation": "v",
                                    "showlegend": true,
                                    "type": "scatter",
                                    "x": [
                                        0,
                                        0,
                                        0,
                                        0,
                                        0,
                                        1.54,
                                        0.61,
                                        0,
                                        4.03,
                                        6.96,
                                        0,
                                        0,
                                        0.72,
                                        0,
                                        4.23,
                                        23.09,
                                        0,
                                        0,
                                        0.84,
                                        2.71,
                                        0,
                                        0,
                                        0,
                                        0,
                                        0,
                                        0,
                                        0,
                                        0,
                                        18.99,
                                        0,
                                        0,
                                        0,
                                        0,
                                        0,
                                        12.52,
                                        0.28,
                                        13.09,
                                        0,
                                        0,
                                        0.97,
                                        19.86,
                                        0,
                                        0,
                                        0,
                                        6.11,
                                        0,
                                        16.44,
                                        0.41,
                                        13.22,
                                        3.22,
                                        0.43,
                                        0,
                                        0,
                                        0.18,
                                        0,
                                        0,
                                        0,
                                        3.04,
                                        0,
                                        0,
                                        1.08,
                                        0,
                                        0,
                                        0,
                                        0.86,
                                        14.62,
                                        0.35,
                                        16.04,
                                        0,
                                        17.85,
                                        0,
                                        0,
                                        2.07,
                                        0,
                                        0,
                                        0,
                                        0,
                                        0,
                                        1.48,
                                        1.43,
                                        0,
                                        0.47,
                                        0.25,
                                        0,
                                        1.22,
                                        0.02,
                                        0,
                                        0,
                                        0,
                                        0,
                                        0,
                                        0,
                                        4.08,
                                        3.25,
                                        0.13,
                                        0,
                                        0,
                                        3.24,
                                        0.75,
                                        0,
                                        0,
                                        1.21,
                                        0,
                                        0,
                                        12.89,
                                        0.12,
                                        1.2,
                                        0.25,
                                        1.15,
                                        0,
                                        8.21,
                                        0,
                                        0,
                                        0,
                                        0,
                                        0,
                                        2.95,
                                        15.08,
                                        0,
                                        0,
                                        17.56,
                                        0.06,
                                        0,
                                        2.69,
                                        0.51,
                                        1.25,
                                        0.27,
                                        0,
                                        0,
                                        0,
                                        0,
                                        0.63,
                                        7.59,
                                        0,
                                        0,
                                        0.64,
                                        0,
                                        0,
                                        0.44,
                                        2.8,
                                        10.26
                                    ],
                                    "xaxis": "x",
                                    "y": [
                                        60815,
                                        91461,
                                        115324,
                                        78972,
                                        74032,
                                        62036,
                                        97254,
                                        66249,
                                        78271,
                                        95234,
                                        98472,
                                        81725,
                                        51896,
                                        81548,
                                        105137,
                                        27202,
                                        85711,
                                        75831,
                                        90865,
                                        72108,
                                        85965,
                                        108016,
                                        81578,
                                        51607,
                                        46703,
                                        65086,
                                        79381,
                                        64134,
                                        53454,
                                        61872,
                                        69877,
                                        60259,
                                        78330,
                                        92697,
                                        103197,
                                        70605,
                                        41923,
                                        74558,
                                        73764,
                                        83057,
                                        81098,
                                        71567,
                                        45950,
                                        76188,
                                        76719,
                                        79274,
                                        86168,
                                        60891,
                                        46094,
                                        68038,
                                        80652,
                                        83438,
                                        82240,
                                        63660,
                                        66489,
                                        74780,
                                        82179,
                                        120617,
                                        74090,
                                        122870,
                                        62136,
                                        81020,
                                        88177,
                                        77147,
                                        68827,
                                        58029,
                                        57576,
                                        66447,
                                        71345,
                                        93576,
                                        101695,
                                        82172,
                                        68292,
                                        75970,
                                        105501,
                                        84868,
                                        82082,
                                        78548,
                                        63465,
                                        90036,
                                        111390,
                                        121164,
                                        117717,
                                        118597,
                                        67974,
                                        64642,
                                        81710,
                                        97390,
                                        123206,
                                        88943,
                                        72030,
                                        72613,
                                        75253,
                                        97632,
                                        121203,
                                        74497,
                                        124819,
                                        73596,
                                        86353,
                                        97456,
                                        127394,
                                        101590,
                                        90244,
                                        69316,
                                        58477,
                                        112409,
                                        105886,
                                        134115,
                                        96426,
                                        125748,
                                        74027,
                                        77242,
                                        98238,
                                        118013,
                                        119301,
                                        103842,
                                        92387,
                                        61477,
                                        103130,
                                        124172,
                                        147749,
                                        118239,
                                        91458,
                                        37364,
                                        38808,
                                        41115,
                                        33541,
                                        40158,
                                        37591,
                                        31910,
                                        43907,
                                        56820,
                                        45304,
                                        32892,
                                        40817,
                                        44899,
                                        35984,
                                        55584,
                                        64867,
                                        57875,
                                        58659
                                    ],
                                    "yaxis": "y"
                                },
                                {
                                    "customdata": [
                                        [
                                            2017
                                        ],
                                        [
                                            2017
                                        ],
                                        [
                                            2017
                                        ],
                                        [
                                            2017
                                        ],
                                        [
                                            2017
                                        ],
                                        [
                                            2017
                                        ],
                                        [
                                            2017
                                        ],
                                        [
                                            2017
                                        ],
                                        [
                                            2017
                                        ],
                                        [
                                            2017
                                        ],
                                        [
                                            2017
                                        ],
                                        [
                                            2017
                                        ],
                                        [
                                            2017
                                        ],
                                        [
                                            2017
                                        ],
                                        [
                                            2017
                                        ],
                                        [
                                            2017
                                        ],
                                        [
                                            2017
                                        ],
                                        [
                                            2017
                                        ],
                                        [
                                            2017
                                        ],
                                        [
                                            2017
                                        ],
                                        [
                                            2017
                                        ],
                                        [
                                            2017
                                        ],
                                        [
                                            2017
                                        ],
                                        [
                                            2017
                                        ],
                                        [
                                            2018
                                        ],
                                        [
                                            2018
                                        ],
                                        [
                                            2018
                                        ],
                                        [
                                            2018
                                        ],
                                        [
                                            2018
                                        ],
                                        [
                                            2018
                                        ],
                                        [
                                            2018
                                        ],
                                        [
                                            2018
                                        ],
                                        [
                                            2018
                                        ],
                                        [
                                            2018
                                        ],
                                        [
                                            2018
                                        ],
                                        [
                                            2018
                                        ],
                                        [
                                            2018
                                        ],
                                        [
                                            2018
                                        ],
                                        [
                                            2018
                                        ],
                                        [
                                            2018
                                        ],
                                        [
                                            2018
                                        ],
                                        [
                                            2018
                                        ],
                                        [
                                            2018
                                        ],
                                        [
                                            2018
                                        ],
                                        [
                                            2018
                                        ],
                                        [
                                            2018
                                        ],
                                        [
                                            2018
                                        ],
                                        [
                                            2018
                                        ],
                                        [
                                            2019
                                        ],
                                        [
                                            2019
                                        ],
                                        [
                                            2019
                                        ],
                                        [
                                            2019
                                        ],
                                        [
                                            2019
                                        ],
                                        [
                                            2019
                                        ],
                                        [
                                            2019
                                        ],
                                        [
                                            2019
                                        ],
                                        [
                                            2019
                                        ],
                                        [
                                            2019
                                        ],
                                        [
                                            2019
                                        ],
                                        [
                                            2019
                                        ],
                                        [
                                            2019
                                        ],
                                        [
                                            2019
                                        ],
                                        [
                                            2019
                                        ],
                                        [
                                            2019
                                        ],
                                        [
                                            2019
                                        ],
                                        [
                                            2019
                                        ],
                                        [
                                            2019
                                        ],
                                        [
                                            2019
                                        ],
                                        [
                                            2019
                                        ],
                                        [
                                            2019
                                        ],
                                        [
                                            2019
                                        ],
                                        [
                                            2019
                                        ],
                                        [
                                            2021
                                        ],
                                        [
                                            2021
                                        ],
                                        [
                                            2021
                                        ],
                                        [
                                            2021
                                        ],
                                        [
                                            2021
                                        ],
                                        [
                                            2021
                                        ],
                                        [
                                            2021
                                        ],
                                        [
                                            2021
                                        ],
                                        [
                                            2021
                                        ],
                                        [
                                            2021
                                        ],
                                        [
                                            2021
                                        ],
                                        [
                                            2021
                                        ],
                                        [
                                            2021
                                        ],
                                        [
                                            2021
                                        ],
                                        [
                                            2021
                                        ],
                                        [
                                            2021
                                        ],
                                        [
                                            2021
                                        ],
                                        [
                                            2021
                                        ],
                                        [
                                            2021
                                        ],
                                        [
                                            2021
                                        ],
                                        [
                                            2021
                                        ],
                                        [
                                            2021
                                        ],
                                        [
                                            2021
                                        ],
                                        [
                                            2021
                                        ]
                                    ],
                                    "hovertemplate": "state=TX<br>prec=%{x}<br>attendance=%{y}<br>year=%{customdata[0]}<extra></extra>",
                                    "legendgroup": "TX",
                                    "marker": {
                                        "color": "#ab63fa",
                                        "symbol": "circle"
                                    },
                                    "mode": "markers",
                                    "name": "TX",
                                    "orientation": "v",
                                    "showlegend": true,
                                    "type": "scatter",
                                    "x": [
                                        3.39,
                                        0,
                                        0,
                                        0,
                                        0,
                                        0,
                                        17.7,
                                        0.22,
                                        0,
                                        0,
                                        7.98,
                                        0,
                                        0,
                                        0,
                                        0,
                                        2.24,
                                        0,
                                        0,
                                        0,
                                        0,
                                        0,
                                        0.26,
                                        24.52,
                                        0,
                                        0,
                                        1.9,
                                        0,
                                        0,
                                        0,
                                        0,
                                        0,
                                        0,
                                        5.44,
                                        5.87,
                                        0,
                                        47.48,
                                        0,
                                        0,
                                        19.59,
                                        66.86,
                                        25.94,
                                        59.94,
                                        18.3,
                                        9.93,
                                        0.59,
                                        13.47,
                                        0,
                                        0,
                                        0,
                                        0,
                                        0,
                                        0,
                                        4.12,
                                        7.7,
                                        0,
                                        0,
                                        17.74,
                                        0,
                                        0,
                                        0,
                                        0,
                                        0,
                                        15.84,
                                        0,
                                        0,
                                        1.63,
                                        0.77,
                                        0,
                                        0,
                                        0,
                                        0,
                                        28.6,
                                        0,
                                        0,
                                        0,
                                        0,
                                        0,
                                        0,
                                        0,
                                        0,
                                        0,
                                        0.3,
                                        0,
                                        0,
                                        0.21,
                                        0,
                                        0,
                                        0,
                                        0,
                                        0,
                                        0,
                                        52.52,
                                        0,
                                        0,
                                        0,
                                        0
                                    ],
                                    "xaxis": "x",
                                    "y": [
                                        75089,
                                        78319,
                                        62191,
                                        40393,
                                        31684,
                                        50103,
                                        54754,
                                        66181,
                                        156904,
                                        100151,
                                        122911,
                                        81068,
                                        57794,
                                        72075,
                                        109528,
                                        197555,
                                        129245,
                                        82424,
                                        89781,
                                        71530,
                                        100943,
                                        132705,
                                        144560,
                                        142545,
                                        91933,
                                        122708,
                                        67736,
                                        43756,
                                        47620,
                                        57858,
                                        62387,
                                        84354,
                                        190490,
                                        93636,
                                        129050,
                                        35092,
                                        65434,
                                        96792,
                                        91290,
                                        59309,
                                        104649,
                                        28237,
                                        26136,
                                        39946,
                                        81652,
                                        45345,
                                        199405,
                                        184303,
                                        83573,
                                        128635,
                                        64374,
                                        40229,
                                        43634,
                                        53760,
                                        53418,
                                        66694,
                                        120818,
                                        79231,
                                        82665,
                                        80595,
                                        63753,
                                        74149,
                                        101283,
                                        226094,
                                        167712,
                                        169956,
                                        84217,
                                        94931,
                                        121727,
                                        162051,
                                        197502,
                                        153636,
                                        61392,
                                        106201,
                                        66889,
                                        42116,
                                        45160,
                                        41552,
                                        47832,
                                        44570,
                                        82996,
                                        87153,
                                        58139,
                                        61401,
                                        79854,
                                        76960,
                                        135412,
                                        211873,
                                        211873,
                                        170661,
                                        92210,
                                        43976,
                                        86096,
                                        148893,
                                        164021,
                                        135338
                                    ],
                                    "yaxis": "y"
                                }
                            ],
                            "layout": {
                                "legend": {
                                    "title": {
                                        "text": "state"
                                    },
                                    "tracegroupgap": 0
                                },
                                "margin": {
                                    "t": 60
                                },
                                "template": {
                                    "data": {
                                        "bar": [
                                            {
                                                "error_x": {
                                                    "color": "#2a3f5f"
                                                },
                                                "error_y": {
                                                    "color": "#2a3f5f"
                                                },
                                                "marker": {
                                                    "line": {
                                                        "color": "#E5ECF6",
                                                        "width": 0.5
                                                    }
                                                },
                                                "type": "bar"
                                            }
                                        ],
                                        "barpolar": [
                                            {
                                                "marker": {
                                                    "line": {
                                                        "color": "#E5ECF6",
                                                        "width": 0.5
                                                    }
                                                },
                                                "type": "barpolar"
                                            }
                                        ],
                                        "carpet": [
                                            {
                                                "aaxis": {
                                                    "endlinecolor": "#2a3f5f",
                                                    "gridcolor": "white",
                                                    "linecolor": "white",
                                                    "minorgridcolor": "white",
                                                    "startlinecolor": "#2a3f5f"
                                                },
                                                "baxis": {
                                                    "endlinecolor": "#2a3f5f",
                                                    "gridcolor": "white",
                                                    "linecolor": "white",
                                                    "minorgridcolor": "white",
                                                    "startlinecolor": "#2a3f5f"
                                                },
                                                "type": "carpet"
                                            }
                                        ],
                                        "choropleth": [
                                            {
                                                "colorbar": {
                                                    "outlinewidth": 0,
                                                    "ticks": ""
                                                },
                                                "type": "choropleth"
                                            }
                                        ],
                                        "contour": [
                                            {
                                                "colorbar": {
                                                    "outlinewidth": 0,
                                                    "ticks": ""
                                                },
                                                "colorscale": [
                                                    [
                                                        0,
                                                        "#0d0887"
                                                    ],
                                                    [
                                                        0.1111111111111111,
                                                        "#46039f"
                                                    ],
                                                    [
                                                        0.2222222222222222,
                                                        "#7201a8"
                                                    ],
                                                    [
                                                        0.3333333333333333,
                                                        "#9c179e"
                                                    ],
                                                    [
                                                        0.4444444444444444,
                                                        "#bd3786"
                                                    ],
                                                    [
                                                        0.5555555555555556,
                                                        "#d8576b"
                                                    ],
                                                    [
                                                        0.6666666666666666,
                                                        "#ed7953"
                                                    ],
                                                    [
                                                        0.7777777777777778,
                                                        "#fb9f3a"
                                                    ],
                                                    [
                                                        0.8888888888888888,
                                                        "#fdca26"
                                                    ],
                                                    [
                                                        1,
                                                        "#f0f921"
                                                    ]
                                                ],
                                                "type": "contour"
                                            }
                                        ],
                                        "contourcarpet": [
                                            {
                                                "colorbar": {
                                                    "outlinewidth": 0,
                                                    "ticks": ""
                                                },
                                                "type": "contourcarpet"
                                            }
                                        ],
                                        "heatmap": [
                                            {
                                                "colorbar": {
                                                    "outlinewidth": 0,
                                                    "ticks": ""
                                                },
                                                "colorscale": [
                                                    [
                                                        0,
                                                        "#0d0887"
                                                    ],
                                                    [
                                                        0.1111111111111111,
                                                        "#46039f"
                                                    ],
                                                    [
                                                        0.2222222222222222,
                                                        "#7201a8"
                                                    ],
                                                    [
                                                        0.3333333333333333,
                                                        "#9c179e"
                                                    ],
                                                    [
                                                        0.4444444444444444,
                                                        "#bd3786"
                                                    ],
                                                    [
                                                        0.5555555555555556,
                                                        "#d8576b"
                                                    ],
                                                    [
                                                        0.6666666666666666,
                                                        "#ed7953"
                                                    ],
                                                    [
                                                        0.7777777777777778,
                                                        "#fb9f3a"
                                                    ],
                                                    [
                                                        0.8888888888888888,
                                                        "#fdca26"
                                                    ],
                                                    [
                                                        1,
                                                        "#f0f921"
                                                    ]
                                                ],
                                                "type": "heatmap"
                                            }
                                        ],
                                        "heatmapgl": [
                                            {
                                                "colorbar": {
                                                    "outlinewidth": 0,
                                                    "ticks": ""
                                                },
                                                "colorscale": [
                                                    [
                                                        0,
                                                        "#0d0887"
                                                    ],
                                                    [
                                                        0.1111111111111111,
                                                        "#46039f"
                                                    ],
                                                    [
                                                        0.2222222222222222,
                                                        "#7201a8"
                                                    ],
                                                    [
                                                        0.3333333333333333,
                                                        "#9c179e"
                                                    ],
                                                    [
                                                        0.4444444444444444,
                                                        "#bd3786"
                                                    ],
                                                    [
                                                        0.5555555555555556,
                                                        "#d8576b"
                                                    ],
                                                    [
                                                        0.6666666666666666,
                                                        "#ed7953"
                                                    ],
                                                    [
                                                        0.7777777777777778,
                                                        "#fb9f3a"
                                                    ],
                                                    [
                                                        0.8888888888888888,
                                                        "#fdca26"
                                                    ],
                                                    [
                                                        1,
                                                        "#f0f921"
                                                    ]
                                                ],
                                                "type": "heatmapgl"
                                            }
                                        ],
                                        "histogram": [
                                            {
                                                "marker": {
                                                    "colorbar": {
                                                        "outlinewidth": 0,
                                                        "ticks": ""
                                                    }
                                                },
                                                "type": "histogram"
                                            }
                                        ],
                                        "histogram2d": [
                                            {
                                                "colorbar": {
                                                    "outlinewidth": 0,
                                                    "ticks": ""
                                                },
                                                "colorscale": [
                                                    [
                                                        0,
                                                        "#0d0887"
                                                    ],
                                                    [
                                                        0.1111111111111111,
                                                        "#46039f"
                                                    ],
                                                    [
                                                        0.2222222222222222,
                                                        "#7201a8"
                                                    ],
                                                    [
                                                        0.3333333333333333,
                                                        "#9c179e"
                                                    ],
                                                    [
                                                        0.4444444444444444,
                                                        "#bd3786"
                                                    ],
                                                    [
                                                        0.5555555555555556,
                                                        "#d8576b"
                                                    ],
                                                    [
                                                        0.6666666666666666,
                                                        "#ed7953"
                                                    ],
                                                    [
                                                        0.7777777777777778,
                                                        "#fb9f3a"
                                                    ],
                                                    [
                                                        0.8888888888888888,
                                                        "#fdca26"
                                                    ],
                                                    [
                                                        1,
                                                        "#f0f921"
                                                    ]
                                                ],
                                                "type": "histogram2d"
                                            }
                                        ],
                                        "histogram2dcontour": [
                                            {
                                                "colorbar": {
                                                    "outlinewidth": 0,
                                                    "ticks": ""
                                                },
                                                "colorscale": [
                                                    [
                                                        0,
                                                        "#0d0887"
                                                    ],
                                                    [
                                                        0.1111111111111111,
                                                        "#46039f"
                                                    ],
                                                    [
                                                        0.2222222222222222,
                                                        "#7201a8"
                                                    ],
                                                    [
                                                        0.3333333333333333,
                                                        "#9c179e"
                                                    ],
                                                    [
                                                        0.4444444444444444,
                                                        "#bd3786"
                                                    ],
                                                    [
                                                        0.5555555555555556,
                                                        "#d8576b"
                                                    ],
                                                    [
                                                        0.6666666666666666,
                                                        "#ed7953"
                                                    ],
                                                    [
                                                        0.7777777777777778,
                                                        "#fb9f3a"
                                                    ],
                                                    [
                                                        0.8888888888888888,
                                                        "#fdca26"
                                                    ],
                                                    [
                                                        1,
                                                        "#f0f921"
                                                    ]
                                                ],
                                                "type": "histogram2dcontour"
                                            }
                                        ],
                                        "mesh3d": [
                                            {
                                                "colorbar": {
                                                    "outlinewidth": 0,
                                                    "ticks": ""
                                                },
                                                "type": "mesh3d"
                                            }
                                        ],
                                        "parcoords": [
                                            {
                                                "line": {
                                                    "colorbar": {
                                                        "outlinewidth": 0,
                                                        "ticks": ""
                                                    }
                                                },
                                                "type": "parcoords"
                                            }
                                        ],
                                        "pie": [
                                            {
                                                "automargin": true,
                                                "type": "pie"
                                            }
                                        ],
                                        "scatter": [
                                            {
                                                "marker": {
                                                    "colorbar": {
                                                        "outlinewidth": 0,
                                                        "ticks": ""
                                                    }
                                                },
                                                "type": "scatter"
                                            }
                                        ],
                                        "scatter3d": [
                                            {
                                                "line": {
                                                    "colorbar": {
                                                        "outlinewidth": 0,
                                                        "ticks": ""
                                                    }
                                                },
                                                "marker": {
                                                    "colorbar": {
                                                        "outlinewidth": 0,
                                                        "ticks": ""
                                                    }
                                                },
                                                "type": "scatter3d"
                                            }
                                        ],
                                        "scattercarpet": [
                                            {
                                                "marker": {
                                                    "colorbar": {
                                                        "outlinewidth": 0,
                                                        "ticks": ""
                                                    }
                                                },
                                                "type": "scattercarpet"
                                            }
                                        ],
                                        "scattergeo": [
                                            {
                                                "marker": {
                                                    "colorbar": {
                                                        "outlinewidth": 0,
                                                        "ticks": ""
                                                    }
                                                },
                                                "type": "scattergeo"
                                            }
                                        ],
                                        "scattergl": [
                                            {
                                                "marker": {
                                                    "colorbar": {
                                                        "outlinewidth": 0,
                                                        "ticks": ""
                                                    }
                                                },
                                                "type": "scattergl"
                                            }
                                        ],
                                        "scattermapbox": [
                                            {
                                                "marker": {
                                                    "colorbar": {
                                                        "outlinewidth": 0,
                                                        "ticks": ""
                                                    }
                                                },
                                                "type": "scattermapbox"
                                            }
                                        ],
                                        "scatterpolar": [
                                            {
                                                "marker": {
                                                    "colorbar": {
                                                        "outlinewidth": 0,
                                                        "ticks": ""
                                                    }
                                                },
                                                "type": "scatterpolar"
                                            }
                                        ],
                                        "scatterpolargl": [
                                            {
                                                "marker": {
                                                    "colorbar": {
                                                        "outlinewidth": 0,
                                                        "ticks": ""
                                                    }
                                                },
                                                "type": "scatterpolargl"
                                            }
                                        ],
                                        "scatterternary": [
                                            {
                                                "marker": {
                                                    "colorbar": {
                                                        "outlinewidth": 0,
                                                        "ticks": ""
                                                    }
                                                },
                                                "type": "scatterternary"
                                            }
                                        ],
                                        "surface": [
                                            {
                                                "colorbar": {
                                                    "outlinewidth": 0,
                                                    "ticks": ""
                                                },
                                                "colorscale": [
                                                    [
                                                        0,
                                                        "#0d0887"
                                                    ],
                                                    [
                                                        0.1111111111111111,
                                                        "#46039f"
                                                    ],
                                                    [
                                                        0.2222222222222222,
                                                        "#7201a8"
                                                    ],
                                                    [
                                                        0.3333333333333333,
                                                        "#9c179e"
                                                    ],
                                                    [
                                                        0.4444444444444444,
                                                        "#bd3786"
                                                    ],
                                                    [
                                                        0.5555555555555556,
                                                        "#d8576b"
                                                    ],
                                                    [
                                                        0.6666666666666666,
                                                        "#ed7953"
                                                    ],
                                                    [
                                                        0.7777777777777778,
                                                        "#fb9f3a"
                                                    ],
                                                    [
                                                        0.8888888888888888,
                                                        "#fdca26"
                                                    ],
                                                    [
                                                        1,
                                                        "#f0f921"
                                                    ]
                                                ],
                                                "type": "surface"
                                            }
                                        ],
                                        "table": [
                                            {
                                                "cells": {
                                                    "fill": {
                                                        "color": "#EBF0F8"
                                                    },
                                                    "line": {
                                                        "color": "white"
                                                    }
                                                },
                                                "header": {
                                                    "fill": {
                                                        "color": "#C8D4E3"
                                                    },
                                                    "line": {
                                                        "color": "white"
                                                    }
                                                },
                                                "type": "table"
                                            }
                                        ]
                                    },
                                    "layout": {
                                        "annotationdefaults": {
                                            "arrowcolor": "#2a3f5f",
                                            "arrowhead": 0,
                                            "arrowwidth": 1
                                        },
                                        "autotypenumbers": "strict",
                                        "coloraxis": {
                                            "colorbar": {
                                                "outlinewidth": 0,
                                                "ticks": ""
                                            }
                                        },
                                        "colorscale": {
                                            "diverging": [
                                                [
                                                    0,
                                                    "#8e0152"
                                                ],
                                                [
                                                    0.1,
                                                    "#c51b7d"
                                                ],
                                                [
                                                    0.2,
                                                    "#de77ae"
                                                ],
                                                [
                                                    0.3,
                                                    "#f1b6da"
                                                ],
                                                [
                                                    0.4,
                                                    "#fde0ef"
                                                ],
                                                [
                                                    0.5,
                                                    "#f7f7f7"
                                                ],
                                                [
                                                    0.6,
                                                    "#e6f5d0"
                                                ],
                                                [
                                                    0.7,
                                                    "#b8e186"
                                                ],
                                                [
                                                    0.8,
                                                    "#7fbc41"
                                                ],
                                                [
                                                    0.9,
                                                    "#4d9221"
                                                ],
                                                [
                                                    1,
                                                    "#276419"
                                                ]
                                            ],
                                            "sequential": [
                                                [
                                                    0,
                                                    "#0d0887"
                                                ],
                                                [
                                                    0.1111111111111111,
                                                    "#46039f"
                                                ],
                                                [
                                                    0.2222222222222222,
                                                    "#7201a8"
                                                ],
                                                [
                                                    0.3333333333333333,
                                                    "#9c179e"
                                                ],
                                                [
                                                    0.4444444444444444,
                                                    "#bd3786"
                                                ],
                                                [
                                                    0.5555555555555556,
                                                    "#d8576b"
                                                ],
                                                [
                                                    0.6666666666666666,
                                                    "#ed7953"
                                                ],
                                                [
                                                    0.7777777777777778,
                                                    "#fb9f3a"
                                                ],
                                                [
                                                    0.8888888888888888,
                                                    "#fdca26"
                                                ],
                                                [
                                                    1,
                                                    "#f0f921"
                                                ]
                                            ],
                                            "sequentialminus": [
                                                [
                                                    0,
                                                    "#0d0887"
                                                ],
                                                [
                                                    0.1111111111111111,
                                                    "#46039f"
                                                ],
                                                [
                                                    0.2222222222222222,
                                                    "#7201a8"
                                                ],
                                                [
                                                    0.3333333333333333,
                                                    "#9c179e"
                                                ],
                                                [
                                                    0.4444444444444444,
                                                    "#bd3786"
                                                ],
                                                [
                                                    0.5555555555555556,
                                                    "#d8576b"
                                                ],
                                                [
                                                    0.6666666666666666,
                                                    "#ed7953"
                                                ],
                                                [
                                                    0.7777777777777778,
                                                    "#fb9f3a"
                                                ],
                                                [
                                                    0.8888888888888888,
                                                    "#fdca26"
                                                ],
                                                [
                                                    1,
                                                    "#f0f921"
                                                ]
                                            ]
                                        },
                                        "colorway": [
                                            "#636efa",
                                            "#EF553B",
                                            "#00cc96",
                                            "#ab63fa",
                                            "#FFA15A",
                                            "#19d3f3",
                                            "#FF6692",
                                            "#B6E880",
                                            "#FF97FF",
                                            "#FECB52"
                                        ],
                                        "font": {
                                            "color": "#2a3f5f"
                                        },
                                        "geo": {
                                            "bgcolor": "white",
                                            "lakecolor": "white",
                                            "landcolor": "#E5ECF6",
                                            "showlakes": true,
                                            "showland": true,
                                            "subunitcolor": "white"
                                        },
                                        "hoverlabel": {
                                            "align": "left"
                                        },
                                        "hovermode": "closest",
                                        "mapbox": {
                                            "style": "light"
                                        },
                                        "paper_bgcolor": "white",
                                        "plot_bgcolor": "#E5ECF6",
                                        "polar": {
                                            "angularaxis": {
                                                "gridcolor": "white",
                                                "linecolor": "white",
                                                "ticks": ""
                                            },
                                            "bgcolor": "#E5ECF6",
                                            "radialaxis": {
                                                "gridcolor": "white",
                                                "linecolor": "white",
                                                "ticks": ""
                                            }
                                        },
                                        "scene": {
                                            "xaxis": {
                                                "backgroundcolor": "#E5ECF6",
                                                "gridcolor": "white",
                                                "gridwidth": 2,
                                                "linecolor": "white",
                                                "showbackground": true,
                                                "ticks": "",
                                                "zerolinecolor": "white"
                                            },
                                            "yaxis": {
                                                "backgroundcolor": "#E5ECF6",
                                                "gridcolor": "white",
                                                "gridwidth": 2,
                                                "linecolor": "white",
                                                "showbackground": true,
                                                "ticks": "",
                                                "zerolinecolor": "white"
                                            },
                                            "zaxis": {
                                                "backgroundcolor": "#E5ECF6",
                                                "gridcolor": "white",
                                                "gridwidth": 2,
                                                "linecolor": "white",
                                                "showbackground": true,
                                                "ticks": "",
                                                "zerolinecolor": "white"
                                            }
                                        },
                                        "shapedefaults": {
                                            "line": {
                                                "color": "#2a3f5f"
                                            }
                                        },
                                        "ternary": {
                                            "aaxis": {
                                                "gridcolor": "white",
                                                "linecolor": "white",
                                                "ticks": ""
                                            },
                                            "baxis": {
                                                "gridcolor": "white",
                                                "linecolor": "white",
                                                "ticks": ""
                                            },
                                            "bgcolor": "#E5ECF6",
                                            "caxis": {
                                                "gridcolor": "white",
                                                "linecolor": "white",
                                                "ticks": ""
                                            }
                                        },
                                        "title": {
                                            "x": 0.05
                                        },
                                        "xaxis": {
                                            "automargin": true,
                                            "gridcolor": "white",
                                            "linecolor": "white",
                                            "ticks": "",
                                            "title": {
                                                "standoff": 15
                                            },
                                            "zerolinecolor": "white",
                                            "zerolinewidth": 2
                                        },
                                        "yaxis": {
                                            "automargin": true,
                                            "gridcolor": "white",
                                            "linecolor": "white",
                                            "ticks": "",
                                            "title": {
                                                "standoff": 15
                                            },
                                            "zerolinecolor": "white",
                                            "zerolinewidth": 2
                                        }
                                    }
                                },
                                "xaxis": {
                                    "anchor": "y",
                                    "domain": [
                                        0,
                                        1
                                    ],
                                    "title": {
                                        "text": "prec"
                                    }
                                },
                                "yaxis": {
                                    "anchor": "x",
                                    "domain": [
                                        0,
                                        1
                                    ],
                                    "title": {
                                        "text": "attendance"
                                    }
                                }
                            }
                        }
                    },
                    "metadata": {},
                    "output_type": "display_data"
                }
            ],
            "source": [
                "fig = px.scatter(scaled_df, x=\"prec\", y=\"attendance\",hover_data=['year'], color='state')\n",
                "fig.show()"
            ]
        },
        {
            "cell_type": "code",
            "execution_count": 66,
            "metadata": {},
            "outputs": [],
            "source": [
                "# 2019 was removed for NC because it appeared as an outlier (in red above).\n",
                "scaled_df = scaled_df.drop(scaled_df[(scaled_df['state']=='NC') & (scaled_df['year']==2019)].index)"
            ]
        },
        {
            "cell_type": "code",
            "execution_count": 67,
            "metadata": {},
            "outputs": [
                {
                    "data": {
                        "application/vnd.plotly.v1+json": {
                            "config": {
                                "plotlyServerURL": "https://plot.ly"
                            },
                            "data": [
                                {
                                    "customdata": [
                                        [
                                            2018
                                        ],
                                        [
                                            2018
                                        ],
                                        [
                                            2018
                                        ],
                                        [
                                            2018
                                        ],
                                        [
                                            2018
                                        ],
                                        [
                                            2018
                                        ],
                                        [
                                            2018
                                        ],
                                        [
                                            2018
                                        ],
                                        [
                                            2018
                                        ],
                                        [
                                            2018
                                        ],
                                        [
                                            2018
                                        ],
                                        [
                                            2018
                                        ],
                                        [
                                            2019
                                        ],
                                        [
                                            2019
                                        ],
                                        [
                                            2019
                                        ],
                                        [
                                            2019
                                        ],
                                        [
                                            2019
                                        ],
                                        [
                                            2019
                                        ],
                                        [
                                            2019
                                        ],
                                        [
                                            2019
                                        ],
                                        [
                                            2019
                                        ],
                                        [
                                            2019
                                        ],
                                        [
                                            2019
                                        ],
                                        [
                                            2019
                                        ],
                                        [
                                            2021
                                        ],
                                        [
                                            2021
                                        ],
                                        [
                                            2021
                                        ],
                                        [
                                            2021
                                        ],
                                        [
                                            2021
                                        ],
                                        [
                                            2021
                                        ],
                                        [
                                            2021
                                        ],
                                        [
                                            2021
                                        ],
                                        [
                                            2021
                                        ],
                                        [
                                            2021
                                        ],
                                        [
                                            2021
                                        ],
                                        [
                                            2021
                                        ]
                                    ],
                                    "hovertemplate": "state=MN<br>prec=%{x}<br>attendance=%{y}<br>year=%{customdata[0]}<extra></extra>",
                                    "legendgroup": "MN",
                                    "marker": {
                                        "color": "#636efa",
                                        "symbol": "circle"
                                    },
                                    "mode": "markers",
                                    "name": "MN",
                                    "orientation": "v",
                                    "showlegend": true,
                                    "type": "scatter",
                                    "x": [
                                        2.79,
                                        32.78,
                                        0,
                                        0.72,
                                        5.1,
                                        5.89,
                                        0,
                                        1.72,
                                        0,
                                        0,
                                        0,
                                        3.45,
                                        0,
                                        0,
                                        0,
                                        1.45,
                                        21.15,
                                        1.52,
                                        0,
                                        0,
                                        0,
                                        0,
                                        0,
                                        0,
                                        58.76,
                                        1.97,
                                        26.88,
                                        0,
                                        0,
                                        0,
                                        0.03,
                                        0,
                                        6.23,
                                        0,
                                        0,
                                        0
                                    ],
                                    "xaxis": "x",
                                    "y": [
                                        122695,
                                        108059,
                                        222194,
                                        184715,
                                        124438,
                                        120209,
                                        144940,
                                        156764,
                                        179402,
                                        270426,
                                        241102,
                                        171588,
                                        133326,
                                        157224,
                                        209105,
                                        191524,
                                        96716,
                                        136987,
                                        142211,
                                        153274,
                                        209789,
                                        266412,
                                        245243,
                                        184740,
                                        61983,
                                        77406,
                                        129984,
                                        149247,
                                        91568,
                                        89618,
                                        88027,
                                        80778,
                                        102020,
                                        153953,
                                        153422,
                                        123578
                                    ],
                                    "yaxis": "y"
                                },
                                {
                                    "customdata": [
                                        [
                                            2015
                                        ],
                                        [
                                            2015
                                        ],
                                        [
                                            2015
                                        ],
                                        [
                                            2015
                                        ],
                                        [
                                            2015
                                        ],
                                        [
                                            2015
                                        ],
                                        [
                                            2015
                                        ],
                                        [
                                            2015
                                        ],
                                        [
                                            2015
                                        ],
                                        [
                                            2015
                                        ],
                                        [
                                            2015
                                        ],
                                        [
                                            2016
                                        ],
                                        [
                                            2016
                                        ],
                                        [
                                            2016
                                        ],
                                        [
                                            2016
                                        ],
                                        [
                                            2016
                                        ],
                                        [
                                            2016
                                        ],
                                        [
                                            2016
                                        ],
                                        [
                                            2016
                                        ],
                                        [
                                            2016
                                        ],
                                        [
                                            2016
                                        ],
                                        [
                                            2016
                                        ],
                                        [
                                            2017
                                        ],
                                        [
                                            2017
                                        ],
                                        [
                                            2017
                                        ],
                                        [
                                            2017
                                        ],
                                        [
                                            2017
                                        ],
                                        [
                                            2017
                                        ],
                                        [
                                            2017
                                        ],
                                        [
                                            2017
                                        ],
                                        [
                                            2017
                                        ],
                                        [
                                            2017
                                        ],
                                        [
                                            2017
                                        ],
                                        [
                                            2018
                                        ],
                                        [
                                            2018
                                        ],
                                        [
                                            2018
                                        ],
                                        [
                                            2018
                                        ],
                                        [
                                            2018
                                        ],
                                        [
                                            2018
                                        ],
                                        [
                                            2018
                                        ],
                                        [
                                            2018
                                        ],
                                        [
                                            2018
                                        ],
                                        [
                                            2018
                                        ],
                                        [
                                            2021
                                        ],
                                        [
                                            2021
                                        ],
                                        [
                                            2021
                                        ],
                                        [
                                            2021
                                        ],
                                        [
                                            2021
                                        ],
                                        [
                                            2021
                                        ],
                                        [
                                            2021
                                        ],
                                        [
                                            2021
                                        ],
                                        [
                                            2021
                                        ],
                                        [
                                            2021
                                        ],
                                        [
                                            2021
                                        ],
                                        [
                                            2014
                                        ],
                                        [
                                            2014
                                        ],
                                        [
                                            2014
                                        ],
                                        [
                                            2014
                                        ],
                                        [
                                            2014
                                        ],
                                        [
                                            2014
                                        ],
                                        [
                                            2014
                                        ],
                                        [
                                            2014
                                        ],
                                        [
                                            2014
                                        ],
                                        [
                                            2014
                                        ],
                                        [
                                            2014
                                        ],
                                        [
                                            2013
                                        ],
                                        [
                                            2013
                                        ],
                                        [
                                            2013
                                        ],
                                        [
                                            2013
                                        ],
                                        [
                                            2013
                                        ],
                                        [
                                            2013
                                        ],
                                        [
                                            2013
                                        ],
                                        [
                                            2013
                                        ],
                                        [
                                            2013
                                        ],
                                        [
                                            2013
                                        ],
                                        [
                                            2013
                                        ]
                                    ],
                                    "hovertemplate": "state=NC<br>prec=%{x}<br>attendance=%{y}<br>year=%{customdata[0]}<extra></extra>",
                                    "legendgroup": "NC",
                                    "marker": {
                                        "color": "#EF553B",
                                        "symbol": "circle"
                                    },
                                    "mode": "markers",
                                    "name": "NC",
                                    "orientation": "v",
                                    "showlegend": true,
                                    "type": "scatter",
                                    "x": [
                                        0,
                                        0,
                                        0,
                                        0,
                                        0,
                                        0,
                                        0,
                                        0,
                                        0,
                                        0,
                                        0,
                                        0,
                                        0,
                                        0,
                                        0,
                                        0,
                                        0,
                                        0,
                                        0,
                                        1.27,
                                        0,
                                        0,
                                        0,
                                        0,
                                        0,
                                        0,
                                        6.22,
                                        0,
                                        0,
                                        0,
                                        0,
                                        0,
                                        0,
                                        0,
                                        0,
                                        0,
                                        0,
                                        1.83,
                                        0,
                                        0,
                                        0.51,
                                        2.1,
                                        0,
                                        0,
                                        0,
                                        9.09,
                                        0,
                                        0,
                                        0,
                                        0,
                                        0.22,
                                        0,
                                        0,
                                        0,
                                        0,
                                        0,
                                        0,
                                        0,
                                        0,
                                        0,
                                        0,
                                        0,
                                        0,
                                        0,
                                        0,
                                        0,
                                        0,
                                        0.04,
                                        0,
                                        0,
                                        0,
                                        0,
                                        0,
                                        0,
                                        0,
                                        0
                                    ],
                                    "xaxis": "x",
                                    "y": [
                                        50327,
                                        90954,
                                        126666,
                                        97906,
                                        63989,
                                        69687,
                                        71348,
                                        104887,
                                        95685,
                                        140886,
                                        107397,
                                        40449,
                                        78364,
                                        119117,
                                        109429,
                                        75243,
                                        75995,
                                        72654,
                                        104852,
                                        85473,
                                        150747,
                                        116041,
                                        57083,
                                        71211,
                                        113291,
                                        99148,
                                        55041,
                                        76844,
                                        75041,
                                        104409,
                                        100516,
                                        148424,
                                        113470,
                                        78275,
                                        123303,
                                        101003,
                                        71538,
                                        71287,
                                        74153,
                                        110322,
                                        109396,
                                        107660,
                                        130319,
                                        27209,
                                        56034,
                                        83737,
                                        93182,
                                        57852,
                                        59002,
                                        58441,
                                        78107,
                                        79049,
                                        126715,
                                        102135,
                                        46478,
                                        73571,
                                        126666,
                                        94691,
                                        62499,
                                        66758,
                                        63616,
                                        93808,
                                        87827,
                                        126629,
                                        97604,
                                        42626,
                                        72794,
                                        116267,
                                        105310,
                                        67770,
                                        68092,
                                        68252,
                                        102176,
                                        82163,
                                        122223,
                                        98221
                                    ],
                                    "yaxis": "y"
                                },
                                {
                                    "customdata": [
                                        [
                                            2010
                                        ],
                                        [
                                            2010
                                        ],
                                        [
                                            2010
                                        ],
                                        [
                                            2010
                                        ],
                                        [
                                            2010
                                        ],
                                        [
                                            2010
                                        ],
                                        [
                                            2010
                                        ],
                                        [
                                            2010
                                        ],
                                        [
                                            2010
                                        ],
                                        [
                                            2010
                                        ],
                                        [
                                            2010
                                        ],
                                        [
                                            2010
                                        ],
                                        [
                                            2011
                                        ],
                                        [
                                            2011
                                        ],
                                        [
                                            2011
                                        ],
                                        [
                                            2011
                                        ],
                                        [
                                            2011
                                        ],
                                        [
                                            2011
                                        ],
                                        [
                                            2011
                                        ],
                                        [
                                            2011
                                        ],
                                        [
                                            2011
                                        ],
                                        [
                                            2011
                                        ],
                                        [
                                            2011
                                        ],
                                        [
                                            2011
                                        ],
                                        [
                                            2012
                                        ],
                                        [
                                            2012
                                        ],
                                        [
                                            2012
                                        ],
                                        [
                                            2012
                                        ],
                                        [
                                            2012
                                        ],
                                        [
                                            2012
                                        ],
                                        [
                                            2012
                                        ],
                                        [
                                            2012
                                        ],
                                        [
                                            2012
                                        ],
                                        [
                                            2012
                                        ],
                                        [
                                            2012
                                        ],
                                        [
                                            2012
                                        ],
                                        [
                                            2013
                                        ],
                                        [
                                            2013
                                        ],
                                        [
                                            2013
                                        ],
                                        [
                                            2013
                                        ],
                                        [
                                            2013
                                        ],
                                        [
                                            2013
                                        ],
                                        [
                                            2013
                                        ],
                                        [
                                            2013
                                        ],
                                        [
                                            2013
                                        ],
                                        [
                                            2013
                                        ],
                                        [
                                            2013
                                        ],
                                        [
                                            2013
                                        ],
                                        [
                                            2014
                                        ],
                                        [
                                            2014
                                        ],
                                        [
                                            2014
                                        ],
                                        [
                                            2014
                                        ],
                                        [
                                            2014
                                        ],
                                        [
                                            2014
                                        ],
                                        [
                                            2014
                                        ],
                                        [
                                            2014
                                        ],
                                        [
                                            2014
                                        ],
                                        [
                                            2014
                                        ],
                                        [
                                            2014
                                        ],
                                        [
                                            2014
                                        ],
                                        [
                                            2015
                                        ],
                                        [
                                            2015
                                        ],
                                        [
                                            2015
                                        ],
                                        [
                                            2015
                                        ],
                                        [
                                            2015
                                        ],
                                        [
                                            2015
                                        ],
                                        [
                                            2015
                                        ],
                                        [
                                            2015
                                        ],
                                        [
                                            2015
                                        ],
                                        [
                                            2015
                                        ],
                                        [
                                            2015
                                        ],
                                        [
                                            2015
                                        ],
                                        [
                                            2016
                                        ],
                                        [
                                            2016
                                        ],
                                        [
                                            2016
                                        ],
                                        [
                                            2016
                                        ],
                                        [
                                            2016
                                        ],
                                        [
                                            2016
                                        ],
                                        [
                                            2016
                                        ],
                                        [
                                            2016
                                        ],
                                        [
                                            2016
                                        ],
                                        [
                                            2016
                                        ],
                                        [
                                            2016
                                        ],
                                        [
                                            2016
                                        ],
                                        [
                                            2017
                                        ],
                                        [
                                            2017
                                        ],
                                        [
                                            2017
                                        ],
                                        [
                                            2017
                                        ],
                                        [
                                            2017
                                        ],
                                        [
                                            2017
                                        ],
                                        [
                                            2017
                                        ],
                                        [
                                            2017
                                        ],
                                        [
                                            2017
                                        ],
                                        [
                                            2017
                                        ],
                                        [
                                            2017
                                        ],
                                        [
                                            2017
                                        ],
                                        [
                                            2017
                                        ],
                                        [
                                            2018
                                        ],
                                        [
                                            2018
                                        ],
                                        [
                                            2018
                                        ],
                                        [
                                            2018
                                        ],
                                        [
                                            2018
                                        ],
                                        [
                                            2018
                                        ],
                                        [
                                            2018
                                        ],
                                        [
                                            2018
                                        ],
                                        [
                                            2018
                                        ],
                                        [
                                            2018
                                        ],
                                        [
                                            2018
                                        ],
                                        [
                                            2018
                                        ],
                                        [
                                            2018
                                        ],
                                        [
                                            2019
                                        ],
                                        [
                                            2019
                                        ],
                                        [
                                            2019
                                        ],
                                        [
                                            2019
                                        ],
                                        [
                                            2019
                                        ],
                                        [
                                            2019
                                        ],
                                        [
                                            2019
                                        ],
                                        [
                                            2019
                                        ],
                                        [
                                            2019
                                        ],
                                        [
                                            2019
                                        ],
                                        [
                                            2019
                                        ],
                                        [
                                            2019
                                        ],
                                        [
                                            2019
                                        ],
                                        [
                                            2021
                                        ],
                                        [
                                            2021
                                        ],
                                        [
                                            2021
                                        ],
                                        [
                                            2021
                                        ],
                                        [
                                            2021
                                        ],
                                        [
                                            2021
                                        ],
                                        [
                                            2021
                                        ],
                                        [
                                            2021
                                        ],
                                        [
                                            2021
                                        ],
                                        [
                                            2021
                                        ],
                                        [
                                            2021
                                        ],
                                        [
                                            2021
                                        ],
                                        [
                                            2021
                                        ],
                                        [
                                            2021
                                        ],
                                        [
                                            2021
                                        ],
                                        [
                                            2021
                                        ],
                                        [
                                            2021
                                        ],
                                        [
                                            2021
                                        ]
                                    ],
                                    "hovertemplate": "state=NY<br>prec=%{x}<br>attendance=%{y}<br>year=%{customdata[0]}<extra></extra>",
                                    "legendgroup": "NY",
                                    "marker": {
                                        "color": "#00cc96",
                                        "symbol": "circle"
                                    },
                                    "mode": "markers",
                                    "name": "NY",
                                    "orientation": "v",
                                    "showlegend": true,
                                    "type": "scatter",
                                    "x": [
                                        0,
                                        0,
                                        0,
                                        0,
                                        0,
                                        1.54,
                                        0.61,
                                        0,
                                        4.03,
                                        6.96,
                                        0,
                                        0,
                                        0.72,
                                        0,
                                        4.23,
                                        23.09,
                                        0,
                                        0,
                                        0.84,
                                        2.71,
                                        0,
                                        0,
                                        0,
                                        0,
                                        0,
                                        0,
                                        0,
                                        0,
                                        18.99,
                                        0,
                                        0,
                                        0,
                                        0,
                                        0,
                                        12.52,
                                        0.28,
                                        13.09,
                                        0,
                                        0,
                                        0.97,
                                        19.86,
                                        0,
                                        0,
                                        0,
                                        6.11,
                                        0,
                                        16.44,
                                        0.41,
                                        13.22,
                                        3.22,
                                        0.43,
                                        0,
                                        0,
                                        0.18,
                                        0,
                                        0,
                                        0,
                                        3.04,
                                        0,
                                        0,
                                        1.08,
                                        0,
                                        0,
                                        0,
                                        0.86,
                                        14.62,
                                        0.35,
                                        16.04,
                                        0,
                                        17.85,
                                        0,
                                        0,
                                        2.07,
                                        0,
                                        0,
                                        0,
                                        0,
                                        0,
                                        1.48,
                                        1.43,
                                        0,
                                        0.47,
                                        0.25,
                                        0,
                                        1.22,
                                        0.02,
                                        0,
                                        0,
                                        0,
                                        0,
                                        0,
                                        0,
                                        4.08,
                                        3.25,
                                        0.13,
                                        0,
                                        0,
                                        3.24,
                                        0.75,
                                        0,
                                        0,
                                        1.21,
                                        0,
                                        0,
                                        12.89,
                                        0.12,
                                        1.2,
                                        0.25,
                                        1.15,
                                        0,
                                        8.21,
                                        0,
                                        0,
                                        0,
                                        0,
                                        0,
                                        2.95,
                                        15.08,
                                        0,
                                        0,
                                        17.56,
                                        0.06,
                                        0,
                                        2.69,
                                        0.51,
                                        1.25,
                                        0.27,
                                        0,
                                        0,
                                        0,
                                        0,
                                        0.63,
                                        7.59,
                                        0,
                                        0,
                                        0.64,
                                        0,
                                        0,
                                        0.44,
                                        2.8,
                                        10.26
                                    ],
                                    "xaxis": "x",
                                    "y": [
                                        60815,
                                        91461,
                                        115324,
                                        78972,
                                        74032,
                                        62036,
                                        97254,
                                        66249,
                                        78271,
                                        95234,
                                        98472,
                                        81725,
                                        51896,
                                        81548,
                                        105137,
                                        27202,
                                        85711,
                                        75831,
                                        90865,
                                        72108,
                                        85965,
                                        108016,
                                        81578,
                                        51607,
                                        46703,
                                        65086,
                                        79381,
                                        64134,
                                        53454,
                                        61872,
                                        69877,
                                        60259,
                                        78330,
                                        92697,
                                        103197,
                                        70605,
                                        41923,
                                        74558,
                                        73764,
                                        83057,
                                        81098,
                                        71567,
                                        45950,
                                        76188,
                                        76719,
                                        79274,
                                        86168,
                                        60891,
                                        46094,
                                        68038,
                                        80652,
                                        83438,
                                        82240,
                                        63660,
                                        66489,
                                        74780,
                                        82179,
                                        120617,
                                        74090,
                                        122870,
                                        62136,
                                        81020,
                                        88177,
                                        77147,
                                        68827,
                                        58029,
                                        57576,
                                        66447,
                                        71345,
                                        93576,
                                        101695,
                                        82172,
                                        68292,
                                        75970,
                                        105501,
                                        84868,
                                        82082,
                                        78548,
                                        63465,
                                        90036,
                                        111390,
                                        121164,
                                        117717,
                                        118597,
                                        67974,
                                        64642,
                                        81710,
                                        97390,
                                        123206,
                                        88943,
                                        72030,
                                        72613,
                                        75253,
                                        97632,
                                        121203,
                                        74497,
                                        124819,
                                        73596,
                                        86353,
                                        97456,
                                        127394,
                                        101590,
                                        90244,
                                        69316,
                                        58477,
                                        112409,
                                        105886,
                                        134115,
                                        96426,
                                        125748,
                                        74027,
                                        77242,
                                        98238,
                                        118013,
                                        119301,
                                        103842,
                                        92387,
                                        61477,
                                        103130,
                                        124172,
                                        147749,
                                        118239,
                                        91458,
                                        37364,
                                        38808,
                                        41115,
                                        33541,
                                        40158,
                                        37591,
                                        31910,
                                        43907,
                                        56820,
                                        45304,
                                        32892,
                                        40817,
                                        44899,
                                        35984,
                                        55584,
                                        64867,
                                        57875,
                                        58659
                                    ],
                                    "yaxis": "y"
                                },
                                {
                                    "customdata": [
                                        [
                                            2017
                                        ],
                                        [
                                            2017
                                        ],
                                        [
                                            2017
                                        ],
                                        [
                                            2017
                                        ],
                                        [
                                            2017
                                        ],
                                        [
                                            2017
                                        ],
                                        [
                                            2017
                                        ],
                                        [
                                            2017
                                        ],
                                        [
                                            2017
                                        ],
                                        [
                                            2017
                                        ],
                                        [
                                            2017
                                        ],
                                        [
                                            2017
                                        ],
                                        [
                                            2017
                                        ],
                                        [
                                            2017
                                        ],
                                        [
                                            2017
                                        ],
                                        [
                                            2017
                                        ],
                                        [
                                            2017
                                        ],
                                        [
                                            2017
                                        ],
                                        [
                                            2017
                                        ],
                                        [
                                            2017
                                        ],
                                        [
                                            2017
                                        ],
                                        [
                                            2017
                                        ],
                                        [
                                            2017
                                        ],
                                        [
                                            2017
                                        ],
                                        [
                                            2018
                                        ],
                                        [
                                            2018
                                        ],
                                        [
                                            2018
                                        ],
                                        [
                                            2018
                                        ],
                                        [
                                            2018
                                        ],
                                        [
                                            2018
                                        ],
                                        [
                                            2018
                                        ],
                                        [
                                            2018
                                        ],
                                        [
                                            2018
                                        ],
                                        [
                                            2018
                                        ],
                                        [
                                            2018
                                        ],
                                        [
                                            2018
                                        ],
                                        [
                                            2018
                                        ],
                                        [
                                            2018
                                        ],
                                        [
                                            2018
                                        ],
                                        [
                                            2018
                                        ],
                                        [
                                            2018
                                        ],
                                        [
                                            2018
                                        ],
                                        [
                                            2018
                                        ],
                                        [
                                            2018
                                        ],
                                        [
                                            2018
                                        ],
                                        [
                                            2018
                                        ],
                                        [
                                            2018
                                        ],
                                        [
                                            2018
                                        ],
                                        [
                                            2019
                                        ],
                                        [
                                            2019
                                        ],
                                        [
                                            2019
                                        ],
                                        [
                                            2019
                                        ],
                                        [
                                            2019
                                        ],
                                        [
                                            2019
                                        ],
                                        [
                                            2019
                                        ],
                                        [
                                            2019
                                        ],
                                        [
                                            2019
                                        ],
                                        [
                                            2019
                                        ],
                                        [
                                            2019
                                        ],
                                        [
                                            2019
                                        ],
                                        [
                                            2019
                                        ],
                                        [
                                            2019
                                        ],
                                        [
                                            2019
                                        ],
                                        [
                                            2019
                                        ],
                                        [
                                            2019
                                        ],
                                        [
                                            2019
                                        ],
                                        [
                                            2019
                                        ],
                                        [
                                            2019
                                        ],
                                        [
                                            2019
                                        ],
                                        [
                                            2019
                                        ],
                                        [
                                            2019
                                        ],
                                        [
                                            2019
                                        ],
                                        [
                                            2021
                                        ],
                                        [
                                            2021
                                        ],
                                        [
                                            2021
                                        ],
                                        [
                                            2021
                                        ],
                                        [
                                            2021
                                        ],
                                        [
                                            2021
                                        ],
                                        [
                                            2021
                                        ],
                                        [
                                            2021
                                        ],
                                        [
                                            2021
                                        ],
                                        [
                                            2021
                                        ],
                                        [
                                            2021
                                        ],
                                        [
                                            2021
                                        ],
                                        [
                                            2021
                                        ],
                                        [
                                            2021
                                        ],
                                        [
                                            2021
                                        ],
                                        [
                                            2021
                                        ],
                                        [
                                            2021
                                        ],
                                        [
                                            2021
                                        ],
                                        [
                                            2021
                                        ],
                                        [
                                            2021
                                        ],
                                        [
                                            2021
                                        ],
                                        [
                                            2021
                                        ],
                                        [
                                            2021
                                        ],
                                        [
                                            2021
                                        ]
                                    ],
                                    "hovertemplate": "state=TX<br>prec=%{x}<br>attendance=%{y}<br>year=%{customdata[0]}<extra></extra>",
                                    "legendgroup": "TX",
                                    "marker": {
                                        "color": "#ab63fa",
                                        "symbol": "circle"
                                    },
                                    "mode": "markers",
                                    "name": "TX",
                                    "orientation": "v",
                                    "showlegend": true,
                                    "type": "scatter",
                                    "x": [
                                        3.39,
                                        0,
                                        0,
                                        0,
                                        0,
                                        0,
                                        17.7,
                                        0.22,
                                        0,
                                        0,
                                        7.98,
                                        0,
                                        0,
                                        0,
                                        0,
                                        2.24,
                                        0,
                                        0,
                                        0,
                                        0,
                                        0,
                                        0.26,
                                        24.52,
                                        0,
                                        0,
                                        1.9,
                                        0,
                                        0,
                                        0,
                                        0,
                                        0,
                                        0,
                                        5.44,
                                        5.87,
                                        0,
                                        47.48,
                                        0,
                                        0,
                                        19.59,
                                        66.86,
                                        25.94,
                                        59.94,
                                        18.3,
                                        9.93,
                                        0.59,
                                        13.47,
                                        0,
                                        0,
                                        0,
                                        0,
                                        0,
                                        0,
                                        4.12,
                                        7.7,
                                        0,
                                        0,
                                        17.74,
                                        0,
                                        0,
                                        0,
                                        0,
                                        0,
                                        15.84,
                                        0,
                                        0,
                                        1.63,
                                        0.77,
                                        0,
                                        0,
                                        0,
                                        0,
                                        28.6,
                                        0,
                                        0,
                                        0,
                                        0,
                                        0,
                                        0,
                                        0,
                                        0,
                                        0,
                                        0.3,
                                        0,
                                        0,
                                        0.21,
                                        0,
                                        0,
                                        0,
                                        0,
                                        0,
                                        0,
                                        52.52,
                                        0,
                                        0,
                                        0,
                                        0
                                    ],
                                    "xaxis": "x",
                                    "y": [
                                        75089,
                                        78319,
                                        62191,
                                        40393,
                                        31684,
                                        50103,
                                        54754,
                                        66181,
                                        156904,
                                        100151,
                                        122911,
                                        81068,
                                        57794,
                                        72075,
                                        109528,
                                        197555,
                                        129245,
                                        82424,
                                        89781,
                                        71530,
                                        100943,
                                        132705,
                                        144560,
                                        142545,
                                        91933,
                                        122708,
                                        67736,
                                        43756,
                                        47620,
                                        57858,
                                        62387,
                                        84354,
                                        190490,
                                        93636,
                                        129050,
                                        35092,
                                        65434,
                                        96792,
                                        91290,
                                        59309,
                                        104649,
                                        28237,
                                        26136,
                                        39946,
                                        81652,
                                        45345,
                                        199405,
                                        184303,
                                        83573,
                                        128635,
                                        64374,
                                        40229,
                                        43634,
                                        53760,
                                        53418,
                                        66694,
                                        120818,
                                        79231,
                                        82665,
                                        80595,
                                        63753,
                                        74149,
                                        101283,
                                        226094,
                                        167712,
                                        169956,
                                        84217,
                                        94931,
                                        121727,
                                        162051,
                                        197502,
                                        153636,
                                        61392,
                                        106201,
                                        66889,
                                        42116,
                                        45160,
                                        41552,
                                        47832,
                                        44570,
                                        82996,
                                        87153,
                                        58139,
                                        61401,
                                        79854,
                                        76960,
                                        135412,
                                        211873,
                                        211873,
                                        170661,
                                        92210,
                                        43976,
                                        86096,
                                        148893,
                                        164021,
                                        135338
                                    ],
                                    "yaxis": "y"
                                }
                            ],
                            "layout": {
                                "legend": {
                                    "title": {
                                        "text": "state"
                                    },
                                    "tracegroupgap": 0
                                },
                                "margin": {
                                    "t": 60
                                },
                                "template": {
                                    "data": {
                                        "bar": [
                                            {
                                                "error_x": {
                                                    "color": "#2a3f5f"
                                                },
                                                "error_y": {
                                                    "color": "#2a3f5f"
                                                },
                                                "marker": {
                                                    "line": {
                                                        "color": "#E5ECF6",
                                                        "width": 0.5
                                                    }
                                                },
                                                "type": "bar"
                                            }
                                        ],
                                        "barpolar": [
                                            {
                                                "marker": {
                                                    "line": {
                                                        "color": "#E5ECF6",
                                                        "width": 0.5
                                                    }
                                                },
                                                "type": "barpolar"
                                            }
                                        ],
                                        "carpet": [
                                            {
                                                "aaxis": {
                                                    "endlinecolor": "#2a3f5f",
                                                    "gridcolor": "white",
                                                    "linecolor": "white",
                                                    "minorgridcolor": "white",
                                                    "startlinecolor": "#2a3f5f"
                                                },
                                                "baxis": {
                                                    "endlinecolor": "#2a3f5f",
                                                    "gridcolor": "white",
                                                    "linecolor": "white",
                                                    "minorgridcolor": "white",
                                                    "startlinecolor": "#2a3f5f"
                                                },
                                                "type": "carpet"
                                            }
                                        ],
                                        "choropleth": [
                                            {
                                                "colorbar": {
                                                    "outlinewidth": 0,
                                                    "ticks": ""
                                                },
                                                "type": "choropleth"
                                            }
                                        ],
                                        "contour": [
                                            {
                                                "colorbar": {
                                                    "outlinewidth": 0,
                                                    "ticks": ""
                                                },
                                                "colorscale": [
                                                    [
                                                        0,
                                                        "#0d0887"
                                                    ],
                                                    [
                                                        0.1111111111111111,
                                                        "#46039f"
                                                    ],
                                                    [
                                                        0.2222222222222222,
                                                        "#7201a8"
                                                    ],
                                                    [
                                                        0.3333333333333333,
                                                        "#9c179e"
                                                    ],
                                                    [
                                                        0.4444444444444444,
                                                        "#bd3786"
                                                    ],
                                                    [
                                                        0.5555555555555556,
                                                        "#d8576b"
                                                    ],
                                                    [
                                                        0.6666666666666666,
                                                        "#ed7953"
                                                    ],
                                                    [
                                                        0.7777777777777778,
                                                        "#fb9f3a"
                                                    ],
                                                    [
                                                        0.8888888888888888,
                                                        "#fdca26"
                                                    ],
                                                    [
                                                        1,
                                                        "#f0f921"
                                                    ]
                                                ],
                                                "type": "contour"
                                            }
                                        ],
                                        "contourcarpet": [
                                            {
                                                "colorbar": {
                                                    "outlinewidth": 0,
                                                    "ticks": ""
                                                },
                                                "type": "contourcarpet"
                                            }
                                        ],
                                        "heatmap": [
                                            {
                                                "colorbar": {
                                                    "outlinewidth": 0,
                                                    "ticks": ""
                                                },
                                                "colorscale": [
                                                    [
                                                        0,
                                                        "#0d0887"
                                                    ],
                                                    [
                                                        0.1111111111111111,
                                                        "#46039f"
                                                    ],
                                                    [
                                                        0.2222222222222222,
                                                        "#7201a8"
                                                    ],
                                                    [
                                                        0.3333333333333333,
                                                        "#9c179e"
                                                    ],
                                                    [
                                                        0.4444444444444444,
                                                        "#bd3786"
                                                    ],
                                                    [
                                                        0.5555555555555556,
                                                        "#d8576b"
                                                    ],
                                                    [
                                                        0.6666666666666666,
                                                        "#ed7953"
                                                    ],
                                                    [
                                                        0.7777777777777778,
                                                        "#fb9f3a"
                                                    ],
                                                    [
                                                        0.8888888888888888,
                                                        "#fdca26"
                                                    ],
                                                    [
                                                        1,
                                                        "#f0f921"
                                                    ]
                                                ],
                                                "type": "heatmap"
                                            }
                                        ],
                                        "heatmapgl": [
                                            {
                                                "colorbar": {
                                                    "outlinewidth": 0,
                                                    "ticks": ""
                                                },
                                                "colorscale": [
                                                    [
                                                        0,
                                                        "#0d0887"
                                                    ],
                                                    [
                                                        0.1111111111111111,
                                                        "#46039f"
                                                    ],
                                                    [
                                                        0.2222222222222222,
                                                        "#7201a8"
                                                    ],
                                                    [
                                                        0.3333333333333333,
                                                        "#9c179e"
                                                    ],
                                                    [
                                                        0.4444444444444444,
                                                        "#bd3786"
                                                    ],
                                                    [
                                                        0.5555555555555556,
                                                        "#d8576b"
                                                    ],
                                                    [
                                                        0.6666666666666666,
                                                        "#ed7953"
                                                    ],
                                                    [
                                                        0.7777777777777778,
                                                        "#fb9f3a"
                                                    ],
                                                    [
                                                        0.8888888888888888,
                                                        "#fdca26"
                                                    ],
                                                    [
                                                        1,
                                                        "#f0f921"
                                                    ]
                                                ],
                                                "type": "heatmapgl"
                                            }
                                        ],
                                        "histogram": [
                                            {
                                                "marker": {
                                                    "colorbar": {
                                                        "outlinewidth": 0,
                                                        "ticks": ""
                                                    }
                                                },
                                                "type": "histogram"
                                            }
                                        ],
                                        "histogram2d": [
                                            {
                                                "colorbar": {
                                                    "outlinewidth": 0,
                                                    "ticks": ""
                                                },
                                                "colorscale": [
                                                    [
                                                        0,
                                                        "#0d0887"
                                                    ],
                                                    [
                                                        0.1111111111111111,
                                                        "#46039f"
                                                    ],
                                                    [
                                                        0.2222222222222222,
                                                        "#7201a8"
                                                    ],
                                                    [
                                                        0.3333333333333333,
                                                        "#9c179e"
                                                    ],
                                                    [
                                                        0.4444444444444444,
                                                        "#bd3786"
                                                    ],
                                                    [
                                                        0.5555555555555556,
                                                        "#d8576b"
                                                    ],
                                                    [
                                                        0.6666666666666666,
                                                        "#ed7953"
                                                    ],
                                                    [
                                                        0.7777777777777778,
                                                        "#fb9f3a"
                                                    ],
                                                    [
                                                        0.8888888888888888,
                                                        "#fdca26"
                                                    ],
                                                    [
                                                        1,
                                                        "#f0f921"
                                                    ]
                                                ],
                                                "type": "histogram2d"
                                            }
                                        ],
                                        "histogram2dcontour": [
                                            {
                                                "colorbar": {
                                                    "outlinewidth": 0,
                                                    "ticks": ""
                                                },
                                                "colorscale": [
                                                    [
                                                        0,
                                                        "#0d0887"
                                                    ],
                                                    [
                                                        0.1111111111111111,
                                                        "#46039f"
                                                    ],
                                                    [
                                                        0.2222222222222222,
                                                        "#7201a8"
                                                    ],
                                                    [
                                                        0.3333333333333333,
                                                        "#9c179e"
                                                    ],
                                                    [
                                                        0.4444444444444444,
                                                        "#bd3786"
                                                    ],
                                                    [
                                                        0.5555555555555556,
                                                        "#d8576b"
                                                    ],
                                                    [
                                                        0.6666666666666666,
                                                        "#ed7953"
                                                    ],
                                                    [
                                                        0.7777777777777778,
                                                        "#fb9f3a"
                                                    ],
                                                    [
                                                        0.8888888888888888,
                                                        "#fdca26"
                                                    ],
                                                    [
                                                        1,
                                                        "#f0f921"
                                                    ]
                                                ],
                                                "type": "histogram2dcontour"
                                            }
                                        ],
                                        "mesh3d": [
                                            {
                                                "colorbar": {
                                                    "outlinewidth": 0,
                                                    "ticks": ""
                                                },
                                                "type": "mesh3d"
                                            }
                                        ],
                                        "parcoords": [
                                            {
                                                "line": {
                                                    "colorbar": {
                                                        "outlinewidth": 0,
                                                        "ticks": ""
                                                    }
                                                },
                                                "type": "parcoords"
                                            }
                                        ],
                                        "pie": [
                                            {
                                                "automargin": true,
                                                "type": "pie"
                                            }
                                        ],
                                        "scatter": [
                                            {
                                                "marker": {
                                                    "colorbar": {
                                                        "outlinewidth": 0,
                                                        "ticks": ""
                                                    }
                                                },
                                                "type": "scatter"
                                            }
                                        ],
                                        "scatter3d": [
                                            {
                                                "line": {
                                                    "colorbar": {
                                                        "outlinewidth": 0,
                                                        "ticks": ""
                                                    }
                                                },
                                                "marker": {
                                                    "colorbar": {
                                                        "outlinewidth": 0,
                                                        "ticks": ""
                                                    }
                                                },
                                                "type": "scatter3d"
                                            }
                                        ],
                                        "scattercarpet": [
                                            {
                                                "marker": {
                                                    "colorbar": {
                                                        "outlinewidth": 0,
                                                        "ticks": ""
                                                    }
                                                },
                                                "type": "scattercarpet"
                                            }
                                        ],
                                        "scattergeo": [
                                            {
                                                "marker": {
                                                    "colorbar": {
                                                        "outlinewidth": 0,
                                                        "ticks": ""
                                                    }
                                                },
                                                "type": "scattergeo"
                                            }
                                        ],
                                        "scattergl": [
                                            {
                                                "marker": {
                                                    "colorbar": {
                                                        "outlinewidth": 0,
                                                        "ticks": ""
                                                    }
                                                },
                                                "type": "scattergl"
                                            }
                                        ],
                                        "scattermapbox": [
                                            {
                                                "marker": {
                                                    "colorbar": {
                                                        "outlinewidth": 0,
                                                        "ticks": ""
                                                    }
                                                },
                                                "type": "scattermapbox"
                                            }
                                        ],
                                        "scatterpolar": [
                                            {
                                                "marker": {
                                                    "colorbar": {
                                                        "outlinewidth": 0,
                                                        "ticks": ""
                                                    }
                                                },
                                                "type": "scatterpolar"
                                            }
                                        ],
                                        "scatterpolargl": [
                                            {
                                                "marker": {
                                                    "colorbar": {
                                                        "outlinewidth": 0,
                                                        "ticks": ""
                                                    }
                                                },
                                                "type": "scatterpolargl"
                                            }
                                        ],
                                        "scatterternary": [
                                            {
                                                "marker": {
                                                    "colorbar": {
                                                        "outlinewidth": 0,
                                                        "ticks": ""
                                                    }
                                                },
                                                "type": "scatterternary"
                                            }
                                        ],
                                        "surface": [
                                            {
                                                "colorbar": {
                                                    "outlinewidth": 0,
                                                    "ticks": ""
                                                },
                                                "colorscale": [
                                                    [
                                                        0,
                                                        "#0d0887"
                                                    ],
                                                    [
                                                        0.1111111111111111,
                                                        "#46039f"
                                                    ],
                                                    [
                                                        0.2222222222222222,
                                                        "#7201a8"
                                                    ],
                                                    [
                                                        0.3333333333333333,
                                                        "#9c179e"
                                                    ],
                                                    [
                                                        0.4444444444444444,
                                                        "#bd3786"
                                                    ],
                                                    [
                                                        0.5555555555555556,
                                                        "#d8576b"
                                                    ],
                                                    [
                                                        0.6666666666666666,
                                                        "#ed7953"
                                                    ],
                                                    [
                                                        0.7777777777777778,
                                                        "#fb9f3a"
                                                    ],
                                                    [
                                                        0.8888888888888888,
                                                        "#fdca26"
                                                    ],
                                                    [
                                                        1,
                                                        "#f0f921"
                                                    ]
                                                ],
                                                "type": "surface"
                                            }
                                        ],
                                        "table": [
                                            {
                                                "cells": {
                                                    "fill": {
                                                        "color": "#EBF0F8"
                                                    },
                                                    "line": {
                                                        "color": "white"
                                                    }
                                                },
                                                "header": {
                                                    "fill": {
                                                        "color": "#C8D4E3"
                                                    },
                                                    "line": {
                                                        "color": "white"
                                                    }
                                                },
                                                "type": "table"
                                            }
                                        ]
                                    },
                                    "layout": {
                                        "annotationdefaults": {
                                            "arrowcolor": "#2a3f5f",
                                            "arrowhead": 0,
                                            "arrowwidth": 1
                                        },
                                        "autotypenumbers": "strict",
                                        "coloraxis": {
                                            "colorbar": {
                                                "outlinewidth": 0,
                                                "ticks": ""
                                            }
                                        },
                                        "colorscale": {
                                            "diverging": [
                                                [
                                                    0,
                                                    "#8e0152"
                                                ],
                                                [
                                                    0.1,
                                                    "#c51b7d"
                                                ],
                                                [
                                                    0.2,
                                                    "#de77ae"
                                                ],
                                                [
                                                    0.3,
                                                    "#f1b6da"
                                                ],
                                                [
                                                    0.4,
                                                    "#fde0ef"
                                                ],
                                                [
                                                    0.5,
                                                    "#f7f7f7"
                                                ],
                                                [
                                                    0.6,
                                                    "#e6f5d0"
                                                ],
                                                [
                                                    0.7,
                                                    "#b8e186"
                                                ],
                                                [
                                                    0.8,
                                                    "#7fbc41"
                                                ],
                                                [
                                                    0.9,
                                                    "#4d9221"
                                                ],
                                                [
                                                    1,
                                                    "#276419"
                                                ]
                                            ],
                                            "sequential": [
                                                [
                                                    0,
                                                    "#0d0887"
                                                ],
                                                [
                                                    0.1111111111111111,
                                                    "#46039f"
                                                ],
                                                [
                                                    0.2222222222222222,
                                                    "#7201a8"
                                                ],
                                                [
                                                    0.3333333333333333,
                                                    "#9c179e"
                                                ],
                                                [
                                                    0.4444444444444444,
                                                    "#bd3786"
                                                ],
                                                [
                                                    0.5555555555555556,
                                                    "#d8576b"
                                                ],
                                                [
                                                    0.6666666666666666,
                                                    "#ed7953"
                                                ],
                                                [
                                                    0.7777777777777778,
                                                    "#fb9f3a"
                                                ],
                                                [
                                                    0.8888888888888888,
                                                    "#fdca26"
                                                ],
                                                [
                                                    1,
                                                    "#f0f921"
                                                ]
                                            ],
                                            "sequentialminus": [
                                                [
                                                    0,
                                                    "#0d0887"
                                                ],
                                                [
                                                    0.1111111111111111,
                                                    "#46039f"
                                                ],
                                                [
                                                    0.2222222222222222,
                                                    "#7201a8"
                                                ],
                                                [
                                                    0.3333333333333333,
                                                    "#9c179e"
                                                ],
                                                [
                                                    0.4444444444444444,
                                                    "#bd3786"
                                                ],
                                                [
                                                    0.5555555555555556,
                                                    "#d8576b"
                                                ],
                                                [
                                                    0.6666666666666666,
                                                    "#ed7953"
                                                ],
                                                [
                                                    0.7777777777777778,
                                                    "#fb9f3a"
                                                ],
                                                [
                                                    0.8888888888888888,
                                                    "#fdca26"
                                                ],
                                                [
                                                    1,
                                                    "#f0f921"
                                                ]
                                            ]
                                        },
                                        "colorway": [
                                            "#636efa",
                                            "#EF553B",
                                            "#00cc96",
                                            "#ab63fa",
                                            "#FFA15A",
                                            "#19d3f3",
                                            "#FF6692",
                                            "#B6E880",
                                            "#FF97FF",
                                            "#FECB52"
                                        ],
                                        "font": {
                                            "color": "#2a3f5f"
                                        },
                                        "geo": {
                                            "bgcolor": "white",
                                            "lakecolor": "white",
                                            "landcolor": "#E5ECF6",
                                            "showlakes": true,
                                            "showland": true,
                                            "subunitcolor": "white"
                                        },
                                        "hoverlabel": {
                                            "align": "left"
                                        },
                                        "hovermode": "closest",
                                        "mapbox": {
                                            "style": "light"
                                        },
                                        "paper_bgcolor": "white",
                                        "plot_bgcolor": "#E5ECF6",
                                        "polar": {
                                            "angularaxis": {
                                                "gridcolor": "white",
                                                "linecolor": "white",
                                                "ticks": ""
                                            },
                                            "bgcolor": "#E5ECF6",
                                            "radialaxis": {
                                                "gridcolor": "white",
                                                "linecolor": "white",
                                                "ticks": ""
                                            }
                                        },
                                        "scene": {
                                            "xaxis": {
                                                "backgroundcolor": "#E5ECF6",
                                                "gridcolor": "white",
                                                "gridwidth": 2,
                                                "linecolor": "white",
                                                "showbackground": true,
                                                "ticks": "",
                                                "zerolinecolor": "white"
                                            },
                                            "yaxis": {
                                                "backgroundcolor": "#E5ECF6",
                                                "gridcolor": "white",
                                                "gridwidth": 2,
                                                "linecolor": "white",
                                                "showbackground": true,
                                                "ticks": "",
                                                "zerolinecolor": "white"
                                            },
                                            "zaxis": {
                                                "backgroundcolor": "#E5ECF6",
                                                "gridcolor": "white",
                                                "gridwidth": 2,
                                                "linecolor": "white",
                                                "showbackground": true,
                                                "ticks": "",
                                                "zerolinecolor": "white"
                                            }
                                        },
                                        "shapedefaults": {
                                            "line": {
                                                "color": "#2a3f5f"
                                            }
                                        },
                                        "ternary": {
                                            "aaxis": {
                                                "gridcolor": "white",
                                                "linecolor": "white",
                                                "ticks": ""
                                            },
                                            "baxis": {
                                                "gridcolor": "white",
                                                "linecolor": "white",
                                                "ticks": ""
                                            },
                                            "bgcolor": "#E5ECF6",
                                            "caxis": {
                                                "gridcolor": "white",
                                                "linecolor": "white",
                                                "ticks": ""
                                            }
                                        },
                                        "title": {
                                            "x": 0.05
                                        },
                                        "xaxis": {
                                            "automargin": true,
                                            "gridcolor": "white",
                                            "linecolor": "white",
                                            "ticks": "",
                                            "title": {
                                                "standoff": 15
                                            },
                                            "zerolinecolor": "white",
                                            "zerolinewidth": 2
                                        },
                                        "yaxis": {
                                            "automargin": true,
                                            "gridcolor": "white",
                                            "linecolor": "white",
                                            "ticks": "",
                                            "title": {
                                                "standoff": 15
                                            },
                                            "zerolinecolor": "white",
                                            "zerolinewidth": 2
                                        }
                                    }
                                },
                                "xaxis": {
                                    "anchor": "y",
                                    "domain": [
                                        0,
                                        1
                                    ],
                                    "title": {
                                        "text": "prec"
                                    }
                                },
                                "yaxis": {
                                    "anchor": "x",
                                    "domain": [
                                        0,
                                        1
                                    ],
                                    "title": {
                                        "text": "attendance"
                                    }
                                }
                            }
                        }
                    },
                    "metadata": {},
                    "output_type": "display_data"
                }
            ],
            "source": [
                "fig = px.scatter(scaled_df, x=\"prec\", y=\"attendance\",hover_data=['year'], color='state')\n",
                "fig.show()"
            ]
        },
        {
            "cell_type": "code",
            "execution_count": 68,
            "metadata": {},
            "outputs": [
                {
                    "name": "stdout",
                    "output_type": "stream",
                    "text": [
                        "Pearsons correlation MN: -0.5143400934180269\n",
                        "Pearsons correlation NC: -0.48551101323735\n",
                        "Pearsons correlation NY: -0.13659232980277639\n",
                        "Pearsons correlation TX: -0.3667971819390203\n"
                    ]
                }
            ],
            "source": [
                "# calculate Pearson's correlation (all years)\n",
                "for state in scaled_df.state.unique():\n",
                "    corr, _ = pearsonr(scaled_df[(scaled_df['state']==state) & (scaled_df['prec']>0)]['prec'], scaled_df[(scaled_df['state']==state) & (scaled_df['prec']>0)]['attendance'])\n",
                "    print('Pearsons correlation {}: {}'.format(state,corr))"
            ]
        },
        {
            "cell_type": "code",
            "execution_count": 69,
            "metadata": {},
            "outputs": [
                {
                    "name": "stdout",
                    "output_type": "stream",
                    "text": [
                        "Pearsons correlation MN: -0.6556076481480855\n",
                        "Pearsons correlation NC: -0.8156647325777969\n",
                        "Pearsons correlation NY: -0.26613381455497537\n",
                        "Pearsons correlation TX: -0.34736621716633986\n"
                    ]
                }
            ],
            "source": [
                "# calculate Pearson's correlation (pre-covid up to 2019)\n",
                "for state in scaled_df.state.unique():\n",
                "    corr, _ = pearsonr(scaled_df[(scaled_df['state']==state) & (scaled_df['prec']>0)&(scaled_df['year']<2020)]['prec'], scaled_df[(scaled_df['state']==state) & (scaled_df['prec']>0)&(scaled_df['year']<2020)]['attendance'])\n",
                "    print('Pearsons correlation {}: {}'.format(state,corr))"
            ]
        },
        {
            "cell_type": "markdown",
            "metadata": {},
            "source": [
                "As expected, we see a negative correlation between rainfall and attendance. The strength of the correlation is weaker when we add data from 2020 onwards, and we hypothesize that it is due to the COVID-19 pandemic. Therefore, we will now only take into account data up to and including 2019. However, it is important to note that there are many variables other than rainfall that have an effect on attendance. "
            ]
        },
        {
            "cell_type": "markdown",
            "metadata": {},
            "source": [
                "---\n",
                "# Optimized curve fit"
            ]
        },
        {
            "cell_type": "code",
            "execution_count": 70,
            "metadata": {},
            "outputs": [],
            "source": [
                "from sklearn.preprocessing import MaxAbsScaler, RobustScaler \n",
                "\n",
                "from scipy.optimize import curve_fit"
            ]
        },
        {
            "cell_type": "markdown",
            "metadata": {},
            "source": [
                "## Reprocessing dataframe"
            ]
        },
        {
            "cell_type": "markdown",
            "metadata": {},
            "source": [
                "Here, we reprocess the data from each frame individually. For each state, the distribution of attendance rates is likely to be different due to individual fair size, population, etc... Therefore, we scale each of these fairs individually.\n",
                "\n",
                "The MaxAbsScaler used \"does not destroy any sparsity\", which is important as the days with precipatation are very sparse in the dataset. Furthermore, \"maximal absolute value of each feature in the training set will be 1.0\" which allows us to compare between states. (https://scikit-learn.org/stable/modules/generated/sklearn.preprocessing.MaxAbsScaler.html)\n"
            ]
        },
        {
            "cell_type": "code",
            "execution_count": 71,
            "metadata": {},
            "outputs": [],
            "source": [
                "MN_df = df[df['state']=='MN']\n",
                "TX_df = df[df['state']=='TX']\n",
                "NC_df = df[df['state']=='NC']\n",
                "NC_df = NC_df.drop(NC_df[(NC_df['state']=='NC') & (NC_df['year']==2019)].index) #removing the outlier\n",
                "NY_df = df[df['state']=='NY']\n"
            ]
        },
        {
            "cell_type": "code",
            "execution_count": 72,
            "metadata": {},
            "outputs": [],
            "source": [
                "def preprocess_state_df(df):\n",
                "    df = df[df['year']<2020]\n",
                "    scaler_prec = MaxAbsScaler()\n",
                "    X_train_prec = scaler_prec.fit_transform(np.array(df ['prec']).reshape(-1,1))\n",
                "    scaler_att = MaxAbsScaler()\n",
                "    X_train_att = scaler_att.fit_transform(np.array(df['attendance']).reshape(-1,1))\n",
                "    df['scaled_prec'] = X_train_prec\n",
                "    df['scaled_att'] = X_train_att\n",
                "    df = df[df['prec']>0]\n",
                "\n",
                "    q_low = df[\"attendance\"].quantile(0.0)\n",
                "    q_hi  = df[\"attendance\"].quantile(1)\n",
                "    df_filtered = df[(df[\"attendance\"] < q_hi) & (df[\"attendance\"] > q_low)]\n",
                "    return df_filtered, scaler_prec, scaler_att"
            ]
        },
        {
            "cell_type": "code",
            "execution_count": 73,
            "metadata": {},
            "outputs": [
                {
                    "name": "stderr",
                    "output_type": "stream",
                    "text": [
                        "C:\\Users\\joyji\\Anaconda3\\envs\\myenv\\lib\\site-packages\\ipykernel_launcher.py:7: SettingWithCopyWarning:\n",
                        "\n",
                        "\n",
                        "A value is trying to be set on a copy of a slice from a DataFrame.\n",
                        "Try using .loc[row_indexer,col_indexer] = value instead\n",
                        "\n",
                        "See the caveats in the documentation: https://pandas.pydata.org/pandas-docs/stable/user_guide/indexing.html#returning-a-view-versus-a-copy\n",
                        "\n",
                        "C:\\Users\\joyji\\Anaconda3\\envs\\myenv\\lib\\site-packages\\ipykernel_launcher.py:8: SettingWithCopyWarning:\n",
                        "\n",
                        "\n",
                        "A value is trying to be set on a copy of a slice from a DataFrame.\n",
                        "Try using .loc[row_indexer,col_indexer] = value instead\n",
                        "\n",
                        "See the caveats in the documentation: https://pandas.pydata.org/pandas-docs/stable/user_guide/indexing.html#returning-a-view-versus-a-copy\n",
                        "\n",
                        "C:\\Users\\joyji\\Anaconda3\\envs\\myenv\\lib\\site-packages\\ipykernel_launcher.py:7: SettingWithCopyWarning:\n",
                        "\n",
                        "\n",
                        "A value is trying to be set on a copy of a slice from a DataFrame.\n",
                        "Try using .loc[row_indexer,col_indexer] = value instead\n",
                        "\n",
                        "See the caveats in the documentation: https://pandas.pydata.org/pandas-docs/stable/user_guide/indexing.html#returning-a-view-versus-a-copy\n",
                        "\n",
                        "C:\\Users\\joyji\\Anaconda3\\envs\\myenv\\lib\\site-packages\\ipykernel_launcher.py:8: SettingWithCopyWarning:\n",
                        "\n",
                        "\n",
                        "A value is trying to be set on a copy of a slice from a DataFrame.\n",
                        "Try using .loc[row_indexer,col_indexer] = value instead\n",
                        "\n",
                        "See the caveats in the documentation: https://pandas.pydata.org/pandas-docs/stable/user_guide/indexing.html#returning-a-view-versus-a-copy\n",
                        "\n",
                        "C:\\Users\\joyji\\Anaconda3\\envs\\myenv\\lib\\site-packages\\ipykernel_launcher.py:7: SettingWithCopyWarning:\n",
                        "\n",
                        "\n",
                        "A value is trying to be set on a copy of a slice from a DataFrame.\n",
                        "Try using .loc[row_indexer,col_indexer] = value instead\n",
                        "\n",
                        "See the caveats in the documentation: https://pandas.pydata.org/pandas-docs/stable/user_guide/indexing.html#returning-a-view-versus-a-copy\n",
                        "\n",
                        "C:\\Users\\joyji\\Anaconda3\\envs\\myenv\\lib\\site-packages\\ipykernel_launcher.py:8: SettingWithCopyWarning:\n",
                        "\n",
                        "\n",
                        "A value is trying to be set on a copy of a slice from a DataFrame.\n",
                        "Try using .loc[row_indexer,col_indexer] = value instead\n",
                        "\n",
                        "See the caveats in the documentation: https://pandas.pydata.org/pandas-docs/stable/user_guide/indexing.html#returning-a-view-versus-a-copy\n",
                        "\n"
                    ]
                }
            ],
            "source": [
                "MN_df_scaled, MN_scaler_prec, MN_scaler_att = preprocess_state_df(MN_df)\n",
                "\n",
                "NC_df_scaled, NC_scaler_prec, NC_scaler_att = preprocess_state_df(NC_df)\n",
                "\n",
                "NY_df_scaled, NY_scaler_prec, NY_scaler_att = preprocess_state_df(NY_df)\n"
            ]
        },
        {
            "cell_type": "code",
            "execution_count": 74,
            "metadata": {},
            "outputs": [
                {
                    "name": "stderr",
                    "output_type": "stream",
                    "text": [
                        "C:\\Users\\joyji\\Anaconda3\\envs\\myenv\\lib\\site-packages\\ipykernel_launcher.py:7: SettingWithCopyWarning:\n",
                        "\n",
                        "\n",
                        "A value is trying to be set on a copy of a slice from a DataFrame.\n",
                        "Try using .loc[row_indexer,col_indexer] = value instead\n",
                        "\n",
                        "See the caveats in the documentation: https://pandas.pydata.org/pandas-docs/stable/user_guide/indexing.html#returning-a-view-versus-a-copy\n",
                        "\n",
                        "C:\\Users\\joyji\\Anaconda3\\envs\\myenv\\lib\\site-packages\\ipykernel_launcher.py:8: SettingWithCopyWarning:\n",
                        "\n",
                        "\n",
                        "A value is trying to be set on a copy of a slice from a DataFrame.\n",
                        "Try using .loc[row_indexer,col_indexer] = value instead\n",
                        "\n",
                        "See the caveats in the documentation: https://pandas.pydata.org/pandas-docs/stable/user_guide/indexing.html#returning-a-view-versus-a-copy\n",
                        "\n"
                    ]
                },
                {
                    "data": {
                        "application/vnd.plotly.v1+json": {
                            "config": {
                                "plotlyServerURL": "https://plot.ly"
                            },
                            "data": [
                                {
                                    "hovertemplate": "prec=%{x}<br>attendance=%{y}<extra></extra>",
                                    "legendgroup": "",
                                    "marker": {
                                        "color": "#636efa",
                                        "symbol": "circle"
                                    },
                                    "mode": "markers",
                                    "name": "",
                                    "orientation": "v",
                                    "showlegend": false,
                                    "type": "scatter",
                                    "x": [
                                        3.39,
                                        17.7,
                                        0.22,
                                        7.98,
                                        0.26,
                                        24.52,
                                        1.9,
                                        5.44,
                                        5.87,
                                        47.48,
                                        19.59,
                                        66.86,
                                        25.94,
                                        59.94,
                                        9.93,
                                        0.59,
                                        13.47,
                                        4.12,
                                        7.7,
                                        17.74,
                                        15.84,
                                        1.63,
                                        0.77,
                                        28.6
                                    ],
                                    "xaxis": "x",
                                    "y": [
                                        75089,
                                        54754,
                                        66181,
                                        122911,
                                        132705,
                                        144560,
                                        122708,
                                        190490,
                                        93636,
                                        35092,
                                        91290,
                                        59309,
                                        104649,
                                        28237,
                                        39946,
                                        81652,
                                        45345,
                                        43634,
                                        53760,
                                        120818,
                                        101283,
                                        169956,
                                        84217,
                                        153636
                                    ],
                                    "yaxis": "y"
                                }
                            ],
                            "layout": {
                                "legend": {
                                    "tracegroupgap": 0
                                },
                                "margin": {
                                    "t": 60
                                },
                                "template": {
                                    "data": {
                                        "bar": [
                                            {
                                                "error_x": {
                                                    "color": "#2a3f5f"
                                                },
                                                "error_y": {
                                                    "color": "#2a3f5f"
                                                },
                                                "marker": {
                                                    "line": {
                                                        "color": "#E5ECF6",
                                                        "width": 0.5
                                                    }
                                                },
                                                "type": "bar"
                                            }
                                        ],
                                        "barpolar": [
                                            {
                                                "marker": {
                                                    "line": {
                                                        "color": "#E5ECF6",
                                                        "width": 0.5
                                                    }
                                                },
                                                "type": "barpolar"
                                            }
                                        ],
                                        "carpet": [
                                            {
                                                "aaxis": {
                                                    "endlinecolor": "#2a3f5f",
                                                    "gridcolor": "white",
                                                    "linecolor": "white",
                                                    "minorgridcolor": "white",
                                                    "startlinecolor": "#2a3f5f"
                                                },
                                                "baxis": {
                                                    "endlinecolor": "#2a3f5f",
                                                    "gridcolor": "white",
                                                    "linecolor": "white",
                                                    "minorgridcolor": "white",
                                                    "startlinecolor": "#2a3f5f"
                                                },
                                                "type": "carpet"
                                            }
                                        ],
                                        "choropleth": [
                                            {
                                                "colorbar": {
                                                    "outlinewidth": 0,
                                                    "ticks": ""
                                                },
                                                "type": "choropleth"
                                            }
                                        ],
                                        "contour": [
                                            {
                                                "colorbar": {
                                                    "outlinewidth": 0,
                                                    "ticks": ""
                                                },
                                                "colorscale": [
                                                    [
                                                        0,
                                                        "#0d0887"
                                                    ],
                                                    [
                                                        0.1111111111111111,
                                                        "#46039f"
                                                    ],
                                                    [
                                                        0.2222222222222222,
                                                        "#7201a8"
                                                    ],
                                                    [
                                                        0.3333333333333333,
                                                        "#9c179e"
                                                    ],
                                                    [
                                                        0.4444444444444444,
                                                        "#bd3786"
                                                    ],
                                                    [
                                                        0.5555555555555556,
                                                        "#d8576b"
                                                    ],
                                                    [
                                                        0.6666666666666666,
                                                        "#ed7953"
                                                    ],
                                                    [
                                                        0.7777777777777778,
                                                        "#fb9f3a"
                                                    ],
                                                    [
                                                        0.8888888888888888,
                                                        "#fdca26"
                                                    ],
                                                    [
                                                        1,
                                                        "#f0f921"
                                                    ]
                                                ],
                                                "type": "contour"
                                            }
                                        ],
                                        "contourcarpet": [
                                            {
                                                "colorbar": {
                                                    "outlinewidth": 0,
                                                    "ticks": ""
                                                },
                                                "type": "contourcarpet"
                                            }
                                        ],
                                        "heatmap": [
                                            {
                                                "colorbar": {
                                                    "outlinewidth": 0,
                                                    "ticks": ""
                                                },
                                                "colorscale": [
                                                    [
                                                        0,
                                                        "#0d0887"
                                                    ],
                                                    [
                                                        0.1111111111111111,
                                                        "#46039f"
                                                    ],
                                                    [
                                                        0.2222222222222222,
                                                        "#7201a8"
                                                    ],
                                                    [
                                                        0.3333333333333333,
                                                        "#9c179e"
                                                    ],
                                                    [
                                                        0.4444444444444444,
                                                        "#bd3786"
                                                    ],
                                                    [
                                                        0.5555555555555556,
                                                        "#d8576b"
                                                    ],
                                                    [
                                                        0.6666666666666666,
                                                        "#ed7953"
                                                    ],
                                                    [
                                                        0.7777777777777778,
                                                        "#fb9f3a"
                                                    ],
                                                    [
                                                        0.8888888888888888,
                                                        "#fdca26"
                                                    ],
                                                    [
                                                        1,
                                                        "#f0f921"
                                                    ]
                                                ],
                                                "type": "heatmap"
                                            }
                                        ],
                                        "heatmapgl": [
                                            {
                                                "colorbar": {
                                                    "outlinewidth": 0,
                                                    "ticks": ""
                                                },
                                                "colorscale": [
                                                    [
                                                        0,
                                                        "#0d0887"
                                                    ],
                                                    [
                                                        0.1111111111111111,
                                                        "#46039f"
                                                    ],
                                                    [
                                                        0.2222222222222222,
                                                        "#7201a8"
                                                    ],
                                                    [
                                                        0.3333333333333333,
                                                        "#9c179e"
                                                    ],
                                                    [
                                                        0.4444444444444444,
                                                        "#bd3786"
                                                    ],
                                                    [
                                                        0.5555555555555556,
                                                        "#d8576b"
                                                    ],
                                                    [
                                                        0.6666666666666666,
                                                        "#ed7953"
                                                    ],
                                                    [
                                                        0.7777777777777778,
                                                        "#fb9f3a"
                                                    ],
                                                    [
                                                        0.8888888888888888,
                                                        "#fdca26"
                                                    ],
                                                    [
                                                        1,
                                                        "#f0f921"
                                                    ]
                                                ],
                                                "type": "heatmapgl"
                                            }
                                        ],
                                        "histogram": [
                                            {
                                                "marker": {
                                                    "colorbar": {
                                                        "outlinewidth": 0,
                                                        "ticks": ""
                                                    }
                                                },
                                                "type": "histogram"
                                            }
                                        ],
                                        "histogram2d": [
                                            {
                                                "colorbar": {
                                                    "outlinewidth": 0,
                                                    "ticks": ""
                                                },
                                                "colorscale": [
                                                    [
                                                        0,
                                                        "#0d0887"
                                                    ],
                                                    [
                                                        0.1111111111111111,
                                                        "#46039f"
                                                    ],
                                                    [
                                                        0.2222222222222222,
                                                        "#7201a8"
                                                    ],
                                                    [
                                                        0.3333333333333333,
                                                        "#9c179e"
                                                    ],
                                                    [
                                                        0.4444444444444444,
                                                        "#bd3786"
                                                    ],
                                                    [
                                                        0.5555555555555556,
                                                        "#d8576b"
                                                    ],
                                                    [
                                                        0.6666666666666666,
                                                        "#ed7953"
                                                    ],
                                                    [
                                                        0.7777777777777778,
                                                        "#fb9f3a"
                                                    ],
                                                    [
                                                        0.8888888888888888,
                                                        "#fdca26"
                                                    ],
                                                    [
                                                        1,
                                                        "#f0f921"
                                                    ]
                                                ],
                                                "type": "histogram2d"
                                            }
                                        ],
                                        "histogram2dcontour": [
                                            {
                                                "colorbar": {
                                                    "outlinewidth": 0,
                                                    "ticks": ""
                                                },
                                                "colorscale": [
                                                    [
                                                        0,
                                                        "#0d0887"
                                                    ],
                                                    [
                                                        0.1111111111111111,
                                                        "#46039f"
                                                    ],
                                                    [
                                                        0.2222222222222222,
                                                        "#7201a8"
                                                    ],
                                                    [
                                                        0.3333333333333333,
                                                        "#9c179e"
                                                    ],
                                                    [
                                                        0.4444444444444444,
                                                        "#bd3786"
                                                    ],
                                                    [
                                                        0.5555555555555556,
                                                        "#d8576b"
                                                    ],
                                                    [
                                                        0.6666666666666666,
                                                        "#ed7953"
                                                    ],
                                                    [
                                                        0.7777777777777778,
                                                        "#fb9f3a"
                                                    ],
                                                    [
                                                        0.8888888888888888,
                                                        "#fdca26"
                                                    ],
                                                    [
                                                        1,
                                                        "#f0f921"
                                                    ]
                                                ],
                                                "type": "histogram2dcontour"
                                            }
                                        ],
                                        "mesh3d": [
                                            {
                                                "colorbar": {
                                                    "outlinewidth": 0,
                                                    "ticks": ""
                                                },
                                                "type": "mesh3d"
                                            }
                                        ],
                                        "parcoords": [
                                            {
                                                "line": {
                                                    "colorbar": {
                                                        "outlinewidth": 0,
                                                        "ticks": ""
                                                    }
                                                },
                                                "type": "parcoords"
                                            }
                                        ],
                                        "pie": [
                                            {
                                                "automargin": true,
                                                "type": "pie"
                                            }
                                        ],
                                        "scatter": [
                                            {
                                                "marker": {
                                                    "colorbar": {
                                                        "outlinewidth": 0,
                                                        "ticks": ""
                                                    }
                                                },
                                                "type": "scatter"
                                            }
                                        ],
                                        "scatter3d": [
                                            {
                                                "line": {
                                                    "colorbar": {
                                                        "outlinewidth": 0,
                                                        "ticks": ""
                                                    }
                                                },
                                                "marker": {
                                                    "colorbar": {
                                                        "outlinewidth": 0,
                                                        "ticks": ""
                                                    }
                                                },
                                                "type": "scatter3d"
                                            }
                                        ],
                                        "scattercarpet": [
                                            {
                                                "marker": {
                                                    "colorbar": {
                                                        "outlinewidth": 0,
                                                        "ticks": ""
                                                    }
                                                },
                                                "type": "scattercarpet"
                                            }
                                        ],
                                        "scattergeo": [
                                            {
                                                "marker": {
                                                    "colorbar": {
                                                        "outlinewidth": 0,
                                                        "ticks": ""
                                                    }
                                                },
                                                "type": "scattergeo"
                                            }
                                        ],
                                        "scattergl": [
                                            {
                                                "marker": {
                                                    "colorbar": {
                                                        "outlinewidth": 0,
                                                        "ticks": ""
                                                    }
                                                },
                                                "type": "scattergl"
                                            }
                                        ],
                                        "scattermapbox": [
                                            {
                                                "marker": {
                                                    "colorbar": {
                                                        "outlinewidth": 0,
                                                        "ticks": ""
                                                    }
                                                },
                                                "type": "scattermapbox"
                                            }
                                        ],
                                        "scatterpolar": [
                                            {
                                                "marker": {
                                                    "colorbar": {
                                                        "outlinewidth": 0,
                                                        "ticks": ""
                                                    }
                                                },
                                                "type": "scatterpolar"
                                            }
                                        ],
                                        "scatterpolargl": [
                                            {
                                                "marker": {
                                                    "colorbar": {
                                                        "outlinewidth": 0,
                                                        "ticks": ""
                                                    }
                                                },
                                                "type": "scatterpolargl"
                                            }
                                        ],
                                        "scatterternary": [
                                            {
                                                "marker": {
                                                    "colorbar": {
                                                        "outlinewidth": 0,
                                                        "ticks": ""
                                                    }
                                                },
                                                "type": "scatterternary"
                                            }
                                        ],
                                        "surface": [
                                            {
                                                "colorbar": {
                                                    "outlinewidth": 0,
                                                    "ticks": ""
                                                },
                                                "colorscale": [
                                                    [
                                                        0,
                                                        "#0d0887"
                                                    ],
                                                    [
                                                        0.1111111111111111,
                                                        "#46039f"
                                                    ],
                                                    [
                                                        0.2222222222222222,
                                                        "#7201a8"
                                                    ],
                                                    [
                                                        0.3333333333333333,
                                                        "#9c179e"
                                                    ],
                                                    [
                                                        0.4444444444444444,
                                                        "#bd3786"
                                                    ],
                                                    [
                                                        0.5555555555555556,
                                                        "#d8576b"
                                                    ],
                                                    [
                                                        0.6666666666666666,
                                                        "#ed7953"
                                                    ],
                                                    [
                                                        0.7777777777777778,
                                                        "#fb9f3a"
                                                    ],
                                                    [
                                                        0.8888888888888888,
                                                        "#fdca26"
                                                    ],
                                                    [
                                                        1,
                                                        "#f0f921"
                                                    ]
                                                ],
                                                "type": "surface"
                                            }
                                        ],
                                        "table": [
                                            {
                                                "cells": {
                                                    "fill": {
                                                        "color": "#EBF0F8"
                                                    },
                                                    "line": {
                                                        "color": "white"
                                                    }
                                                },
                                                "header": {
                                                    "fill": {
                                                        "color": "#C8D4E3"
                                                    },
                                                    "line": {
                                                        "color": "white"
                                                    }
                                                },
                                                "type": "table"
                                            }
                                        ]
                                    },
                                    "layout": {
                                        "annotationdefaults": {
                                            "arrowcolor": "#2a3f5f",
                                            "arrowhead": 0,
                                            "arrowwidth": 1
                                        },
                                        "autotypenumbers": "strict",
                                        "coloraxis": {
                                            "colorbar": {
                                                "outlinewidth": 0,
                                                "ticks": ""
                                            }
                                        },
                                        "colorscale": {
                                            "diverging": [
                                                [
                                                    0,
                                                    "#8e0152"
                                                ],
                                                [
                                                    0.1,
                                                    "#c51b7d"
                                                ],
                                                [
                                                    0.2,
                                                    "#de77ae"
                                                ],
                                                [
                                                    0.3,
                                                    "#f1b6da"
                                                ],
                                                [
                                                    0.4,
                                                    "#fde0ef"
                                                ],
                                                [
                                                    0.5,
                                                    "#f7f7f7"
                                                ],
                                                [
                                                    0.6,
                                                    "#e6f5d0"
                                                ],
                                                [
                                                    0.7,
                                                    "#b8e186"
                                                ],
                                                [
                                                    0.8,
                                                    "#7fbc41"
                                                ],
                                                [
                                                    0.9,
                                                    "#4d9221"
                                                ],
                                                [
                                                    1,
                                                    "#276419"
                                                ]
                                            ],
                                            "sequential": [
                                                [
                                                    0,
                                                    "#0d0887"
                                                ],
                                                [
                                                    0.1111111111111111,
                                                    "#46039f"
                                                ],
                                                [
                                                    0.2222222222222222,
                                                    "#7201a8"
                                                ],
                                                [
                                                    0.3333333333333333,
                                                    "#9c179e"
                                                ],
                                                [
                                                    0.4444444444444444,
                                                    "#bd3786"
                                                ],
                                                [
                                                    0.5555555555555556,
                                                    "#d8576b"
                                                ],
                                                [
                                                    0.6666666666666666,
                                                    "#ed7953"
                                                ],
                                                [
                                                    0.7777777777777778,
                                                    "#fb9f3a"
                                                ],
                                                [
                                                    0.8888888888888888,
                                                    "#fdca26"
                                                ],
                                                [
                                                    1,
                                                    "#f0f921"
                                                ]
                                            ],
                                            "sequentialminus": [
                                                [
                                                    0,
                                                    "#0d0887"
                                                ],
                                                [
                                                    0.1111111111111111,
                                                    "#46039f"
                                                ],
                                                [
                                                    0.2222222222222222,
                                                    "#7201a8"
                                                ],
                                                [
                                                    0.3333333333333333,
                                                    "#9c179e"
                                                ],
                                                [
                                                    0.4444444444444444,
                                                    "#bd3786"
                                                ],
                                                [
                                                    0.5555555555555556,
                                                    "#d8576b"
                                                ],
                                                [
                                                    0.6666666666666666,
                                                    "#ed7953"
                                                ],
                                                [
                                                    0.7777777777777778,
                                                    "#fb9f3a"
                                                ],
                                                [
                                                    0.8888888888888888,
                                                    "#fdca26"
                                                ],
                                                [
                                                    1,
                                                    "#f0f921"
                                                ]
                                            ]
                                        },
                                        "colorway": [
                                            "#636efa",
                                            "#EF553B",
                                            "#00cc96",
                                            "#ab63fa",
                                            "#FFA15A",
                                            "#19d3f3",
                                            "#FF6692",
                                            "#B6E880",
                                            "#FF97FF",
                                            "#FECB52"
                                        ],
                                        "font": {
                                            "color": "#2a3f5f"
                                        },
                                        "geo": {
                                            "bgcolor": "white",
                                            "lakecolor": "white",
                                            "landcolor": "#E5ECF6",
                                            "showlakes": true,
                                            "showland": true,
                                            "subunitcolor": "white"
                                        },
                                        "hoverlabel": {
                                            "align": "left"
                                        },
                                        "hovermode": "closest",
                                        "mapbox": {
                                            "style": "light"
                                        },
                                        "paper_bgcolor": "white",
                                        "plot_bgcolor": "#E5ECF6",
                                        "polar": {
                                            "angularaxis": {
                                                "gridcolor": "white",
                                                "linecolor": "white",
                                                "ticks": ""
                                            },
                                            "bgcolor": "#E5ECF6",
                                            "radialaxis": {
                                                "gridcolor": "white",
                                                "linecolor": "white",
                                                "ticks": ""
                                            }
                                        },
                                        "scene": {
                                            "xaxis": {
                                                "backgroundcolor": "#E5ECF6",
                                                "gridcolor": "white",
                                                "gridwidth": 2,
                                                "linecolor": "white",
                                                "showbackground": true,
                                                "ticks": "",
                                                "zerolinecolor": "white"
                                            },
                                            "yaxis": {
                                                "backgroundcolor": "#E5ECF6",
                                                "gridcolor": "white",
                                                "gridwidth": 2,
                                                "linecolor": "white",
                                                "showbackground": true,
                                                "ticks": "",
                                                "zerolinecolor": "white"
                                            },
                                            "zaxis": {
                                                "backgroundcolor": "#E5ECF6",
                                                "gridcolor": "white",
                                                "gridwidth": 2,
                                                "linecolor": "white",
                                                "showbackground": true,
                                                "ticks": "",
                                                "zerolinecolor": "white"
                                            }
                                        },
                                        "shapedefaults": {
                                            "line": {
                                                "color": "#2a3f5f"
                                            }
                                        },
                                        "ternary": {
                                            "aaxis": {
                                                "gridcolor": "white",
                                                "linecolor": "white",
                                                "ticks": ""
                                            },
                                            "baxis": {
                                                "gridcolor": "white",
                                                "linecolor": "white",
                                                "ticks": ""
                                            },
                                            "bgcolor": "#E5ECF6",
                                            "caxis": {
                                                "gridcolor": "white",
                                                "linecolor": "white",
                                                "ticks": ""
                                            }
                                        },
                                        "title": {
                                            "x": 0.05
                                        },
                                        "xaxis": {
                                            "automargin": true,
                                            "gridcolor": "white",
                                            "linecolor": "white",
                                            "ticks": "",
                                            "title": {
                                                "standoff": 15
                                            },
                                            "zerolinecolor": "white",
                                            "zerolinewidth": 2
                                        },
                                        "yaxis": {
                                            "automargin": true,
                                            "gridcolor": "white",
                                            "linecolor": "white",
                                            "ticks": "",
                                            "title": {
                                                "standoff": 15
                                            },
                                            "zerolinecolor": "white",
                                            "zerolinewidth": 2
                                        }
                                    }
                                },
                                "xaxis": {
                                    "anchor": "y",
                                    "domain": [
                                        0,
                                        1
                                    ],
                                    "title": {
                                        "text": "prec"
                                    }
                                },
                                "yaxis": {
                                    "anchor": "x",
                                    "domain": [
                                        0,
                                        1
                                    ],
                                    "title": {
                                        "text": "attendance"
                                    }
                                }
                            }
                        }
                    },
                    "metadata": {},
                    "output_type": "display_data"
                }
            ],
            "source": [
                "TX_df_scaled, TX_scaler_prec, TX_scaler_att = preprocess_state_df(TX_df)\n",
                "px.scatter(TX_df_scaled, x='scaled_prec',y='scaled_att')\n",
                "px.scatter(TX_df_scaled, x='prec',y='attendance')"
            ]
        },
        {
            "cell_type": "code",
            "execution_count": 75,
            "metadata": {},
            "outputs": [],
            "source": [
                "# we assume the function follows\n",
                "def func(t, a, b, c):\n",
                "    return a*np.exp(-b*t-c) \n",
                "\n"
            ]
        },
        {
            "cell_type": "code",
            "execution_count": 76,
            "metadata": {},
            "outputs": [],
            "source": [
                "def fit_curve(state_df):\n",
                "    x = np.array(state_df[\"scaled_prec\"])\n",
                "    y = np.array(state_df[\"scaled_att\"])\n",
                "    popt, pcov = curve_fit(func, x, y,maxfev=5000, bounds=(0, np.inf))\n",
                "    p,a = zip(*sorted(zip(x, func(x, *popt))))\n",
                "    plt.plot(p,a, label=\"fit: a={}, b={}, c={}\".format(popt[0],popt[1],popt[2]))\n",
                "    plt.scatter(x,y)\n",
                "\n",
                "    plt.xlabel('Scaled precipitation')\n",
                "    plt.ylabel('Scaled attendance')\n",
                "    plt.show()\n",
                "    return popt"
            ]
        },
        {
            "cell_type": "code",
            "execution_count": 77,
            "metadata": {},
            "outputs": [
                {
                    "data": {
                        "image/png": "[encoded data removed]",
                        "text/plain": [
                            "<Figure size 432x288 with 1 Axes>"
                        ]
                    },
                    "metadata": {
                        "needs_background": "light"
                    },
                    "output_type": "display_data"
                },
                {
                    "data": {
                        "image/png": "[encoded data removed]",
                        "text/plain": [
                            "<Figure size 432x288 with 1 Axes>"
                        ]
                    },
                    "metadata": {
                        "needs_background": "light"
                    },
                    "output_type": "display_data"
                },
                {
                    "data": {
                        "image/png": "[encoded data removed]",
                        "text/plain": [
                            "<Figure size 432x288 with 1 Axes>"
                        ]
                    },
                    "metadata": {
                        "needs_background": "light"
                    },
                    "output_type": "display_data"
                }
            ],
            "source": [
                "popt_NC = fit_curve(NC_df_scaled)\n",
                "popt_MN = fit_curve(MN_df_scaled)\n",
                "popt_NY = fit_curve(NY_df_scaled)\n"
            ]
        },
        {
            "cell_type": "code",
            "execution_count": 78,
            "metadata": {},
            "outputs": [
                {
                    "data": {
                        "image/png": "[encoded data removed]",
                        "text/plain": [
                            "<Figure size 432x288 with 1 Axes>"
                        ]
                    },
                    "metadata": {
                        "needs_background": "light"
                    },
                    "output_type": "display_data"
                },
                {
                    "data": {
                        "text/plain": [
                            "array([1.32205753, 0.57600882, 1.04593536])"
                        ]
                    },
                    "execution_count": 78,
                    "metadata": {},
                    "output_type": "execute_result"
                }
            ],
            "source": [
                "popt_TX = fit_curve(TX_df_scaled)\n",
                "popt_TX"
            ]
        },
        {
            "cell_type": "markdown",
            "metadata": {},
            "source": [
                "---\n",
                "# Vendors - revenue loss"
            ]
        },
        {
            "cell_type": "code",
            "execution_count": 79,
            "metadata": {},
            "outputs": [],
            "source": [
                "def adjust_vendor_revenue(df,precipitation, gross_revenue, popt, scaler_prec):\n",
                "    \n",
                "    scaled_prec = scaler_prec.transform(np.array(precipitation).reshape(-1, 1))\n",
                "    no_rain_att =  func(0, popt[0],popt[1],popt[2]) #returns scaled attendance no rain\n",
                "    y_pred = func(scaled_prec[0,0], popt[0],popt[1],popt[2]) #returns scaled attendance with rain\n",
                "    sf = (y_pred)/no_rain_att\n",
                "\n",
                "    new_revenue = sf*gross_revenue\n",
                "\n",
                "    return (new_revenue)"
            ]
        },
        {
            "cell_type": "code",
            "execution_count": 80,
            "metadata": {},
            "outputs": [
                {
                    "data": {
                        "text/plain": [
                            "9744.856895578776"
                        ]
                    },
                    "execution_count": 80,
                    "metadata": {},
                    "output_type": "execute_result"
                }
            ],
            "source": [
                "# example: the new daily revenue of a vendor in Texas that usually earns 10000 daily, if there is 3 mm of rain\n",
                "adjust_vendor_revenue(TX_df_scaled, 3,10000, popt_TX, TX_scaler_prec)"
            ]
        },
        {
            "cell_type": "code",
            "execution_count": 81,
            "metadata": {},
            "outputs": [],
            "source": [
                "def plot_adj_rev(scaled_df, popt, scaler_prec):\n",
                "    adj_rev = []\n",
                "    for i in range(100):\n",
                "        adj_rev.append(adjust_vendor_revenue(scaled_df, i,10000, popt, scaler_prec))\n",
                "    return adj_rev\n"
            ]
        },
        {
            "cell_type": "code",
            "execution_count": 82,
            "metadata": {},
            "outputs": [],
            "source": [
                "tx_adj = plot_adj_rev(TX_df_scaled, popt_TX,TX_scaler_prec)"
            ]
        },
        {
            "cell_type": "code",
            "execution_count": 83,
            "metadata": {},
            "outputs": [],
            "source": [
                "ny_adj = plot_adj_rev(NY_df_scaled, popt_NY, NY_scaler_prec)"
            ]
        },
        {
            "cell_type": "code",
            "execution_count": 84,
            "metadata": {},
            "outputs": [],
            "source": [
                "nc_adj = plot_adj_rev(NC_df_scaled, popt_NC,NC_scaler_prec)"
            ]
        },
        {
            "cell_type": "code",
            "execution_count": 85,
            "metadata": {},
            "outputs": [],
            "source": [
                "mn_adj = plot_adj_rev(MN_df_scaled, popt_MN, MN_scaler_prec)"
            ]
        },
        {
            "cell_type": "code",
            "execution_count": 86,
            "metadata": {},
            "outputs": [
                {
                    "data": {
                        "application/vnd.plotly.v1+json": {
                            "config": {
                                "plotlyServerURL": "https://plot.ly"
                            },
                            "data": [
                                {
                                    "mode": "lines",
                                    "name": "North Carolina",
                                    "type": "scatter",
                                    "x": [
                                        0,
                                        1,
                                        2,
                                        3,
                                        4,
                                        5,
                                        6,
                                        7,
                                        8,
                                        9,
                                        10,
                                        11,
                                        12,
                                        13,
                                        14,
                                        15,
                                        16,
                                        17,
                                        18,
                                        19,
                                        20,
                                        21,
                                        22,
                                        23,
                                        24,
                                        25,
                                        26,
                                        27,
                                        28,
                                        29,
                                        30,
                                        31,
                                        32,
                                        33,
                                        34,
                                        35,
                                        36,
                                        37,
                                        38,
                                        39,
                                        40,
                                        41,
                                        42,
                                        43,
                                        44,
                                        45,
                                        46,
                                        47,
                                        48,
                                        49,
                                        50,
                                        51,
                                        52,
                                        53,
                                        54,
                                        55,
                                        56,
                                        57,
                                        58,
                                        59,
                                        60,
                                        61,
                                        62,
                                        63,
                                        64,
                                        65,
                                        66,
                                        67,
                                        68,
                                        69,
                                        70,
                                        71,
                                        72,
                                        73,
                                        74,
                                        75,
                                        76,
                                        77,
                                        78,
                                        79,
                                        80,
                                        81,
                                        82,
                                        83,
                                        84,
                                        85,
                                        86,
                                        87,
                                        88,
                                        89,
                                        90,
                                        91,
                                        92,
                                        93,
                                        94,
                                        95,
                                        96,
                                        97,
                                        98,
                                        99
                                    ],
                                    "y": [
                                        10000,
                                        9052.678531084495,
                                        8195.098858715817,
                                        7418.759549841172,
                                        6715.964530412526,
                                        6079.746791999044,
                                        5503.7993258359575,
                                        4982.41259963925,
                                        4510.417957375914,
                                        4083.136380895493,
                                        3696.3321054822673,
                                        3346.1706295057675,
                                        3029.180701907235,
                                        2742.2199106931093,
                                        2482.443531304396,
                                        2247.276326046889,
                                        2034.3870150219118,
                                        1841.665165480593,
                                        1667.2002704992342,
                                        1509.2628095766677,
                                        1366.287103401897,
                                        1236.8557928263979,
                                        1119.6857881767025,
                                        1013.6155496187654,
                                        917.5935724807211,
                                        830.6679633857351,
                                        751.9770038601728,
                                        680.7406078714228,
                                        616.2525886115039,
                                        557.8736578648608,
                                        505.02508856108034,
                                        457.18297768759396,
                                        413.87305268897603,
                                        374.66596986719003,
                                        339.173058174466,
                                        307.0424662058261,
                                        277.9556741952719,
                                        251.6243364380653,
                                        227.78742283712583,
                                        206.2086312368714,
                                        186.67404489223455,
                                        168.99001185066354,
                                        152.98122522482169,
                                        138.4889853251744,
                                        125.36962642448836,
                                        113.49309255830494,
                                        102.74164824289521,
                                        93.00871132966928,
                                        84.19779642579326,
                                        76.22155840684016,
                                        69.0009265395405,
                                        62.46432063094367,
                                        56.54694143345222,
                                        51.190128271310535,
                                        46.34077752051541,
                                        41.9508161773733,
                                        37.976725297037945,
                                        34.3791085777389,
                                        31.12230181395198,
                                        28.174019346909514,
                                        25.505034007612704,
                                        23.088887379529538,
                                        20.901627508729483,
                                        18.921571461300054,
                                        17.12909037420921,
                                        15.506414868760983,
                                        14.037458897652199,
                                        12.707660279375702,
                                        11.503836339141966,
                                        10.414053225246015,
                                        9.427507605375594,
                                        8.53441957008194,
                                        7.72593568173481,
                                        6.9940412078580305,
                                        6.331480668789673,
                                        5.7316859120328845,
                                        5.1887110002779515,
                                        4.697173267621814,
                                        4.252199959658404,
                                        3.8493799284678043,
                                        3.4847199036428043,
                                        3.154604905855002,
                                        2.8557624105287385,
                                        2.5852299063671693,
                                        2.3403255271287633,
                                        2.118621465518755,
                                        1.9179199056396394,
                                        1.7362312354123555,
                                        1.5717543229815785,
                                        1.4228586615794572,
                                        1.2880682058447963,
                                        1.1660467393623704,
                                        1.05558462836668,
                                        0.9555868302957878,
                                        0.8650620383205756,
                                        0.7831128542360862,
                                        0.7089268922959315,
                                        0.6417687257995849,
                                        0.580972596596735,
                                        0.5259358152359673
                                    ]
                                },
                                {
                                    "mode": "lines",
                                    "name": "New York",
                                    "type": "scatter",
                                    "x": [
                                        0,
                                        1,
                                        2,
                                        3,
                                        4,
                                        5,
                                        6,
                                        7,
                                        8,
                                        9,
                                        10,
                                        11,
                                        12,
                                        13,
                                        14,
                                        15,
                                        16,
                                        17,
                                        18,
                                        19,
                                        20,
                                        21,
                                        22,
                                        23,
                                        24,
                                        25,
                                        26,
                                        27,
                                        28,
                                        29,
                                        30,
                                        31,
                                        32,
                                        33,
                                        34,
                                        35,
                                        36,
                                        37,
                                        38,
                                        39,
                                        40,
                                        41,
                                        42,
                                        43,
                                        44,
                                        45,
                                        46,
                                        47,
                                        48,
                                        49,
                                        50,
                                        51,
                                        52,
                                        53,
                                        54,
                                        55,
                                        56,
                                        57,
                                        58,
                                        59,
                                        60,
                                        61,
                                        62,
                                        63,
                                        64,
                                        65,
                                        66,
                                        67,
                                        68,
                                        69,
                                        70,
                                        71,
                                        72,
                                        73,
                                        74,
                                        75,
                                        76,
                                        77,
                                        78,
                                        79,
                                        80,
                                        81,
                                        82,
                                        83,
                                        84,
                                        85,
                                        86,
                                        87,
                                        88,
                                        89,
                                        90,
                                        91,
                                        92,
                                        93,
                                        94,
                                        95,
                                        96,
                                        97,
                                        98,
                                        99
                                    ],
                                    "y": [
                                        10000,
                                        9848.424820855722,
                                        9699.147145204712,
                                        9552.1321485966,
                                        9407.345534433269,
                                        9264.753525967884,
                                        9124.322858425272,
                                        8986.02077124167,
                                        8849.815000422153,
                                        8715.673771013884,
                                        8583.565789693435,
                                        8453.460237466492,
                                        8325.326762478191,
                                        8199.135472932463,
                                        8074.856930118669,
                                        7952.462141543958,
                                        7831.922554169698,
                                        7713.210047750459,
                                        7596.296928273941,
                                        7481.155921500316,
                                        7367.76016659955,
                                        7256.083209885111,
                                        7146.098998642699,
                                        7037.7818750525,
                                        6931.106570203557,
                                        6826.04819819889,
                                        6722.582250349946,
                                        6620.684589459052,
                                        6520.331444188552,
                                        6421.499403515258,
                                        6324.165411268989,
                                        6228.306760753878,
                                        6133.901089451199,
                                        6040.926373802516,
                                        5949.360924071866,
                                        5859.1833792858515,
                                        5770.37270225041,
                                        5682.908174643126,
                                        5596.7693921799255,
                                        5511.936259855037,
                                        5428.388987253102,
                                        5346.108083932331,
                                        5265.074354877663,
                                        5185.26889602281,
                                        5106.67308984022,
                                        5029.2686009978415,
                                        4953.037372081748,
                                        4877.961619383589,
                                        4804.023828751892,
                                        4731.206751506248,
                                        4659.493400413432,
                                        4588.867045724508,
                                        4519.311211272014,
                                        4450.809670626284,
                                        4383.346443310058,
                                        4316.905791070443,
                                        4251.472214207396,
                                        4187.030447957858,
                                        4123.565458934683,
                                        4061.062441619565,
                                        3999.506814909108,
                                        3938.884218713247,
                                        3879.1805106052448,
                                        3820.3817625224474,
                                        3762.4742575170603,
                                        3705.444486556173,
                                        3649.27914537028,
                                        3593.9651313495847,
                                        3539.4895404873255,
                                        3485.8396643694596,
                                        3433.002987209959,
                                        3380.96718293104,
                                        3329.720112287671,
                                        3279.24982003564,
                                        3229.5445321425664,
                                        3180.5926530411734,
                                        3132.382762924205,
                                        3084.9036150803367,
                                        3038.144133270474,
                                        2992.0934091438135,
                                        2946.740699693075,
                                        2902.075424748304,
                                        2858.0871645086618,
                                        2814.7656571116268,
                                        2772.100796239042,
                                        2730.08262875945,
                                        2688.7013524061604,
                                        2647.9473134905197,
                                        2607.8110046498264,
                                        2568.283062629406,
                                        2529.354266098279,
                                        2491.01553349796,
                                        2453.2579209238475,
                                        2416.0726200387326,
                                        2379.4509560179376,
                                        2343.3843855255936,
                                        2307.8644947215994,
                                        2272.8829972987846,
                                        2238.4317325498305,
                                        2204.5026634634833
                                    ]
                                },
                                {
                                    "mode": "lines",
                                    "name": "Minnesota",
                                    "type": "scatter",
                                    "x": [
                                        0,
                                        1,
                                        2,
                                        3,
                                        4,
                                        5,
                                        6,
                                        7,
                                        8,
                                        9,
                                        10,
                                        11,
                                        12,
                                        13,
                                        14,
                                        15,
                                        16,
                                        17,
                                        18,
                                        19,
                                        20,
                                        21,
                                        22,
                                        23,
                                        24,
                                        25,
                                        26,
                                        27,
                                        28,
                                        29,
                                        30,
                                        31,
                                        32,
                                        33,
                                        34,
                                        35,
                                        36,
                                        37,
                                        38,
                                        39,
                                        40,
                                        41,
                                        42,
                                        43,
                                        44,
                                        45,
                                        46,
                                        47,
                                        48,
                                        49,
                                        50,
                                        51,
                                        52,
                                        53,
                                        54,
                                        55,
                                        56,
                                        57,
                                        58,
                                        59,
                                        60,
                                        61,
                                        62,
                                        63,
                                        64,
                                        65,
                                        66,
                                        67,
                                        68,
                                        69,
                                        70,
                                        71,
                                        72,
                                        73,
                                        74,
                                        75,
                                        76,
                                        77,
                                        78,
                                        79,
                                        80,
                                        81,
                                        82,
                                        83,
                                        84,
                                        85,
                                        86,
                                        87,
                                        88,
                                        89,
                                        90,
                                        91,
                                        92,
                                        93,
                                        94,
                                        95,
                                        96,
                                        97,
                                        98,
                                        99
                                    ],
                                    "y": [
                                        10000,
                                        9875.229161417927,
                                        9752.015099051903,
                                        9630.338388874528,
                                        9510.179849213624,
                                        9391.520537728355,
                                        9274.341748423043,
                                        9158.625008698296,
                                        9044.352076438892,
                                        8931.504937138012,
                                        8820.065801057352,
                                        8710.01710042265,
                                        8601.341486654257,
                                        8494.021827632196,
                                        8388.041204995385,
                                        8283.382911474559,
                                        8180.030448258449,
                                        8077.967522392839,
                                        7977.178044212069,
                                        7877.646124802585,
                                        7779.356073498141,
                                        7682.292395406252,
                                        7586.439788965499,
                                        7491.7831435333355,
                                        7398.307537003968,
                                        7305.99823345596,
                                        7214.840680829217,
                                        7124.820508630905,
                                        7035.923525670041,
                                        6948.135717820322,
                                        6861.443245810873,
                                        6775.83244304456,
                                        6691.289813443534,
                                        6607.802029321629,
                                        6525.355929283351,
                                        6443.938516149034,
                                        6363.536954905909,
                                        6284.138570684749,
                                        6205.730846761719,
                                        6128.301422585209,
                                        6051.838091827241,
                                        5976.3288004592205,
                                        5901.761644851671,
                                        5828.124869897705,
                                        5755.406867159888,
                                        5683.596173040231,
                                        5612.681466973024,
                                        5542.651569640195,
                                        5473.495441208968,
                                        5405.202179591491,
                                        5337.761018726163,
                                        5271.161326880445,
                                        5205.392604974819,
                                        5140.444484927655,
                                        5076.306728020754,
                                        5012.9692232852585,
                                        4950.421985907716,
                                        4888.655155656032,
                                        4827.658995325054,
                                        4767.4238892015555,
                                        4707.940341548366,
                                        4649.198975107429,
                                        4591.190529621524,
                                        4533.905860374428,
                                        4477.3359367493185,
                                        4421.471840805132,
                                        4366.3047658707055,
                                        4311.8260151564455,
                                        4258.027000383338,
                                        4204.899240429046,
                                        4152.4343599909,
                                        4100.624088265592,
                                        4049.460257645317,
                                        3998.934802430198,
                                        3949.0397575567736,
                                        3899.767257342344,
                                        3851.1095342449908,
                                        3803.058917639075,
                                        3755.6078326059906,
                                        3708.748798740024,
                                        3662.4744289691193,
                                        3616.7774283903327,
                                        3571.6505931198335,
                                        3527.086809157264,
                                        3483.0790512642307,
                                        3439.620381856841,
                                        3396.703949912014,
                                        3354.322989887459,
                                        3312.470820655119,
                                        3271.140844447941,
                                        3230.326545819758,
                                        3190.02149061817,
                                        3150.219324970246,
                                        3110.9137742808457,
                                        3072.0986422434903,
                                        3033.7678098635356,
                                        2995.9152344935374,
                                        2958.5349488806796,
                                        2921.62106022606,
                                        2885.167749255714
                                    ]
                                },
                                {
                                    "mode": "lines",
                                    "name": "Texas",
                                    "type": "scatter",
                                    "x": [
                                        0,
                                        1,
                                        2,
                                        3,
                                        4,
                                        5,
                                        6,
                                        7,
                                        8,
                                        9,
                                        10,
                                        11,
                                        12,
                                        13,
                                        14,
                                        15,
                                        16,
                                        17,
                                        18,
                                        19,
                                        20,
                                        21,
                                        22,
                                        23,
                                        24,
                                        25,
                                        26,
                                        27,
                                        28,
                                        29,
                                        30,
                                        31,
                                        32,
                                        33,
                                        34,
                                        35,
                                        36,
                                        37,
                                        38,
                                        39,
                                        40,
                                        41,
                                        42,
                                        43,
                                        44,
                                        45,
                                        46,
                                        47,
                                        48,
                                        49,
                                        50,
                                        51,
                                        52,
                                        53,
                                        54,
                                        55,
                                        56,
                                        57,
                                        58,
                                        59,
                                        60,
                                        61,
                                        62,
                                        63,
                                        64,
                                        65,
                                        66,
                                        67,
                                        68,
                                        69,
                                        70,
                                        71,
                                        72,
                                        73,
                                        74,
                                        75,
                                        76,
                                        77,
                                        78,
                                        79,
                                        80,
                                        81,
                                        82,
                                        83,
                                        84,
                                        85,
                                        86,
                                        87,
                                        88,
                                        89,
                                        90,
                                        91,
                                        92,
                                        93,
                                        94,
                                        95,
                                        96,
                                        97,
                                        98,
                                        99
                                    ],
                                    "y": [
                                        10000,
                                        9914.218556993059,
                                        9829.172959582555,
                                        9744.856895578776,
                                        9661.264106938886,
                                        9578.388389302452,
                                        9496.223591530925,
                                        9414.763615251117,
                                        9334.00241440257,
                                        9253.933994788798,
                                        9174.552413632404,
                                        9095.851779133982,
                                        9017.826250034846,
                                        8940.470035183462,
                                        8863.777393105627,
                                        8787.74263157834,
                                        8712.360107207298,
                                        8637.624225008063,
                                        8563.529437990774,
                                        8490.070246748452,
                                        8417.241199048814,
                                        8345.036889429626,
                                        8273.451958797485,
                                        8202.48109403006,
                                        8132.119027581755,
                                        8062.36053709274,
                                        7993.200445001337,
                                        7924.633618159744,
                                        7856.65496745304,
                                        7789.259447421465,
                                        7722.44205588594,
                                        7656.197833576801,
                                        7590.521863765719,
                                        7525.409271900765,
                                        7460.855225244618,
                                        7396.854932515883,
                                        7333.40364353346,
                                        7270.496648863997,
                                        7208.129279472329,
                                        7146.296906374958,
                                        7084.994940296469,
                                        7024.21883132892,
                                        6963.964068594129,
                                        6904.226179908881,
                                        6845.000731452991,
                                        6786.283327440234,
                                        6728.069609792056,
                                        6670.355257814147,
                                        6613.135987875723,
                                        6556.407553091613,
                                        6500.165743007034,
                                        6444.406383285091,
                                        6389.1253353969605,
                                        6334.318496314705,
                                        6279.981798206762,
                                        6226.111208136012,
                                        6172.702727760453,
                                        6119.752393036437,
                                        6067.256273924452,
                                        6015.210474097437,
                                        5963.611130651582,
                                        5912.45441381963,
                                        5861.736526686609,
                                        5811.453704908043,
                                        5761.60221643054,
                                        5712.178361214799,
                                        5663.1784709609965,
                                        5614.598908836511,
                                        5566.436069205991,
                                        5518.686377363755,
                                        5471.346289268455,
                                        5424.412291280043,
                                        5377.880899898984,
                                        5331.748661507705,
                                        5286.012152114261,
                                        5240.667977098201,
                                        5195.712770958628,
                                        5151.143197064386,
                                        5106.95594740643,
                                        5063.14774235229,
                                        5019.715330402659,
                                        4976.655487950059,
                                        4933.965019039582,
                                        4891.640755131685,
                                        4849.679554867009,
                                        4808.078303833235,
                                        4766.833914333917,
                                        4725.943325159319,
                                        4685.4035013592,
                                        4645.211434017564,
                                        4605.364140029328,
                                        4565.858661878915,
                                        4526.692067420744,
                                        4487.861449661602,
                                        4449.363926544884,
                                        4411.196640736679,
                                        4373.356759413705,
                                        4335.841474053037,
                                        4298.648000223677,
                                        4261.773577379869
                                    ]
                                }
                            ],
                            "layout": {
                                "template": {
                                    "data": {
                                        "bar": [
                                            {
                                                "error_x": {
                                                    "color": "#2a3f5f"
                                                },
                                                "error_y": {
                                                    "color": "#2a3f5f"
                                                },
                                                "marker": {
                                                    "line": {
                                                        "color": "#E5ECF6",
                                                        "width": 0.5
                                                    }
                                                },
                                                "type": "bar"
                                            }
                                        ],
                                        "barpolar": [
                                            {
                                                "marker": {
                                                    "line": {
                                                        "color": "#E5ECF6",
                                                        "width": 0.5
                                                    }
                                                },
                                                "type": "barpolar"
                                            }
                                        ],
                                        "carpet": [
                                            {
                                                "aaxis": {
                                                    "endlinecolor": "#2a3f5f",
                                                    "gridcolor": "white",
                                                    "linecolor": "white",
                                                    "minorgridcolor": "white",
                                                    "startlinecolor": "#2a3f5f"
                                                },
                                                "baxis": {
                                                    "endlinecolor": "#2a3f5f",
                                                    "gridcolor": "white",
                                                    "linecolor": "white",
                                                    "minorgridcolor": "white",
                                                    "startlinecolor": "#2a3f5f"
                                                },
                                                "type": "carpet"
                                            }
                                        ],
                                        "choropleth": [
                                            {
                                                "colorbar": {
                                                    "outlinewidth": 0,
                                                    "ticks": ""
                                                },
                                                "type": "choropleth"
                                            }
                                        ],
                                        "contour": [
                                            {
                                                "colorbar": {
                                                    "outlinewidth": 0,
                                                    "ticks": ""
                                                },
                                                "colorscale": [
                                                    [
                                                        0,
                                                        "#0d0887"
                                                    ],
                                                    [
                                                        0.1111111111111111,
                                                        "#46039f"
                                                    ],
                                                    [
                                                        0.2222222222222222,
                                                        "#7201a8"
                                                    ],
                                                    [
                                                        0.3333333333333333,
                                                        "#9c179e"
                                                    ],
                                                    [
                                                        0.4444444444444444,
                                                        "#bd3786"
                                                    ],
                                                    [
                                                        0.5555555555555556,
                                                        "#d8576b"
                                                    ],
                                                    [
                                                        0.6666666666666666,
                                                        "#ed7953"
                                                    ],
                                                    [
                                                        0.7777777777777778,
                                                        "#fb9f3a"
                                                    ],
                                                    [
                                                        0.8888888888888888,
                                                        "#fdca26"
                                                    ],
                                                    [
                                                        1,
                                                        "#f0f921"
                                                    ]
                                                ],
                                                "type": "contour"
                                            }
                                        ],
                                        "contourcarpet": [
                                            {
                                                "colorbar": {
                                                    "outlinewidth": 0,
                                                    "ticks": ""
                                                },
                                                "type": "contourcarpet"
                                            }
                                        ],
                                        "heatmap": [
                                            {
                                                "colorbar": {
                                                    "outlinewidth": 0,
                                                    "ticks": ""
                                                },
                                                "colorscale": [
                                                    [
                                                        0,
                                                        "#0d0887"
                                                    ],
                                                    [
                                                        0.1111111111111111,
                                                        "#46039f"
                                                    ],
                                                    [
                                                        0.2222222222222222,
                                                        "#7201a8"
                                                    ],
                                                    [
                                                        0.3333333333333333,
                                                        "#9c179e"
                                                    ],
                                                    [
                                                        0.4444444444444444,
                                                        "#bd3786"
                                                    ],
                                                    [
                                                        0.5555555555555556,
                                                        "#d8576b"
                                                    ],
                                                    [
                                                        0.6666666666666666,
                                                        "#ed7953"
                                                    ],
                                                    [
                                                        0.7777777777777778,
                                                        "#fb9f3a"
                                                    ],
                                                    [
                                                        0.8888888888888888,
                                                        "#fdca26"
                                                    ],
                                                    [
                                                        1,
                                                        "#f0f921"
                                                    ]
                                                ],
                                                "type": "heatmap"
                                            }
                                        ],
                                        "heatmapgl": [
                                            {
                                                "colorbar": {
                                                    "outlinewidth": 0,
                                                    "ticks": ""
                                                },
                                                "colorscale": [
                                                    [
                                                        0,
                                                        "#0d0887"
                                                    ],
                                                    [
                                                        0.1111111111111111,
                                                        "#46039f"
                                                    ],
                                                    [
                                                        0.2222222222222222,
                                                        "#7201a8"
                                                    ],
                                                    [
                                                        0.3333333333333333,
                                                        "#9c179e"
                                                    ],
                                                    [
                                                        0.4444444444444444,
                                                        "#bd3786"
                                                    ],
                                                    [
                                                        0.5555555555555556,
                                                        "#d8576b"
                                                    ],
                                                    [
                                                        0.6666666666666666,
                                                        "#ed7953"
                                                    ],
                                                    [
                                                        0.7777777777777778,
                                                        "#fb9f3a"
                                                    ],
                                                    [
                                                        0.8888888888888888,
                                                        "#fdca26"
                                                    ],
                                                    [
                                                        1,
                                                        "#f0f921"
                                                    ]
                                                ],
                                                "type": "heatmapgl"
                                            }
                                        ],
                                        "histogram": [
                                            {
                                                "marker": {
                                                    "colorbar": {
                                                        "outlinewidth": 0,
                                                        "ticks": ""
                                                    }
                                                },
                                                "type": "histogram"
                                            }
                                        ],
                                        "histogram2d": [
                                            {
                                                "colorbar": {
                                                    "outlinewidth": 0,
                                                    "ticks": ""
                                                },
                                                "colorscale": [
                                                    [
                                                        0,
                                                        "#0d0887"
                                                    ],
                                                    [
                                                        0.1111111111111111,
                                                        "#46039f"
                                                    ],
                                                    [
                                                        0.2222222222222222,
                                                        "#7201a8"
                                                    ],
                                                    [
                                                        0.3333333333333333,
                                                        "#9c179e"
                                                    ],
                                                    [
                                                        0.4444444444444444,
                                                        "#bd3786"
                                                    ],
                                                    [
                                                        0.5555555555555556,
                                                        "#d8576b"
                                                    ],
                                                    [
                                                        0.6666666666666666,
                                                        "#ed7953"
                                                    ],
                                                    [
                                                        0.7777777777777778,
                                                        "#fb9f3a"
                                                    ],
                                                    [
                                                        0.8888888888888888,
                                                        "#fdca26"
                                                    ],
                                                    [
                                                        1,
                                                        "#f0f921"
                                                    ]
                                                ],
                                                "type": "histogram2d"
                                            }
                                        ],
                                        "histogram2dcontour": [
                                            {
                                                "colorbar": {
                                                    "outlinewidth": 0,
                                                    "ticks": ""
                                                },
                                                "colorscale": [
                                                    [
                                                        0,
                                                        "#0d0887"
                                                    ],
                                                    [
                                                        0.1111111111111111,
                                                        "#46039f"
                                                    ],
                                                    [
                                                        0.2222222222222222,
                                                        "#7201a8"
                                                    ],
                                                    [
                                                        0.3333333333333333,
                                                        "#9c179e"
                                                    ],
                                                    [
                                                        0.4444444444444444,
                                                        "#bd3786"
                                                    ],
                                                    [
                                                        0.5555555555555556,
                                                        "#d8576b"
                                                    ],
                                                    [
                                                        0.6666666666666666,
                                                        "#ed7953"
                                                    ],
                                                    [
                                                        0.7777777777777778,
                                                        "#fb9f3a"
                                                    ],
                                                    [
                                                        0.8888888888888888,
                                                        "#fdca26"
                                                    ],
                                                    [
                                                        1,
                                                        "#f0f921"
                                                    ]
                                                ],
                                                "type": "histogram2dcontour"
                                            }
                                        ],
                                        "mesh3d": [
                                            {
                                                "colorbar": {
                                                    "outlinewidth": 0,
                                                    "ticks": ""
                                                },
                                                "type": "mesh3d"
                                            }
                                        ],
                                        "parcoords": [
                                            {
                                                "line": {
                                                    "colorbar": {
                                                        "outlinewidth": 0,
                                                        "ticks": ""
                                                    }
                                                },
                                                "type": "parcoords"
                                            }
                                        ],
                                        "pie": [
                                            {
                                                "automargin": true,
                                                "type": "pie"
                                            }
                                        ],
                                        "scatter": [
                                            {
                                                "marker": {
                                                    "colorbar": {
                                                        "outlinewidth": 0,
                                                        "ticks": ""
                                                    }
                                                },
                                                "type": "scatter"
                                            }
                                        ],
                                        "scatter3d": [
                                            {
                                                "line": {
                                                    "colorbar": {
                                                        "outlinewidth": 0,
                                                        "ticks": ""
                                                    }
                                                },
                                                "marker": {
                                                    "colorbar": {
                                                        "outlinewidth": 0,
                                                        "ticks": ""
                                                    }
                                                },
                                                "type": "scatter3d"
                                            }
                                        ],
                                        "scattercarpet": [
                                            {
                                                "marker": {
                                                    "colorbar": {
                                                        "outlinewidth": 0,
                                                        "ticks": ""
                                                    }
                                                },
                                                "type": "scattercarpet"
                                            }
                                        ],
                                        "scattergeo": [
                                            {
                                                "marker": {
                                                    "colorbar": {
                                                        "outlinewidth": 0,
                                                        "ticks": ""
                                                    }
                                                },
                                                "type": "scattergeo"
                                            }
                                        ],
                                        "scattergl": [
                                            {
                                                "marker": {
                                                    "colorbar": {
                                                        "outlinewidth": 0,
                                                        "ticks": ""
                                                    }
                                                },
                                                "type": "scattergl"
                                            }
                                        ],
                                        "scattermapbox": [
                                            {
                                                "marker": {
                                                    "colorbar": {
                                                        "outlinewidth": 0,
                                                        "ticks": ""
                                                    }
                                                },
                                                "type": "scattermapbox"
                                            }
                                        ],
                                        "scatterpolar": [
                                            {
                                                "marker": {
                                                    "colorbar": {
                                                        "outlinewidth": 0,
                                                        "ticks": ""
                                                    }
                                                },
                                                "type": "scatterpolar"
                                            }
                                        ],
                                        "scatterpolargl": [
                                            {
                                                "marker": {
                                                    "colorbar": {
                                                        "outlinewidth": 0,
                                                        "ticks": ""
                                                    }
                                                },
                                                "type": "scatterpolargl"
                                            }
                                        ],
                                        "scatterternary": [
                                            {
                                                "marker": {
                                                    "colorbar": {
                                                        "outlinewidth": 0,
                                                        "ticks": ""
                                                    }
                                                },
                                                "type": "scatterternary"
                                            }
                                        ],
                                        "surface": [
                                            {
                                                "colorbar": {
                                                    "outlinewidth": 0,
                                                    "ticks": ""
                                                },
                                                "colorscale": [
                                                    [
                                                        0,
                                                        "#0d0887"
                                                    ],
                                                    [
                                                        0.1111111111111111,
                                                        "#46039f"
                                                    ],
                                                    [
                                                        0.2222222222222222,
                                                        "#7201a8"
                                                    ],
                                                    [
                                                        0.3333333333333333,
                                                        "#9c179e"
                                                    ],
                                                    [
                                                        0.4444444444444444,
                                                        "#bd3786"
                                                    ],
                                                    [
                                                        0.5555555555555556,
                                                        "#d8576b"
                                                    ],
                                                    [
                                                        0.6666666666666666,
                                                        "#ed7953"
                                                    ],
                                                    [
                                                        0.7777777777777778,
                                                        "#fb9f3a"
                                                    ],
                                                    [
                                                        0.8888888888888888,
                                                        "#fdca26"
                                                    ],
                                                    [
                                                        1,
                                                        "#f0f921"
                                                    ]
                                                ],
                                                "type": "surface"
                                            }
                                        ],
                                        "table": [
                                            {
                                                "cells": {
                                                    "fill": {
                                                        "color": "#EBF0F8"
                                                    },
                                                    "line": {
                                                        "color": "white"
                                                    }
                                                },
                                                "header": {
                                                    "fill": {
                                                        "color": "#C8D4E3"
                                                    },
                                                    "line": {
                                                        "color": "white"
                                                    }
                                                },
                                                "type": "table"
                                            }
                                        ]
                                    },
                                    "layout": {
                                        "annotationdefaults": {
                                            "arrowcolor": "#2a3f5f",
                                            "arrowhead": 0,
                                            "arrowwidth": 1
                                        },
                                        "autotypenumbers": "strict",
                                        "coloraxis": {
                                            "colorbar": {
                                                "outlinewidth": 0,
                                                "ticks": ""
                                            }
                                        },
                                        "colorscale": {
                                            "diverging": [
                                                [
                                                    0,
                                                    "#8e0152"
                                                ],
                                                [
                                                    0.1,
                                                    "#c51b7d"
                                                ],
                                                [
                                                    0.2,
                                                    "#de77ae"
                                                ],
                                                [
                                                    0.3,
                                                    "#f1b6da"
                                                ],
                                                [
                                                    0.4,
                                                    "#fde0ef"
                                                ],
                                                [
                                                    0.5,
                                                    "#f7f7f7"
                                                ],
                                                [
                                                    0.6,
                                                    "#e6f5d0"
                                                ],
                                                [
                                                    0.7,
                                                    "#b8e186"
                                                ],
                                                [
                                                    0.8,
                                                    "#7fbc41"
                                                ],
                                                [
                                                    0.9,
                                                    "#4d9221"
                                                ],
                                                [
                                                    1,
                                                    "#276419"
                                                ]
                                            ],
                                            "sequential": [
                                                [
                                                    0,
                                                    "#0d0887"
                                                ],
                                                [
                                                    0.1111111111111111,
                                                    "#46039f"
                                                ],
                                                [
                                                    0.2222222222222222,
                                                    "#7201a8"
                                                ],
                                                [
                                                    0.3333333333333333,
                                                    "#9c179e"
                                                ],
                                                [
                                                    0.4444444444444444,
                                                    "#bd3786"
                                                ],
                                                [
                                                    0.5555555555555556,
                                                    "#d8576b"
                                                ],
                                                [
                                                    0.6666666666666666,
                                                    "#ed7953"
                                                ],
                                                [
                                                    0.7777777777777778,
                                                    "#fb9f3a"
                                                ],
                                                [
                                                    0.8888888888888888,
                                                    "#fdca26"
                                                ],
                                                [
                                                    1,
                                                    "#f0f921"
                                                ]
                                            ],
                                            "sequentialminus": [
                                                [
                                                    0,
                                                    "#0d0887"
                                                ],
                                                [
                                                    0.1111111111111111,
                                                    "#46039f"
                                                ],
                                                [
                                                    0.2222222222222222,
                                                    "#7201a8"
                                                ],
                                                [
                                                    0.3333333333333333,
                                                    "#9c179e"
                                                ],
                                                [
                                                    0.4444444444444444,
                                                    "#bd3786"
                                                ],
                                                [
                                                    0.5555555555555556,
                                                    "#d8576b"
                                                ],
                                                [
                                                    0.6666666666666666,
                                                    "#ed7953"
                                                ],
                                                [
                                                    0.7777777777777778,
                                                    "#fb9f3a"
                                                ],
                                                [
                                                    0.8888888888888888,
                                                    "#fdca26"
                                                ],
                                                [
                                                    1,
                                                    "#f0f921"
                                                ]
                                            ]
                                        },
                                        "colorway": [
                                            "#636efa",
                                            "#EF553B",
                                            "#00cc96",
                                            "#ab63fa",
                                            "#FFA15A",
                                            "#19d3f3",
                                            "#FF6692",
                                            "#B6E880",
                                            "#FF97FF",
                                            "#FECB52"
                                        ],
                                        "font": {
                                            "color": "#2a3f5f"
                                        },
                                        "geo": {
                                            "bgcolor": "white",
                                            "lakecolor": "white",
                                            "landcolor": "#E5ECF6",
                                            "showlakes": true,
                                            "showland": true,
                                            "subunitcolor": "white"
                                        },
                                        "hoverlabel": {
                                            "align": "left"
                                        },
                                        "hovermode": "closest",
                                        "mapbox": {
                                            "style": "light"
                                        },
                                        "paper_bgcolor": "white",
                                        "plot_bgcolor": "#E5ECF6",
                                        "polar": {
                                            "angularaxis": {
                                                "gridcolor": "white",
                                                "linecolor": "white",
                                                "ticks": ""
                                            },
                                            "bgcolor": "#E5ECF6",
                                            "radialaxis": {
                                                "gridcolor": "white",
                                                "linecolor": "white",
                                                "ticks": ""
                                            }
                                        },
                                        "scene": {
                                            "xaxis": {
                                                "backgroundcolor": "#E5ECF6",
                                                "gridcolor": "white",
                                                "gridwidth": 2,
                                                "linecolor": "white",
                                                "showbackground": true,
                                                "ticks": "",
                                                "zerolinecolor": "white"
                                            },
                                            "yaxis": {
                                                "backgroundcolor": "#E5ECF6",
                                                "gridcolor": "white",
                                                "gridwidth": 2,
                                                "linecolor": "white",
                                                "showbackground": true,
                                                "ticks": "",
                                                "zerolinecolor": "white"
                                            },
                                            "zaxis": {
                                                "backgroundcolor": "#E5ECF6",
                                                "gridcolor": "white",
                                                "gridwidth": 2,
                                                "linecolor": "white",
                                                "showbackground": true,
                                                "ticks": "",
                                                "zerolinecolor": "white"
                                            }
                                        },
                                        "shapedefaults": {
                                            "line": {
                                                "color": "#2a3f5f"
                                            }
                                        },
                                        "ternary": {
                                            "aaxis": {
                                                "gridcolor": "white",
                                                "linecolor": "white",
                                                "ticks": ""
                                            },
                                            "baxis": {
                                                "gridcolor": "white",
                                                "linecolor": "white",
                                                "ticks": ""
                                            },
                                            "bgcolor": "#E5ECF6",
                                            "caxis": {
                                                "gridcolor": "white",
                                                "linecolor": "white",
                                                "ticks": ""
                                            }
                                        },
                                        "title": {
                                            "x": 0.05
                                        },
                                        "xaxis": {
                                            "automargin": true,
                                            "gridcolor": "white",
                                            "linecolor": "white",
                                            "ticks": "",
                                            "title": {
                                                "standoff": 15
                                            },
                                            "zerolinecolor": "white",
                                            "zerolinewidth": 2
                                        },
                                        "yaxis": {
                                            "automargin": true,
                                            "gridcolor": "white",
                                            "linecolor": "white",
                                            "ticks": "",
                                            "title": {
                                                "standoff": 15
                                            },
                                            "zerolinecolor": "white",
                                            "zerolinewidth": 2
                                        }
                                    }
                                },
                                "title": {
                                    "text": "US State Fair Vendor Revenue Adjusted for Rainfall"
                                },
                                "xaxis": {
                                    "title": {
                                        "text": "Daily Precipitation (mm)"
                                    }
                                },
                                "yaxis": {
                                    "title": {
                                        "text": "Daily Revenue (USD)"
                                    }
                                }
                            }
                        }
                    },
                    "metadata": {},
                    "output_type": "display_data"
                }
            ],
            "source": [
                "x = np.arange(100)\n",
                "\n",
                "fig = go.Figure()\n",
                "fig.add_trace(go.Scatter(x=x, y=nc_adj,\n",
                "                    mode='lines',\n",
                "                    name='North Carolina'))\n",
                "fig.add_trace(go.Scatter(x=x, y=ny_adj,\n",
                "                    mode='lines',\n",
                "                    name='New York'))\n",
                "fig.add_trace(go.Scatter(x=x, y=mn_adj,\n",
                "                    mode='lines',\n",
                "                    name='Minnesota'))\n",
                "fig.add_trace(go.Scatter(x=x, y=tx_adj,\n",
                "                    mode='lines',\n",
                "                    name='Texas'))                \n",
                "# Edit the layout\n",
                "fig.update_layout(title='US State Fair Vendor Revenue Adjusted for Rainfall',\n",
                "                   xaxis_title='Daily Precipitation (mm)',\n",
                "                   yaxis_title='Daily Revenue (USD)')\n",
                "fig.show()"
            ]
        },
        {
            "cell_type": "markdown",
            "metadata": {},
            "source": [
                "## Vendor simulation (with costs)"
            ]
        },
        {
            "cell_type": "markdown",
            "metadata": {},
            "source": [
                "Now we add on expenses and costs of running a stall"
            ]
        },
        {
            "cell_type": "code",
            "execution_count": 87,
            "metadata": {},
            "outputs": [],
            "source": [
                "def rainfall_profit(df_scaled, popt, rainfall, scaler_prec, daily_revenue, percent_commission=0.20, percent_sales_tax=0.0738,percent_admission=0.02, percent_labour=0.18, percent_food=0.25, percent_income_tax = 0.12, extra_costs=0):\n",
                "    adjusted_rev = adjust_vendor_revenue(df_scaled, rainfall,daily_revenue, popt, scaler_prec)\n",
                "    commission = percent_commission*adjusted_rev\n",
                "    sales_tax = percent_sales_tax*adjusted_rev\n",
                "\n",
                "    admission = percent_admission*daily_revenue\n",
                "    labour = percent_labour*daily_revenue\n",
                "    food_cost = percent_food*daily_revenue\n",
                "\n",
                "    pre_tax_profit = adjusted_rev - commission - sales_tax - admission - labour - food_cost - extra_costs\n",
                "\n",
                "\n",
                "    calc_income_tax = lambda a : a*percent_income_tax if a > 0 else 0\n",
                "    income_tax = calc_income_tax(pre_tax_profit)\n",
                "\n",
                "    net_profit = pre_tax_profit - income_tax\n",
                "    return net_profit\n"
            ]
        },
        {
            "cell_type": "code",
            "execution_count": 88,
            "metadata": {},
            "outputs": [],
            "source": [
                "# save dfs\n",
                "MN_df_scaled.to_csv(\"MN_df_scaled.csv\", index=False)\n",
                "TX_df_scaled.to_csv(\"TX_df_scaled.csv\", index=False)\n",
                "NC_df_scaled.to_csv(\"NC_df_scaled.csv\", index=False)\n",
                "NY_df_scaled.to_csv(\"NY_df_scaled.csv\", index=False)\n"
            ]
        },
        {
            "cell_type": "code",
            "execution_count": 89,
            "metadata": {},
            "outputs": [
                {
                    "data": {
                        "text/plain": [
                            "17013.92"
                        ]
                    },
                    "execution_count": 89,
                    "metadata": {},
                    "output_type": "execute_result"
                }
            ],
            "source": [
                "rainfall_profit(MN_df_scaled, popt_MN,0,MN_scaler_prec,70000, extra_costs=0)"
            ]
        },
        {
            "cell_type": "code",
            "execution_count": 113,
            "metadata": {},
            "outputs": [],
            "source": [
                "# function to plot profit, assuming no extra costs, per day\n",
                "def plot_profit(df_scaled, popt, scaler_prec,revenue, percent_commission=0.20, percent_sales_tax=0.0738,percent_admission=0.02, percent_labour=0.18, percent_food=0.25, percent_income_tax = 0.12,extra_costs=0):\n",
                "    profit_list = []\n",
                "    for i in range(1,120):\n",
                "        profit_list.append(rainfall_profit(df_scaled, popt,i,scaler_prec, revenue,percent_commission=percent_commission, percent_sales_tax=percent_sales_tax,percent_admission=percent_admission, percent_labour=percent_labour, percent_food=percent_food, percent_income_tax = percent_income_tax, extra_costs=extra_costs))\n",
                "\n",
                "    return profit_list"
            ]
        },
        {
            "cell_type": "code",
            "execution_count": 114,
            "metadata": {},
            "outputs": [],
            "source": [
                "ny_profit = plot_profit(NY_df_scaled, popt_NY, NY_scaler_prec, 10000, extra_costs=0)\n",
                "tx_profit = plot_profit(TX_df_scaled, popt_TX, TX_scaler_prec, 10000, extra_costs=0)\n",
                "nc_profit = plot_profit(NC_df_scaled, popt_NC, NC_scaler_prec, 10000, extra_costs=0)\n",
                "mn_profit = plot_profit(MN_df_scaled, popt_MN, MN_scaler_prec, 10000, extra_costs=0)"
            ]
        },
        {
            "cell_type": "code",
            "execution_count": 115,
            "metadata": {},
            "outputs": [
                {
                    "data": {
                        "application/vnd.plotly.v1+json": {
                            "config": {
                                "plotlyServerURL": "https://plot.ly"
                            },
                            "data": [
                                {
                                    "mode": "lines",
                                    "name": "North Carolina",
                                    "type": "scatter",
                                    "x": [
                                        0,
                                        1,
                                        2,
                                        3,
                                        4,
                                        5,
                                        6,
                                        7,
                                        8,
                                        9,
                                        10,
                                        11,
                                        12,
                                        13,
                                        14,
                                        15,
                                        16,
                                        17,
                                        18,
                                        19,
                                        20,
                                        21,
                                        22,
                                        23,
                                        24,
                                        25,
                                        26,
                                        27,
                                        28,
                                        29,
                                        30,
                                        31,
                                        32,
                                        33,
                                        34,
                                        35,
                                        36,
                                        37,
                                        38,
                                        39,
                                        40,
                                        41,
                                        42,
                                        43,
                                        44,
                                        45,
                                        46,
                                        47,
                                        48,
                                        49,
                                        50,
                                        51,
                                        52,
                                        53,
                                        54,
                                        55,
                                        56,
                                        57,
                                        58,
                                        59,
                                        60,
                                        61,
                                        62,
                                        63,
                                        64,
                                        65,
                                        66,
                                        67,
                                        68,
                                        69,
                                        70,
                                        71,
                                        72,
                                        73,
                                        74,
                                        75,
                                        76,
                                        77,
                                        78,
                                        79,
                                        80,
                                        81,
                                        82,
                                        83,
                                        84,
                                        85,
                                        86,
                                        87,
                                        88,
                                        89,
                                        90,
                                        91,
                                        92,
                                        93,
                                        94,
                                        95,
                                        96,
                                        97,
                                        98,
                                        99,
                                        100,
                                        101,
                                        102,
                                        103,
                                        104,
                                        105,
                                        106,
                                        107,
                                        108,
                                        109,
                                        110,
                                        111,
                                        112,
                                        113,
                                        114,
                                        115,
                                        116,
                                        117,
                                        118,
                                        119
                                    ],
                                    "y": [
                                        1825.1685313607338,
                                        1277.127096255495,
                                        781.0028028833007,
                                        331.8774289473074,
                                        -84.88787965029496,
                                        -503.14092957792764,
                                        -881.7719701419765,
                                        -1224.5344793536115,
                                        -1534.8263601936933,
                                        -1815.7236249987777,
                                        -2070.010888852912,
                                        -2300.208974274966,
                                        -2508.599900854664,
                                        -2697.2495075667475,
                                        -2868.027932024749,
                                        -3022.628149691088,
                                        -3162.5827568279938,
                                        -3289.2791635634558,
                                        -3403.973347685424,
                                        -3507.8023055095427,
                                        -3601.7953232494697,
                                        -3686.884180626079,
                                        -3763.9123878668524,
                                        -3833.6435476645,
                                        -3896.768924989279,
                                        -3953.9142997967424,
                                        -4005.646170563773,
                                        -4052.477370150326,
                                        -4094.872149658538,
                                        -4133.2507806869435,
                                        -4167.9937216032695,
                                        -4199.445389137265,
                                        -4227.917572682447,
                                        -4253.692525153703,
                                        -4277.025761041329,
                                        -4298.148589399394,
                                        -4317.270406878677,
                                        -4334.580773535679,
                                        -4350.251291995784,
                                        -4364.437308599259,
                                        -4377.279453394049,
                                        -4388.905034241734,
                                        -4399.429298856859,
                                        -4408.956577290537,
                                        -4417.581316184159,
                                        -4425.389015046009,
                                        -4432.457073832395,
                                        -4438.855560235589,
                                        -4444.647904284953,
                                        -4449.891527146986,
                                        -4454.638410357808,
                                        -4458.935611131027,
                                        -4462.825728849374,
                                        -4466.347327364601,
                                        -4469.535317291991,
                                        -4472.421302089291,
                                        -4475.033891350846,
                                        -4477.398984422708,
                                        -4479.540027150274,
                                        -4481.478244303671,
                                        -4483.2328499849855,
                                        -4484.821238103161,
                                        -4486.259154804804,
                                        -4487.560854570249,
                                        -4488.739241522306,
                                        -4489.805997348525,
                                        -4490.771697105118,
                                        -4491.645914050515,
                                        -4492.437314547827,
                                        -4493.153743976976,
                                        -4493.802304508206,
                                        -4494.389425507924,
                                        -4494.920927274854,
                                        -4495.402078738325,
                                        -4495.837649690682,
                                        -4496.2319580715985,
                                        -4496.588912773053,
                                        -4496.912052389296,
                                        -4497.2045802959465,
                                        -4497.469396405974,
                                        -4497.7091259173685,
                                        -4497.926145337474,
                                        -4498.122606041996,
                                        -4498.300455602199,
                                        -4498.46145709174,
                                        -4498.607206564524,
                                        -4498.7391488768435,
                                        -4498.858592010651,
                                        -4498.966720039961,
                                        -4499.064604868916,
                                        -4499.153216857875,
                                        -4499.23343444288,
                                        -4499.306052843839,
                                        -4499.371791947771,
                                        -4499.431303445253,
                                        -4499.485177290815,
                                        -4499.533947551325,
                                        -4499.5780977003515,
                                        -4499.618065410976,
                                        -4499.654246894566,
                                        -4499.687000828539,
                                        -4499.716651912026,
                                        -4499.743494084718,
                                        -4499.767793440762,
                                        -4499.789790866642,
                                        -4499.809704429141,
                                        -4499.827731537112,
                                        -4499.844050898443,
                                        -4499.858824291639,
                                        -4499.872198169582,
                                        -4499.884305111354,
                                        -4499.89526513654,
                                        -4499.90518689501,
                                        -4499.914168743999,
                                        -4499.92229972315,
                                        -4499.92966043719,
                                        -4499.936323854987,
                                        -4499.94235603291,
                                        -4499.947816769667
                                    ]
                                },
                                {
                                    "mode": "lines",
                                    "name": "New York",
                                    "type": "scatter",
                                    "x": [
                                        0,
                                        1,
                                        2,
                                        3,
                                        4,
                                        5,
                                        6,
                                        7,
                                        8,
                                        9,
                                        10,
                                        11,
                                        12,
                                        13,
                                        14,
                                        15,
                                        16,
                                        17,
                                        18,
                                        19,
                                        20,
                                        21,
                                        22,
                                        23,
                                        24,
                                        25,
                                        26,
                                        27,
                                        28,
                                        29,
                                        30,
                                        31,
                                        32,
                                        33,
                                        34,
                                        35,
                                        36,
                                        37,
                                        38,
                                        39,
                                        40,
                                        41,
                                        42,
                                        43,
                                        44,
                                        45,
                                        46,
                                        47,
                                        48,
                                        49,
                                        50,
                                        51,
                                        52,
                                        53,
                                        54,
                                        55,
                                        56,
                                        57,
                                        58,
                                        59,
                                        60,
                                        61,
                                        62,
                                        63,
                                        64,
                                        65,
                                        66,
                                        67,
                                        68,
                                        69,
                                        70,
                                        71,
                                        72,
                                        73,
                                        74,
                                        75,
                                        76,
                                        77,
                                        78,
                                        79,
                                        80,
                                        81,
                                        82,
                                        83,
                                        84,
                                        85,
                                        86,
                                        87,
                                        88,
                                        89,
                                        90,
                                        91,
                                        92,
                                        93,
                                        94,
                                        95,
                                        96,
                                        97,
                                        98,
                                        99,
                                        100,
                                        101,
                                        102,
                                        103,
                                        104,
                                        105,
                                        106,
                                        107,
                                        108,
                                        109,
                                        110,
                                        111,
                                        112,
                                        113,
                                        114,
                                        115,
                                        116,
                                        117,
                                        118,
                                        119
                                    ],
                                    "y": [
                                        2333.6949723167745,
                                        2238.298178025942,
                                        2144.3473623535488,
                                        2051.820607852787,
                                        1960.6963292909325,
                                        1870.953268613821,
                                        1782.5704899866175,
                                        1695.5273749097796,
                                        1609.803617409049,
                                        1525.3792192983285,
                                        1442.234485514386,
                                        1360.3500195222637,
                                        1279.706718790328,
                                        1200.2857703339166,
                                        1122.0686463265156,
                                        1045.0370997774708,
                                        969.1731602752172,
                                        894.4591297950317,
                                        820.8775785703057,
                                        748.4113410264418,
                                        677.0435117763398,
                                        606.7574416766082,
                                        537.5367339435502,
                                        469.36524032800423,
                                        402.22705734818936,
                                        336.1065225796349,
                                        270.9882110013443,
                                        206.85693139735966,
                                        143.69772281284597,
                                        81.49585106391525,
                                        20.236805300330815,
                                        -45.56102884053962,
                                        -113.07926734461398,
                                        -179.57409693901081,
                                        -245.06102996261416,
                                        -309.55534362575236,
                                        -373.0720835741622,
                                        -435.6260673989382,
                                        -497.2318880932726,
                                        -557.9039174567974,
                                        -617.6563094483408,
                                        -676.5030034878409,
                                        -734.4577277082353,
                                        -791.5340021580319,
                                        -847.7451419553672,
                                        -903.1042603942351,
                                        -957.6242720036375,
                                        -1011.3178955603757,
                                        -1064.1976570561624,
                                        -1116.2758926197657,
                                        -1167.5647513948625,
                                        -1218.0761983742636,
                                        -1267.8220171911926,
                                        -1316.8138128682358,
                                        -1365.0630145246441,
                                        -1412.5808780425891,
                                        -1459.3784886930034,
                                        -1505.466763721633,
                                        -1550.856454895872,
                                        -1595.5581510130055,
                                        -1639.58228037044,
                                        -1682.9391131984712,
                                        -1725.6387640561989,
                                        -1767.6911941911108,
                                        -1809.1062138629072,
                                        -1849.893484632103,
                                        -1890.0625216139315,
                                        -1929.622695698104,
                                        -1968.5832357348986,
                                        -2006.9532306881279,
                                        -2044.741631755479,
                                        -2081.9572544566936,
                                        -2118.6087806901187,
                                        -2154.704760758068,
                                        -2190.2536153615,
                                        -2225.2636375644424,
                                        -2259.742994728659,
                                        -2293.6997304189817,
                                        -2327.1417662797626,
                                        -2360.076903882889,
                                        -2392.5128265477815,
                                        -2424.45710113381,
                                        -2455.9171798055368,
                                        -2486.9004017712077,
                                        -2517.4139949948876,
                                        -2547.4650778826463,
                                        -2577.0606609431843,
                                        -2606.207648423296,
                                        -2634.9128399185256,
                                        -2663.18293195943,
                                        -2691.0245195737816,
                                        -2718.4440978251023,
                                        -2745.4480633278727,
                                        -2772.0427157397735,
                                        -2798.234259231314,
                                        -2824.0288039331745,
                                        -2849.4323673616227,
                                        -2874.4508758223133,
                                        -2899.090165792819,
                                        -2923.3559852841972,
                                        -2947.2539951819253,
                                        -2970.789770566512,
                                        -2993.9688020140757,
                                        -3016.7964968772344,
                                        -3039.2781805465597,
                                        -3061.4190976929203,
                                        -3083.2244134909934,
                                        -3104.6992148242275,
                                        -3125.848511471544,
                                        -3146.6772372760515,
                                        -3167.1902512960423,
                                        -3187.3923389385463,
                                        -3207.2882130757007,
                                        -3226.882515144197,
                                        -3246.1798162280697,
                                        -3265.184618125064,
                                        -3283.901354396844,
                                        -3302.334391403285,
                                        -3320.4880293210836
                                    ]
                                },
                                {
                                    "mode": "lines",
                                    "name": "Minnesota",
                                    "type": "scatter",
                                    "x": [
                                        0,
                                        1,
                                        2,
                                        3,
                                        4,
                                        5,
                                        6,
                                        7,
                                        8,
                                        9,
                                        10,
                                        11,
                                        12,
                                        13,
                                        14,
                                        15,
                                        16,
                                        17,
                                        18,
                                        19,
                                        20,
                                        21,
                                        22,
                                        23,
                                        24,
                                        25,
                                        26,
                                        27,
                                        28,
                                        29,
                                        30,
                                        31,
                                        32,
                                        33,
                                        34,
                                        35,
                                        36,
                                        37,
                                        38,
                                        39,
                                        40,
                                        41,
                                        42,
                                        43,
                                        44,
                                        45,
                                        46,
                                        47,
                                        48,
                                        49,
                                        50,
                                        51,
                                        52,
                                        53,
                                        54,
                                        55,
                                        56,
                                        57,
                                        58,
                                        59,
                                        60,
                                        61,
                                        62,
                                        63,
                                        64,
                                        65,
                                        66,
                                        67,
                                        68,
                                        69,
                                        70,
                                        71,
                                        72,
                                        73,
                                        74,
                                        75,
                                        76,
                                        77,
                                        78,
                                        79,
                                        80,
                                        81,
                                        82,
                                        83,
                                        84,
                                        85,
                                        86,
                                        87,
                                        88,
                                        89,
                                        90,
                                        91,
                                        92,
                                        93,
                                        94,
                                        95,
                                        96,
                                        97,
                                        98,
                                        99,
                                        100,
                                        101,
                                        102,
                                        103,
                                        104,
                                        105,
                                        106,
                                        107,
                                        108,
                                        109,
                                        110,
                                        111,
                                        112,
                                        113,
                                        114,
                                        115,
                                        116,
                                        117,
                                        118,
                                        119
                                    ],
                                    "y": [
                                        2350.824446979094,
                                        2272.083761139713,
                                        2194.3255294406003,
                                        2117.5374937190622,
                                        2041.7075487585307,
                                        1966.823740380236,
                                        1892.8742635586987,
                                        1819.8474605607325,
                                        1747.7318191076697,
                                        1676.515970560506,
                                        1606.1886881276969,
                                        1536.7388850953237,
                                        1468.1556130793201,
                                        1400.4280602995304,
                                        1333.5455498752856,
                                        1267.497538142251,
                                        1202.273612990278,
                                        1137.8634922219878,
                                        1074.2570219318409,
                                        1011.4441749054275,
                                        949.4150490387377,
                                        888.1598657771362,
                                        827.6689685738393,
                                        767.9328213676077,
                                        708.9420070794315,
                                        650.687226127996,
                                        593.1592949636316,
                                        536.3491446205936,
                                        480.2478192873832,
                                        424.84647489491283,
                                        370.1363777222847,
                                        316.1089030199709,
                                        262.755533650163,
                                        210.0678587441012,
                                        158.03757237613704,
                                        106.65647225435045,
                                        55.91645842751241,
                                        5.809532008157257,
                                        -49.62750691862129,
                                        -105.1551777150571,
                                        -159.9900251065137,
                                        -214.14069350871705,
                                        -267.6157194802863,
                                        -320.4235330684887,
                                        -372.57245913818406,
                                        -424.0707186841896,
                                        -474.92643012729013,
                                        -525.1476105940478,
                                        -574.7421771806598,
                                        -623.7179482010611,
                                        -672.0826444194213,
                                        -719.8438902672865,
                                        -767.0092150455371,
                                        -813.5860541113284,
                                        -859.5817500502453,
                                        -905.0035538338166,
                                        -949.8586259625899,
                                        -994.1540375949457,
                                        -1037.8967716618304,
                                        -1081.0937239675768,
                                        -1123.751704276985,
                                        -1165.8774373888496,
                                        -1207.4775641960905,
                                        -1248.5586427326448,
                                        -1289.1271492073129,
                                        -1329.1894790246934,
                                        -1368.7519477933893,
                                        -1407.8207923216196,
                                        -1446.4021716004268,
                                        -1484.5021677746086,
                                        -1522.126787101527,
                                        -1559.2819608979707,
                                        -1595.9735464751902,
                                        -1632.2073280622708,
                                        -1667.98901771799,
                                        -1703.3242562312876,
                                        -1738.218614010504,
                                        -1772.6775919615297,
                                        -1806.7066223549946,
                                        -1840.3110696826257,
                                        -1873.4962315029406,
                                        -1906.2673392763772,
                                        -1938.6295591899948,
                                        -1970.5879929719158,
                                        -2002.1476786955623,
                                        -2033.3135915738953,
                                        -2064.090644743728,
                                        -2094.4836900402524,
                                        -2124.497518761905,
                                        -2154.1368624256916,
                                        -2183.406393513085,
                                        -2212.3107262066073,
                                        -2240.85441711725,
                                        -2269.0419660027774,
                                        -2296.8778164771006,
                                        -2324.366356710793,
                                        -2351.5119201228504,
                                        -2378.3187860638354,
                                        -2404.7911804905,
                                        -2430.933276631976,
                                        -2456.749195647665,
                                        -2482.2430072769184,
                                        -2507.4187304806082,
                                        -2532.2803340746946,
                                        -2556.831737355889,
                                        -2581.0768107195067,
                                        -2605.019376269617,
                                        -2628.66320842158,
                                        -2652.012034497052,
                                        -2675.06953531159,
                                        -2697.8393457549046,
                                        -2720.3250553638827,
                                        -2742.5302088884578,
                                        -2764.4583068504226,
                                        -2786.112806095265,
                                        -2807.4971203371215,
                                        -2828.614620696934,
                                        -2849.468636233879,
                                        -2870.0624544701905
                                    ]
                                },
                                {
                                    "mode": "lines",
                                    "name": "Texas",
                                    "type": "scatter",
                                    "x": [
                                        0,
                                        1,
                                        2,
                                        3,
                                        4,
                                        5,
                                        6,
                                        7,
                                        8,
                                        9,
                                        10,
                                        11,
                                        12,
                                        13,
                                        14,
                                        15,
                                        16,
                                        17,
                                        18,
                                        19,
                                        20,
                                        21,
                                        22,
                                        23,
                                        24,
                                        25,
                                        26,
                                        27,
                                        28,
                                        29,
                                        30,
                                        31,
                                        32,
                                        33,
                                        34,
                                        35,
                                        36,
                                        37,
                                        38,
                                        39,
                                        40,
                                        41,
                                        42,
                                        43,
                                        44,
                                        45,
                                        46,
                                        47,
                                        48,
                                        49,
                                        50,
                                        51,
                                        52,
                                        53,
                                        54,
                                        55,
                                        56,
                                        57,
                                        58,
                                        59,
                                        60,
                                        61,
                                        62,
                                        63,
                                        64,
                                        65,
                                        66,
                                        67,
                                        68,
                                        69,
                                        70,
                                        71,
                                        72,
                                        73,
                                        74,
                                        75,
                                        76,
                                        77,
                                        78,
                                        79,
                                        80,
                                        81,
                                        82,
                                        83,
                                        84,
                                        85,
                                        86,
                                        87,
                                        88,
                                        89,
                                        90,
                                        91,
                                        92,
                                        93,
                                        94,
                                        95,
                                        96,
                                        97,
                                        98,
                                        99,
                                        100,
                                        101,
                                        102,
                                        103,
                                        104,
                                        105,
                                        106,
                                        107,
                                        108,
                                        109,
                                        110,
                                        111,
                                        112,
                                        113,
                                        114,
                                        115,
                                        116,
                                        117,
                                        118,
                                        119
                                    ],
                                    "y": [
                                        2375.740854157756,
                                        2321.3919548589884,
                                        2267.5092682609893,
                                        2214.088795123937,
                                        2161.126570514067,
                                        2108.6186635093864,
                                        2056.5611769079173,
                                        2004.9502469384483,
                                        1953.7820429737499,
                                        1903.052767246269,
                                        1852.7586545662462,
                                        1802.8959720422692,
                                        1753.461018804202,
                                        1704.4501257285092,
                                        1655.8596551659273,
                                        1607.6860006714676,
                                        1559.9255867367528,
                                        1512.5748685246322,
                                        1465.630331606079,
                                        1419.088491699339,
                                        1372.9458944113394,
                                        1327.1991149812852,
                                        1281.8447580264735,
                                        1236.8794572902862,
                                        1192.2998753923375,
                                        1148.1027035807745,
                                        1104.2846614866933,
                                        1060.8424968806696,
                                        1017.772985431372,
                                        975.0729304662451,
                                        932.7391627342558,
                                        890.7685401706651,
                                        849.157947663815,
                                        807.9042968239247,
                                        767.00452575387,
                                        726.455598821919,
                                        686.25450643643,
                                        646.3982648224686,
                                        606.8839158003552,
                                        567.7085265661005,
                                        528.8691894737337,
                                        490.3630218194894,
                                        452.18716562784977,
                                        414.33878743942245,
                                        376.8150781006462,
                                        339.61325255527277,
                                        302.73054963767754,
                                        266.16423186790854,
                                        229.9115852485146,
                                        193.96991906310322,
                                        158.3365656766366,
                                        123.00888033743976,
                                        87.98424098089025,
                                        53.26004803481963,
                                        18.83372422656714,
                                        -17.383279100358777,
                                        -55.835812176939726,
                                        -93.95849387606359,
                                        -131.75415371044164,
                                        -169.22559692082177,
                                        -206.3756046841845,
                                        -243.2069343201847,
                                        -279.72231949577963,
                                        -315.92447042814183,
                                        -351.81607408581294,
                                        -387.399794388125,
                                        -422.67827240292536,
                                        -457.6541265426099,
                                        -492.3299527584413,
                                        -526.708324733248,
                                        -560.7917940724324,
                                        -594.5828904933574,
                                        -628.0841220131042,
                                        -661.2979751346243,
                                        -694.2269150312864,
                                        -726.8733857298444,
                                        -759.2398102918423,
                                        -791.3285909934507,
                                        -823.1421095037667,
                                        -854.6827270615895,
                                        -885.9527846506671,
                                        -916.9546031734553,
                                        -947.6904836233703,
                                        -978.1627072555784,
                                        -1008.373535756305,
                                        -1038.3252114107095,
                                        -1068.0199572693027,
                                        -1097.459977312949,
                                        -1126.6474566164452,
                                        -1155.5845615107019,
                                        -1184.273439743532,
                                        -1212.7162206390558,
                                        -1240.915015255745,
                                        -1268.8719165431053,
                                        -1296.588999497024,
                                        -1324.0683213137677,
                                        -1351.311921542684,
                                        -1378.3218222375663,
                                        -1405.100028106739,
                                        -1431.6485266618542,
                                        -1457.9692883653956,
                                        -1484.0642667769403,
                                        -1509.9353986981464,
                                        -1535.5846043165106,
                                        -1561.0137873478825,
                                        -1586.224835177763,
                                        -1611.219619001386,
                                        -1635.9999939626068,
                                        -1660.5677992915835,
                                        -1684.924858441298,
                                        -1709.072979222885,
                                        -1733.013953939817,
                                        -1756.7495595209266,
                                        -1780.2815576522999,
                                        -1803.6116949080179,
                                        -1826.7417028798,
                                        -1849.6732983055235,
                                        -1872.4081831966419,
                                        -1894.948044964503
                                    ]
                                }
                            ],
                            "layout": {
                                "template": {
                                    "data": {
                                        "bar": [
                                            {
                                                "error_x": {
                                                    "color": "#2a3f5f"
                                                },
                                                "error_y": {
                                                    "color": "#2a3f5f"
                                                },
                                                "marker": {
                                                    "line": {
                                                        "color": "#E5ECF6",
                                                        "width": 0.5
                                                    }
                                                },
                                                "type": "bar"
                                            }
                                        ],
                                        "barpolar": [
                                            {
                                                "marker": {
                                                    "line": {
                                                        "color": "#E5ECF6",
                                                        "width": 0.5
                                                    }
                                                },
                                                "type": "barpolar"
                                            }
                                        ],
                                        "carpet": [
                                            {
                                                "aaxis": {
                                                    "endlinecolor": "#2a3f5f",
                                                    "gridcolor": "white",
                                                    "linecolor": "white",
                                                    "minorgridcolor": "white",
                                                    "startlinecolor": "#2a3f5f"
                                                },
                                                "baxis": {
                                                    "endlinecolor": "#2a3f5f",
                                                    "gridcolor": "white",
                                                    "linecolor": "white",
                                                    "minorgridcolor": "white",
                                                    "startlinecolor": "#2a3f5f"
                                                },
                                                "type": "carpet"
                                            }
                                        ],
                                        "choropleth": [
                                            {
                                                "colorbar": {
                                                    "outlinewidth": 0,
                                                    "ticks": ""
                                                },
                                                "type": "choropleth"
                                            }
                                        ],
                                        "contour": [
                                            {
                                                "colorbar": {
                                                    "outlinewidth": 0,
                                                    "ticks": ""
                                                },
                                                "colorscale": [
                                                    [
                                                        0,
                                                        "#0d0887"
                                                    ],
                                                    [
                                                        0.1111111111111111,
                                                        "#46039f"
                                                    ],
                                                    [
                                                        0.2222222222222222,
                                                        "#7201a8"
                                                    ],
                                                    [
                                                        0.3333333333333333,
                                                        "#9c179e"
                                                    ],
                                                    [
                                                        0.4444444444444444,
                                                        "#bd3786"
                                                    ],
                                                    [
                                                        0.5555555555555556,
                                                        "#d8576b"
                                                    ],
                                                    [
                                                        0.6666666666666666,
                                                        "#ed7953"
                                                    ],
                                                    [
                                                        0.7777777777777778,
                                                        "#fb9f3a"
                                                    ],
                                                    [
                                                        0.8888888888888888,
                                                        "#fdca26"
                                                    ],
                                                    [
                                                        1,
                                                        "#f0f921"
                                                    ]
                                                ],
                                                "type": "contour"
                                            }
                                        ],
                                        "contourcarpet": [
                                            {
                                                "colorbar": {
                                                    "outlinewidth": 0,
                                                    "ticks": ""
                                                },
                                                "type": "contourcarpet"
                                            }
                                        ],
                                        "heatmap": [
                                            {
                                                "colorbar": {
                                                    "outlinewidth": 0,
                                                    "ticks": ""
                                                },
                                                "colorscale": [
                                                    [
                                                        0,
                                                        "#0d0887"
                                                    ],
                                                    [
                                                        0.1111111111111111,
                                                        "#46039f"
                                                    ],
                                                    [
                                                        0.2222222222222222,
                                                        "#7201a8"
                                                    ],
                                                    [
                                                        0.3333333333333333,
                                                        "#9c179e"
                                                    ],
                                                    [
                                                        0.4444444444444444,
                                                        "#bd3786"
                                                    ],
                                                    [
                                                        0.5555555555555556,
                                                        "#d8576b"
                                                    ],
                                                    [
                                                        0.6666666666666666,
                                                        "#ed7953"
                                                    ],
                                                    [
                                                        0.7777777777777778,
                                                        "#fb9f3a"
                                                    ],
                                                    [
                                                        0.8888888888888888,
                                                        "#fdca26"
                                                    ],
                                                    [
                                                        1,
                                                        "#f0f921"
                                                    ]
                                                ],
                                                "type": "heatmap"
                                            }
                                        ],
                                        "heatmapgl": [
                                            {
                                                "colorbar": {
                                                    "outlinewidth": 0,
                                                    "ticks": ""
                                                },
                                                "colorscale": [
                                                    [
                                                        0,
                                                        "#0d0887"
                                                    ],
                                                    [
                                                        0.1111111111111111,
                                                        "#46039f"
                                                    ],
                                                    [
                                                        0.2222222222222222,
                                                        "#7201a8"
                                                    ],
                                                    [
                                                        0.3333333333333333,
                                                        "#9c179e"
                                                    ],
                                                    [
                                                        0.4444444444444444,
                                                        "#bd3786"
                                                    ],
                                                    [
                                                        0.5555555555555556,
                                                        "#d8576b"
                                                    ],
                                                    [
                                                        0.6666666666666666,
                                                        "#ed7953"
                                                    ],
                                                    [
                                                        0.7777777777777778,
                                                        "#fb9f3a"
                                                    ],
                                                    [
                                                        0.8888888888888888,
                                                        "#fdca26"
                                                    ],
                                                    [
                                                        1,
                                                        "#f0f921"
                                                    ]
                                                ],
                                                "type": "heatmapgl"
                                            }
                                        ],
                                        "histogram": [
                                            {
                                                "marker": {
                                                    "colorbar": {
                                                        "outlinewidth": 0,
                                                        "ticks": ""
                                                    }
                                                },
                                                "type": "histogram"
                                            }
                                        ],
                                        "histogram2d": [
                                            {
                                                "colorbar": {
                                                    "outlinewidth": 0,
                                                    "ticks": ""
                                                },
                                                "colorscale": [
                                                    [
                                                        0,
                                                        "#0d0887"
                                                    ],
                                                    [
                                                        0.1111111111111111,
                                                        "#46039f"
                                                    ],
                                                    [
                                                        0.2222222222222222,
                                                        "#7201a8"
                                                    ],
                                                    [
                                                        0.3333333333333333,
                                                        "#9c179e"
                                                    ],
                                                    [
                                                        0.4444444444444444,
                                                        "#bd3786"
                                                    ],
                                                    [
                                                        0.5555555555555556,
                                                        "#d8576b"
                                                    ],
                                                    [
                                                        0.6666666666666666,
                                                        "#ed7953"
                                                    ],
                                                    [
                                                        0.7777777777777778,
                                                        "#fb9f3a"
                                                    ],
                                                    [
                                                        0.8888888888888888,
                                                        "#fdca26"
                                                    ],
                                                    [
                                                        1,
                                                        "#f0f921"
                                                    ]
                                                ],
                                                "type": "histogram2d"
                                            }
                                        ],
                                        "histogram2dcontour": [
                                            {
                                                "colorbar": {
                                                    "outlinewidth": 0,
                                                    "ticks": ""
                                                },
                                                "colorscale": [
                                                    [
                                                        0,
                                                        "#0d0887"
                                                    ],
                                                    [
                                                        0.1111111111111111,
                                                        "#46039f"
                                                    ],
                                                    [
                                                        0.2222222222222222,
                                                        "#7201a8"
                                                    ],
                                                    [
                                                        0.3333333333333333,
                                                        "#9c179e"
                                                    ],
                                                    [
                                                        0.4444444444444444,
                                                        "#bd3786"
                                                    ],
                                                    [
                                                        0.5555555555555556,
                                                        "#d8576b"
                                                    ],
                                                    [
                                                        0.6666666666666666,
                                                        "#ed7953"
                                                    ],
                                                    [
                                                        0.7777777777777778,
                                                        "#fb9f3a"
                                                    ],
                                                    [
                                                        0.8888888888888888,
                                                        "#fdca26"
                                                    ],
                                                    [
                                                        1,
                                                        "#f0f921"
                                                    ]
                                                ],
                                                "type": "histogram2dcontour"
                                            }
                                        ],
                                        "mesh3d": [
                                            {
                                                "colorbar": {
                                                    "outlinewidth": 0,
                                                    "ticks": ""
                                                },
                                                "type": "mesh3d"
                                            }
                                        ],
                                        "parcoords": [
                                            {
                                                "line": {
                                                    "colorbar": {
                                                        "outlinewidth": 0,
                                                        "ticks": ""
                                                    }
                                                },
                                                "type": "parcoords"
                                            }
                                        ],
                                        "pie": [
                                            {
                                                "automargin": true,
                                                "type": "pie"
                                            }
                                        ],
                                        "scatter": [
                                            {
                                                "marker": {
                                                    "colorbar": {
                                                        "outlinewidth": 0,
                                                        "ticks": ""
                                                    }
                                                },
                                                "type": "scatter"
                                            }
                                        ],
                                        "scatter3d": [
                                            {
                                                "line": {
                                                    "colorbar": {
                                                        "outlinewidth": 0,
                                                        "ticks": ""
                                                    }
                                                },
                                                "marker": {
                                                    "colorbar": {
                                                        "outlinewidth": 0,
                                                        "ticks": ""
                                                    }
                                                },
                                                "type": "scatter3d"
                                            }
                                        ],
                                        "scattercarpet": [
                                            {
                                                "marker": {
                                                    "colorbar": {
                                                        "outlinewidth": 0,
                                                        "ticks": ""
                                                    }
                                                },
                                                "type": "scattercarpet"
                                            }
                                        ],
                                        "scattergeo": [
                                            {
                                                "marker": {
                                                    "colorbar": {
                                                        "outlinewidth": 0,
                                                        "ticks": ""
                                                    }
                                                },
                                                "type": "scattergeo"
                                            }
                                        ],
                                        "scattergl": [
                                            {
                                                "marker": {
                                                    "colorbar": {
                                                        "outlinewidth": 0,
                                                        "ticks": ""
                                                    }
                                                },
                                                "type": "scattergl"
                                            }
                                        ],
                                        "scattermapbox": [
                                            {
                                                "marker": {
                                                    "colorbar": {
                                                        "outlinewidth": 0,
                                                        "ticks": ""
                                                    }
                                                },
                                                "type": "scattermapbox"
                                            }
                                        ],
                                        "scatterpolar": [
                                            {
                                                "marker": {
                                                    "colorbar": {
                                                        "outlinewidth": 0,
                                                        "ticks": ""
                                                    }
                                                },
                                                "type": "scatterpolar"
                                            }
                                        ],
                                        "scatterpolargl": [
                                            {
                                                "marker": {
                                                    "colorbar": {
                                                        "outlinewidth": 0,
                                                        "ticks": ""
                                                    }
                                                },
                                                "type": "scatterpolargl"
                                            }
                                        ],
                                        "scatterternary": [
                                            {
                                                "marker": {
                                                    "colorbar": {
                                                        "outlinewidth": 0,
                                                        "ticks": ""
                                                    }
                                                },
                                                "type": "scatterternary"
                                            }
                                        ],
                                        "surface": [
                                            {
                                                "colorbar": {
                                                    "outlinewidth": 0,
                                                    "ticks": ""
                                                },
                                                "colorscale": [
                                                    [
                                                        0,
                                                        "#0d0887"
                                                    ],
                                                    [
                                                        0.1111111111111111,
                                                        "#46039f"
                                                    ],
                                                    [
                                                        0.2222222222222222,
                                                        "#7201a8"
                                                    ],
                                                    [
                                                        0.3333333333333333,
                                                        "#9c179e"
                                                    ],
                                                    [
                                                        0.4444444444444444,
                                                        "#bd3786"
                                                    ],
                                                    [
                                                        0.5555555555555556,
                                                        "#d8576b"
                                                    ],
                                                    [
                                                        0.6666666666666666,
                                                        "#ed7953"
                                                    ],
                                                    [
                                                        0.7777777777777778,
                                                        "#fb9f3a"
                                                    ],
                                                    [
                                                        0.8888888888888888,
                                                        "#fdca26"
                                                    ],
                                                    [
                                                        1,
                                                        "#f0f921"
                                                    ]
                                                ],
                                                "type": "surface"
                                            }
                                        ],
                                        "table": [
                                            {
                                                "cells": {
                                                    "fill": {
                                                        "color": "#EBF0F8"
                                                    },
                                                    "line": {
                                                        "color": "white"
                                                    }
                                                },
                                                "header": {
                                                    "fill": {
                                                        "color": "#C8D4E3"
                                                    },
                                                    "line": {
                                                        "color": "white"
                                                    }
                                                },
                                                "type": "table"
                                            }
                                        ]
                                    },
                                    "layout": {
                                        "annotationdefaults": {
                                            "arrowcolor": "#2a3f5f",
                                            "arrowhead": 0,
                                            "arrowwidth": 1
                                        },
                                        "autotypenumbers": "strict",
                                        "coloraxis": {
                                            "colorbar": {
                                                "outlinewidth": 0,
                                                "ticks": ""
                                            }
                                        },
                                        "colorscale": {
                                            "diverging": [
                                                [
                                                    0,
                                                    "#8e0152"
                                                ],
                                                [
                                                    0.1,
                                                    "#c51b7d"
                                                ],
                                                [
                                                    0.2,
                                                    "#de77ae"
                                                ],
                                                [
                                                    0.3,
                                                    "#f1b6da"
                                                ],
                                                [
                                                    0.4,
                                                    "#fde0ef"
                                                ],
                                                [
                                                    0.5,
                                                    "#f7f7f7"
                                                ],
                                                [
                                                    0.6,
                                                    "#e6f5d0"
                                                ],
                                                [
                                                    0.7,
                                                    "#b8e186"
                                                ],
                                                [
                                                    0.8,
                                                    "#7fbc41"
                                                ],
                                                [
                                                    0.9,
                                                    "#4d9221"
                                                ],
                                                [
                                                    1,
                                                    "#276419"
                                                ]
                                            ],
                                            "sequential": [
                                                [
                                                    0,
                                                    "#0d0887"
                                                ],
                                                [
                                                    0.1111111111111111,
                                                    "#46039f"
                                                ],
                                                [
                                                    0.2222222222222222,
                                                    "#7201a8"
                                                ],
                                                [
                                                    0.3333333333333333,
                                                    "#9c179e"
                                                ],
                                                [
                                                    0.4444444444444444,
                                                    "#bd3786"
                                                ],
                                                [
                                                    0.5555555555555556,
                                                    "#d8576b"
                                                ],
                                                [
                                                    0.6666666666666666,
                                                    "#ed7953"
                                                ],
                                                [
                                                    0.7777777777777778,
                                                    "#fb9f3a"
                                                ],
                                                [
                                                    0.8888888888888888,
                                                    "#fdca26"
                                                ],
                                                [
                                                    1,
                                                    "#f0f921"
                                                ]
                                            ],
                                            "sequentialminus": [
                                                [
                                                    0,
                                                    "#0d0887"
                                                ],
                                                [
                                                    0.1111111111111111,
                                                    "#46039f"
                                                ],
                                                [
                                                    0.2222222222222222,
                                                    "#7201a8"
                                                ],
                                                [
                                                    0.3333333333333333,
                                                    "#9c179e"
                                                ],
                                                [
                                                    0.4444444444444444,
                                                    "#bd3786"
                                                ],
                                                [
                                                    0.5555555555555556,
                                                    "#d8576b"
                                                ],
                                                [
                                                    0.6666666666666666,
                                                    "#ed7953"
                                                ],
                                                [
                                                    0.7777777777777778,
                                                    "#fb9f3a"
                                                ],
                                                [
                                                    0.8888888888888888,
                                                    "#fdca26"
                                                ],
                                                [
                                                    1,
                                                    "#f0f921"
                                                ]
                                            ]
                                        },
                                        "colorway": [
                                            "#636efa",
                                            "#EF553B",
                                            "#00cc96",
                                            "#ab63fa",
                                            "#FFA15A",
                                            "#19d3f3",
                                            "#FF6692",
                                            "#B6E880",
                                            "#FF97FF",
                                            "#FECB52"
                                        ],
                                        "font": {
                                            "color": "#2a3f5f"
                                        },
                                        "geo": {
                                            "bgcolor": "white",
                                            "lakecolor": "white",
                                            "landcolor": "#E5ECF6",
                                            "showlakes": true,
                                            "showland": true,
                                            "subunitcolor": "white"
                                        },
                                        "hoverlabel": {
                                            "align": "left"
                                        },
                                        "hovermode": "closest",
                                        "mapbox": {
                                            "style": "light"
                                        },
                                        "paper_bgcolor": "white",
                                        "plot_bgcolor": "#E5ECF6",
                                        "polar": {
                                            "angularaxis": {
                                                "gridcolor": "white",
                                                "linecolor": "white",
                                                "ticks": ""
                                            },
                                            "bgcolor": "#E5ECF6",
                                            "radialaxis": {
                                                "gridcolor": "white",
                                                "linecolor": "white",
                                                "ticks": ""
                                            }
                                        },
                                        "scene": {
                                            "xaxis": {
                                                "backgroundcolor": "#E5ECF6",
                                                "gridcolor": "white",
                                                "gridwidth": 2,
                                                "linecolor": "white",
                                                "showbackground": true,
                                                "ticks": "",
                                                "zerolinecolor": "white"
                                            },
                                            "yaxis": {
                                                "backgroundcolor": "#E5ECF6",
                                                "gridcolor": "white",
                                                "gridwidth": 2,
                                                "linecolor": "white",
                                                "showbackground": true,
                                                "ticks": "",
                                                "zerolinecolor": "white"
                                            },
                                            "zaxis": {
                                                "backgroundcolor": "#E5ECF6",
                                                "gridcolor": "white",
                                                "gridwidth": 2,
                                                "linecolor": "white",
                                                "showbackground": true,
                                                "ticks": "",
                                                "zerolinecolor": "white"
                                            }
                                        },
                                        "shapedefaults": {
                                            "line": {
                                                "color": "#2a3f5f"
                                            }
                                        },
                                        "ternary": {
                                            "aaxis": {
                                                "gridcolor": "white",
                                                "linecolor": "white",
                                                "ticks": ""
                                            },
                                            "baxis": {
                                                "gridcolor": "white",
                                                "linecolor": "white",
                                                "ticks": ""
                                            },
                                            "bgcolor": "#E5ECF6",
                                            "caxis": {
                                                "gridcolor": "white",
                                                "linecolor": "white",
                                                "ticks": ""
                                            }
                                        },
                                        "title": {
                                            "x": 0.05
                                        },
                                        "xaxis": {
                                            "automargin": true,
                                            "gridcolor": "white",
                                            "linecolor": "white",
                                            "ticks": "",
                                            "title": {
                                                "standoff": 15
                                            },
                                            "zerolinecolor": "white",
                                            "zerolinewidth": 2
                                        },
                                        "yaxis": {
                                            "automargin": true,
                                            "gridcolor": "white",
                                            "linecolor": "white",
                                            "ticks": "",
                                            "title": {
                                                "standoff": 15
                                            },
                                            "zerolinecolor": "white",
                                            "zerolinewidth": 2
                                        }
                                    }
                                },
                                "title": {
                                    "text": "US State Fair Daily Profit Adjusted for Rainfall - with Expenses"
                                },
                                "xaxis": {
                                    "title": {
                                        "text": "Daily Precipitation (mm)"
                                    }
                                },
                                "yaxis": {
                                    "title": {
                                        "text": "Daily Profit (USD)"
                                    }
                                }
                            }
                        }
                    },
                    "metadata": {},
                    "output_type": "display_data"
                }
            ],
            "source": [
                "x = np.arange(120)\n",
                "\n",
                "fig = go.Figure()\n",
                "fig.add_trace(go.Scatter(x=x, y=nc_profit,\n",
                "                    mode='lines',\n",
                "                    name='North Carolina'))\n",
                "fig.add_trace(go.Scatter(x=x, y=ny_profit,\n",
                "                    mode='lines',\n",
                "                    name='New York'))\n",
                "fig.add_trace(go.Scatter(x=x, y=mn_profit,\n",
                "                    mode='lines',\n",
                "                    name='Minnesota'))\n",
                "fig.add_trace(go.Scatter(x=x, y=tx_profit,\n",
                "                    mode='lines',\n",
                "                    name='Texas'))                \n",
                "# Edit the layout\n",
                "fig.update_layout(title='US State Fair Daily Profit Adjusted for Rainfall - with Expenses',\n",
                "                   xaxis_title='Daily Precipitation (mm)',\n",
                "                   yaxis_title='Daily Profit (USD)')\n",
                "fig.show()"
            ]
        },
        {
            "cell_type": "code",
            "execution_count": 109,
            "metadata": {},
            "outputs": [],
            "source": [
                "def total_profit_fair(df_scaled, popt, scaler_prec, total_revenue, prec_list, percent_commission=0.20, percent_sales_tax=0.0738,percent_admission=0.02, percent_labour=0.18, percent_food=0.25, percent_income_tax = 0.12, extra_costs=0):\n",
                "    profit_list = []\n",
                "    daily_revenue = total_revenue/len(prec_list)\n",
                "    for prec in prec_list:\n",
                "        profit_list.append(rainfall_profit(df_scaled, popt,prec, scaler_prec, daily_revenue, percent_commission=percent_commission, percent_sales_tax=percent_sales_tax,percent_admission=percent_admission, percent_labour=percent_labour, percent_food=percent_food, percent_income_tax = percent_income_tax, extra_costs=extra_costs))\n",
                "    \n",
                "    total_profit = sum(profit_list)\n",
                "    rainy_days = len([x for x in prec_list if x > 0])\n",
                "\n",
                "    print('Total days: {}'.format(len(prec_list)))\n",
                "    print('Rainy days: {}'.format(rainy_days))\n",
                "    print('Daily Profit: {}'.format(profit_list))\n",
                "    print('Total Profit: {}'.format(total_profit))\n",
                "\n",
                "    return prec_list, profit_list, rainy_days, total_profit\n",
                "\n",
                "    "
            ]
        },
        {
            "cell_type": "code",
            "execution_count": 110,
            "metadata": {},
            "outputs": [
                {
                    "name": "stdout",
                    "output_type": "stream",
                    "text": [
                        "Total days: 14\n",
                        "Rainy days: 8\n",
                        "Daily Profit: [-1461.6779926420986, -797.7790755065027, -797.7790755065027, 1215.28, 1215.28, 980.3481646454662, 1119.149089012971, 1215.28, 1215.28, 847.7636874548898, 762.6896096491643, 40.74792553195763, 1215.28, 1215.28]\n",
                        "Total Profit: 7985.142332639345\n"
                    ]
                }
            ],
            "source": [
                "# example: a new york state fair vendor that has 0 extra costs, daily rainfall is 100,60,60,0,0,5,2,0,0,8,10,30,0,0 (mm)\n",
                "ex = total_profit_fair(NY_df_scaled, popt_NY, NY_scaler_prec, 70000, [100,60,60,0,0,5,2,0,0,8,10,30,0,0],extra_costs=0)"
            ]
        },
        {
            "cell_type": "code",
            "execution_count": 95,
            "metadata": {},
            "outputs": [],
            "source": [
                "scalers_dict = {'NY':NY_scaler_prec,\n",
                "'NC':NC_scaler_prec,\n",
                "'TX':TX_scaler_prec,\n",
                "'MN':MN_scaler_prec}"
            ]
        },
        {
            "cell_type": "markdown",
            "metadata": {},
            "source": [
                "The function below gives an average for all 4 state fairs rather than having to select a specific location"
            ]
        },
        {
            "cell_type": "code",
            "execution_count": 111,
            "metadata": {},
            "outputs": [],
            "source": [
                "def total_profit_fair_us(total_revenue, scalers_dict, prec_list, percent_commission=0.20, percent_sales_tax=0.0738,percent_admission=0.02, percent_labour=0.18, percent_food=0.25, percent_income_tax = 0.12,extra_costs=0):\n",
                "    profit_list_MN = []\n",
                "    profit_list_TX = []\n",
                "    profit_list_NC = []\n",
                "    profit_list_NY = []\n",
                "    daily_revenue = total_revenue/len(prec_list)\n",
                "    for prec in prec_list:\n",
                "        profit_list_MN.append(rainfall_profit(MN_df_scaled, popt_MN,prec, scalers_dict['MN'], daily_revenue, percent_commission=percent_commission, percent_sales_tax=percent_sales_tax,percent_admission=percent_admission, percent_labour=percent_labour, percent_food=percent_food, percent_income_tax = percent_income_tax, extra_costs=0))\n",
                "        profit_list_TX.append(rainfall_profit(TX_df_scaled, popt_TX,prec, scalers_dict['TX'],daily_revenue, percent_commission=percent_commission, percent_sales_tax=percent_sales_tax,percent_admission=percent_admission, percent_labour=percent_labour, percent_food=percent_food, percent_income_tax = percent_income_tax, extra_costs=0))\n",
                "        profit_list_NC.append(rainfall_profit(NC_df_scaled, popt_NC,prec, scalers_dict['NC'], daily_revenue, percent_commission=percent_commission, percent_sales_tax=percent_sales_tax,percent_admission=percent_admission, percent_labour=percent_labour, percent_food=percent_food, percent_income_tax = percent_income_tax, extra_costs=0))\n",
                "        profit_list_NY.append(rainfall_profit(NY_df_scaled, popt_NY,prec,scalers_dict['NY'], daily_revenue, percent_commission=percent_commission, percent_sales_tax=percent_sales_tax,percent_admission=percent_admission, percent_labour=percent_labour, percent_food=percent_food, percent_income_tax = percent_income_tax, extra_costs=0))\n",
                "    \n",
                "    avg_profit_list = np.average(np.array([profit_list_MN, profit_list_TX, profit_list_NC, profit_list_NY]), axis=0)\n",
                "    \n",
                "    total_profit_MN = sum(profit_list_MN)\n",
                "    total_profit_TX = sum(profit_list_TX)\n",
                "    total_profit_NC = sum(profit_list_NC)\n",
                "    total_profit_NY = sum(profit_list_NY)\n",
                "\n",
                "    avg_total_profit = (total_profit_MN + total_profit_TX + total_profit_NC + total_profit_NY)/4\n",
                "\n",
                "    rainy_days = len([x for x in prec_list if x > 0])\n",
                "\n",
                "    print('Total days: {}'.format(len(prec_list)))\n",
                "    print('Rainy days: {}'.format(rainy_days))\n",
                "    print('Average Daily Profit: {}'.format(avg_profit_list))\n",
                "    print('Average Total Profit: {}'.format(avg_total_profit))\n",
                "\n",
                "    return prec_list, avg_profit_list, rainy_days, avg_total_profit"
            ]
        },
        {
            "cell_type": "code",
            "execution_count": 112,
            "metadata": {},
            "outputs": [
                {
                    "name": "stdout",
                    "output_type": "stream",
                    "text": [
                        "Total days: 14\n",
                        "Rainy days: 8\n",
                        "Average Daily Profit: [ 1215.28        1215.28        1215.28        1215.28\n",
                        "  1215.28         759.83032111  1013.61262379 -1410.69900443\n",
                        " -1410.69900443 -1410.69900443   411.15304151  -331.47944053\n",
                        "  -331.47944053  1215.28      ]\n",
                        "Average Total Profit: 4581.220092044772\n"
                    ]
                }
            ],
            "source": [
                "ex2 = total_profit_fair_us(70000, scalers_dict,[0,0,0,0,0,5,2,100,100,100,10,30,30,0],extra_costs=0)"
            ]
        },
        {
            "cell_type": "code",
            "execution_count": 98,
            "metadata": {},
            "outputs": [],
            "source": [
                "# save scalers\n",
                "import joblib as jb\n",
                "\n",
                "for state, scaler in scalers_dict.items():\n",
                "    scaler_filename = \"{}_scaler_prec.save\".format(state)\n",
                "    jb.dump(scaler, scaler_filename) \n"
            ]
        },
        {
            "cell_type": "markdown",
            "metadata": {},
            "source": [
                "# Add insurance"
            ]
        },
        {
            "cell_type": "code",
            "execution_count": 99,
            "metadata": {},
            "outputs": [],
            "source": [
                "def add_insurance(prec_list, profit_list, threshold, payout, premium):\n",
                "    paid = False\n",
                "    new_profit_list = profit_list.copy()\n",
                "    for i in range(len(prec_list)):\n",
                "        if (prec_list[i]>threshold) and (paid==False):\n",
                "            new_profit_list[i] = profit_list[i] + payout\n",
                "            paid = True\n",
                "        elif (paid==True):\n",
                "            new_profit_list[i] = profit_list[i]\n",
                "        elif (paid==False):\n",
                "            new_profit_list[i] = profit_list[i] - premium\n",
                "\n",
                "    return new_profit_list\n"
            ]
        },
        {
            "cell_type": "markdown",
            "metadata": {},
            "source": [
                "# Find average fair duration"
            ]
        },
        {
            "cell_type": "code",
            "execution_count": 100,
            "metadata": {},
            "outputs": [
                {
                    "data": {
                        "text/html": [
                            "<div>\n",
                            "<style scoped>\n",
                            "    .dataframe tbody tr th:only-of-type {\n",
                            "        vertical-align: middle;\n",
                            "    }\n",
                            "\n",
                            "    .dataframe tbody tr th {\n",
                            "        vertical-align: top;\n",
                            "    }\n",
                            "\n",
                            "    .dataframe thead th {\n",
                            "        text-align: right;\n",
                            "    }\n",
                            "</style>\n",
                            "<table border=\"1\" class=\"dataframe\">\n",
                            "  <thead>\n",
                            "    <tr style=\"text-align: right;\">\n",
                            "      <th></th>\n",
                            "      <th>state</th>\n",
                            "      <th>year</th>\n",
                            "      <th>date</th>\n",
                            "    </tr>\n",
                            "  </thead>\n",
                            "  <tbody>\n",
                            "    <tr>\n",
                            "      <th>0</th>\n",
                            "      <td>MN</td>\n",
                            "      <td>2018</td>\n",
                            "      <td>11 days</td>\n",
                            "    </tr>\n",
                            "    <tr>\n",
                            "      <th>1</th>\n",
                            "      <td>MN</td>\n",
                            "      <td>2019</td>\n",
                            "      <td>11 days</td>\n",
                            "    </tr>\n",
                            "    <tr>\n",
                            "      <th>2</th>\n",
                            "      <td>MN</td>\n",
                            "      <td>2021</td>\n",
                            "      <td>11 days</td>\n",
                            "    </tr>\n",
                            "    <tr>\n",
                            "      <th>3</th>\n",
                            "      <td>NC</td>\n",
                            "      <td>2013</td>\n",
                            "      <td>10 days</td>\n",
                            "    </tr>\n",
                            "    <tr>\n",
                            "      <th>4</th>\n",
                            "      <td>NC</td>\n",
                            "      <td>2014</td>\n",
                            "      <td>10 days</td>\n",
                            "    </tr>\n",
                            "  </tbody>\n",
                            "</table>\n",
                            "</div>"
                        ],
                        "text/plain": [
                            "  state  year    date\n",
                            "0    MN  2018 11 days\n",
                            "1    MN  2019 11 days\n",
                            "2    MN  2021 11 days\n",
                            "3    NC  2013 10 days\n",
                            "4    NC  2014 10 days"
                        ]
                    },
                    "execution_count": 100,
                    "metadata": {},
                    "output_type": "execute_result"
                }
            ],
            "source": [
                "date_df = scaled_df.groupby(['state','year'],as_index=False)['date'].agg(np.ptp) \n",
                "date_df.head()"
            ]
        },
        {
            "cell_type": "code",
            "execution_count": 101,
            "metadata": {},
            "outputs": [
                {
                    "data": {
                        "text/plain": [
                            "Timedelta('12 days 23:02:24')"
                        ]
                    },
                    "execution_count": 101,
                    "metadata": {},
                    "output_type": "execute_result"
                }
            ],
            "source": [
                "date_df['date'].mean()"
            ]
        },
        {
            "cell_type": "markdown",
            "metadata": {},
            "source": [
                "# Plot output bar charts"
            ]
        },
        {
            "cell_type": "code",
            "execution_count": 102,
            "metadata": {},
            "outputs": [],
            "source": [
                "from plotly.subplots import make_subplots\n",
                "import plotly.graph_objects as go"
            ]
        },
        {
            "cell_type": "code",
            "execution_count": 103,
            "metadata": {},
            "outputs": [],
            "source": [
                "def plotly_prec_profit(prec_list, profit_list):\n",
                "\n",
                "    fig = make_subplots(rows=2, cols=1,\n",
                "                    shared_xaxes=True)\n",
                "    \n",
                "\n",
                "    fig.add_trace(\n",
                "        go.Bar(x=[x for x in range(1,len(prec_list)+1)], y=prec_list,name=\"Precipitation\"),\n",
                "        row=1, col=1\n",
                "    )\n",
                "\n",
                "    fig.add_trace(\n",
                "        go.Bar(x=[x for x in range(1,len(profit_list)+1)], y=profit_list, name = \"Profit\"),\n",
                "        row=2, col=1\n",
                "    )\n",
                "\n",
                "\n",
                "    fig.update_layout(title_text=\"Daily Precipitation and Profit\",)\n",
                "\n",
                "    # Update xaxis properties\n",
                "    fig.update_xaxes(title_text=\"Day\",row=1, col=1)\n",
                "    fig.update_xaxes(title_text=\"Day\", row=2, col=1)\n",
                "\n",
                "\n",
                "    # Update yaxis properties\n",
                "    fig.update_yaxes(title_text=\"Precipitation (mm)\", row=1, col=1)\n",
                "    fig.update_yaxes(title_text=\"Expected Profit (USD)\", row=2, col=1)\n",
                "\n",
                "    fig.show()\n",
                "    "
            ]
        },
        {
            "cell_type": "code",
            "execution_count": 104,
            "metadata": {},
            "outputs": [
                {
                    "name": "stdout",
                    "output_type": "stream",
                    "text": [
                        "Total days: 14\n",
                        "Rainy days: 6\n",
                        "Average Daily Profit: [ 1215.28        1215.28        1215.28        1215.28\n",
                        "  1215.28         759.83032111  1013.61262379  1215.28\n",
                        "  1215.28        -749.48943111 -1410.69900443 -1308.9961201\n",
                        " -1308.9961201   1215.28      ]\n",
                        "Average Total Profit: 6717.502269160825\n"
                    ]
                },
                {
                    "data": {
                        "application/vnd.plotly.v1+json": {
                            "config": {
                                "plotlyServerURL": "https://plot.ly"
                            },
                            "data": [
                                {
                                    "name": "Precipitation",
                                    "type": "bar",
                                    "x": [
                                        1,
                                        2,
                                        3,
                                        4,
                                        5,
                                        6,
                                        7,
                                        8,
                                        9,
                                        10,
                                        11,
                                        12,
                                        13,
                                        14
                                    ],
                                    "xaxis": "x",
                                    "y": [
                                        0,
                                        0,
                                        0,
                                        0,
                                        0,
                                        5,
                                        2,
                                        0,
                                        0,
                                        50,
                                        100,
                                        90,
                                        90,
                                        0
                                    ],
                                    "yaxis": "y"
                                },
                                {
                                    "name": "Profit",
                                    "type": "bar",
                                    "x": [
                                        1,
                                        2,
                                        3,
                                        4,
                                        5,
                                        6,
                                        7,
                                        8,
                                        9,
                                        10,
                                        11,
                                        12,
                                        13,
                                        14
                                    ],
                                    "xaxis": "x2",
                                    "y": [
                                        1215.28,
                                        1215.28,
                                        1215.28,
                                        1215.28,
                                        1215.28,
                                        759.8303211141545,
                                        1013.6126237850171,
                                        1215.28,
                                        1215.28,
                                        -749.4894311130887,
                                        -1410.6990044340741,
                                        -1308.9961200955922,
                                        -1308.9961200955922,
                                        1215.28
                                    ],
                                    "yaxis": "y2"
                                }
                            ],
                            "layout": {
                                "template": {
                                    "data": {
                                        "bar": [
                                            {
                                                "error_x": {
                                                    "color": "#2a3f5f"
                                                },
                                                "error_y": {
                                                    "color": "#2a3f5f"
                                                },
                                                "marker": {
                                                    "line": {
                                                        "color": "#E5ECF6",
                                                        "width": 0.5
                                                    }
                                                },
                                                "type": "bar"
                                            }
                                        ],
                                        "barpolar": [
                                            {
                                                "marker": {
                                                    "line": {
                                                        "color": "#E5ECF6",
                                                        "width": 0.5
                                                    }
                                                },
                                                "type": "barpolar"
                                            }
                                        ],
                                        "carpet": [
                                            {
                                                "aaxis": {
                                                    "endlinecolor": "#2a3f5f",
                                                    "gridcolor": "white",
                                                    "linecolor": "white",
                                                    "minorgridcolor": "white",
                                                    "startlinecolor": "#2a3f5f"
                                                },
                                                "baxis": {
                                                    "endlinecolor": "#2a3f5f",
                                                    "gridcolor": "white",
                                                    "linecolor": "white",
                                                    "minorgridcolor": "white",
                                                    "startlinecolor": "#2a3f5f"
                                                },
                                                "type": "carpet"
                                            }
                                        ],
                                        "choropleth": [
                                            {
                                                "colorbar": {
                                                    "outlinewidth": 0,
                                                    "ticks": ""
                                                },
                                                "type": "choropleth"
                                            }
                                        ],
                                        "contour": [
                                            {
                                                "colorbar": {
                                                    "outlinewidth": 0,
                                                    "ticks": ""
                                                },
                                                "colorscale": [
                                                    [
                                                        0,
                                                        "#0d0887"
                                                    ],
                                                    [
                                                        0.1111111111111111,
                                                        "#46039f"
                                                    ],
                                                    [
                                                        0.2222222222222222,
                                                        "#7201a8"
                                                    ],
                                                    [
                                                        0.3333333333333333,
                                                        "#9c179e"
                                                    ],
                                                    [
                                                        0.4444444444444444,
                                                        "#bd3786"
                                                    ],
                                                    [
                                                        0.5555555555555556,
                                                        "#d8576b"
                                                    ],
                                                    [
                                                        0.6666666666666666,
                                                        "#ed7953"
                                                    ],
                                                    [
                                                        0.7777777777777778,
                                                        "#fb9f3a"
                                                    ],
                                                    [
                                                        0.8888888888888888,
                                                        "#fdca26"
                                                    ],
                                                    [
                                                        1,
                                                        "#f0f921"
                                                    ]
                                                ],
                                                "type": "contour"
                                            }
                                        ],
                                        "contourcarpet": [
                                            {
                                                "colorbar": {
                                                    "outlinewidth": 0,
                                                    "ticks": ""
                                                },
                                                "type": "contourcarpet"
                                            }
                                        ],
                                        "heatmap": [
                                            {
                                                "colorbar": {
                                                    "outlinewidth": 0,
                                                    "ticks": ""
                                                },
                                                "colorscale": [
                                                    [
                                                        0,
                                                        "#0d0887"
                                                    ],
                                                    [
                                                        0.1111111111111111,
                                                        "#46039f"
                                                    ],
                                                    [
                                                        0.2222222222222222,
                                                        "#7201a8"
                                                    ],
                                                    [
                                                        0.3333333333333333,
                                                        "#9c179e"
                                                    ],
                                                    [
                                                        0.4444444444444444,
                                                        "#bd3786"
                                                    ],
                                                    [
                                                        0.5555555555555556,
                                                        "#d8576b"
                                                    ],
                                                    [
                                                        0.6666666666666666,
                                                        "#ed7953"
                                                    ],
                                                    [
                                                        0.7777777777777778,
                                                        "#fb9f3a"
                                                    ],
                                                    [
                                                        0.8888888888888888,
                                                        "#fdca26"
                                                    ],
                                                    [
                                                        1,
                                                        "#f0f921"
                                                    ]
                                                ],
                                                "type": "heatmap"
                                            }
                                        ],
                                        "heatmapgl": [
                                            {
                                                "colorbar": {
                                                    "outlinewidth": 0,
                                                    "ticks": ""
                                                },
                                                "colorscale": [
                                                    [
                                                        0,
                                                        "#0d0887"
                                                    ],
                                                    [
                                                        0.1111111111111111,
                                                        "#46039f"
                                                    ],
                                                    [
                                                        0.2222222222222222,
                                                        "#7201a8"
                                                    ],
                                                    [
                                                        0.3333333333333333,
                                                        "#9c179e"
                                                    ],
                                                    [
                                                        0.4444444444444444,
                                                        "#bd3786"
                                                    ],
                                                    [
                                                        0.5555555555555556,
                                                        "#d8576b"
                                                    ],
                                                    [
                                                        0.6666666666666666,
                                                        "#ed7953"
                                                    ],
                                                    [
                                                        0.7777777777777778,
                                                        "#fb9f3a"
                                                    ],
                                                    [
                                                        0.8888888888888888,
                                                        "#fdca26"
                                                    ],
                                                    [
                                                        1,
                                                        "#f0f921"
                                                    ]
                                                ],
                                                "type": "heatmapgl"
                                            }
                                        ],
                                        "histogram": [
                                            {
                                                "marker": {
                                                    "colorbar": {
                                                        "outlinewidth": 0,
                                                        "ticks": ""
                                                    }
                                                },
                                                "type": "histogram"
                                            }
                                        ],
                                        "histogram2d": [
                                            {
                                                "colorbar": {
                                                    "outlinewidth": 0,
                                                    "ticks": ""
                                                },
                                                "colorscale": [
                                                    [
                                                        0,
                                                        "#0d0887"
                                                    ],
                                                    [
                                                        0.1111111111111111,
                                                        "#46039f"
                                                    ],
                                                    [
                                                        0.2222222222222222,
                                                        "#7201a8"
                                                    ],
                                                    [
                                                        0.3333333333333333,
                                                        "#9c179e"
                                                    ],
                                                    [
                                                        0.4444444444444444,
                                                        "#bd3786"
                                                    ],
                                                    [
                                                        0.5555555555555556,
                                                        "#d8576b"
                                                    ],
                                                    [
                                                        0.6666666666666666,
                                                        "#ed7953"
                                                    ],
                                                    [
                                                        0.7777777777777778,
                                                        "#fb9f3a"
                                                    ],
                                                    [
                                                        0.8888888888888888,
                                                        "#fdca26"
                                                    ],
                                                    [
                                                        1,
                                                        "#f0f921"
                                                    ]
                                                ],
                                                "type": "histogram2d"
                                            }
                                        ],
                                        "histogram2dcontour": [
                                            {
                                                "colorbar": {
                                                    "outlinewidth": 0,
                                                    "ticks": ""
                                                },
                                                "colorscale": [
                                                    [
                                                        0,
                                                        "#0d0887"
                                                    ],
                                                    [
                                                        0.1111111111111111,
                                                        "#46039f"
                                                    ],
                                                    [
                                                        0.2222222222222222,
                                                        "#7201a8"
                                                    ],
                                                    [
                                                        0.3333333333333333,
                                                        "#9c179e"
                                                    ],
                                                    [
                                                        0.4444444444444444,
                                                        "#bd3786"
                                                    ],
                                                    [
                                                        0.5555555555555556,
                                                        "#d8576b"
                                                    ],
                                                    [
                                                        0.6666666666666666,
                                                        "#ed7953"
                                                    ],
                                                    [
                                                        0.7777777777777778,
                                                        "#fb9f3a"
                                                    ],
                                                    [
                                                        0.8888888888888888,
                                                        "#fdca26"
                                                    ],
                                                    [
                                                        1,
                                                        "#f0f921"
                                                    ]
                                                ],
                                                "type": "histogram2dcontour"
                                            }
                                        ],
                                        "mesh3d": [
                                            {
                                                "colorbar": {
                                                    "outlinewidth": 0,
                                                    "ticks": ""
                                                },
                                                "type": "mesh3d"
                                            }
                                        ],
                                        "parcoords": [
                                            {
                                                "line": {
                                                    "colorbar": {
                                                        "outlinewidth": 0,
                                                        "ticks": ""
                                                    }
                                                },
                                                "type": "parcoords"
                                            }
                                        ],
                                        "pie": [
                                            {
                                                "automargin": true,
                                                "type": "pie"
                                            }
                                        ],
                                        "scatter": [
                                            {
                                                "marker": {
                                                    "colorbar": {
                                                        "outlinewidth": 0,
                                                        "ticks": ""
                                                    }
                                                },
                                                "type": "scatter"
                                            }
                                        ],
                                        "scatter3d": [
                                            {
                                                "line": {
                                                    "colorbar": {
                                                        "outlinewidth": 0,
                                                        "ticks": ""
                                                    }
                                                },
                                                "marker": {
                                                    "colorbar": {
                                                        "outlinewidth": 0,
                                                        "ticks": ""
                                                    }
                                                },
                                                "type": "scatter3d"
                                            }
                                        ],
                                        "scattercarpet": [
                                            {
                                                "marker": {
                                                    "colorbar": {
                                                        "outlinewidth": 0,
                                                        "ticks": ""
                                                    }
                                                },
                                                "type": "scattercarpet"
                                            }
                                        ],
                                        "scattergeo": [
                                            {
                                                "marker": {
                                                    "colorbar": {
                                                        "outlinewidth": 0,
                                                        "ticks": ""
                                                    }
                                                },
                                                "type": "scattergeo"
                                            }
                                        ],
                                        "scattergl": [
                                            {
                                                "marker": {
                                                    "colorbar": {
                                                        "outlinewidth": 0,
                                                        "ticks": ""
                                                    }
                                                },
                                                "type": "scattergl"
                                            }
                                        ],
                                        "scattermapbox": [
                                            {
                                                "marker": {
                                                    "colorbar": {
                                                        "outlinewidth": 0,
                                                        "ticks": ""
                                                    }
                                                },
                                                "type": "scattermapbox"
                                            }
                                        ],
                                        "scatterpolar": [
                                            {
                                                "marker": {
                                                    "colorbar": {
                                                        "outlinewidth": 0,
                                                        "ticks": ""
                                                    }
                                                },
                                                "type": "scatterpolar"
                                            }
                                        ],
                                        "scatterpolargl": [
                                            {
                                                "marker": {
                                                    "colorbar": {
                                                        "outlinewidth": 0,
                                                        "ticks": ""
                                                    }
                                                },
                                                "type": "scatterpolargl"
                                            }
                                        ],
                                        "scatterternary": [
                                            {
                                                "marker": {
                                                    "colorbar": {
                                                        "outlinewidth": 0,
                                                        "ticks": ""
                                                    }
                                                },
                                                "type": "scatterternary"
                                            }
                                        ],
                                        "surface": [
                                            {
                                                "colorbar": {
                                                    "outlinewidth": 0,
                                                    "ticks": ""
                                                },
                                                "colorscale": [
                                                    [
                                                        0,
                                                        "#0d0887"
                                                    ],
                                                    [
                                                        0.1111111111111111,
                                                        "#46039f"
                                                    ],
                                                    [
                                                        0.2222222222222222,
                                                        "#7201a8"
                                                    ],
                                                    [
                                                        0.3333333333333333,
                                                        "#9c179e"
                                                    ],
                                                    [
                                                        0.4444444444444444,
                                                        "#bd3786"
                                                    ],
                                                    [
                                                        0.5555555555555556,
                                                        "#d8576b"
                                                    ],
                                                    [
                                                        0.6666666666666666,
                                                        "#ed7953"
                                                    ],
                                                    [
                                                        0.7777777777777778,
                                                        "#fb9f3a"
                                                    ],
                                                    [
                                                        0.8888888888888888,
                                                        "#fdca26"
                                                    ],
                                                    [
                                                        1,
                                                        "#f0f921"
                                                    ]
                                                ],
                                                "type": "surface"
                                            }
                                        ],
                                        "table": [
                                            {
                                                "cells": {
                                                    "fill": {
                                                        "color": "#EBF0F8"
                                                    },
                                                    "line": {
                                                        "color": "white"
                                                    }
                                                },
                                                "header": {
                                                    "fill": {
                                                        "color": "#C8D4E3"
                                                    },
                                                    "line": {
                                                        "color": "white"
                                                    }
                                                },
                                                "type": "table"
                                            }
                                        ]
                                    },
                                    "layout": {
                                        "annotationdefaults": {
                                            "arrowcolor": "#2a3f5f",
                                            "arrowhead": 0,
                                            "arrowwidth": 1
                                        },
                                        "autotypenumbers": "strict",
                                        "coloraxis": {
                                            "colorbar": {
                                                "outlinewidth": 0,
                                                "ticks": ""
                                            }
                                        },
                                        "colorscale": {
                                            "diverging": [
                                                [
                                                    0,
                                                    "#8e0152"
                                                ],
                                                [
                                                    0.1,
                                                    "#c51b7d"
                                                ],
                                                [
                                                    0.2,
                                                    "#de77ae"
                                                ],
                                                [
                                                    0.3,
                                                    "#f1b6da"
                                                ],
                                                [
                                                    0.4,
                                                    "#fde0ef"
                                                ],
                                                [
                                                    0.5,
                                                    "#f7f7f7"
                                                ],
                                                [
                                                    0.6,
                                                    "#e6f5d0"
                                                ],
                                                [
                                                    0.7,
                                                    "#b8e186"
                                                ],
                                                [
                                                    0.8,
                                                    "#7fbc41"
                                                ],
                                                [
                                                    0.9,
                                                    "#4d9221"
                                                ],
                                                [
                                                    1,
                                                    "#276419"
                                                ]
                                            ],
                                            "sequential": [
                                                [
                                                    0,
                                                    "#0d0887"
                                                ],
                                                [
                                                    0.1111111111111111,
                                                    "#46039f"
                                                ],
                                                [
                                                    0.2222222222222222,
                                                    "#7201a8"
                                                ],
                                                [
                                                    0.3333333333333333,
                                                    "#9c179e"
                                                ],
                                                [
                                                    0.4444444444444444,
                                                    "#bd3786"
                                                ],
                                                [
                                                    0.5555555555555556,
                                                    "#d8576b"
                                                ],
                                                [
                                                    0.6666666666666666,
                                                    "#ed7953"
                                                ],
                                                [
                                                    0.7777777777777778,
                                                    "#fb9f3a"
                                                ],
                                                [
                                                    0.8888888888888888,
                                                    "#fdca26"
                                                ],
                                                [
                                                    1,
                                                    "#f0f921"
                                                ]
                                            ],
                                            "sequentialminus": [
                                                [
                                                    0,
                                                    "#0d0887"
                                                ],
                                                [
                                                    0.1111111111111111,
                                                    "#46039f"
                                                ],
                                                [
                                                    0.2222222222222222,
                                                    "#7201a8"
                                                ],
                                                [
                                                    0.3333333333333333,
                                                    "#9c179e"
                                                ],
                                                [
                                                    0.4444444444444444,
                                                    "#bd3786"
                                                ],
                                                [
                                                    0.5555555555555556,
                                                    "#d8576b"
                                                ],
                                                [
                                                    0.6666666666666666,
                                                    "#ed7953"
                                                ],
                                                [
                                                    0.7777777777777778,
                                                    "#fb9f3a"
                                                ],
                                                [
                                                    0.8888888888888888,
                                                    "#fdca26"
                                                ],
                                                [
                                                    1,
                                                    "#f0f921"
                                                ]
                                            ]
                                        },
                                        "colorway": [
                                            "#636efa",
                                            "#EF553B",
                                            "#00cc96",
                                            "#ab63fa",
                                            "#FFA15A",
                                            "#19d3f3",
                                            "#FF6692",
                                            "#B6E880",
                                            "#FF97FF",
                                            "#FECB52"
                                        ],
                                        "font": {
                                            "color": "#2a3f5f"
                                        },
                                        "geo": {
                                            "bgcolor": "white",
                                            "lakecolor": "white",
                                            "landcolor": "#E5ECF6",
                                            "showlakes": true,
                                            "showland": true,
                                            "subunitcolor": "white"
                                        },
                                        "hoverlabel": {
                                            "align": "left"
                                        },
                                        "hovermode": "closest",
                                        "mapbox": {
                                            "style": "light"
                                        },
                                        "paper_bgcolor": "white",
                                        "plot_bgcolor": "#E5ECF6",
                                        "polar": {
                                            "angularaxis": {
                                                "gridcolor": "white",
                                                "linecolor": "white",
                                                "ticks": ""
                                            },
                                            "bgcolor": "#E5ECF6",
                                            "radialaxis": {
                                                "gridcolor": "white",
                                                "linecolor": "white",
                                                "ticks": ""
                                            }
                                        },
                                        "scene": {
                                            "xaxis": {
                                                "backgroundcolor": "#E5ECF6",
                                                "gridcolor": "white",
                                                "gridwidth": 2,
                                                "linecolor": "white",
                                                "showbackground": true,
                                                "ticks": "",
                                                "zerolinecolor": "white"
                                            },
                                            "yaxis": {
                                                "backgroundcolor": "#E5ECF6",
                                                "gridcolor": "white",
                                                "gridwidth": 2,
                                                "linecolor": "white",
                                                "showbackground": true,
                                                "ticks": "",
                                                "zerolinecolor": "white"
                                            },
                                            "zaxis": {
                                                "backgroundcolor": "#E5ECF6",
                                                "gridcolor": "white",
                                                "gridwidth": 2,
                                                "linecolor": "white",
                                                "showbackground": true,
                                                "ticks": "",
                                                "zerolinecolor": "white"
                                            }
                                        },
                                        "shapedefaults": {
                                            "line": {
                                                "color": "#2a3f5f"
                                            }
                                        },
                                        "ternary": {
                                            "aaxis": {
                                                "gridcolor": "white",
                                                "linecolor": "white",
                                                "ticks": ""
                                            },
                                            "baxis": {
                                                "gridcolor": "white",
                                                "linecolor": "white",
                                                "ticks": ""
                                            },
                                            "bgcolor": "#E5ECF6",
                                            "caxis": {
                                                "gridcolor": "white",
                                                "linecolor": "white",
                                                "ticks": ""
                                            }
                                        },
                                        "title": {
                                            "x": 0.05
                                        },
                                        "xaxis": {
                                            "automargin": true,
                                            "gridcolor": "white",
                                            "linecolor": "white",
                                            "ticks": "",
                                            "title": {
                                                "standoff": 15
                                            },
                                            "zerolinecolor": "white",
                                            "zerolinewidth": 2
                                        },
                                        "yaxis": {
                                            "automargin": true,
                                            "gridcolor": "white",
                                            "linecolor": "white",
                                            "ticks": "",
                                            "title": {
                                                "standoff": 15
                                            },
                                            "zerolinecolor": "white",
                                            "zerolinewidth": 2
                                        }
                                    }
                                },
                                "title": {
                                    "text": "Daily Precipitation and Profit"
                                },
                                "xaxis": {
                                    "anchor": "y",
                                    "domain": [
                                        0,
                                        1
                                    ],
                                    "matches": "x2",
                                    "showticklabels": false,
                                    "title": {
                                        "text": "Day"
                                    }
                                },
                                "xaxis2": {
                                    "anchor": "y2",
                                    "domain": [
                                        0,
                                        1
                                    ],
                                    "title": {
                                        "text": "Day"
                                    }
                                },
                                "yaxis": {
                                    "anchor": "x",
                                    "domain": [
                                        0.575,
                                        1
                                    ],
                                    "title": {
                                        "text": "Precipitation (mm)"
                                    }
                                },
                                "yaxis2": {
                                    "anchor": "x2",
                                    "domain": [
                                        0,
                                        0.425
                                    ],
                                    "title": {
                                        "text": "Expected Profit (USD)"
                                    }
                                }
                            }
                        }
                    },
                    "metadata": {},
                    "output_type": "display_data"
                }
            ],
            "source": [
                "prec_list, avg_profit_list, rainy_days, total_profit = total_profit_fair_us(70000,scalers_dict, [0,0,0,0,0,5,2,0,0,50,100,90,90,0],extra_costs=0)\n",
                "\n",
                "plotly_prec_profit(prec_list,avg_profit_list)"
            ]
        },
        {
            "cell_type": "markdown",
            "metadata": {},
            "source": [
                "If we add insurance"
            ]
        },
        {
            "cell_type": "code",
            "execution_count": 105,
            "metadata": {},
            "outputs": [
                {
                    "data": {
                        "application/vnd.plotly.v1+json": {
                            "config": {
                                "plotlyServerURL": "https://plot.ly"
                            },
                            "data": [
                                {
                                    "name": "Precipitation",
                                    "type": "bar",
                                    "x": [
                                        1,
                                        2,
                                        3,
                                        4,
                                        5,
                                        6,
                                        7,
                                        8,
                                        9,
                                        10,
                                        11,
                                        12,
                                        13,
                                        14
                                    ],
                                    "xaxis": "x",
                                    "y": [
                                        0,
                                        0,
                                        0,
                                        0,
                                        0,
                                        5,
                                        2,
                                        0,
                                        0,
                                        50,
                                        100,
                                        90,
                                        90,
                                        0
                                    ],
                                    "yaxis": "y"
                                },
                                {
                                    "name": "Profit",
                                    "type": "bar",
                                    "x": [
                                        1,
                                        2,
                                        3,
                                        4,
                                        5,
                                        6,
                                        7,
                                        8,
                                        9,
                                        10,
                                        11,
                                        12,
                                        13,
                                        14
                                    ],
                                    "xaxis": "x2",
                                    "y": [
                                        215.27999999999997,
                                        215.27999999999997,
                                        215.27999999999997,
                                        215.27999999999997,
                                        215.27999999999997,
                                        -240.16967888584554,
                                        13.61262378501715,
                                        215.27999999999997,
                                        215.27999999999997,
                                        19250.51056888691,
                                        -1410.6990044340741,
                                        -1308.9961200955922,
                                        -1308.9961200955922,
                                        1215.28
                                    ],
                                    "yaxis": "y2"
                                }
                            ],
                            "layout": {
                                "template": {
                                    "data": {
                                        "bar": [
                                            {
                                                "error_x": {
                                                    "color": "#2a3f5f"
                                                },
                                                "error_y": {
                                                    "color": "#2a3f5f"
                                                },
                                                "marker": {
                                                    "line": {
                                                        "color": "#E5ECF6",
                                                        "width": 0.5
                                                    }
                                                },
                                                "type": "bar"
                                            }
                                        ],
                                        "barpolar": [
                                            {
                                                "marker": {
                                                    "line": {
                                                        "color": "#E5ECF6",
                                                        "width": 0.5
                                                    }
                                                },
                                                "type": "barpolar"
                                            }
                                        ],
                                        "carpet": [
                                            {
                                                "aaxis": {
                                                    "endlinecolor": "#2a3f5f",
                                                    "gridcolor": "white",
                                                    "linecolor": "white",
                                                    "minorgridcolor": "white",
                                                    "startlinecolor": "#2a3f5f"
                                                },
                                                "baxis": {
                                                    "endlinecolor": "#2a3f5f",
                                                    "gridcolor": "white",
                                                    "linecolor": "white",
                                                    "minorgridcolor": "white",
                                                    "startlinecolor": "#2a3f5f"
                                                },
                                                "type": "carpet"
                                            }
                                        ],
                                        "choropleth": [
                                            {
                                                "colorbar": {
                                                    "outlinewidth": 0,
                                                    "ticks": ""
                                                },
                                                "type": "choropleth"
                                            }
                                        ],
                                        "contour": [
                                            {
                                                "colorbar": {
                                                    "outlinewidth": 0,
                                                    "ticks": ""
                                                },
                                                "colorscale": [
                                                    [
                                                        0,
                                                        "#0d0887"
                                                    ],
                                                    [
                                                        0.1111111111111111,
                                                        "#46039f"
                                                    ],
                                                    [
                                                        0.2222222222222222,
                                                        "#7201a8"
                                                    ],
                                                    [
                                                        0.3333333333333333,
                                                        "#9c179e"
                                                    ],
                                                    [
                                                        0.4444444444444444,
                                                        "#bd3786"
                                                    ],
                                                    [
                                                        0.5555555555555556,
                                                        "#d8576b"
                                                    ],
                                                    [
                                                        0.6666666666666666,
                                                        "#ed7953"
                                                    ],
                                                    [
                                                        0.7777777777777778,
                                                        "#fb9f3a"
                                                    ],
                                                    [
                                                        0.8888888888888888,
                                                        "#fdca26"
                                                    ],
                                                    [
                                                        1,
                                                        "#f0f921"
                                                    ]
                                                ],
                                                "type": "contour"
                                            }
                                        ],
                                        "contourcarpet": [
                                            {
                                                "colorbar": {
                                                    "outlinewidth": 0,
                                                    "ticks": ""
                                                },
                                                "type": "contourcarpet"
                                            }
                                        ],
                                        "heatmap": [
                                            {
                                                "colorbar": {
                                                    "outlinewidth": 0,
                                                    "ticks": ""
                                                },
                                                "colorscale": [
                                                    [
                                                        0,
                                                        "#0d0887"
                                                    ],
                                                    [
                                                        0.1111111111111111,
                                                        "#46039f"
                                                    ],
                                                    [
                                                        0.2222222222222222,
                                                        "#7201a8"
                                                    ],
                                                    [
                                                        0.3333333333333333,
                                                        "#9c179e"
                                                    ],
                                                    [
                                                        0.4444444444444444,
                                                        "#bd3786"
                                                    ],
                                                    [
                                                        0.5555555555555556,
                                                        "#d8576b"
                                                    ],
                                                    [
                                                        0.6666666666666666,
                                                        "#ed7953"
                                                    ],
                                                    [
                                                        0.7777777777777778,
                                                        "#fb9f3a"
                                                    ],
                                                    [
                                                        0.8888888888888888,
                                                        "#fdca26"
                                                    ],
                                                    [
                                                        1,
                                                        "#f0f921"
                                                    ]
                                                ],
                                                "type": "heatmap"
                                            }
                                        ],
                                        "heatmapgl": [
                                            {
                                                "colorbar": {
                                                    "outlinewidth": 0,
                                                    "ticks": ""
                                                },
                                                "colorscale": [
                                                    [
                                                        0,
                                                        "#0d0887"
                                                    ],
                                                    [
                                                        0.1111111111111111,
                                                        "#46039f"
                                                    ],
                                                    [
                                                        0.2222222222222222,
                                                        "#7201a8"
                                                    ],
                                                    [
                                                        0.3333333333333333,
                                                        "#9c179e"
                                                    ],
                                                    [
                                                        0.4444444444444444,
                                                        "#bd3786"
                                                    ],
                                                    [
                                                        0.5555555555555556,
                                                        "#d8576b"
                                                    ],
                                                    [
                                                        0.6666666666666666,
                                                        "#ed7953"
                                                    ],
                                                    [
                                                        0.7777777777777778,
                                                        "#fb9f3a"
                                                    ],
                                                    [
                                                        0.8888888888888888,
                                                        "#fdca26"
                                                    ],
                                                    [
                                                        1,
                                                        "#f0f921"
                                                    ]
                                                ],
                                                "type": "heatmapgl"
                                            }
                                        ],
                                        "histogram": [
                                            {
                                                "marker": {
                                                    "colorbar": {
                                                        "outlinewidth": 0,
                                                        "ticks": ""
                                                    }
                                                },
                                                "type": "histogram"
                                            }
                                        ],
                                        "histogram2d": [
                                            {
                                                "colorbar": {
                                                    "outlinewidth": 0,
                                                    "ticks": ""
                                                },
                                                "colorscale": [
                                                    [
                                                        0,
                                                        "#0d0887"
                                                    ],
                                                    [
                                                        0.1111111111111111,
                                                        "#46039f"
                                                    ],
                                                    [
                                                        0.2222222222222222,
                                                        "#7201a8"
                                                    ],
                                                    [
                                                        0.3333333333333333,
                                                        "#9c179e"
                                                    ],
                                                    [
                                                        0.4444444444444444,
                                                        "#bd3786"
                                                    ],
                                                    [
                                                        0.5555555555555556,
                                                        "#d8576b"
                                                    ],
                                                    [
                                                        0.6666666666666666,
                                                        "#ed7953"
                                                    ],
                                                    [
                                                        0.7777777777777778,
                                                        "#fb9f3a"
                                                    ],
                                                    [
                                                        0.8888888888888888,
                                                        "#fdca26"
                                                    ],
                                                    [
                                                        1,
                                                        "#f0f921"
                                                    ]
                                                ],
                                                "type": "histogram2d"
                                            }
                                        ],
                                        "histogram2dcontour": [
                                            {
                                                "colorbar": {
                                                    "outlinewidth": 0,
                                                    "ticks": ""
                                                },
                                                "colorscale": [
                                                    [
                                                        0,
                                                        "#0d0887"
                                                    ],
                                                    [
                                                        0.1111111111111111,
                                                        "#46039f"
                                                    ],
                                                    [
                                                        0.2222222222222222,
                                                        "#7201a8"
                                                    ],
                                                    [
                                                        0.3333333333333333,
                                                        "#9c179e"
                                                    ],
                                                    [
                                                        0.4444444444444444,
                                                        "#bd3786"
                                                    ],
                                                    [
                                                        0.5555555555555556,
                                                        "#d8576b"
                                                    ],
                                                    [
                                                        0.6666666666666666,
                                                        "#ed7953"
                                                    ],
                                                    [
                                                        0.7777777777777778,
                                                        "#fb9f3a"
                                                    ],
                                                    [
                                                        0.8888888888888888,
                                                        "#fdca26"
                                                    ],
                                                    [
                                                        1,
                                                        "#f0f921"
                                                    ]
                                                ],
                                                "type": "histogram2dcontour"
                                            }
                                        ],
                                        "mesh3d": [
                                            {
                                                "colorbar": {
                                                    "outlinewidth": 0,
                                                    "ticks": ""
                                                },
                                                "type": "mesh3d"
                                            }
                                        ],
                                        "parcoords": [
                                            {
                                                "line": {
                                                    "colorbar": {
                                                        "outlinewidth": 0,
                                                        "ticks": ""
                                                    }
                                                },
                                                "type": "parcoords"
                                            }
                                        ],
                                        "pie": [
                                            {
                                                "automargin": true,
                                                "type": "pie"
                                            }
                                        ],
                                        "scatter": [
                                            {
                                                "marker": {
                                                    "colorbar": {
                                                        "outlinewidth": 0,
                                                        "ticks": ""
                                                    }
                                                },
                                                "type": "scatter"
                                            }
                                        ],
                                        "scatter3d": [
                                            {
                                                "line": {
                                                    "colorbar": {
                                                        "outlinewidth": 0,
                                                        "ticks": ""
                                                    }
                                                },
                                                "marker": {
                                                    "colorbar": {
                                                        "outlinewidth": 0,
                                                        "ticks": ""
                                                    }
                                                },
                                                "type": "scatter3d"
                                            }
                                        ],
                                        "scattercarpet": [
                                            {
                                                "marker": {
                                                    "colorbar": {
                                                        "outlinewidth": 0,
                                                        "ticks": ""
                                                    }
                                                },
                                                "type": "scattercarpet"
                                            }
                                        ],
                                        "scattergeo": [
                                            {
                                                "marker": {
                                                    "colorbar": {
                                                        "outlinewidth": 0,
                                                        "ticks": ""
                                                    }
                                                },
                                                "type": "scattergeo"
                                            }
                                        ],
                                        "scattergl": [
                                            {
                                                "marker": {
                                                    "colorbar": {
                                                        "outlinewidth": 0,
                                                        "ticks": ""
                                                    }
                                                },
                                                "type": "scattergl"
                                            }
                                        ],
                                        "scattermapbox": [
                                            {
                                                "marker": {
                                                    "colorbar": {
                                                        "outlinewidth": 0,
                                                        "ticks": ""
                                                    }
                                                },
                                                "type": "scattermapbox"
                                            }
                                        ],
                                        "scatterpolar": [
                                            {
                                                "marker": {
                                                    "colorbar": {
                                                        "outlinewidth": 0,
                                                        "ticks": ""
                                                    }
                                                },
                                                "type": "scatterpolar"
                                            }
                                        ],
                                        "scatterpolargl": [
                                            {
                                                "marker": {
                                                    "colorbar": {
                                                        "outlinewidth": 0,
                                                        "ticks": ""
                                                    }
                                                },
                                                "type": "scatterpolargl"
                                            }
                                        ],
                                        "scatterternary": [
                                            {
                                                "marker": {
                                                    "colorbar": {
                                                        "outlinewidth": 0,
                                                        "ticks": ""
                                                    }
                                                },
                                                "type": "scatterternary"
                                            }
                                        ],
                                        "surface": [
                                            {
                                                "colorbar": {
                                                    "outlinewidth": 0,
                                                    "ticks": ""
                                                },
                                                "colorscale": [
                                                    [
                                                        0,
                                                        "#0d0887"
                                                    ],
                                                    [
                                                        0.1111111111111111,
                                                        "#46039f"
                                                    ],
                                                    [
                                                        0.2222222222222222,
                                                        "#7201a8"
                                                    ],
                                                    [
                                                        0.3333333333333333,
                                                        "#9c179e"
                                                    ],
                                                    [
                                                        0.4444444444444444,
                                                        "#bd3786"
                                                    ],
                                                    [
                                                        0.5555555555555556,
                                                        "#d8576b"
                                                    ],
                                                    [
                                                        0.6666666666666666,
                                                        "#ed7953"
                                                    ],
                                                    [
                                                        0.7777777777777778,
                                                        "#fb9f3a"
                                                    ],
                                                    [
                                                        0.8888888888888888,
                                                        "#fdca26"
                                                    ],
                                                    [
                                                        1,
                                                        "#f0f921"
                                                    ]
                                                ],
                                                "type": "surface"
                                            }
                                        ],
                                        "table": [
                                            {
                                                "cells": {
                                                    "fill": {
                                                        "color": "#EBF0F8"
                                                    },
                                                    "line": {
                                                        "color": "white"
                                                    }
                                                },
                                                "header": {
                                                    "fill": {
                                                        "color": "#C8D4E3"
                                                    },
                                                    "line": {
                                                        "color": "white"
                                                    }
                                                },
                                                "type": "table"
                                            }
                                        ]
                                    },
                                    "layout": {
                                        "annotationdefaults": {
                                            "arrowcolor": "#2a3f5f",
                                            "arrowhead": 0,
                                            "arrowwidth": 1
                                        },
                                        "autotypenumbers": "strict",
                                        "coloraxis": {
                                            "colorbar": {
                                                "outlinewidth": 0,
                                                "ticks": ""
                                            }
                                        },
                                        "colorscale": {
                                            "diverging": [
                                                [
                                                    0,
                                                    "#8e0152"
                                                ],
                                                [
                                                    0.1,
                                                    "#c51b7d"
                                                ],
                                                [
                                                    0.2,
                                                    "#de77ae"
                                                ],
                                                [
                                                    0.3,
                                                    "#f1b6da"
                                                ],
                                                [
                                                    0.4,
                                                    "#fde0ef"
                                                ],
                                                [
                                                    0.5,
                                                    "#f7f7f7"
                                                ],
                                                [
                                                    0.6,
                                                    "#e6f5d0"
                                                ],
                                                [
                                                    0.7,
                                                    "#b8e186"
                                                ],
                                                [
                                                    0.8,
                                                    "#7fbc41"
                                                ],
                                                [
                                                    0.9,
                                                    "#4d9221"
                                                ],
                                                [
                                                    1,
                                                    "#276419"
                                                ]
                                            ],
                                            "sequential": [
                                                [
                                                    0,
                                                    "#0d0887"
                                                ],
                                                [
                                                    0.1111111111111111,
                                                    "#46039f"
                                                ],
                                                [
                                                    0.2222222222222222,
                                                    "#7201a8"
                                                ],
                                                [
                                                    0.3333333333333333,
                                                    "#9c179e"
                                                ],
                                                [
                                                    0.4444444444444444,
                                                    "#bd3786"
                                                ],
                                                [
                                                    0.5555555555555556,
                                                    "#d8576b"
                                                ],
                                                [
                                                    0.6666666666666666,
                                                    "#ed7953"
                                                ],
                                                [
                                                    0.7777777777777778,
                                                    "#fb9f3a"
                                                ],
                                                [
                                                    0.8888888888888888,
                                                    "#fdca26"
                                                ],
                                                [
                                                    1,
                                                    "#f0f921"
                                                ]
                                            ],
                                            "sequentialminus": [
                                                [
                                                    0,
                                                    "#0d0887"
                                                ],
                                                [
                                                    0.1111111111111111,
                                                    "#46039f"
                                                ],
                                                [
                                                    0.2222222222222222,
                                                    "#7201a8"
                                                ],
                                                [
                                                    0.3333333333333333,
                                                    "#9c179e"
                                                ],
                                                [
                                                    0.4444444444444444,
                                                    "#bd3786"
                                                ],
                                                [
                                                    0.5555555555555556,
                                                    "#d8576b"
                                                ],
                                                [
                                                    0.6666666666666666,
                                                    "#ed7953"
                                                ],
                                                [
                                                    0.7777777777777778,
                                                    "#fb9f3a"
                                                ],
                                                [
                                                    0.8888888888888888,
                                                    "#fdca26"
                                                ],
                                                [
                                                    1,
                                                    "#f0f921"
                                                ]
                                            ]
                                        },
                                        "colorway": [
                                            "#636efa",
                                            "#EF553B",
                                            "#00cc96",
                                            "#ab63fa",
                                            "#FFA15A",
                                            "#19d3f3",
                                            "#FF6692",
                                            "#B6E880",
                                            "#FF97FF",
                                            "#FECB52"
                                        ],
                                        "font": {
                                            "color": "#2a3f5f"
                                        },
                                        "geo": {
                                            "bgcolor": "white",
                                            "lakecolor": "white",
                                            "landcolor": "#E5ECF6",
                                            "showlakes": true,
                                            "showland": true,
                                            "subunitcolor": "white"
                                        },
                                        "hoverlabel": {
                                            "align": "left"
                                        },
                                        "hovermode": "closest",
                                        "mapbox": {
                                            "style": "light"
                                        },
                                        "paper_bgcolor": "white",
                                        "plot_bgcolor": "#E5ECF6",
                                        "polar": {
                                            "angularaxis": {
                                                "gridcolor": "white",
                                                "linecolor": "white",
                                                "ticks": ""
                                            },
                                            "bgcolor": "#E5ECF6",
                                            "radialaxis": {
                                                "gridcolor": "white",
                                                "linecolor": "white",
                                                "ticks": ""
                                            }
                                        },
                                        "scene": {
                                            "xaxis": {
                                                "backgroundcolor": "#E5ECF6",
                                                "gridcolor": "white",
                                                "gridwidth": 2,
                                                "linecolor": "white",
                                                "showbackground": true,
                                                "ticks": "",
                                                "zerolinecolor": "white"
                                            },
                                            "yaxis": {
                                                "backgroundcolor": "#E5ECF6",
                                                "gridcolor": "white",
                                                "gridwidth": 2,
                                                "linecolor": "white",
                                                "showbackground": true,
                                                "ticks": "",
                                                "zerolinecolor": "white"
                                            },
                                            "zaxis": {
                                                "backgroundcolor": "#E5ECF6",
                                                "gridcolor": "white",
                                                "gridwidth": 2,
                                                "linecolor": "white",
                                                "showbackground": true,
                                                "ticks": "",
                                                "zerolinecolor": "white"
                                            }
                                        },
                                        "shapedefaults": {
                                            "line": {
                                                "color": "#2a3f5f"
                                            }
                                        },
                                        "ternary": {
                                            "aaxis": {
                                                "gridcolor": "white",
                                                "linecolor": "white",
                                                "ticks": ""
                                            },
                                            "baxis": {
                                                "gridcolor": "white",
                                                "linecolor": "white",
                                                "ticks": ""
                                            },
                                            "bgcolor": "#E5ECF6",
                                            "caxis": {
                                                "gridcolor": "white",
                                                "linecolor": "white",
                                                "ticks": ""
                                            }
                                        },
                                        "title": {
                                            "x": 0.05
                                        },
                                        "xaxis": {
                                            "automargin": true,
                                            "gridcolor": "white",
                                            "linecolor": "white",
                                            "ticks": "",
                                            "title": {
                                                "standoff": 15
                                            },
                                            "zerolinecolor": "white",
                                            "zerolinewidth": 2
                                        },
                                        "yaxis": {
                                            "automargin": true,
                                            "gridcolor": "white",
                                            "linecolor": "white",
                                            "ticks": "",
                                            "title": {
                                                "standoff": 15
                                            },
                                            "zerolinecolor": "white",
                                            "zerolinewidth": 2
                                        }
                                    }
                                },
                                "title": {
                                    "text": "Daily Precipitation and Profit"
                                },
                                "xaxis": {
                                    "anchor": "y",
                                    "domain": [
                                        0,
                                        1
                                    ],
                                    "matches": "x2",
                                    "showticklabels": false,
                                    "title": {
                                        "text": "Day"
                                    }
                                },
                                "xaxis2": {
                                    "anchor": "y2",
                                    "domain": [
                                        0,
                                        1
                                    ],
                                    "title": {
                                        "text": "Day"
                                    }
                                },
                                "yaxis": {
                                    "anchor": "x",
                                    "domain": [
                                        0.575,
                                        1
                                    ],
                                    "title": {
                                        "text": "Precipitation (mm)"
                                    }
                                },
                                "yaxis2": {
                                    "anchor": "x2",
                                    "domain": [
                                        0,
                                        0.425
                                    ],
                                    "title": {
                                        "text": "Expected Profit (USD)"
                                    }
                                }
                            }
                        }
                    },
                    "metadata": {},
                    "output_type": "display_data"
                }
            ],
            "source": [
                "new_profit_lst = add_insurance(prec_list,avg_profit_list,40,20000,1000)\n",
                "plotly_prec_profit(prec_list,new_profit_lst)"
            ]
        },
        {
            "cell_type": "code",
            "execution_count": null,
            "metadata": {},
            "outputs": [],
            "source": []
        },
        {
            "cell_type": "code",
            "execution_count": null,
            "metadata": {},
            "outputs": [],
            "source": []
        }
    ],
    "metadata": {
        "interpreter": {
            "hash": "1651fbb118edb08c0f1f9378d1167219bf84ed532f9f8babdd0e85557419e599"
        },
        "kernelspec": {
            "display_name": "Python 3.7.4 64-bit ('base': conda)",
            "name": "python3"
        },
        "language_info": {
            "codemirror_mode": {
                "name": "ipython",
                "version": 3
            },
            "file_extension": ".py",
            "mimetype": "text/x-python",
            "name": "python",
            "nbconvert_exporter": "python",
            "pygments_lexer": "ipython3",
            "version": "3.7.4"
        },
        "orig_nbformat": 4
    },
    "nbformat": 4,
    "nbformat_minor": 2
}
