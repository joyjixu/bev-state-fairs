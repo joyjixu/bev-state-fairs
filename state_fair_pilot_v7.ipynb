{
    "cells": [
        {
            "cell_type": "code",
            "execution_count": 158,
            "metadata": {},
            "outputs": [],
            "source": [
                "import pandas as pd\n",
                "import numpy as np\n",
                "import matplotlib.pyplot as plt\n",
                "from sklearn.preprocessing import StandardScaler, MinMaxScaler\n",
                "from sklearn.compose import ColumnTransformer\n",
                "\n",
                "from plotly.subplots import make_subplots\n",
                "import plotly.graph_objects as go\n",
                "import plotly.express as px\n",
                "\n",
                "from scipy.stats import pearsonr, spearmanr"
            ]
        },
        {
            "cell_type": "markdown",
            "metadata": {},
            "source": [
                "---\n",
                "\n",
                "# Load data"
            ]
        },
        {
            "cell_type": "markdown",
            "metadata": {},
            "source": [
                "We will look at 4 different state fairs that span a variety of climates and that were the largest of the US: Minnesota, Texas, New York and North Carolina."
            ]
        },
        {
            "cell_type": "code",
            "execution_count": 159,
            "metadata": {},
            "outputs": [],
            "source": [
                "attendance2 = pd.read_csv(\"state_fair_attendance_v4.csv\", parse_dates = [\"date\"], dayfirst=True)\n",
                "#attendance2['date'] = pd.to_datetime(attendance2['date'])\n",
                "\n",
                "MN_prec = pd.read_csv(\"MN_Prism.csv\", parse_dates = True)\n",
                "NY_prec = pd.read_csv(\"NY_Prism.csv\", parse_dates = True)\n",
                "TX_prec = pd.read_csv(\"TX_Prism.csv\", parse_dates = True)\n",
                "NC_prec = pd.read_csv(\"NC_Prism.csv\", parse_dates = True)"
            ]
        },
        {
            "cell_type": "code",
            "execution_count": 160,
            "metadata": {},
            "outputs": [
                {
                    "data": {
                        "text/html": [
                            "<div>\n",
                            "<style scoped>\n",
                            "    .dataframe tbody tr th:only-of-type {\n",
                            "        vertical-align: middle;\n",
                            "    }\n",
                            "\n",
                            "    .dataframe tbody tr th {\n",
                            "        vertical-align: top;\n",
                            "    }\n",
                            "\n",
                            "    .dataframe thead th {\n",
                            "        text-align: right;\n",
                            "    }\n",
                            "</style>\n",
                            "<table border=\"1\" class=\"dataframe\">\n",
                            "  <thead>\n",
                            "    <tr style=\"text-align: right;\">\n",
                            "      <th></th>\n",
                            "      <th>state</th>\n",
                            "      <th>year</th>\n",
                            "      <th>date</th>\n",
                            "      <th>attendance</th>\n",
                            "    </tr>\n",
                            "  </thead>\n",
                            "  <tbody>\n",
                            "    <tr>\n",
                            "      <th>0</th>\n",
                            "      <td>MN</td>\n",
                            "      <td>2018</td>\n",
                            "      <td>2018-08-23</td>\n",
                            "      <td>122695</td>\n",
                            "    </tr>\n",
                            "    <tr>\n",
                            "      <th>1</th>\n",
                            "      <td>MN</td>\n",
                            "      <td>2018</td>\n",
                            "      <td>2018-08-24</td>\n",
                            "      <td>108059</td>\n",
                            "    </tr>\n",
                            "    <tr>\n",
                            "      <th>2</th>\n",
                            "      <td>MN</td>\n",
                            "      <td>2018</td>\n",
                            "      <td>2018-08-25</td>\n",
                            "      <td>222194</td>\n",
                            "    </tr>\n",
                            "    <tr>\n",
                            "      <th>3</th>\n",
                            "      <td>MN</td>\n",
                            "      <td>2018</td>\n",
                            "      <td>2018-08-26</td>\n",
                            "      <td>184715</td>\n",
                            "    </tr>\n",
                            "    <tr>\n",
                            "      <th>4</th>\n",
                            "      <td>MN</td>\n",
                            "      <td>2018</td>\n",
                            "      <td>2018-08-27</td>\n",
                            "      <td>124438</td>\n",
                            "    </tr>\n",
                            "  </tbody>\n",
                            "</table>\n",
                            "</div>"
                        ],
                        "text/plain": [
                            "  state  year       date  attendance\n",
                            "0    MN  2018 2018-08-23      122695\n",
                            "1    MN  2018 2018-08-24      108059\n",
                            "2    MN  2018 2018-08-25      222194\n",
                            "3    MN  2018 2018-08-26      184715\n",
                            "4    MN  2018 2018-08-27      124438"
                        ]
                    },
                    "execution_count": 160,
                    "metadata": {},
                    "output_type": "execute_result"
                }
            ],
            "source": [
                "attendance2[attendance2['state']=='MN'].head()"
            ]
        },
        {
            "cell_type": "code",
            "execution_count": 161,
            "metadata": {},
            "outputs": [],
            "source": [
                "MN_prec['state']='MN'\n",
                "MN_prec['date'] = pd.to_datetime(MN_prec['date'])\n",
                "NY_prec['state']='NY'\n",
                "NY_prec['date'] = pd.to_datetime(NY_prec['date'])\n",
                "TX_prec['state']='TX'\n",
                "TX_prec['date'] = pd.to_datetime(TX_prec['date'])\n",
                "NC_prec['state']='NC'\n",
                "NC_prec['date'] = pd.to_datetime(NC_prec['date'])\n"
            ]
        },
        {
            "cell_type": "code",
            "execution_count": 162,
            "metadata": {},
            "outputs": [],
            "source": [
                "# PRISM rainfall data runs from 12pm to 12pm the following day, we found that subtracting a day for this reason was best\n",
                "# especially considering that attendance is expected to peak in the afternoon/evening rather than morning\n",
                "MN_prec['date'] = MN_prec.date - pd.Timedelta(days=1)\n",
                "NY_prec['date'] = NY_prec.date - pd.Timedelta(days=1)\n",
                "TX_prec['date'] = TX_prec.date - pd.Timedelta(days=1)\n",
                "NC_prec['date'] = NC_prec.date - pd.Timedelta(days=1)"
            ]
        },
        {
            "cell_type": "code",
            "execution_count": 163,
            "metadata": {},
            "outputs": [
                {
                    "data": {
                        "text/html": [
                            "<div>\n",
                            "<style scoped>\n",
                            "    .dataframe tbody tr th:only-of-type {\n",
                            "        vertical-align: middle;\n",
                            "    }\n",
                            "\n",
                            "    .dataframe tbody tr th {\n",
                            "        vertical-align: top;\n",
                            "    }\n",
                            "\n",
                            "    .dataframe thead th {\n",
                            "        text-align: right;\n",
                            "    }\n",
                            "</style>\n",
                            "<table border=\"1\" class=\"dataframe\">\n",
                            "  <thead>\n",
                            "    <tr style=\"text-align: right;\">\n",
                            "      <th></th>\n",
                            "      <th>state</th>\n",
                            "      <th>year</th>\n",
                            "      <th>date</th>\n",
                            "      <th>attendance</th>\n",
                            "      <th>prec</th>\n",
                            "    </tr>\n",
                            "  </thead>\n",
                            "  <tbody>\n",
                            "    <tr>\n",
                            "      <th>0</th>\n",
                            "      <td>MN</td>\n",
                            "      <td>2018</td>\n",
                            "      <td>2018-08-23</td>\n",
                            "      <td>122695</td>\n",
                            "      <td>2.79</td>\n",
                            "    </tr>\n",
                            "    <tr>\n",
                            "      <th>1</th>\n",
                            "      <td>MN</td>\n",
                            "      <td>2018</td>\n",
                            "      <td>2018-08-24</td>\n",
                            "      <td>108059</td>\n",
                            "      <td>32.78</td>\n",
                            "    </tr>\n",
                            "    <tr>\n",
                            "      <th>2</th>\n",
                            "      <td>MN</td>\n",
                            "      <td>2018</td>\n",
                            "      <td>2018-08-25</td>\n",
                            "      <td>222194</td>\n",
                            "      <td>0.00</td>\n",
                            "    </tr>\n",
                            "    <tr>\n",
                            "      <th>3</th>\n",
                            "      <td>MN</td>\n",
                            "      <td>2018</td>\n",
                            "      <td>2018-08-26</td>\n",
                            "      <td>184715</td>\n",
                            "      <td>0.72</td>\n",
                            "    </tr>\n",
                            "    <tr>\n",
                            "      <th>4</th>\n",
                            "      <td>MN</td>\n",
                            "      <td>2018</td>\n",
                            "      <td>2018-08-27</td>\n",
                            "      <td>124438</td>\n",
                            "      <td>5.10</td>\n",
                            "    </tr>\n",
                            "  </tbody>\n",
                            "</table>\n",
                            "</div>"
                        ],
                        "text/plain": [
                            "  state  year       date  attendance   prec\n",
                            "0    MN  2018 2018-08-23      122695   2.79\n",
                            "1    MN  2018 2018-08-24      108059  32.78\n",
                            "2    MN  2018 2018-08-25      222194   0.00\n",
                            "3    MN  2018 2018-08-26      184715   0.72\n",
                            "4    MN  2018 2018-08-27      124438   5.10"
                        ]
                    },
                    "execution_count": 163,
                    "metadata": {},
                    "output_type": "execute_result"
                }
            ],
            "source": [
                "df = attendance2.merge(MN_prec, on=['state','date'], how='left').merge(NC_prec, on=['state','date'], how='left',suffixes=(None, '_NC')).merge(TX_prec, on=['state','date'], how='left',suffixes=(None, '_TX')).merge(NY_prec, on=['state','date'], how='left',suffixes=(None, '_NY'))\n",
                "df = df.fillna(0)\n",
                "df['prec'] = df['precip']+ df['precip_NC']+df['precip_NY']+df['precip_TX']\n",
                "df = df.drop(['precip','precip_NC','precip_NY', 'precip_TX'], axis=1)\n",
                "df.head()"
            ]
        },
        {
            "cell_type": "code",
            "execution_count": 164,
            "metadata": {},
            "outputs": [],
            "source": [
                "# ensures we can use pandas timeseries functions\n",
                "df['date']=pd.to_datetime(df['date'])"
            ]
        },
        {
            "cell_type": "markdown",
            "metadata": {},
            "source": [
                "---\n",
                "# T-test between 2 groups: rainy and non rainy days"
            ]
        },
        {
            "cell_type": "markdown",
            "metadata": {},
            "source": [
                "We compare the means of attendance rates for days with and without rain."
            ]
        },
        {
            "cell_type": "code",
            "execution_count": 165,
            "metadata": {},
            "outputs": [
                {
                    "data": {
                        "text/plain": [
                            "'1.7.2'"
                        ]
                    },
                    "execution_count": 165,
                    "metadata": {},
                    "output_type": "execute_result"
                }
            ],
            "source": [
                "import scipy\n",
                "scipy.__version__"
            ]
        },
        {
            "cell_type": "code",
            "execution_count": 166,
            "metadata": {},
            "outputs": [],
            "source": [
                "rain = df[df['prec']>0]['attendance']\n",
                "no_rain = df[df['prec']==0]['attendance']"
            ]
        },
        {
            "cell_type": "code",
            "execution_count": 167,
            "metadata": {},
            "outputs": [],
            "source": [
                "from scipy import stats"
            ]
        },
        {
            "cell_type": "code",
            "execution_count": 168,
            "metadata": {},
            "outputs": [
                {
                    "name": "stdout",
                    "output_type": "stream",
                    "text": [
                        "P value: 0.0453\n"
                    ]
                }
            ],
            "source": [
                "ttest = stats.ttest_ind(rain, no_rain, equal_var=False, alternative=\"less\", permutations=10000,\n",
                "                random_state=2)\n",
                "\n",
                "print(\"P value:\",ttest[1])"
            ]
        },
        {
            "cell_type": "markdown",
            "metadata": {},
            "source": [
                "P value is below the conventional threshold of 0.05"
            ]
        },
        {
            "cell_type": "markdown",
            "metadata": {},
            "source": [
                "---\n",
                "# Scale\n",
                "We first use sklearn's Quantile Transformer, which is a robust preprocessing scheme that \"renders variables measured at different scales more directly comparable\" (https://scikit-learn.org/stable/modules/generated/sklearn.preprocessing.QuantileTransformer.html)"
            ]
        },
        {
            "cell_type": "code",
            "execution_count": 169,
            "metadata": {},
            "outputs": [],
            "source": [
                "from sklearn.preprocessing import QuantileTransformer"
            ]
        },
        {
            "cell_type": "code",
            "execution_count": 170,
            "metadata": {},
            "outputs": [
                {
                    "name": "stderr",
                    "output_type": "stream",
                    "text": [
                        "C:\\Users\\joyji\\Anaconda3\\envs\\myenv\\lib\\site-packages\\sklearn\\preprocessing\\data.py:2239: UserWarning:\n",
                        "\n",
                        "n_quantiles (1000) is greater than the total number of samples (360). n_quantiles is set to n_samples.\n",
                        "\n"
                    ]
                }
            ],
            "source": [
                "transformer_prec = [('prec_transform', QuantileTransformer(), ['prec'])]\n",
                "col_transform = ColumnTransformer(transformers=transformer_prec, remainder = \"drop\" )\n",
                "\n",
                "scaled_prec = col_transform.fit_transform(df)\n",
                "df[\"scaled_prec\"] = scaled_prec\n"
            ]
        },
        {
            "cell_type": "code",
            "execution_count": 171,
            "metadata": {},
            "outputs": [
                {
                    "name": "stderr",
                    "output_type": "stream",
                    "text": [
                        "C:\\Users\\joyji\\Anaconda3\\envs\\myenv\\lib\\site-packages\\sklearn\\preprocessing\\data.py:2239: UserWarning:\n",
                        "\n",
                        "n_quantiles (1000) is greater than the total number of samples (36). n_quantiles is set to n_samples.\n",
                        "\n",
                        "C:\\Users\\joyji\\Anaconda3\\envs\\myenv\\lib\\site-packages\\ipykernel_launcher.py:10: SettingWithCopyWarning:\n",
                        "\n",
                        "\n",
                        "A value is trying to be set on a copy of a slice from a DataFrame.\n",
                        "Try using .loc[row_indexer,col_indexer] = value instead\n",
                        "\n",
                        "See the caveats in the documentation: https://pandas.pydata.org/pandas-docs/stable/user_guide/indexing.html#returning-a-view-versus-a-copy\n",
                        "\n",
                        "C:\\Users\\joyji\\Anaconda3\\envs\\myenv\\lib\\site-packages\\sklearn\\preprocessing\\data.py:2239: UserWarning:\n",
                        "\n",
                        "n_quantiles (1000) is greater than the total number of samples (87). n_quantiles is set to n_samples.\n",
                        "\n",
                        "C:\\Users\\joyji\\Anaconda3\\envs\\myenv\\lib\\site-packages\\ipykernel_launcher.py:10: SettingWithCopyWarning:\n",
                        "\n",
                        "\n",
                        "A value is trying to be set on a copy of a slice from a DataFrame.\n",
                        "Try using .loc[row_indexer,col_indexer] = value instead\n",
                        "\n",
                        "See the caveats in the documentation: https://pandas.pydata.org/pandas-docs/stable/user_guide/indexing.html#returning-a-view-versus-a-copy\n",
                        "\n",
                        "C:\\Users\\joyji\\Anaconda3\\envs\\myenv\\lib\\site-packages\\sklearn\\preprocessing\\data.py:2239: UserWarning:\n",
                        "\n",
                        "n_quantiles (1000) is greater than the total number of samples (141). n_quantiles is set to n_samples.\n",
                        "\n",
                        "C:\\Users\\joyji\\Anaconda3\\envs\\myenv\\lib\\site-packages\\ipykernel_launcher.py:10: SettingWithCopyWarning:\n",
                        "\n",
                        "\n",
                        "A value is trying to be set on a copy of a slice from a DataFrame.\n",
                        "Try using .loc[row_indexer,col_indexer] = value instead\n",
                        "\n",
                        "See the caveats in the documentation: https://pandas.pydata.org/pandas-docs/stable/user_guide/indexing.html#returning-a-view-versus-a-copy\n",
                        "\n",
                        "C:\\Users\\joyji\\Anaconda3\\envs\\myenv\\lib\\site-packages\\sklearn\\preprocessing\\data.py:2239: UserWarning:\n",
                        "\n",
                        "n_quantiles (1000) is greater than the total number of samples (96). n_quantiles is set to n_samples.\n",
                        "\n",
                        "C:\\Users\\joyji\\Anaconda3\\envs\\myenv\\lib\\site-packages\\ipykernel_launcher.py:10: SettingWithCopyWarning:\n",
                        "\n",
                        "\n",
                        "A value is trying to be set on a copy of a slice from a DataFrame.\n",
                        "Try using .loc[row_indexer,col_indexer] = value instead\n",
                        "\n",
                        "See the caveats in the documentation: https://pandas.pydata.org/pandas-docs/stable/user_guide/indexing.html#returning-a-view-versus-a-copy\n",
                        "\n"
                    ]
                }
            ],
            "source": [
                "\n",
                "# scaling attendance sepaately\n",
                "scaled_df = pd.DataFrame()\n",
                "scaled_attendances = np.array([])\n",
                "for state in df['state'].unique():\n",
                "    state_df = df[df['state']==state]\n",
                "    transformer_attendance = [('attendance_transform', QuantileTransformer(), ['attendance'])]\n",
                "    col_transform = ColumnTransformer(transformers=transformer_attendance, remainder = \"drop\" )\n",
                "\n",
                "    scaled_attendance = col_transform.fit_transform(state_df)\n",
                "    state_df['scaled_attendance'] = scaled_attendance\n",
                "    scaled_df = pd.concat([scaled_df,state_df], ignore_index=True)"
            ]
        },
        {
            "cell_type": "code",
            "execution_count": 172,
            "metadata": {},
            "outputs": [
                {
                    "data": {
                        "text/html": [
                            "<div>\n",
                            "<style scoped>\n",
                            "    .dataframe tbody tr th:only-of-type {\n",
                            "        vertical-align: middle;\n",
                            "    }\n",
                            "\n",
                            "    .dataframe tbody tr th {\n",
                            "        vertical-align: top;\n",
                            "    }\n",
                            "\n",
                            "    .dataframe thead th {\n",
                            "        text-align: right;\n",
                            "    }\n",
                            "</style>\n",
                            "<table border=\"1\" class=\"dataframe\">\n",
                            "  <thead>\n",
                            "    <tr style=\"text-align: right;\">\n",
                            "      <th></th>\n",
                            "      <th>state</th>\n",
                            "      <th>year</th>\n",
                            "      <th>date</th>\n",
                            "      <th>attendance</th>\n",
                            "      <th>prec</th>\n",
                            "      <th>scaled_prec</th>\n",
                            "      <th>scaled_attendance</th>\n",
                            "    </tr>\n",
                            "  </thead>\n",
                            "  <tbody>\n",
                            "    <tr>\n",
                            "      <th>36</th>\n",
                            "      <td>NC</td>\n",
                            "      <td>2015</td>\n",
                            "      <td>2015-10-15</td>\n",
                            "      <td>50327</td>\n",
                            "      <td>0.0</td>\n",
                            "      <td>0.0</td>\n",
                            "      <td>0.058140</td>\n",
                            "    </tr>\n",
                            "    <tr>\n",
                            "      <th>37</th>\n",
                            "      <td>NC</td>\n",
                            "      <td>2015</td>\n",
                            "      <td>2015-10-16</td>\n",
                            "      <td>90954</td>\n",
                            "      <td>0.0</td>\n",
                            "      <td>0.0</td>\n",
                            "      <td>0.534884</td>\n",
                            "    </tr>\n",
                            "    <tr>\n",
                            "      <th>38</th>\n",
                            "      <td>NC</td>\n",
                            "      <td>2015</td>\n",
                            "      <td>2015-10-17</td>\n",
                            "      <td>126666</td>\n",
                            "      <td>0.0</td>\n",
                            "      <td>0.0</td>\n",
                            "      <td>0.924419</td>\n",
                            "    </tr>\n",
                            "    <tr>\n",
                            "      <th>39</th>\n",
                            "      <td>NC</td>\n",
                            "      <td>2015</td>\n",
                            "      <td>2015-10-18</td>\n",
                            "      <td>97906</td>\n",
                            "      <td>0.0</td>\n",
                            "      <td>0.0</td>\n",
                            "      <td>0.616279</td>\n",
                            "    </tr>\n",
                            "    <tr>\n",
                            "      <th>40</th>\n",
                            "      <td>NC</td>\n",
                            "      <td>2015</td>\n",
                            "      <td>2015-10-19</td>\n",
                            "      <td>63989</td>\n",
                            "      <td>0.0</td>\n",
                            "      <td>0.0</td>\n",
                            "      <td>0.174419</td>\n",
                            "    </tr>\n",
                            "    <tr>\n",
                            "      <th>...</th>\n",
                            "      <td>...</td>\n",
                            "      <td>...</td>\n",
                            "      <td>...</td>\n",
                            "      <td>...</td>\n",
                            "      <td>...</td>\n",
                            "      <td>...</td>\n",
                            "      <td>...</td>\n",
                            "    </tr>\n",
                            "    <tr>\n",
                            "      <th>118</th>\n",
                            "      <td>NC</td>\n",
                            "      <td>2013</td>\n",
                            "      <td>2013-10-23</td>\n",
                            "      <td>68252</td>\n",
                            "      <td>0.0</td>\n",
                            "      <td>0.0</td>\n",
                            "      <td>0.220930</td>\n",
                            "    </tr>\n",
                            "    <tr>\n",
                            "      <th>119</th>\n",
                            "      <td>NC</td>\n",
                            "      <td>2013</td>\n",
                            "      <td>2013-10-24</td>\n",
                            "      <td>102176</td>\n",
                            "      <td>0.0</td>\n",
                            "      <td>0.0</td>\n",
                            "      <td>0.686047</td>\n",
                            "    </tr>\n",
                            "    <tr>\n",
                            "      <th>120</th>\n",
                            "      <td>NC</td>\n",
                            "      <td>2013</td>\n",
                            "      <td>2013-10-25</td>\n",
                            "      <td>82163</td>\n",
                            "      <td>0.0</td>\n",
                            "      <td>0.0</td>\n",
                            "      <td>0.476744</td>\n",
                            "    </tr>\n",
                            "    <tr>\n",
                            "      <th>121</th>\n",
                            "      <td>NC</td>\n",
                            "      <td>2013</td>\n",
                            "      <td>2013-10-26</td>\n",
                            "      <td>122223</td>\n",
                            "      <td>0.0</td>\n",
                            "      <td>0.0</td>\n",
                            "      <td>0.883721</td>\n",
                            "    </tr>\n",
                            "    <tr>\n",
                            "      <th>122</th>\n",
                            "      <td>NC</td>\n",
                            "      <td>2013</td>\n",
                            "      <td>2013-10-27</td>\n",
                            "      <td>98221</td>\n",
                            "      <td>0.0</td>\n",
                            "      <td>0.0</td>\n",
                            "      <td>0.627907</td>\n",
                            "    </tr>\n",
                            "  </tbody>\n",
                            "</table>\n",
                            "<p>87 rows × 7 columns</p>\n",
                            "</div>"
                        ],
                        "text/plain": [
                            "    state  year       date  attendance  prec  scaled_prec  scaled_attendance\n",
                            "36     NC  2015 2015-10-15       50327   0.0          0.0           0.058140\n",
                            "37     NC  2015 2015-10-16       90954   0.0          0.0           0.534884\n",
                            "38     NC  2015 2015-10-17      126666   0.0          0.0           0.924419\n",
                            "39     NC  2015 2015-10-18       97906   0.0          0.0           0.616279\n",
                            "40     NC  2015 2015-10-19       63989   0.0          0.0           0.174419\n",
                            "..    ...   ...        ...         ...   ...          ...                ...\n",
                            "118    NC  2013 2013-10-23       68252   0.0          0.0           0.220930\n",
                            "119    NC  2013 2013-10-24      102176   0.0          0.0           0.686047\n",
                            "120    NC  2013 2013-10-25       82163   0.0          0.0           0.476744\n",
                            "121    NC  2013 2013-10-26      122223   0.0          0.0           0.883721\n",
                            "122    NC  2013 2013-10-27       98221   0.0          0.0           0.627907\n",
                            "\n",
                            "[87 rows x 7 columns]"
                        ]
                    },
                    "execution_count": 172,
                    "metadata": {},
                    "output_type": "execute_result"
                }
            ],
            "source": [
                "scaled_df[(scaled_df['state']=='NC')&(scaled_df['prec']>-1)]"
            ]
        },
        {
            "cell_type": "code",
            "execution_count": 173,
            "metadata": {},
            "outputs": [
                {
                    "name": "stdout",
                    "output_type": "stream",
                    "text": [
                        "Pearsons correlation MN: -0.5192703618096502\n",
                        "Pearsons correlation NC: -0.15902435776281199\n",
                        "Pearsons correlation NY: -0.27159742259764513\n",
                        "Pearsons correlation TX: -0.2575030224499544\n"
                    ]
                }
            ],
            "source": [
                "# calculate Pearson's correlation before 2019\n",
                "for state in scaled_df.state.unique():\n",
                "    corr, _ = pearsonr(scaled_df[(scaled_df['state']==state) & (scaled_df['year']<2019)]['prec'], scaled_df[(scaled_df['state']==state) & (scaled_df['year']<2019)]['attendance'])\n",
                "    print('Pearsons correlation {}: {}'.format(state,corr))"
            ]
        },
        {
            "cell_type": "code",
            "execution_count": 174,
            "metadata": {},
            "outputs": [
                {
                    "data": {
                        "application/vnd.plotly.v1+json": {
                            "config": {
                                "plotlyServerURL": "https://plot.ly"
                            },
                            "data": [
                                {
                                    "customdata": [
                                        [
                                            2018
                                        ],
                                        [
                                            2018
                                        ],
                                        [
                                            2018
                                        ],
                                        [
                                            2018
                                        ],
                                        [
                                            2018
                                        ],
                                        [
                                            2018
                                        ],
                                        [
                                            2018
                                        ],
                                        [
                                            2018
                                        ],
                                        [
                                            2018
                                        ],
                                        [
                                            2018
                                        ],
                                        [
                                            2018
                                        ],
                                        [
                                            2018
                                        ],
                                        [
                                            2019
                                        ],
                                        [
                                            2019
                                        ],
                                        [
                                            2019
                                        ],
                                        [
                                            2019
                                        ],
                                        [
                                            2019
                                        ],
                                        [
                                            2019
                                        ],
                                        [
                                            2019
                                        ],
                                        [
                                            2019
                                        ],
                                        [
                                            2019
                                        ],
                                        [
                                            2019
                                        ],
                                        [
                                            2019
                                        ],
                                        [
                                            2019
                                        ],
                                        [
                                            2021
                                        ],
                                        [
                                            2021
                                        ],
                                        [
                                            2021
                                        ],
                                        [
                                            2021
                                        ],
                                        [
                                            2021
                                        ],
                                        [
                                            2021
                                        ],
                                        [
                                            2021
                                        ],
                                        [
                                            2021
                                        ],
                                        [
                                            2021
                                        ],
                                        [
                                            2021
                                        ],
                                        [
                                            2021
                                        ],
                                        [
                                            2021
                                        ]
                                    ],
                                    "hovertemplate": "state=MN<br>prec=%{x}<br>attendance=%{y}<br>year=%{customdata[0]}<extra></extra>",
                                    "legendgroup": "MN",
                                    "marker": {
                                        "color": "#636efa",
                                        "symbol": "circle"
                                    },
                                    "mode": "markers",
                                    "name": "MN",
                                    "orientation": "v",
                                    "showlegend": true,
                                    "type": "scatter",
                                    "x": [
                                        2.79,
                                        32.78,
                                        0,
                                        0.72,
                                        5.1,
                                        5.89,
                                        0,
                                        1.72,
                                        0,
                                        0,
                                        0,
                                        3.45,
                                        0,
                                        0,
                                        0,
                                        1.45,
                                        21.15,
                                        1.52,
                                        0,
                                        0,
                                        0,
                                        0,
                                        0,
                                        0,
                                        58.76,
                                        1.97,
                                        26.88,
                                        0,
                                        0,
                                        0,
                                        0.03,
                                        0,
                                        6.23,
                                        0,
                                        0,
                                        0
                                    ],
                                    "xaxis": "x",
                                    "y": [
                                        122695,
                                        108059,
                                        222194,
                                        184715,
                                        124438,
                                        120209,
                                        144940,
                                        156764,
                                        179402,
                                        270426,
                                        241102,
                                        171588,
                                        133326,
                                        157224,
                                        209105,
                                        191524,
                                        96716,
                                        136987,
                                        142211,
                                        153274,
                                        209789,
                                        266412,
                                        245243,
                                        184740,
                                        61983,
                                        77406,
                                        129984,
                                        149247,
                                        91568,
                                        89618,
                                        88027,
                                        80778,
                                        102020,
                                        153953,
                                        153422,
                                        123578
                                    ],
                                    "yaxis": "y"
                                },
                                {
                                    "customdata": [
                                        [
                                            2015
                                        ],
                                        [
                                            2015
                                        ],
                                        [
                                            2015
                                        ],
                                        [
                                            2015
                                        ],
                                        [
                                            2015
                                        ],
                                        [
                                            2015
                                        ],
                                        [
                                            2015
                                        ],
                                        [
                                            2015
                                        ],
                                        [
                                            2015
                                        ],
                                        [
                                            2015
                                        ],
                                        [
                                            2015
                                        ],
                                        [
                                            2016
                                        ],
                                        [
                                            2016
                                        ],
                                        [
                                            2016
                                        ],
                                        [
                                            2016
                                        ],
                                        [
                                            2016
                                        ],
                                        [
                                            2016
                                        ],
                                        [
                                            2016
                                        ],
                                        [
                                            2016
                                        ],
                                        [
                                            2016
                                        ],
                                        [
                                            2016
                                        ],
                                        [
                                            2016
                                        ],
                                        [
                                            2017
                                        ],
                                        [
                                            2017
                                        ],
                                        [
                                            2017
                                        ],
                                        [
                                            2017
                                        ],
                                        [
                                            2017
                                        ],
                                        [
                                            2017
                                        ],
                                        [
                                            2017
                                        ],
                                        [
                                            2017
                                        ],
                                        [
                                            2017
                                        ],
                                        [
                                            2017
                                        ],
                                        [
                                            2017
                                        ],
                                        [
                                            2018
                                        ],
                                        [
                                            2018
                                        ],
                                        [
                                            2018
                                        ],
                                        [
                                            2018
                                        ],
                                        [
                                            2018
                                        ],
                                        [
                                            2018
                                        ],
                                        [
                                            2018
                                        ],
                                        [
                                            2018
                                        ],
                                        [
                                            2018
                                        ],
                                        [
                                            2018
                                        ],
                                        [
                                            2019
                                        ],
                                        [
                                            2019
                                        ],
                                        [
                                            2019
                                        ],
                                        [
                                            2019
                                        ],
                                        [
                                            2019
                                        ],
                                        [
                                            2019
                                        ],
                                        [
                                            2019
                                        ],
                                        [
                                            2019
                                        ],
                                        [
                                            2019
                                        ],
                                        [
                                            2019
                                        ],
                                        [
                                            2019
                                        ],
                                        [
                                            2021
                                        ],
                                        [
                                            2021
                                        ],
                                        [
                                            2021
                                        ],
                                        [
                                            2021
                                        ],
                                        [
                                            2021
                                        ],
                                        [
                                            2021
                                        ],
                                        [
                                            2021
                                        ],
                                        [
                                            2021
                                        ],
                                        [
                                            2021
                                        ],
                                        [
                                            2021
                                        ],
                                        [
                                            2021
                                        ],
                                        [
                                            2014
                                        ],
                                        [
                                            2014
                                        ],
                                        [
                                            2014
                                        ],
                                        [
                                            2014
                                        ],
                                        [
                                            2014
                                        ],
                                        [
                                            2014
                                        ],
                                        [
                                            2014
                                        ],
                                        [
                                            2014
                                        ],
                                        [
                                            2014
                                        ],
                                        [
                                            2014
                                        ],
                                        [
                                            2014
                                        ],
                                        [
                                            2013
                                        ],
                                        [
                                            2013
                                        ],
                                        [
                                            2013
                                        ],
                                        [
                                            2013
                                        ],
                                        [
                                            2013
                                        ],
                                        [
                                            2013
                                        ],
                                        [
                                            2013
                                        ],
                                        [
                                            2013
                                        ],
                                        [
                                            2013
                                        ],
                                        [
                                            2013
                                        ],
                                        [
                                            2013
                                        ]
                                    ],
                                    "hovertemplate": "state=NC<br>prec=%{x}<br>attendance=%{y}<br>year=%{customdata[0]}<extra></extra>",
                                    "legendgroup": "NC",
                                    "marker": {
                                        "color": "#EF553B",
                                        "symbol": "circle"
                                    },
                                    "mode": "markers",
                                    "name": "NC",
                                    "orientation": "v",
                                    "showlegend": true,
                                    "type": "scatter",
                                    "x": [
                                        0,
                                        0,
                                        0,
                                        0,
                                        0,
                                        0,
                                        0,
                                        0,
                                        0,
                                        0,
                                        0,
                                        0,
                                        0,
                                        0,
                                        0,
                                        0,
                                        0,
                                        0,
                                        0,
                                        1.27,
                                        0,
                                        0,
                                        0,
                                        0,
                                        0,
                                        0,
                                        6.22,
                                        0,
                                        0,
                                        0,
                                        0,
                                        0,
                                        0,
                                        0,
                                        0,
                                        0,
                                        0,
                                        1.83,
                                        0,
                                        0,
                                        0.51,
                                        2.1,
                                        0,
                                        0,
                                        0,
                                        42.67,
                                        1.9,
                                        0,
                                        0.75,
                                        0,
                                        0,
                                        0,
                                        3.16,
                                        0.55,
                                        0,
                                        0,
                                        9.09,
                                        0,
                                        0,
                                        0,
                                        0,
                                        0.22,
                                        0,
                                        0,
                                        0,
                                        0,
                                        0,
                                        0,
                                        0,
                                        0,
                                        0,
                                        0,
                                        0,
                                        0,
                                        0,
                                        0,
                                        0,
                                        0,
                                        0.04,
                                        0,
                                        0,
                                        0,
                                        0,
                                        0,
                                        0,
                                        0,
                                        0
                                    ],
                                    "xaxis": "x",
                                    "y": [
                                        50327,
                                        90954,
                                        126666,
                                        97906,
                                        63989,
                                        69687,
                                        71348,
                                        104887,
                                        95685,
                                        140886,
                                        107397,
                                        40449,
                                        78364,
                                        119117,
                                        109429,
                                        75243,
                                        75995,
                                        72654,
                                        104852,
                                        85473,
                                        150747,
                                        116041,
                                        57083,
                                        71211,
                                        113291,
                                        99148,
                                        55041,
                                        76844,
                                        75041,
                                        104409,
                                        100516,
                                        148424,
                                        113470,
                                        78275,
                                        123303,
                                        101003,
                                        71538,
                                        71287,
                                        74153,
                                        110322,
                                        109396,
                                        107660,
                                        130319,
                                        42898,
                                        78019,
                                        111438,
                                        68538,
                                        80167,
                                        50653,
                                        82311,
                                        116017,
                                        94491,
                                        136448,
                                        77049,
                                        27209,
                                        56034,
                                        83737,
                                        93182,
                                        57852,
                                        59002,
                                        58441,
                                        78107,
                                        79049,
                                        126715,
                                        102135,
                                        46478,
                                        73571,
                                        126666,
                                        94691,
                                        62499,
                                        66758,
                                        63616,
                                        93808,
                                        87827,
                                        126629,
                                        97604,
                                        42626,
                                        72794,
                                        116267,
                                        105310,
                                        67770,
                                        68092,
                                        68252,
                                        102176,
                                        82163,
                                        122223,
                                        98221
                                    ],
                                    "yaxis": "y"
                                },
                                {
                                    "customdata": [
                                        [
                                            2010
                                        ],
                                        [
                                            2010
                                        ],
                                        [
                                            2010
                                        ],
                                        [
                                            2010
                                        ],
                                        [
                                            2010
                                        ],
                                        [
                                            2010
                                        ],
                                        [
                                            2010
                                        ],
                                        [
                                            2010
                                        ],
                                        [
                                            2010
                                        ],
                                        [
                                            2010
                                        ],
                                        [
                                            2010
                                        ],
                                        [
                                            2010
                                        ],
                                        [
                                            2011
                                        ],
                                        [
                                            2011
                                        ],
                                        [
                                            2011
                                        ],
                                        [
                                            2011
                                        ],
                                        [
                                            2011
                                        ],
                                        [
                                            2011
                                        ],
                                        [
                                            2011
                                        ],
                                        [
                                            2011
                                        ],
                                        [
                                            2011
                                        ],
                                        [
                                            2011
                                        ],
                                        [
                                            2011
                                        ],
                                        [
                                            2011
                                        ],
                                        [
                                            2012
                                        ],
                                        [
                                            2012
                                        ],
                                        [
                                            2012
                                        ],
                                        [
                                            2012
                                        ],
                                        [
                                            2012
                                        ],
                                        [
                                            2012
                                        ],
                                        [
                                            2012
                                        ],
                                        [
                                            2012
                                        ],
                                        [
                                            2012
                                        ],
                                        [
                                            2012
                                        ],
                                        [
                                            2012
                                        ],
                                        [
                                            2012
                                        ],
                                        [
                                            2013
                                        ],
                                        [
                                            2013
                                        ],
                                        [
                                            2013
                                        ],
                                        [
                                            2013
                                        ],
                                        [
                                            2013
                                        ],
                                        [
                                            2013
                                        ],
                                        [
                                            2013
                                        ],
                                        [
                                            2013
                                        ],
                                        [
                                            2013
                                        ],
                                        [
                                            2013
                                        ],
                                        [
                                            2013
                                        ],
                                        [
                                            2013
                                        ],
                                        [
                                            2014
                                        ],
                                        [
                                            2014
                                        ],
                                        [
                                            2014
                                        ],
                                        [
                                            2014
                                        ],
                                        [
                                            2014
                                        ],
                                        [
                                            2014
                                        ],
                                        [
                                            2014
                                        ],
                                        [
                                            2014
                                        ],
                                        [
                                            2014
                                        ],
                                        [
                                            2014
                                        ],
                                        [
                                            2014
                                        ],
                                        [
                                            2014
                                        ],
                                        [
                                            2015
                                        ],
                                        [
                                            2015
                                        ],
                                        [
                                            2015
                                        ],
                                        [
                                            2015
                                        ],
                                        [
                                            2015
                                        ],
                                        [
                                            2015
                                        ],
                                        [
                                            2015
                                        ],
                                        [
                                            2015
                                        ],
                                        [
                                            2015
                                        ],
                                        [
                                            2015
                                        ],
                                        [
                                            2015
                                        ],
                                        [
                                            2015
                                        ],
                                        [
                                            2016
                                        ],
                                        [
                                            2016
                                        ],
                                        [
                                            2016
                                        ],
                                        [
                                            2016
                                        ],
                                        [
                                            2016
                                        ],
                                        [
                                            2016
                                        ],
                                        [
                                            2016
                                        ],
                                        [
                                            2016
                                        ],
                                        [
                                            2016
                                        ],
                                        [
                                            2016
                                        ],
                                        [
                                            2016
                                        ],
                                        [
                                            2016
                                        ],
                                        [
                                            2017
                                        ],
                                        [
                                            2017
                                        ],
                                        [
                                            2017
                                        ],
                                        [
                                            2017
                                        ],
                                        [
                                            2017
                                        ],
                                        [
                                            2017
                                        ],
                                        [
                                            2017
                                        ],
                                        [
                                            2017
                                        ],
                                        [
                                            2017
                                        ],
                                        [
                                            2017
                                        ],
                                        [
                                            2017
                                        ],
                                        [
                                            2017
                                        ],
                                        [
                                            2017
                                        ],
                                        [
                                            2018
                                        ],
                                        [
                                            2018
                                        ],
                                        [
                                            2018
                                        ],
                                        [
                                            2018
                                        ],
                                        [
                                            2018
                                        ],
                                        [
                                            2018
                                        ],
                                        [
                                            2018
                                        ],
                                        [
                                            2018
                                        ],
                                        [
                                            2018
                                        ],
                                        [
                                            2018
                                        ],
                                        [
                                            2018
                                        ],
                                        [
                                            2018
                                        ],
                                        [
                                            2018
                                        ],
                                        [
                                            2019
                                        ],
                                        [
                                            2019
                                        ],
                                        [
                                            2019
                                        ],
                                        [
                                            2019
                                        ],
                                        [
                                            2019
                                        ],
                                        [
                                            2019
                                        ],
                                        [
                                            2019
                                        ],
                                        [
                                            2019
                                        ],
                                        [
                                            2019
                                        ],
                                        [
                                            2019
                                        ],
                                        [
                                            2019
                                        ],
                                        [
                                            2019
                                        ],
                                        [
                                            2019
                                        ],
                                        [
                                            2021
                                        ],
                                        [
                                            2021
                                        ],
                                        [
                                            2021
                                        ],
                                        [
                                            2021
                                        ],
                                        [
                                            2021
                                        ],
                                        [
                                            2021
                                        ],
                                        [
                                            2021
                                        ],
                                        [
                                            2021
                                        ],
                                        [
                                            2021
                                        ],
                                        [
                                            2021
                                        ],
                                        [
                                            2021
                                        ],
                                        [
                                            2021
                                        ],
                                        [
                                            2021
                                        ],
                                        [
                                            2021
                                        ],
                                        [
                                            2021
                                        ],
                                        [
                                            2021
                                        ],
                                        [
                                            2021
                                        ],
                                        [
                                            2021
                                        ]
                                    ],
                                    "hovertemplate": "state=NY<br>prec=%{x}<br>attendance=%{y}<br>year=%{customdata[0]}<extra></extra>",
                                    "legendgroup": "NY",
                                    "marker": {
                                        "color": "#00cc96",
                                        "symbol": "circle"
                                    },
                                    "mode": "markers",
                                    "name": "NY",
                                    "orientation": "v",
                                    "showlegend": true,
                                    "type": "scatter",
                                    "x": [
                                        0,
                                        0,
                                        0,
                                        0,
                                        0,
                                        1.54,
                                        0.61,
                                        0,
                                        4.03,
                                        6.96,
                                        0,
                                        0,
                                        0.72,
                                        0,
                                        4.23,
                                        23.09,
                                        0,
                                        0,
                                        0.84,
                                        2.71,
                                        0,
                                        0,
                                        0,
                                        0,
                                        0,
                                        0,
                                        0,
                                        0,
                                        18.99,
                                        0,
                                        0,
                                        0,
                                        0,
                                        0,
                                        12.52,
                                        0.28,
                                        13.09,
                                        0,
                                        0,
                                        0.97,
                                        19.86,
                                        0,
                                        0,
                                        0,
                                        6.11,
                                        0,
                                        16.44,
                                        0.41,
                                        13.22,
                                        3.22,
                                        0.43,
                                        0,
                                        0,
                                        0.18,
                                        0,
                                        0,
                                        0,
                                        3.04,
                                        0,
                                        0,
                                        1.08,
                                        0,
                                        0,
                                        0,
                                        0.86,
                                        14.62,
                                        0.35,
                                        16.04,
                                        0,
                                        17.85,
                                        0,
                                        0,
                                        2.07,
                                        0,
                                        0,
                                        0,
                                        0,
                                        0,
                                        1.48,
                                        1.43,
                                        0,
                                        0.47,
                                        0.25,
                                        0,
                                        1.22,
                                        0.02,
                                        0,
                                        0,
                                        0,
                                        0,
                                        0,
                                        0,
                                        4.08,
                                        3.25,
                                        0.13,
                                        0,
                                        0,
                                        3.24,
                                        0.75,
                                        0,
                                        0,
                                        1.21,
                                        0,
                                        0,
                                        12.89,
                                        0.12,
                                        1.2,
                                        0.25,
                                        1.15,
                                        0,
                                        8.21,
                                        0,
                                        0,
                                        0,
                                        0,
                                        0,
                                        2.95,
                                        15.08,
                                        0,
                                        0,
                                        17.56,
                                        0.06,
                                        0,
                                        2.69,
                                        0.51,
                                        1.25,
                                        0.27,
                                        0,
                                        0,
                                        0,
                                        0,
                                        0.63,
                                        7.59,
                                        0,
                                        0,
                                        0.64,
                                        0,
                                        0,
                                        0.44,
                                        2.8,
                                        10.26
                                    ],
                                    "xaxis": "x",
                                    "y": [
                                        60815,
                                        91461,
                                        115324,
                                        78972,
                                        74032,
                                        62036,
                                        97254,
                                        66249,
                                        78271,
                                        95234,
                                        98472,
                                        81725,
                                        51896,
                                        81548,
                                        105137,
                                        27202,
                                        85711,
                                        75831,
                                        90865,
                                        72108,
                                        85965,
                                        108016,
                                        81578,
                                        51607,
                                        46703,
                                        65086,
                                        79381,
                                        64134,
                                        53454,
                                        61872,
                                        69877,
                                        60259,
                                        78330,
                                        92697,
                                        103197,
                                        70605,
                                        41923,
                                        74558,
                                        73764,
                                        83057,
                                        81098,
                                        71567,
                                        45950,
                                        76188,
                                        76719,
                                        79274,
                                        86168,
                                        60891,
                                        46094,
                                        68038,
                                        80652,
                                        83438,
                                        82240,
                                        63660,
                                        66489,
                                        74780,
                                        82179,
                                        120617,
                                        74090,
                                        122870,
                                        62136,
                                        81020,
                                        88177,
                                        77147,
                                        68827,
                                        58029,
                                        57576,
                                        66447,
                                        71345,
                                        93576,
                                        101695,
                                        82172,
                                        68292,
                                        75970,
                                        105501,
                                        84868,
                                        82082,
                                        78548,
                                        63465,
                                        90036,
                                        111390,
                                        121164,
                                        117717,
                                        118597,
                                        67974,
                                        64642,
                                        81710,
                                        97390,
                                        123206,
                                        88943,
                                        72030,
                                        72613,
                                        75253,
                                        97632,
                                        121203,
                                        74497,
                                        124819,
                                        73596,
                                        86353,
                                        97456,
                                        127394,
                                        101590,
                                        90244,
                                        69316,
                                        58477,
                                        112409,
                                        105886,
                                        134115,
                                        96426,
                                        125748,
                                        74027,
                                        77242,
                                        98238,
                                        118013,
                                        119301,
                                        103842,
                                        92387,
                                        61477,
                                        103130,
                                        124172,
                                        147749,
                                        118239,
                                        91458,
                                        37364,
                                        38808,
                                        41115,
                                        33541,
                                        40158,
                                        37591,
                                        31910,
                                        43907,
                                        56820,
                                        45304,
                                        32892,
                                        40817,
                                        44899,
                                        35984,
                                        55584,
                                        64867,
                                        57875,
                                        58659
                                    ],
                                    "yaxis": "y"
                                },
                                {
                                    "customdata": [
                                        [
                                            2017
                                        ],
                                        [
                                            2017
                                        ],
                                        [
                                            2017
                                        ],
                                        [
                                            2017
                                        ],
                                        [
                                            2017
                                        ],
                                        [
                                            2017
                                        ],
                                        [
                                            2017
                                        ],
                                        [
                                            2017
                                        ],
                                        [
                                            2017
                                        ],
                                        [
                                            2017
                                        ],
                                        [
                                            2017
                                        ],
                                        [
                                            2017
                                        ],
                                        [
                                            2017
                                        ],
                                        [
                                            2017
                                        ],
                                        [
                                            2017
                                        ],
                                        [
                                            2017
                                        ],
                                        [
                                            2017
                                        ],
                                        [
                                            2017
                                        ],
                                        [
                                            2017
                                        ],
                                        [
                                            2017
                                        ],
                                        [
                                            2017
                                        ],
                                        [
                                            2017
                                        ],
                                        [
                                            2017
                                        ],
                                        [
                                            2017
                                        ],
                                        [
                                            2018
                                        ],
                                        [
                                            2018
                                        ],
                                        [
                                            2018
                                        ],
                                        [
                                            2018
                                        ],
                                        [
                                            2018
                                        ],
                                        [
                                            2018
                                        ],
                                        [
                                            2018
                                        ],
                                        [
                                            2018
                                        ],
                                        [
                                            2018
                                        ],
                                        [
                                            2018
                                        ],
                                        [
                                            2018
                                        ],
                                        [
                                            2018
                                        ],
                                        [
                                            2018
                                        ],
                                        [
                                            2018
                                        ],
                                        [
                                            2018
                                        ],
                                        [
                                            2018
                                        ],
                                        [
                                            2018
                                        ],
                                        [
                                            2018
                                        ],
                                        [
                                            2018
                                        ],
                                        [
                                            2018
                                        ],
                                        [
                                            2018
                                        ],
                                        [
                                            2018
                                        ],
                                        [
                                            2018
                                        ],
                                        [
                                            2018
                                        ],
                                        [
                                            2019
                                        ],
                                        [
                                            2019
                                        ],
                                        [
                                            2019
                                        ],
                                        [
                                            2019
                                        ],
                                        [
                                            2019
                                        ],
                                        [
                                            2019
                                        ],
                                        [
                                            2019
                                        ],
                                        [
                                            2019
                                        ],
                                        [
                                            2019
                                        ],
                                        [
                                            2019
                                        ],
                                        [
                                            2019
                                        ],
                                        [
                                            2019
                                        ],
                                        [
                                            2019
                                        ],
                                        [
                                            2019
                                        ],
                                        [
                                            2019
                                        ],
                                        [
                                            2019
                                        ],
                                        [
                                            2019
                                        ],
                                        [
                                            2019
                                        ],
                                        [
                                            2019
                                        ],
                                        [
                                            2019
                                        ],
                                        [
                                            2019
                                        ],
                                        [
                                            2019
                                        ],
                                        [
                                            2019
                                        ],
                                        [
                                            2019
                                        ],
                                        [
                                            2021
                                        ],
                                        [
                                            2021
                                        ],
                                        [
                                            2021
                                        ],
                                        [
                                            2021
                                        ],
                                        [
                                            2021
                                        ],
                                        [
                                            2021
                                        ],
                                        [
                                            2021
                                        ],
                                        [
                                            2021
                                        ],
                                        [
                                            2021
                                        ],
                                        [
                                            2021
                                        ],
                                        [
                                            2021
                                        ],
                                        [
                                            2021
                                        ],
                                        [
                                            2021
                                        ],
                                        [
                                            2021
                                        ],
                                        [
                                            2021
                                        ],
                                        [
                                            2021
                                        ],
                                        [
                                            2021
                                        ],
                                        [
                                            2021
                                        ],
                                        [
                                            2021
                                        ],
                                        [
                                            2021
                                        ],
                                        [
                                            2021
                                        ],
                                        [
                                            2021
                                        ],
                                        [
                                            2021
                                        ],
                                        [
                                            2021
                                        ]
                                    ],
                                    "hovertemplate": "state=TX<br>prec=%{x}<br>attendance=%{y}<br>year=%{customdata[0]}<extra></extra>",
                                    "legendgroup": "TX",
                                    "marker": {
                                        "color": "#ab63fa",
                                        "symbol": "circle"
                                    },
                                    "mode": "markers",
                                    "name": "TX",
                                    "orientation": "v",
                                    "showlegend": true,
                                    "type": "scatter",
                                    "x": [
                                        3.39,
                                        0,
                                        0,
                                        0,
                                        0,
                                        0,
                                        17.7,
                                        0.22,
                                        0,
                                        0,
                                        7.98,
                                        0,
                                        0,
                                        0,
                                        0,
                                        2.24,
                                        0,
                                        0,
                                        0,
                                        0,
                                        0,
                                        0.26,
                                        24.52,
                                        0,
                                        0,
                                        1.9,
                                        0,
                                        0,
                                        0,
                                        0,
                                        0,
                                        0,
                                        5.44,
                                        5.87,
                                        0,
                                        47.48,
                                        0,
                                        0,
                                        19.59,
                                        66.86,
                                        25.94,
                                        59.94,
                                        18.3,
                                        9.93,
                                        0.59,
                                        13.47,
                                        0,
                                        0,
                                        0,
                                        0,
                                        0,
                                        0,
                                        4.12,
                                        7.7,
                                        0,
                                        0,
                                        17.74,
                                        0,
                                        0,
                                        0,
                                        0,
                                        0,
                                        15.84,
                                        0,
                                        0,
                                        1.63,
                                        0.77,
                                        0,
                                        0,
                                        0,
                                        0,
                                        28.6,
                                        0,
                                        0,
                                        0,
                                        0,
                                        0,
                                        0,
                                        0,
                                        0,
                                        0,
                                        0.3,
                                        0,
                                        0,
                                        0.21,
                                        0,
                                        0,
                                        0,
                                        0,
                                        0,
                                        0,
                                        52.52,
                                        0,
                                        0,
                                        0,
                                        0
                                    ],
                                    "xaxis": "x",
                                    "y": [
                                        75089,
                                        78319,
                                        62191,
                                        40393,
                                        31684,
                                        50103,
                                        54754,
                                        66181,
                                        156904,
                                        100151,
                                        122911,
                                        81068,
                                        57794,
                                        72075,
                                        109528,
                                        197555,
                                        129245,
                                        82424,
                                        89781,
                                        71530,
                                        100943,
                                        132705,
                                        144560,
                                        142545,
                                        91933,
                                        122708,
                                        67736,
                                        43756,
                                        47620,
                                        57858,
                                        62387,
                                        84354,
                                        190490,
                                        93636,
                                        129050,
                                        35092,
                                        65434,
                                        96792,
                                        91290,
                                        59309,
                                        104649,
                                        28237,
                                        26136,
                                        39946,
                                        81652,
                                        45345,
                                        199405,
                                        184303,
                                        83573,
                                        128635,
                                        64374,
                                        40229,
                                        43634,
                                        53760,
                                        53418,
                                        66694,
                                        120818,
                                        79231,
                                        82665,
                                        80595,
                                        63753,
                                        74149,
                                        101283,
                                        226094,
                                        167712,
                                        169956,
                                        84217,
                                        94931,
                                        121727,
                                        162051,
                                        197502,
                                        153636,
                                        61392,
                                        106201,
                                        66889,
                                        42116,
                                        45160,
                                        41552,
                                        47832,
                                        44570,
                                        82996,
                                        87153,
                                        58139,
                                        61401,
                                        79854,
                                        76960,
                                        135412,
                                        211873,
                                        211873,
                                        170661,
                                        92210,
                                        43976,
                                        86096,
                                        148893,
                                        164021,
                                        135338
                                    ],
                                    "yaxis": "y"
                                }
                            ],
                            "layout": {
                                "legend": {
                                    "title": {
                                        "text": "state"
                                    },
                                    "tracegroupgap": 0
                                },
                                "margin": {
                                    "t": 60
                                },
                                "template": {
                                    "data": {
                                        "bar": [
                                            {
                                                "error_x": {
                                                    "color": "#2a3f5f"
                                                },
                                                "error_y": {
                                                    "color": "#2a3f5f"
                                                },
                                                "marker": {
                                                    "line": {
                                                        "color": "#E5ECF6",
                                                        "width": 0.5
                                                    }
                                                },
                                                "type": "bar"
                                            }
                                        ],
                                        "barpolar": [
                                            {
                                                "marker": {
                                                    "line": {
                                                        "color": "#E5ECF6",
                                                        "width": 0.5
                                                    }
                                                },
                                                "type": "barpolar"
                                            }
                                        ],
                                        "carpet": [
                                            {
                                                "aaxis": {
                                                    "endlinecolor": "#2a3f5f",
                                                    "gridcolor": "white",
                                                    "linecolor": "white",
                                                    "minorgridcolor": "white",
                                                    "startlinecolor": "#2a3f5f"
                                                },
                                                "baxis": {
                                                    "endlinecolor": "#2a3f5f",
                                                    "gridcolor": "white",
                                                    "linecolor": "white",
                                                    "minorgridcolor": "white",
                                                    "startlinecolor": "#2a3f5f"
                                                },
                                                "type": "carpet"
                                            }
                                        ],
                                        "choropleth": [
                                            {
                                                "colorbar": {
                                                    "outlinewidth": 0,
                                                    "ticks": ""
                                                },
                                                "type": "choropleth"
                                            }
                                        ],
                                        "contour": [
                                            {
                                                "colorbar": {
                                                    "outlinewidth": 0,
                                                    "ticks": ""
                                                },
                                                "colorscale": [
                                                    [
                                                        0,
                                                        "#0d0887"
                                                    ],
                                                    [
                                                        0.1111111111111111,
                                                        "#46039f"
                                                    ],
                                                    [
                                                        0.2222222222222222,
                                                        "#7201a8"
                                                    ],
                                                    [
                                                        0.3333333333333333,
                                                        "#9c179e"
                                                    ],
                                                    [
                                                        0.4444444444444444,
                                                        "#bd3786"
                                                    ],
                                                    [
                                                        0.5555555555555556,
                                                        "#d8576b"
                                                    ],
                                                    [
                                                        0.6666666666666666,
                                                        "#ed7953"
                                                    ],
                                                    [
                                                        0.7777777777777778,
                                                        "#fb9f3a"
                                                    ],
                                                    [
                                                        0.8888888888888888,
                                                        "#fdca26"
                                                    ],
                                                    [
                                                        1,
                                                        "#f0f921"
                                                    ]
                                                ],
                                                "type": "contour"
                                            }
                                        ],
                                        "contourcarpet": [
                                            {
                                                "colorbar": {
                                                    "outlinewidth": 0,
                                                    "ticks": ""
                                                },
                                                "type": "contourcarpet"
                                            }
                                        ],
                                        "heatmap": [
                                            {
                                                "colorbar": {
                                                    "outlinewidth": 0,
                                                    "ticks": ""
                                                },
                                                "colorscale": [
                                                    [
                                                        0,
                                                        "#0d0887"
                                                    ],
                                                    [
                                                        0.1111111111111111,
                                                        "#46039f"
                                                    ],
                                                    [
                                                        0.2222222222222222,
                                                        "#7201a8"
                                                    ],
                                                    [
                                                        0.3333333333333333,
                                                        "#9c179e"
                                                    ],
                                                    [
                                                        0.4444444444444444,
                                                        "#bd3786"
                                                    ],
                                                    [
                                                        0.5555555555555556,
                                                        "#d8576b"
                                                    ],
                                                    [
                                                        0.6666666666666666,
                                                        "#ed7953"
                                                    ],
                                                    [
                                                        0.7777777777777778,
                                                        "#fb9f3a"
                                                    ],
                                                    [
                                                        0.8888888888888888,
                                                        "#fdca26"
                                                    ],
                                                    [
                                                        1,
                                                        "#f0f921"
                                                    ]
                                                ],
                                                "type": "heatmap"
                                            }
                                        ],
                                        "heatmapgl": [
                                            {
                                                "colorbar": {
                                                    "outlinewidth": 0,
                                                    "ticks": ""
                                                },
                                                "colorscale": [
                                                    [
                                                        0,
                                                        "#0d0887"
                                                    ],
                                                    [
                                                        0.1111111111111111,
                                                        "#46039f"
                                                    ],
                                                    [
                                                        0.2222222222222222,
                                                        "#7201a8"
                                                    ],
                                                    [
                                                        0.3333333333333333,
                                                        "#9c179e"
                                                    ],
                                                    [
                                                        0.4444444444444444,
                                                        "#bd3786"
                                                    ],
                                                    [
                                                        0.5555555555555556,
                                                        "#d8576b"
                                                    ],
                                                    [
                                                        0.6666666666666666,
                                                        "#ed7953"
                                                    ],
                                                    [
                                                        0.7777777777777778,
                                                        "#fb9f3a"
                                                    ],
                                                    [
                                                        0.8888888888888888,
                                                        "#fdca26"
                                                    ],
                                                    [
                                                        1,
                                                        "#f0f921"
                                                    ]
                                                ],
                                                "type": "heatmapgl"
                                            }
                                        ],
                                        "histogram": [
                                            {
                                                "marker": {
                                                    "colorbar": {
                                                        "outlinewidth": 0,
                                                        "ticks": ""
                                                    }
                                                },
                                                "type": "histogram"
                                            }
                                        ],
                                        "histogram2d": [
                                            {
                                                "colorbar": {
                                                    "outlinewidth": 0,
                                                    "ticks": ""
                                                },
                                                "colorscale": [
                                                    [
                                                        0,
                                                        "#0d0887"
                                                    ],
                                                    [
                                                        0.1111111111111111,
                                                        "#46039f"
                                                    ],
                                                    [
                                                        0.2222222222222222,
                                                        "#7201a8"
                                                    ],
                                                    [
                                                        0.3333333333333333,
                                                        "#9c179e"
                                                    ],
                                                    [
                                                        0.4444444444444444,
                                                        "#bd3786"
                                                    ],
                                                    [
                                                        0.5555555555555556,
                                                        "#d8576b"
                                                    ],
                                                    [
                                                        0.6666666666666666,
                                                        "#ed7953"
                                                    ],
                                                    [
                                                        0.7777777777777778,
                                                        "#fb9f3a"
                                                    ],
                                                    [
                                                        0.8888888888888888,
                                                        "#fdca26"
                                                    ],
                                                    [
                                                        1,
                                                        "#f0f921"
                                                    ]
                                                ],
                                                "type": "histogram2d"
                                            }
                                        ],
                                        "histogram2dcontour": [
                                            {
                                                "colorbar": {
                                                    "outlinewidth": 0,
                                                    "ticks": ""
                                                },
                                                "colorscale": [
                                                    [
                                                        0,
                                                        "#0d0887"
                                                    ],
                                                    [
                                                        0.1111111111111111,
                                                        "#46039f"
                                                    ],
                                                    [
                                                        0.2222222222222222,
                                                        "#7201a8"
                                                    ],
                                                    [
                                                        0.3333333333333333,
                                                        "#9c179e"
                                                    ],
                                                    [
                                                        0.4444444444444444,
                                                        "#bd3786"
                                                    ],
                                                    [
                                                        0.5555555555555556,
                                                        "#d8576b"
                                                    ],
                                                    [
                                                        0.6666666666666666,
                                                        "#ed7953"
                                                    ],
                                                    [
                                                        0.7777777777777778,
                                                        "#fb9f3a"
                                                    ],
                                                    [
                                                        0.8888888888888888,
                                                        "#fdca26"
                                                    ],
                                                    [
                                                        1,
                                                        "#f0f921"
                                                    ]
                                                ],
                                                "type": "histogram2dcontour"
                                            }
                                        ],
                                        "mesh3d": [
                                            {
                                                "colorbar": {
                                                    "outlinewidth": 0,
                                                    "ticks": ""
                                                },
                                                "type": "mesh3d"
                                            }
                                        ],
                                        "parcoords": [
                                            {
                                                "line": {
                                                    "colorbar": {
                                                        "outlinewidth": 0,
                                                        "ticks": ""
                                                    }
                                                },
                                                "type": "parcoords"
                                            }
                                        ],
                                        "pie": [
                                            {
                                                "automargin": true,
                                                "type": "pie"
                                            }
                                        ],
                                        "scatter": [
                                            {
                                                "marker": {
                                                    "colorbar": {
                                                        "outlinewidth": 0,
                                                        "ticks": ""
                                                    }
                                                },
                                                "type": "scatter"
                                            }
                                        ],
                                        "scatter3d": [
                                            {
                                                "line": {
                                                    "colorbar": {
                                                        "outlinewidth": 0,
                                                        "ticks": ""
                                                    }
                                                },
                                                "marker": {
                                                    "colorbar": {
                                                        "outlinewidth": 0,
                                                        "ticks": ""
                                                    }
                                                },
                                                "type": "scatter3d"
                                            }
                                        ],
                                        "scattercarpet": [
                                            {
                                                "marker": {
                                                    "colorbar": {
                                                        "outlinewidth": 0,
                                                        "ticks": ""
                                                    }
                                                },
                                                "type": "scattercarpet"
                                            }
                                        ],
                                        "scattergeo": [
                                            {
                                                "marker": {
                                                    "colorbar": {
                                                        "outlinewidth": 0,
                                                        "ticks": ""
                                                    }
                                                },
                                                "type": "scattergeo"
                                            }
                                        ],
                                        "scattergl": [
                                            {
                                                "marker": {
                                                    "colorbar": {
                                                        "outlinewidth": 0,
                                                        "ticks": ""
                                                    }
                                                },
                                                "type": "scattergl"
                                            }
                                        ],
                                        "scattermapbox": [
                                            {
                                                "marker": {
                                                    "colorbar": {
                                                        "outlinewidth": 0,
                                                        "ticks": ""
                                                    }
                                                },
                                                "type": "scattermapbox"
                                            }
                                        ],
                                        "scatterpolar": [
                                            {
                                                "marker": {
                                                    "colorbar": {
                                                        "outlinewidth": 0,
                                                        "ticks": ""
                                                    }
                                                },
                                                "type": "scatterpolar"
                                            }
                                        ],
                                        "scatterpolargl": [
                                            {
                                                "marker": {
                                                    "colorbar": {
                                                        "outlinewidth": 0,
                                                        "ticks": ""
                                                    }
                                                },
                                                "type": "scatterpolargl"
                                            }
                                        ],
                                        "scatterternary": [
                                            {
                                                "marker": {
                                                    "colorbar": {
                                                        "outlinewidth": 0,
                                                        "ticks": ""
                                                    }
                                                },
                                                "type": "scatterternary"
                                            }
                                        ],
                                        "surface": [
                                            {
                                                "colorbar": {
                                                    "outlinewidth": 0,
                                                    "ticks": ""
                                                },
                                                "colorscale": [
                                                    [
                                                        0,
                                                        "#0d0887"
                                                    ],
                                                    [
                                                        0.1111111111111111,
                                                        "#46039f"
                                                    ],
                                                    [
                                                        0.2222222222222222,
                                                        "#7201a8"
                                                    ],
                                                    [
                                                        0.3333333333333333,
                                                        "#9c179e"
                                                    ],
                                                    [
                                                        0.4444444444444444,
                                                        "#bd3786"
                                                    ],
                                                    [
                                                        0.5555555555555556,
                                                        "#d8576b"
                                                    ],
                                                    [
                                                        0.6666666666666666,
                                                        "#ed7953"
                                                    ],
                                                    [
                                                        0.7777777777777778,
                                                        "#fb9f3a"
                                                    ],
                                                    [
                                                        0.8888888888888888,
                                                        "#fdca26"
                                                    ],
                                                    [
                                                        1,
                                                        "#f0f921"
                                                    ]
                                                ],
                                                "type": "surface"
                                            }
                                        ],
                                        "table": [
                                            {
                                                "cells": {
                                                    "fill": {
                                                        "color": "#EBF0F8"
                                                    },
                                                    "line": {
                                                        "color": "white"
                                                    }
                                                },
                                                "header": {
                                                    "fill": {
                                                        "color": "#C8D4E3"
                                                    },
                                                    "line": {
                                                        "color": "white"
                                                    }
                                                },
                                                "type": "table"
                                            }
                                        ]
                                    },
                                    "layout": {
                                        "annotationdefaults": {
                                            "arrowcolor": "#2a3f5f",
                                            "arrowhead": 0,
                                            "arrowwidth": 1
                                        },
                                        "autotypenumbers": "strict",
                                        "coloraxis": {
                                            "colorbar": {
                                                "outlinewidth": 0,
                                                "ticks": ""
                                            }
                                        },
                                        "colorscale": {
                                            "diverging": [
                                                [
                                                    0,
                                                    "#8e0152"
                                                ],
                                                [
                                                    0.1,
                                                    "#c51b7d"
                                                ],
                                                [
                                                    0.2,
                                                    "#de77ae"
                                                ],
                                                [
                                                    0.3,
                                                    "#f1b6da"
                                                ],
                                                [
                                                    0.4,
                                                    "#fde0ef"
                                                ],
                                                [
                                                    0.5,
                                                    "#f7f7f7"
                                                ],
                                                [
                                                    0.6,
                                                    "#e6f5d0"
                                                ],
                                                [
                                                    0.7,
                                                    "#b8e186"
                                                ],
                                                [
                                                    0.8,
                                                    "#7fbc41"
                                                ],
                                                [
                                                    0.9,
                                                    "#4d9221"
                                                ],
                                                [
                                                    1,
                                                    "#276419"
                                                ]
                                            ],
                                            "sequential": [
                                                [
                                                    0,
                                                    "#0d0887"
                                                ],
                                                [
                                                    0.1111111111111111,
                                                    "#46039f"
                                                ],
                                                [
                                                    0.2222222222222222,
                                                    "#7201a8"
                                                ],
                                                [
                                                    0.3333333333333333,
                                                    "#9c179e"
                                                ],
                                                [
                                                    0.4444444444444444,
                                                    "#bd3786"
                                                ],
                                                [
                                                    0.5555555555555556,
                                                    "#d8576b"
                                                ],
                                                [
                                                    0.6666666666666666,
                                                    "#ed7953"
                                                ],
                                                [
                                                    0.7777777777777778,
                                                    "#fb9f3a"
                                                ],
                                                [
                                                    0.8888888888888888,
                                                    "#fdca26"
                                                ],
                                                [
                                                    1,
                                                    "#f0f921"
                                                ]
                                            ],
                                            "sequentialminus": [
                                                [
                                                    0,
                                                    "#0d0887"
                                                ],
                                                [
                                                    0.1111111111111111,
                                                    "#46039f"
                                                ],
                                                [
                                                    0.2222222222222222,
                                                    "#7201a8"
                                                ],
                                                [
                                                    0.3333333333333333,
                                                    "#9c179e"
                                                ],
                                                [
                                                    0.4444444444444444,
                                                    "#bd3786"
                                                ],
                                                [
                                                    0.5555555555555556,
                                                    "#d8576b"
                                                ],
                                                [
                                                    0.6666666666666666,
                                                    "#ed7953"
                                                ],
                                                [
                                                    0.7777777777777778,
                                                    "#fb9f3a"
                                                ],
                                                [
                                                    0.8888888888888888,
                                                    "#fdca26"
                                                ],
                                                [
                                                    1,
                                                    "#f0f921"
                                                ]
                                            ]
                                        },
                                        "colorway": [
                                            "#636efa",
                                            "#EF553B",
                                            "#00cc96",
                                            "#ab63fa",
                                            "#FFA15A",
                                            "#19d3f3",
                                            "#FF6692",
                                            "#B6E880",
                                            "#FF97FF",
                                            "#FECB52"
                                        ],
                                        "font": {
                                            "color": "#2a3f5f"
                                        },
                                        "geo": {
                                            "bgcolor": "white",
                                            "lakecolor": "white",
                                            "landcolor": "#E5ECF6",
                                            "showlakes": true,
                                            "showland": true,
                                            "subunitcolor": "white"
                                        },
                                        "hoverlabel": {
                                            "align": "left"
                                        },
                                        "hovermode": "closest",
                                        "mapbox": {
                                            "style": "light"
                                        },
                                        "paper_bgcolor": "white",
                                        "plot_bgcolor": "#E5ECF6",
                                        "polar": {
                                            "angularaxis": {
                                                "gridcolor": "white",
                                                "linecolor": "white",
                                                "ticks": ""
                                            },
                                            "bgcolor": "#E5ECF6",
                                            "radialaxis": {
                                                "gridcolor": "white",
                                                "linecolor": "white",
                                                "ticks": ""
                                            }
                                        },
                                        "scene": {
                                            "xaxis": {
                                                "backgroundcolor": "#E5ECF6",
                                                "gridcolor": "white",
                                                "gridwidth": 2,
                                                "linecolor": "white",
                                                "showbackground": true,
                                                "ticks": "",
                                                "zerolinecolor": "white"
                                            },
                                            "yaxis": {
                                                "backgroundcolor": "#E5ECF6",
                                                "gridcolor": "white",
                                                "gridwidth": 2,
                                                "linecolor": "white",
                                                "showbackground": true,
                                                "ticks": "",
                                                "zerolinecolor": "white"
                                            },
                                            "zaxis": {
                                                "backgroundcolor": "#E5ECF6",
                                                "gridcolor": "white",
                                                "gridwidth": 2,
                                                "linecolor": "white",
                                                "showbackground": true,
                                                "ticks": "",
                                                "zerolinecolor": "white"
                                            }
                                        },
                                        "shapedefaults": {
                                            "line": {
                                                "color": "#2a3f5f"
                                            }
                                        },
                                        "ternary": {
                                            "aaxis": {
                                                "gridcolor": "white",
                                                "linecolor": "white",
                                                "ticks": ""
                                            },
                                            "baxis": {
                                                "gridcolor": "white",
                                                "linecolor": "white",
                                                "ticks": ""
                                            },
                                            "bgcolor": "#E5ECF6",
                                            "caxis": {
                                                "gridcolor": "white",
                                                "linecolor": "white",
                                                "ticks": ""
                                            }
                                        },
                                        "title": {
                                            "x": 0.05
                                        },
                                        "xaxis": {
                                            "automargin": true,
                                            "gridcolor": "white",
                                            "linecolor": "white",
                                            "ticks": "",
                                            "title": {
                                                "standoff": 15
                                            },
                                            "zerolinecolor": "white",
                                            "zerolinewidth": 2
                                        },
                                        "yaxis": {
                                            "automargin": true,
                                            "gridcolor": "white",
                                            "linecolor": "white",
                                            "ticks": "",
                                            "title": {
                                                "standoff": 15
                                            },
                                            "zerolinecolor": "white",
                                            "zerolinewidth": 2
                                        }
                                    }
                                },
                                "xaxis": {
                                    "anchor": "y",
                                    "domain": [
                                        0,
                                        1
                                    ],
                                    "title": {
                                        "text": "prec"
                                    }
                                },
                                "yaxis": {
                                    "anchor": "x",
                                    "domain": [
                                        0,
                                        1
                                    ],
                                    "title": {
                                        "text": "attendance"
                                    }
                                }
                            }
                        }
                    },
                    "metadata": {},
                    "output_type": "display_data"
                }
            ],
            "source": [
                "fig = px.scatter(scaled_df, x=\"prec\", y=\"attendance\",hover_data=['year'], color='state')\n",
                "fig.show()"
            ]
        },
        {
            "cell_type": "code",
            "execution_count": 175,
            "metadata": {},
            "outputs": [],
            "source": [
                "# 2019 was removed for NC because it appeared as an outlier (in red above).\n",
                "scaled_df = scaled_df.drop(scaled_df[(scaled_df['state']=='NC') & (scaled_df['year']==2019)].index)"
            ]
        },
        {
            "cell_type": "code",
            "execution_count": 176,
            "metadata": {},
            "outputs": [
                {
                    "data": {
                        "application/vnd.plotly.v1+json": {
                            "config": {
                                "plotlyServerURL": "https://plot.ly"
                            },
                            "data": [
                                {
                                    "customdata": [
                                        [
                                            2018
                                        ],
                                        [
                                            2018
                                        ],
                                        [
                                            2018
                                        ],
                                        [
                                            2018
                                        ],
                                        [
                                            2018
                                        ],
                                        [
                                            2018
                                        ],
                                        [
                                            2018
                                        ],
                                        [
                                            2018
                                        ],
                                        [
                                            2018
                                        ],
                                        [
                                            2018
                                        ],
                                        [
                                            2018
                                        ],
                                        [
                                            2018
                                        ],
                                        [
                                            2019
                                        ],
                                        [
                                            2019
                                        ],
                                        [
                                            2019
                                        ],
                                        [
                                            2019
                                        ],
                                        [
                                            2019
                                        ],
                                        [
                                            2019
                                        ],
                                        [
                                            2019
                                        ],
                                        [
                                            2019
                                        ],
                                        [
                                            2019
                                        ],
                                        [
                                            2019
                                        ],
                                        [
                                            2019
                                        ],
                                        [
                                            2019
                                        ],
                                        [
                                            2021
                                        ],
                                        [
                                            2021
                                        ],
                                        [
                                            2021
                                        ],
                                        [
                                            2021
                                        ],
                                        [
                                            2021
                                        ],
                                        [
                                            2021
                                        ],
                                        [
                                            2021
                                        ],
                                        [
                                            2021
                                        ],
                                        [
                                            2021
                                        ],
                                        [
                                            2021
                                        ],
                                        [
                                            2021
                                        ],
                                        [
                                            2021
                                        ]
                                    ],
                                    "hovertemplate": "state=MN<br>prec=%{x}<br>attendance=%{y}<br>year=%{customdata[0]}<extra></extra>",
                                    "legendgroup": "MN",
                                    "marker": {
                                        "color": "#636efa",
                                        "symbol": "circle"
                                    },
                                    "mode": "markers",
                                    "name": "MN",
                                    "orientation": "v",
                                    "showlegend": true,
                                    "type": "scatter",
                                    "x": [
                                        2.79,
                                        32.78,
                                        0,
                                        0.72,
                                        5.1,
                                        5.89,
                                        0,
                                        1.72,
                                        0,
                                        0,
                                        0,
                                        3.45,
                                        0,
                                        0,
                                        0,
                                        1.45,
                                        21.15,
                                        1.52,
                                        0,
                                        0,
                                        0,
                                        0,
                                        0,
                                        0,
                                        58.76,
                                        1.97,
                                        26.88,
                                        0,
                                        0,
                                        0,
                                        0.03,
                                        0,
                                        6.23,
                                        0,
                                        0,
                                        0
                                    ],
                                    "xaxis": "x",
                                    "y": [
                                        122695,
                                        108059,
                                        222194,
                                        184715,
                                        124438,
                                        120209,
                                        144940,
                                        156764,
                                        179402,
                                        270426,
                                        241102,
                                        171588,
                                        133326,
                                        157224,
                                        209105,
                                        191524,
                                        96716,
                                        136987,
                                        142211,
                                        153274,
                                        209789,
                                        266412,
                                        245243,
                                        184740,
                                        61983,
                                        77406,
                                        129984,
                                        149247,
                                        91568,
                                        89618,
                                        88027,
                                        80778,
                                        102020,
                                        153953,
                                        153422,
                                        123578
                                    ],
                                    "yaxis": "y"
                                },
                                {
                                    "customdata": [
                                        [
                                            2015
                                        ],
                                        [
                                            2015
                                        ],
                                        [
                                            2015
                                        ],
                                        [
                                            2015
                                        ],
                                        [
                                            2015
                                        ],
                                        [
                                            2015
                                        ],
                                        [
                                            2015
                                        ],
                                        [
                                            2015
                                        ],
                                        [
                                            2015
                                        ],
                                        [
                                            2015
                                        ],
                                        [
                                            2015
                                        ],
                                        [
                                            2016
                                        ],
                                        [
                                            2016
                                        ],
                                        [
                                            2016
                                        ],
                                        [
                                            2016
                                        ],
                                        [
                                            2016
                                        ],
                                        [
                                            2016
                                        ],
                                        [
                                            2016
                                        ],
                                        [
                                            2016
                                        ],
                                        [
                                            2016
                                        ],
                                        [
                                            2016
                                        ],
                                        [
                                            2016
                                        ],
                                        [
                                            2017
                                        ],
                                        [
                                            2017
                                        ],
                                        [
                                            2017
                                        ],
                                        [
                                            2017
                                        ],
                                        [
                                            2017
                                        ],
                                        [
                                            2017
                                        ],
                                        [
                                            2017
                                        ],
                                        [
                                            2017
                                        ],
                                        [
                                            2017
                                        ],
                                        [
                                            2017
                                        ],
                                        [
                                            2017
                                        ],
                                        [
                                            2018
                                        ],
                                        [
                                            2018
                                        ],
                                        [
                                            2018
                                        ],
                                        [
                                            2018
                                        ],
                                        [
                                            2018
                                        ],
                                        [
                                            2018
                                        ],
                                        [
                                            2018
                                        ],
                                        [
                                            2018
                                        ],
                                        [
                                            2018
                                        ],
                                        [
                                            2018
                                        ],
                                        [
                                            2021
                                        ],
                                        [
                                            2021
                                        ],
                                        [
                                            2021
                                        ],
                                        [
                                            2021
                                        ],
                                        [
                                            2021
                                        ],
                                        [
                                            2021
                                        ],
                                        [
                                            2021
                                        ],
                                        [
                                            2021
                                        ],
                                        [
                                            2021
                                        ],
                                        [
                                            2021
                                        ],
                                        [
                                            2021
                                        ],
                                        [
                                            2014
                                        ],
                                        [
                                            2014
                                        ],
                                        [
                                            2014
                                        ],
                                        [
                                            2014
                                        ],
                                        [
                                            2014
                                        ],
                                        [
                                            2014
                                        ],
                                        [
                                            2014
                                        ],
                                        [
                                            2014
                                        ],
                                        [
                                            2014
                                        ],
                                        [
                                            2014
                                        ],
                                        [
                                            2014
                                        ],
                                        [
                                            2013
                                        ],
                                        [
                                            2013
                                        ],
                                        [
                                            2013
                                        ],
                                        [
                                            2013
                                        ],
                                        [
                                            2013
                                        ],
                                        [
                                            2013
                                        ],
                                        [
                                            2013
                                        ],
                                        [
                                            2013
                                        ],
                                        [
                                            2013
                                        ],
                                        [
                                            2013
                                        ],
                                        [
                                            2013
                                        ]
                                    ],
                                    "hovertemplate": "state=NC<br>prec=%{x}<br>attendance=%{y}<br>year=%{customdata[0]}<extra></extra>",
                                    "legendgroup": "NC",
                                    "marker": {
                                        "color": "#EF553B",
                                        "symbol": "circle"
                                    },
                                    "mode": "markers",
                                    "name": "NC",
                                    "orientation": "v",
                                    "showlegend": true,
                                    "type": "scatter",
                                    "x": [
                                        0,
                                        0,
                                        0,
                                        0,
                                        0,
                                        0,
                                        0,
                                        0,
                                        0,
                                        0,
                                        0,
                                        0,
                                        0,
                                        0,
                                        0,
                                        0,
                                        0,
                                        0,
                                        0,
                                        1.27,
                                        0,
                                        0,
                                        0,
                                        0,
                                        0,
                                        0,
                                        6.22,
                                        0,
                                        0,
                                        0,
                                        0,
                                        0,
                                        0,
                                        0,
                                        0,
                                        0,
                                        0,
                                        1.83,
                                        0,
                                        0,
                                        0.51,
                                        2.1,
                                        0,
                                        0,
                                        0,
                                        9.09,
                                        0,
                                        0,
                                        0,
                                        0,
                                        0.22,
                                        0,
                                        0,
                                        0,
                                        0,
                                        0,
                                        0,
                                        0,
                                        0,
                                        0,
                                        0,
                                        0,
                                        0,
                                        0,
                                        0,
                                        0,
                                        0,
                                        0.04,
                                        0,
                                        0,
                                        0,
                                        0,
                                        0,
                                        0,
                                        0,
                                        0
                                    ],
                                    "xaxis": "x",
                                    "y": [
                                        50327,
                                        90954,
                                        126666,
                                        97906,
                                        63989,
                                        69687,
                                        71348,
                                        104887,
                                        95685,
                                        140886,
                                        107397,
                                        40449,
                                        78364,
                                        119117,
                                        109429,
                                        75243,
                                        75995,
                                        72654,
                                        104852,
                                        85473,
                                        150747,
                                        116041,
                                        57083,
                                        71211,
                                        113291,
                                        99148,
                                        55041,
                                        76844,
                                        75041,
                                        104409,
                                        100516,
                                        148424,
                                        113470,
                                        78275,
                                        123303,
                                        101003,
                                        71538,
                                        71287,
                                        74153,
                                        110322,
                                        109396,
                                        107660,
                                        130319,
                                        27209,
                                        56034,
                                        83737,
                                        93182,
                                        57852,
                                        59002,
                                        58441,
                                        78107,
                                        79049,
                                        126715,
                                        102135,
                                        46478,
                                        73571,
                                        126666,
                                        94691,
                                        62499,
                                        66758,
                                        63616,
                                        93808,
                                        87827,
                                        126629,
                                        97604,
                                        42626,
                                        72794,
                                        116267,
                                        105310,
                                        67770,
                                        68092,
                                        68252,
                                        102176,
                                        82163,
                                        122223,
                                        98221
                                    ],
                                    "yaxis": "y"
                                },
                                {
                                    "customdata": [
                                        [
                                            2010
                                        ],
                                        [
                                            2010
                                        ],
                                        [
                                            2010
                                        ],
                                        [
                                            2010
                                        ],
                                        [
                                            2010
                                        ],
                                        [
                                            2010
                                        ],
                                        [
                                            2010
                                        ],
                                        [
                                            2010
                                        ],
                                        [
                                            2010
                                        ],
                                        [
                                            2010
                                        ],
                                        [
                                            2010
                                        ],
                                        [
                                            2010
                                        ],
                                        [
                                            2011
                                        ],
                                        [
                                            2011
                                        ],
                                        [
                                            2011
                                        ],
                                        [
                                            2011
                                        ],
                                        [
                                            2011
                                        ],
                                        [
                                            2011
                                        ],
                                        [
                                            2011
                                        ],
                                        [
                                            2011
                                        ],
                                        [
                                            2011
                                        ],
                                        [
                                            2011
                                        ],
                                        [
                                            2011
                                        ],
                                        [
                                            2011
                                        ],
                                        [
                                            2012
                                        ],
                                        [
                                            2012
                                        ],
                                        [
                                            2012
                                        ],
                                        [
                                            2012
                                        ],
                                        [
                                            2012
                                        ],
                                        [
                                            2012
                                        ],
                                        [
                                            2012
                                        ],
                                        [
                                            2012
                                        ],
                                        [
                                            2012
                                        ],
                                        [
                                            2012
                                        ],
                                        [
                                            2012
                                        ],
                                        [
                                            2012
                                        ],
                                        [
                                            2013
                                        ],
                                        [
                                            2013
                                        ],
                                        [
                                            2013
                                        ],
                                        [
                                            2013
                                        ],
                                        [
                                            2013
                                        ],
                                        [
                                            2013
                                        ],
                                        [
                                            2013
                                        ],
                                        [
                                            2013
                                        ],
                                        [
                                            2013
                                        ],
                                        [
                                            2013
                                        ],
                                        [
                                            2013
                                        ],
                                        [
                                            2013
                                        ],
                                        [
                                            2014
                                        ],
                                        [
                                            2014
                                        ],
                                        [
                                            2014
                                        ],
                                        [
                                            2014
                                        ],
                                        [
                                            2014
                                        ],
                                        [
                                            2014
                                        ],
                                        [
                                            2014
                                        ],
                                        [
                                            2014
                                        ],
                                        [
                                            2014
                                        ],
                                        [
                                            2014
                                        ],
                                        [
                                            2014
                                        ],
                                        [
                                            2014
                                        ],
                                        [
                                            2015
                                        ],
                                        [
                                            2015
                                        ],
                                        [
                                            2015
                                        ],
                                        [
                                            2015
                                        ],
                                        [
                                            2015
                                        ],
                                        [
                                            2015
                                        ],
                                        [
                                            2015
                                        ],
                                        [
                                            2015
                                        ],
                                        [
                                            2015
                                        ],
                                        [
                                            2015
                                        ],
                                        [
                                            2015
                                        ],
                                        [
                                            2015
                                        ],
                                        [
                                            2016
                                        ],
                                        [
                                            2016
                                        ],
                                        [
                                            2016
                                        ],
                                        [
                                            2016
                                        ],
                                        [
                                            2016
                                        ],
                                        [
                                            2016
                                        ],
                                        [
                                            2016
                                        ],
                                        [
                                            2016
                                        ],
                                        [
                                            2016
                                        ],
                                        [
                                            2016
                                        ],
                                        [
                                            2016
                                        ],
                                        [
                                            2016
                                        ],
                                        [
                                            2017
                                        ],
                                        [
                                            2017
                                        ],
                                        [
                                            2017
                                        ],
                                        [
                                            2017
                                        ],
                                        [
                                            2017
                                        ],
                                        [
                                            2017
                                        ],
                                        [
                                            2017
                                        ],
                                        [
                                            2017
                                        ],
                                        [
                                            2017
                                        ],
                                        [
                                            2017
                                        ],
                                        [
                                            2017
                                        ],
                                        [
                                            2017
                                        ],
                                        [
                                            2017
                                        ],
                                        [
                                            2018
                                        ],
                                        [
                                            2018
                                        ],
                                        [
                                            2018
                                        ],
                                        [
                                            2018
                                        ],
                                        [
                                            2018
                                        ],
                                        [
                                            2018
                                        ],
                                        [
                                            2018
                                        ],
                                        [
                                            2018
                                        ],
                                        [
                                            2018
                                        ],
                                        [
                                            2018
                                        ],
                                        [
                                            2018
                                        ],
                                        [
                                            2018
                                        ],
                                        [
                                            2018
                                        ],
                                        [
                                            2019
                                        ],
                                        [
                                            2019
                                        ],
                                        [
                                            2019
                                        ],
                                        [
                                            2019
                                        ],
                                        [
                                            2019
                                        ],
                                        [
                                            2019
                                        ],
                                        [
                                            2019
                                        ],
                                        [
                                            2019
                                        ],
                                        [
                                            2019
                                        ],
                                        [
                                            2019
                                        ],
                                        [
                                            2019
                                        ],
                                        [
                                            2019
                                        ],
                                        [
                                            2019
                                        ],
                                        [
                                            2021
                                        ],
                                        [
                                            2021
                                        ],
                                        [
                                            2021
                                        ],
                                        [
                                            2021
                                        ],
                                        [
                                            2021
                                        ],
                                        [
                                            2021
                                        ],
                                        [
                                            2021
                                        ],
                                        [
                                            2021
                                        ],
                                        [
                                            2021
                                        ],
                                        [
                                            2021
                                        ],
                                        [
                                            2021
                                        ],
                                        [
                                            2021
                                        ],
                                        [
                                            2021
                                        ],
                                        [
                                            2021
                                        ],
                                        [
                                            2021
                                        ],
                                        [
                                            2021
                                        ],
                                        [
                                            2021
                                        ],
                                        [
                                            2021
                                        ]
                                    ],
                                    "hovertemplate": "state=NY<br>prec=%{x}<br>attendance=%{y}<br>year=%{customdata[0]}<extra></extra>",
                                    "legendgroup": "NY",
                                    "marker": {
                                        "color": "#00cc96",
                                        "symbol": "circle"
                                    },
                                    "mode": "markers",
                                    "name": "NY",
                                    "orientation": "v",
                                    "showlegend": true,
                                    "type": "scatter",
                                    "x": [
                                        0,
                                        0,
                                        0,
                                        0,
                                        0,
                                        1.54,
                                        0.61,
                                        0,
                                        4.03,
                                        6.96,
                                        0,
                                        0,
                                        0.72,
                                        0,
                                        4.23,
                                        23.09,
                                        0,
                                        0,
                                        0.84,
                                        2.71,
                                        0,
                                        0,
                                        0,
                                        0,
                                        0,
                                        0,
                                        0,
                                        0,
                                        18.99,
                                        0,
                                        0,
                                        0,
                                        0,
                                        0,
                                        12.52,
                                        0.28,
                                        13.09,
                                        0,
                                        0,
                                        0.97,
                                        19.86,
                                        0,
                                        0,
                                        0,
                                        6.11,
                                        0,
                                        16.44,
                                        0.41,
                                        13.22,
                                        3.22,
                                        0.43,
                                        0,
                                        0,
                                        0.18,
                                        0,
                                        0,
                                        0,
                                        3.04,
                                        0,
                                        0,
                                        1.08,
                                        0,
                                        0,
                                        0,
                                        0.86,
                                        14.62,
                                        0.35,
                                        16.04,
                                        0,
                                        17.85,
                                        0,
                                        0,
                                        2.07,
                                        0,
                                        0,
                                        0,
                                        0,
                                        0,
                                        1.48,
                                        1.43,
                                        0,
                                        0.47,
                                        0.25,
                                        0,
                                        1.22,
                                        0.02,
                                        0,
                                        0,
                                        0,
                                        0,
                                        0,
                                        0,
                                        4.08,
                                        3.25,
                                        0.13,
                                        0,
                                        0,
                                        3.24,
                                        0.75,
                                        0,
                                        0,
                                        1.21,
                                        0,
                                        0,
                                        12.89,
                                        0.12,
                                        1.2,
                                        0.25,
                                        1.15,
                                        0,
                                        8.21,
                                        0,
                                        0,
                                        0,
                                        0,
                                        0,
                                        2.95,
                                        15.08,
                                        0,
                                        0,
                                        17.56,
                                        0.06,
                                        0,
                                        2.69,
                                        0.51,
                                        1.25,
                                        0.27,
                                        0,
                                        0,
                                        0,
                                        0,
                                        0.63,
                                        7.59,
                                        0,
                                        0,
                                        0.64,
                                        0,
                                        0,
                                        0.44,
                                        2.8,
                                        10.26
                                    ],
                                    "xaxis": "x",
                                    "y": [
                                        60815,
                                        91461,
                                        115324,
                                        78972,
                                        74032,
                                        62036,
                                        97254,
                                        66249,
                                        78271,
                                        95234,
                                        98472,
                                        81725,
                                        51896,
                                        81548,
                                        105137,
                                        27202,
                                        85711,
                                        75831,
                                        90865,
                                        72108,
                                        85965,
                                        108016,
                                        81578,
                                        51607,
                                        46703,
                                        65086,
                                        79381,
                                        64134,
                                        53454,
                                        61872,
                                        69877,
                                        60259,
                                        78330,
                                        92697,
                                        103197,
                                        70605,
                                        41923,
                                        74558,
                                        73764,
                                        83057,
                                        81098,
                                        71567,
                                        45950,
                                        76188,
                                        76719,
                                        79274,
                                        86168,
                                        60891,
                                        46094,
                                        68038,
                                        80652,
                                        83438,
                                        82240,
                                        63660,
                                        66489,
                                        74780,
                                        82179,
                                        120617,
                                        74090,
                                        122870,
                                        62136,
                                        81020,
                                        88177,
                                        77147,
                                        68827,
                                        58029,
                                        57576,
                                        66447,
                                        71345,
                                        93576,
                                        101695,
                                        82172,
                                        68292,
                                        75970,
                                        105501,
                                        84868,
                                        82082,
                                        78548,
                                        63465,
                                        90036,
                                        111390,
                                        121164,
                                        117717,
                                        118597,
                                        67974,
                                        64642,
                                        81710,
                                        97390,
                                        123206,
                                        88943,
                                        72030,
                                        72613,
                                        75253,
                                        97632,
                                        121203,
                                        74497,
                                        124819,
                                        73596,
                                        86353,
                                        97456,
                                        127394,
                                        101590,
                                        90244,
                                        69316,
                                        58477,
                                        112409,
                                        105886,
                                        134115,
                                        96426,
                                        125748,
                                        74027,
                                        77242,
                                        98238,
                                        118013,
                                        119301,
                                        103842,
                                        92387,
                                        61477,
                                        103130,
                                        124172,
                                        147749,
                                        118239,
                                        91458,
                                        37364,
                                        38808,
                                        41115,
                                        33541,
                                        40158,
                                        37591,
                                        31910,
                                        43907,
                                        56820,
                                        45304,
                                        32892,
                                        40817,
                                        44899,
                                        35984,
                                        55584,
                                        64867,
                                        57875,
                                        58659
                                    ],
                                    "yaxis": "y"
                                },
                                {
                                    "customdata": [
                                        [
                                            2017
                                        ],
                                        [
                                            2017
                                        ],
                                        [
                                            2017
                                        ],
                                        [
                                            2017
                                        ],
                                        [
                                            2017
                                        ],
                                        [
                                            2017
                                        ],
                                        [
                                            2017
                                        ],
                                        [
                                            2017
                                        ],
                                        [
                                            2017
                                        ],
                                        [
                                            2017
                                        ],
                                        [
                                            2017
                                        ],
                                        [
                                            2017
                                        ],
                                        [
                                            2017
                                        ],
                                        [
                                            2017
                                        ],
                                        [
                                            2017
                                        ],
                                        [
                                            2017
                                        ],
                                        [
                                            2017
                                        ],
                                        [
                                            2017
                                        ],
                                        [
                                            2017
                                        ],
                                        [
                                            2017
                                        ],
                                        [
                                            2017
                                        ],
                                        [
                                            2017
                                        ],
                                        [
                                            2017
                                        ],
                                        [
                                            2017
                                        ],
                                        [
                                            2018
                                        ],
                                        [
                                            2018
                                        ],
                                        [
                                            2018
                                        ],
                                        [
                                            2018
                                        ],
                                        [
                                            2018
                                        ],
                                        [
                                            2018
                                        ],
                                        [
                                            2018
                                        ],
                                        [
                                            2018
                                        ],
                                        [
                                            2018
                                        ],
                                        [
                                            2018
                                        ],
                                        [
                                            2018
                                        ],
                                        [
                                            2018
                                        ],
                                        [
                                            2018
                                        ],
                                        [
                                            2018
                                        ],
                                        [
                                            2018
                                        ],
                                        [
                                            2018
                                        ],
                                        [
                                            2018
                                        ],
                                        [
                                            2018
                                        ],
                                        [
                                            2018
                                        ],
                                        [
                                            2018
                                        ],
                                        [
                                            2018
                                        ],
                                        [
                                            2018
                                        ],
                                        [
                                            2018
                                        ],
                                        [
                                            2018
                                        ],
                                        [
                                            2019
                                        ],
                                        [
                                            2019
                                        ],
                                        [
                                            2019
                                        ],
                                        [
                                            2019
                                        ],
                                        [
                                            2019
                                        ],
                                        [
                                            2019
                                        ],
                                        [
                                            2019
                                        ],
                                        [
                                            2019
                                        ],
                                        [
                                            2019
                                        ],
                                        [
                                            2019
                                        ],
                                        [
                                            2019
                                        ],
                                        [
                                            2019
                                        ],
                                        [
                                            2019
                                        ],
                                        [
                                            2019
                                        ],
                                        [
                                            2019
                                        ],
                                        [
                                            2019
                                        ],
                                        [
                                            2019
                                        ],
                                        [
                                            2019
                                        ],
                                        [
                                            2019
                                        ],
                                        [
                                            2019
                                        ],
                                        [
                                            2019
                                        ],
                                        [
                                            2019
                                        ],
                                        [
                                            2019
                                        ],
                                        [
                                            2019
                                        ],
                                        [
                                            2021
                                        ],
                                        [
                                            2021
                                        ],
                                        [
                                            2021
                                        ],
                                        [
                                            2021
                                        ],
                                        [
                                            2021
                                        ],
                                        [
                                            2021
                                        ],
                                        [
                                            2021
                                        ],
                                        [
                                            2021
                                        ],
                                        [
                                            2021
                                        ],
                                        [
                                            2021
                                        ],
                                        [
                                            2021
                                        ],
                                        [
                                            2021
                                        ],
                                        [
                                            2021
                                        ],
                                        [
                                            2021
                                        ],
                                        [
                                            2021
                                        ],
                                        [
                                            2021
                                        ],
                                        [
                                            2021
                                        ],
                                        [
                                            2021
                                        ],
                                        [
                                            2021
                                        ],
                                        [
                                            2021
                                        ],
                                        [
                                            2021
                                        ],
                                        [
                                            2021
                                        ],
                                        [
                                            2021
                                        ],
                                        [
                                            2021
                                        ]
                                    ],
                                    "hovertemplate": "state=TX<br>prec=%{x}<br>attendance=%{y}<br>year=%{customdata[0]}<extra></extra>",
                                    "legendgroup": "TX",
                                    "marker": {
                                        "color": "#ab63fa",
                                        "symbol": "circle"
                                    },
                                    "mode": "markers",
                                    "name": "TX",
                                    "orientation": "v",
                                    "showlegend": true,
                                    "type": "scatter",
                                    "x": [
                                        3.39,
                                        0,
                                        0,
                                        0,
                                        0,
                                        0,
                                        17.7,
                                        0.22,
                                        0,
                                        0,
                                        7.98,
                                        0,
                                        0,
                                        0,
                                        0,
                                        2.24,
                                        0,
                                        0,
                                        0,
                                        0,
                                        0,
                                        0.26,
                                        24.52,
                                        0,
                                        0,
                                        1.9,
                                        0,
                                        0,
                                        0,
                                        0,
                                        0,
                                        0,
                                        5.44,
                                        5.87,
                                        0,
                                        47.48,
                                        0,
                                        0,
                                        19.59,
                                        66.86,
                                        25.94,
                                        59.94,
                                        18.3,
                                        9.93,
                                        0.59,
                                        13.47,
                                        0,
                                        0,
                                        0,
                                        0,
                                        0,
                                        0,
                                        4.12,
                                        7.7,
                                        0,
                                        0,
                                        17.74,
                                        0,
                                        0,
                                        0,
                                        0,
                                        0,
                                        15.84,
                                        0,
                                        0,
                                        1.63,
                                        0.77,
                                        0,
                                        0,
                                        0,
                                        0,
                                        28.6,
                                        0,
                                        0,
                                        0,
                                        0,
                                        0,
                                        0,
                                        0,
                                        0,
                                        0,
                                        0.3,
                                        0,
                                        0,
                                        0.21,
                                        0,
                                        0,
                                        0,
                                        0,
                                        0,
                                        0,
                                        52.52,
                                        0,
                                        0,
                                        0,
                                        0
                                    ],
                                    "xaxis": "x",
                                    "y": [
                                        75089,
                                        78319,
                                        62191,
                                        40393,
                                        31684,
                                        50103,
                                        54754,
                                        66181,
                                        156904,
                                        100151,
                                        122911,
                                        81068,
                                        57794,
                                        72075,
                                        109528,
                                        197555,
                                        129245,
                                        82424,
                                        89781,
                                        71530,
                                        100943,
                                        132705,
                                        144560,
                                        142545,
                                        91933,
                                        122708,
                                        67736,
                                        43756,
                                        47620,
                                        57858,
                                        62387,
                                        84354,
                                        190490,
                                        93636,
                                        129050,
                                        35092,
                                        65434,
                                        96792,
                                        91290,
                                        59309,
                                        104649,
                                        28237,
                                        26136,
                                        39946,
                                        81652,
                                        45345,
                                        199405,
                                        184303,
                                        83573,
                                        128635,
                                        64374,
                                        40229,
                                        43634,
                                        53760,
                                        53418,
                                        66694,
                                        120818,
                                        79231,
                                        82665,
                                        80595,
                                        63753,
                                        74149,
                                        101283,
                                        226094,
                                        167712,
                                        169956,
                                        84217,
                                        94931,
                                        121727,
                                        162051,
                                        197502,
                                        153636,
                                        61392,
                                        106201,
                                        66889,
                                        42116,
                                        45160,
                                        41552,
                                        47832,
                                        44570,
                                        82996,
                                        87153,
                                        58139,
                                        61401,
                                        79854,
                                        76960,
                                        135412,
                                        211873,
                                        211873,
                                        170661,
                                        92210,
                                        43976,
                                        86096,
                                        148893,
                                        164021,
                                        135338
                                    ],
                                    "yaxis": "y"
                                }
                            ],
                            "layout": {
                                "legend": {
                                    "title": {
                                        "text": "state"
                                    },
                                    "tracegroupgap": 0
                                },
                                "margin": {
                                    "t": 60
                                },
                                "template": {
                                    "data": {
                                        "bar": [
                                            {
                                                "error_x": {
                                                    "color": "#2a3f5f"
                                                },
                                                "error_y": {
                                                    "color": "#2a3f5f"
                                                },
                                                "marker": {
                                                    "line": {
                                                        "color": "#E5ECF6",
                                                        "width": 0.5
                                                    }
                                                },
                                                "type": "bar"
                                            }
                                        ],
                                        "barpolar": [
                                            {
                                                "marker": {
                                                    "line": {
                                                        "color": "#E5ECF6",
                                                        "width": 0.5
                                                    }
                                                },
                                                "type": "barpolar"
                                            }
                                        ],
                                        "carpet": [
                                            {
                                                "aaxis": {
                                                    "endlinecolor": "#2a3f5f",
                                                    "gridcolor": "white",
                                                    "linecolor": "white",
                                                    "minorgridcolor": "white",
                                                    "startlinecolor": "#2a3f5f"
                                                },
                                                "baxis": {
                                                    "endlinecolor": "#2a3f5f",
                                                    "gridcolor": "white",
                                                    "linecolor": "white",
                                                    "minorgridcolor": "white",
                                                    "startlinecolor": "#2a3f5f"
                                                },
                                                "type": "carpet"
                                            }
                                        ],
                                        "choropleth": [
                                            {
                                                "colorbar": {
                                                    "outlinewidth": 0,
                                                    "ticks": ""
                                                },
                                                "type": "choropleth"
                                            }
                                        ],
                                        "contour": [
                                            {
                                                "colorbar": {
                                                    "outlinewidth": 0,
                                                    "ticks": ""
                                                },
                                                "colorscale": [
                                                    [
                                                        0,
                                                        "#0d0887"
                                                    ],
                                                    [
                                                        0.1111111111111111,
                                                        "#46039f"
                                                    ],
                                                    [
                                                        0.2222222222222222,
                                                        "#7201a8"
                                                    ],
                                                    [
                                                        0.3333333333333333,
                                                        "#9c179e"
                                                    ],
                                                    [
                                                        0.4444444444444444,
                                                        "#bd3786"
                                                    ],
                                                    [
                                                        0.5555555555555556,
                                                        "#d8576b"
                                                    ],
                                                    [
                                                        0.6666666666666666,
                                                        "#ed7953"
                                                    ],
                                                    [
                                                        0.7777777777777778,
                                                        "#fb9f3a"
                                                    ],
                                                    [
                                                        0.8888888888888888,
                                                        "#fdca26"
                                                    ],
                                                    [
                                                        1,
                                                        "#f0f921"
                                                    ]
                                                ],
                                                "type": "contour"
                                            }
                                        ],
                                        "contourcarpet": [
                                            {
                                                "colorbar": {
                                                    "outlinewidth": 0,
                                                    "ticks": ""
                                                },
                                                "type": "contourcarpet"
                                            }
                                        ],
                                        "heatmap": [
                                            {
                                                "colorbar": {
                                                    "outlinewidth": 0,
                                                    "ticks": ""
                                                },
                                                "colorscale": [
                                                    [
                                                        0,
                                                        "#0d0887"
                                                    ],
                                                    [
                                                        0.1111111111111111,
                                                        "#46039f"
                                                    ],
                                                    [
                                                        0.2222222222222222,
                                                        "#7201a8"
                                                    ],
                                                    [
                                                        0.3333333333333333,
                                                        "#9c179e"
                                                    ],
                                                    [
                                                        0.4444444444444444,
                                                        "#bd3786"
                                                    ],
                                                    [
                                                        0.5555555555555556,
                                                        "#d8576b"
                                                    ],
                                                    [
                                                        0.6666666666666666,
                                                        "#ed7953"
                                                    ],
                                                    [
                                                        0.7777777777777778,
                                                        "#fb9f3a"
                                                    ],
                                                    [
                                                        0.8888888888888888,
                                                        "#fdca26"
                                                    ],
                                                    [
                                                        1,
                                                        "#f0f921"
                                                    ]
                                                ],
                                                "type": "heatmap"
                                            }
                                        ],
                                        "heatmapgl": [
                                            {
                                                "colorbar": {
                                                    "outlinewidth": 0,
                                                    "ticks": ""
                                                },
                                                "colorscale": [
                                                    [
                                                        0,
                                                        "#0d0887"
                                                    ],
                                                    [
                                                        0.1111111111111111,
                                                        "#46039f"
                                                    ],
                                                    [
                                                        0.2222222222222222,
                                                        "#7201a8"
                                                    ],
                                                    [
                                                        0.3333333333333333,
                                                        "#9c179e"
                                                    ],
                                                    [
                                                        0.4444444444444444,
                                                        "#bd3786"
                                                    ],
                                                    [
                                                        0.5555555555555556,
                                                        "#d8576b"
                                                    ],
                                                    [
                                                        0.6666666666666666,
                                                        "#ed7953"
                                                    ],
                                                    [
                                                        0.7777777777777778,
                                                        "#fb9f3a"
                                                    ],
                                                    [
                                                        0.8888888888888888,
                                                        "#fdca26"
                                                    ],
                                                    [
                                                        1,
                                                        "#f0f921"
                                                    ]
                                                ],
                                                "type": "heatmapgl"
                                            }
                                        ],
                                        "histogram": [
                                            {
                                                "marker": {
                                                    "colorbar": {
                                                        "outlinewidth": 0,
                                                        "ticks": ""
                                                    }
                                                },
                                                "type": "histogram"
                                            }
                                        ],
                                        "histogram2d": [
                                            {
                                                "colorbar": {
                                                    "outlinewidth": 0,
                                                    "ticks": ""
                                                },
                                                "colorscale": [
                                                    [
                                                        0,
                                                        "#0d0887"
                                                    ],
                                                    [
                                                        0.1111111111111111,
                                                        "#46039f"
                                                    ],
                                                    [
                                                        0.2222222222222222,
                                                        "#7201a8"
                                                    ],
                                                    [
                                                        0.3333333333333333,
                                                        "#9c179e"
                                                    ],
                                                    [
                                                        0.4444444444444444,
                                                        "#bd3786"
                                                    ],
                                                    [
                                                        0.5555555555555556,
                                                        "#d8576b"
                                                    ],
                                                    [
                                                        0.6666666666666666,
                                                        "#ed7953"
                                                    ],
                                                    [
                                                        0.7777777777777778,
                                                        "#fb9f3a"
                                                    ],
                                                    [
                                                        0.8888888888888888,
                                                        "#fdca26"
                                                    ],
                                                    [
                                                        1,
                                                        "#f0f921"
                                                    ]
                                                ],
                                                "type": "histogram2d"
                                            }
                                        ],
                                        "histogram2dcontour": [
                                            {
                                                "colorbar": {
                                                    "outlinewidth": 0,
                                                    "ticks": ""
                                                },
                                                "colorscale": [
                                                    [
                                                        0,
                                                        "#0d0887"
                                                    ],
                                                    [
                                                        0.1111111111111111,
                                                        "#46039f"
                                                    ],
                                                    [
                                                        0.2222222222222222,
                                                        "#7201a8"
                                                    ],
                                                    [
                                                        0.3333333333333333,
                                                        "#9c179e"
                                                    ],
                                                    [
                                                        0.4444444444444444,
                                                        "#bd3786"
                                                    ],
                                                    [
                                                        0.5555555555555556,
                                                        "#d8576b"
                                                    ],
                                                    [
                                                        0.6666666666666666,
                                                        "#ed7953"
                                                    ],
                                                    [
                                                        0.7777777777777778,
                                                        "#fb9f3a"
                                                    ],
                                                    [
                                                        0.8888888888888888,
                                                        "#fdca26"
                                                    ],
                                                    [
                                                        1,
                                                        "#f0f921"
                                                    ]
                                                ],
                                                "type": "histogram2dcontour"
                                            }
                                        ],
                                        "mesh3d": [
                                            {
                                                "colorbar": {
                                                    "outlinewidth": 0,
                                                    "ticks": ""
                                                },
                                                "type": "mesh3d"
                                            }
                                        ],
                                        "parcoords": [
                                            {
                                                "line": {
                                                    "colorbar": {
                                                        "outlinewidth": 0,
                                                        "ticks": ""
                                                    }
                                                },
                                                "type": "parcoords"
                                            }
                                        ],
                                        "pie": [
                                            {
                                                "automargin": true,
                                                "type": "pie"
                                            }
                                        ],
                                        "scatter": [
                                            {
                                                "marker": {
                                                    "colorbar": {
                                                        "outlinewidth": 0,
                                                        "ticks": ""
                                                    }
                                                },
                                                "type": "scatter"
                                            }
                                        ],
                                        "scatter3d": [
                                            {
                                                "line": {
                                                    "colorbar": {
                                                        "outlinewidth": 0,
                                                        "ticks": ""
                                                    }
                                                },
                                                "marker": {
                                                    "colorbar": {
                                                        "outlinewidth": 0,
                                                        "ticks": ""
                                                    }
                                                },
                                                "type": "scatter3d"
                                            }
                                        ],
                                        "scattercarpet": [
                                            {
                                                "marker": {
                                                    "colorbar": {
                                                        "outlinewidth": 0,
                                                        "ticks": ""
                                                    }
                                                },
                                                "type": "scattercarpet"
                                            }
                                        ],
                                        "scattergeo": [
                                            {
                                                "marker": {
                                                    "colorbar": {
                                                        "outlinewidth": 0,
                                                        "ticks": ""
                                                    }
                                                },
                                                "type": "scattergeo"
                                            }
                                        ],
                                        "scattergl": [
                                            {
                                                "marker": {
                                                    "colorbar": {
                                                        "outlinewidth": 0,
                                                        "ticks": ""
                                                    }
                                                },
                                                "type": "scattergl"
                                            }
                                        ],
                                        "scattermapbox": [
                                            {
                                                "marker": {
                                                    "colorbar": {
                                                        "outlinewidth": 0,
                                                        "ticks": ""
                                                    }
                                                },
                                                "type": "scattermapbox"
                                            }
                                        ],
                                        "scatterpolar": [
                                            {
                                                "marker": {
                                                    "colorbar": {
                                                        "outlinewidth": 0,
                                                        "ticks": ""
                                                    }
                                                },
                                                "type": "scatterpolar"
                                            }
                                        ],
                                        "scatterpolargl": [
                                            {
                                                "marker": {
                                                    "colorbar": {
                                                        "outlinewidth": 0,
                                                        "ticks": ""
                                                    }
                                                },
                                                "type": "scatterpolargl"
                                            }
                                        ],
                                        "scatterternary": [
                                            {
                                                "marker": {
                                                    "colorbar": {
                                                        "outlinewidth": 0,
                                                        "ticks": ""
                                                    }
                                                },
                                                "type": "scatterternary"
                                            }
                                        ],
                                        "surface": [
                                            {
                                                "colorbar": {
                                                    "outlinewidth": 0,
                                                    "ticks": ""
                                                },
                                                "colorscale": [
                                                    [
                                                        0,
                                                        "#0d0887"
                                                    ],
                                                    [
                                                        0.1111111111111111,
                                                        "#46039f"
                                                    ],
                                                    [
                                                        0.2222222222222222,
                                                        "#7201a8"
                                                    ],
                                                    [
                                                        0.3333333333333333,
                                                        "#9c179e"
                                                    ],
                                                    [
                                                        0.4444444444444444,
                                                        "#bd3786"
                                                    ],
                                                    [
                                                        0.5555555555555556,
                                                        "#d8576b"
                                                    ],
                                                    [
                                                        0.6666666666666666,
                                                        "#ed7953"
                                                    ],
                                                    [
                                                        0.7777777777777778,
                                                        "#fb9f3a"
                                                    ],
                                                    [
                                                        0.8888888888888888,
                                                        "#fdca26"
                                                    ],
                                                    [
                                                        1,
                                                        "#f0f921"
                                                    ]
                                                ],
                                                "type": "surface"
                                            }
                                        ],
                                        "table": [
                                            {
                                                "cells": {
                                                    "fill": {
                                                        "color": "#EBF0F8"
                                                    },
                                                    "line": {
                                                        "color": "white"
                                                    }
                                                },
                                                "header": {
                                                    "fill": {
                                                        "color": "#C8D4E3"
                                                    },
                                                    "line": {
                                                        "color": "white"
                                                    }
                                                },
                                                "type": "table"
                                            }
                                        ]
                                    },
                                    "layout": {
                                        "annotationdefaults": {
                                            "arrowcolor": "#2a3f5f",
                                            "arrowhead": 0,
                                            "arrowwidth": 1
                                        },
                                        "autotypenumbers": "strict",
                                        "coloraxis": {
                                            "colorbar": {
                                                "outlinewidth": 0,
                                                "ticks": ""
                                            }
                                        },
                                        "colorscale": {
                                            "diverging": [
                                                [
                                                    0,
                                                    "#8e0152"
                                                ],
                                                [
                                                    0.1,
                                                    "#c51b7d"
                                                ],
                                                [
                                                    0.2,
                                                    "#de77ae"
                                                ],
                                                [
                                                    0.3,
                                                    "#f1b6da"
                                                ],
                                                [
                                                    0.4,
                                                    "#fde0ef"
                                                ],
                                                [
                                                    0.5,
                                                    "#f7f7f7"
                                                ],
                                                [
                                                    0.6,
                                                    "#e6f5d0"
                                                ],
                                                [
                                                    0.7,
                                                    "#b8e186"
                                                ],
                                                [
                                                    0.8,
                                                    "#7fbc41"
                                                ],
                                                [
                                                    0.9,
                                                    "#4d9221"
                                                ],
                                                [
                                                    1,
                                                    "#276419"
                                                ]
                                            ],
                                            "sequential": [
                                                [
                                                    0,
                                                    "#0d0887"
                                                ],
                                                [
                                                    0.1111111111111111,
                                                    "#46039f"
                                                ],
                                                [
                                                    0.2222222222222222,
                                                    "#7201a8"
                                                ],
                                                [
                                                    0.3333333333333333,
                                                    "#9c179e"
                                                ],
                                                [
                                                    0.4444444444444444,
                                                    "#bd3786"
                                                ],
                                                [
                                                    0.5555555555555556,
                                                    "#d8576b"
                                                ],
                                                [
                                                    0.6666666666666666,
                                                    "#ed7953"
                                                ],
                                                [
                                                    0.7777777777777778,
                                                    "#fb9f3a"
                                                ],
                                                [
                                                    0.8888888888888888,
                                                    "#fdca26"
                                                ],
                                                [
                                                    1,
                                                    "#f0f921"
                                                ]
                                            ],
                                            "sequentialminus": [
                                                [
                                                    0,
                                                    "#0d0887"
                                                ],
                                                [
                                                    0.1111111111111111,
                                                    "#46039f"
                                                ],
                                                [
                                                    0.2222222222222222,
                                                    "#7201a8"
                                                ],
                                                [
                                                    0.3333333333333333,
                                                    "#9c179e"
                                                ],
                                                [
                                                    0.4444444444444444,
                                                    "#bd3786"
                                                ],
                                                [
                                                    0.5555555555555556,
                                                    "#d8576b"
                                                ],
                                                [
                                                    0.6666666666666666,
                                                    "#ed7953"
                                                ],
                                                [
                                                    0.7777777777777778,
                                                    "#fb9f3a"
                                                ],
                                                [
                                                    0.8888888888888888,
                                                    "#fdca26"
                                                ],
                                                [
                                                    1,
                                                    "#f0f921"
                                                ]
                                            ]
                                        },
                                        "colorway": [
                                            "#636efa",
                                            "#EF553B",
                                            "#00cc96",
                                            "#ab63fa",
                                            "#FFA15A",
                                            "#19d3f3",
                                            "#FF6692",
                                            "#B6E880",
                                            "#FF97FF",
                                            "#FECB52"
                                        ],
                                        "font": {
                                            "color": "#2a3f5f"
                                        },
                                        "geo": {
                                            "bgcolor": "white",
                                            "lakecolor": "white",
                                            "landcolor": "#E5ECF6",
                                            "showlakes": true,
                                            "showland": true,
                                            "subunitcolor": "white"
                                        },
                                        "hoverlabel": {
                                            "align": "left"
                                        },
                                        "hovermode": "closest",
                                        "mapbox": {
                                            "style": "light"
                                        },
                                        "paper_bgcolor": "white",
                                        "plot_bgcolor": "#E5ECF6",
                                        "polar": {
                                            "angularaxis": {
                                                "gridcolor": "white",
                                                "linecolor": "white",
                                                "ticks": ""
                                            },
                                            "bgcolor": "#E5ECF6",
                                            "radialaxis": {
                                                "gridcolor": "white",
                                                "linecolor": "white",
                                                "ticks": ""
                                            }
                                        },
                                        "scene": {
                                            "xaxis": {
                                                "backgroundcolor": "#E5ECF6",
                                                "gridcolor": "white",
                                                "gridwidth": 2,
                                                "linecolor": "white",
                                                "showbackground": true,
                                                "ticks": "",
                                                "zerolinecolor": "white"
                                            },
                                            "yaxis": {
                                                "backgroundcolor": "#E5ECF6",
                                                "gridcolor": "white",
                                                "gridwidth": 2,
                                                "linecolor": "white",
                                                "showbackground": true,
                                                "ticks": "",
                                                "zerolinecolor": "white"
                                            },
                                            "zaxis": {
                                                "backgroundcolor": "#E5ECF6",
                                                "gridcolor": "white",
                                                "gridwidth": 2,
                                                "linecolor": "white",
                                                "showbackground": true,
                                                "ticks": "",
                                                "zerolinecolor": "white"
                                            }
                                        },
                                        "shapedefaults": {
                                            "line": {
                                                "color": "#2a3f5f"
                                            }
                                        },
                                        "ternary": {
                                            "aaxis": {
                                                "gridcolor": "white",
                                                "linecolor": "white",
                                                "ticks": ""
                                            },
                                            "baxis": {
                                                "gridcolor": "white",
                                                "linecolor": "white",
                                                "ticks": ""
                                            },
                                            "bgcolor": "#E5ECF6",
                                            "caxis": {
                                                "gridcolor": "white",
                                                "linecolor": "white",
                                                "ticks": ""
                                            }
                                        },
                                        "title": {
                                            "x": 0.05
                                        },
                                        "xaxis": {
                                            "automargin": true,
                                            "gridcolor": "white",
                                            "linecolor": "white",
                                            "ticks": "",
                                            "title": {
                                                "standoff": 15
                                            },
                                            "zerolinecolor": "white",
                                            "zerolinewidth": 2
                                        },
                                        "yaxis": {
                                            "automargin": true,
                                            "gridcolor": "white",
                                            "linecolor": "white",
                                            "ticks": "",
                                            "title": {
                                                "standoff": 15
                                            },
                                            "zerolinecolor": "white",
                                            "zerolinewidth": 2
                                        }
                                    }
                                },
                                "xaxis": {
                                    "anchor": "y",
                                    "domain": [
                                        0,
                                        1
                                    ],
                                    "title": {
                                        "text": "prec"
                                    }
                                },
                                "yaxis": {
                                    "anchor": "x",
                                    "domain": [
                                        0,
                                        1
                                    ],
                                    "title": {
                                        "text": "attendance"
                                    }
                                }
                            }
                        }
                    },
                    "metadata": {},
                    "output_type": "display_data"
                }
            ],
            "source": [
                "fig = px.scatter(scaled_df, x=\"prec\", y=\"attendance\",hover_data=['year'], color='state')\n",
                "fig.show()"
            ]
        },
        {
            "cell_type": "code",
            "execution_count": 177,
            "metadata": {},
            "outputs": [
                {
                    "name": "stdout",
                    "output_type": "stream",
                    "text": [
                        "Pearsons correlation MN: -0.5143400934180269\n",
                        "Pearsons correlation NC: -0.48551101323735\n",
                        "Pearsons correlation NY: -0.13659232980277639\n",
                        "Pearsons correlation TX: -0.3667971819390203\n"
                    ]
                }
            ],
            "source": [
                "# calculate Pearson's correlation (all years)\n",
                "for state in scaled_df.state.unique():\n",
                "    corr, _ = pearsonr(scaled_df[(scaled_df['state']==state) & (scaled_df['prec']>0)]['prec'], scaled_df[(scaled_df['state']==state) & (scaled_df['prec']>0)]['attendance'])\n",
                "    print('Pearsons correlation {}: {}'.format(state,corr))"
            ]
        },
        {
            "cell_type": "code",
            "execution_count": 178,
            "metadata": {},
            "outputs": [
                {
                    "name": "stdout",
                    "output_type": "stream",
                    "text": [
                        "Pearsons correlation MN: -0.6556076481480855\n",
                        "Pearsons correlation NC: -0.8156647325777969\n",
                        "Pearsons correlation NY: -0.26613381455497537\n",
                        "Pearsons correlation TX: -0.34736621716633986\n"
                    ]
                }
            ],
            "source": [
                "# calculate Pearson's correlation (pre-covid up to 2019)\n",
                "for state in scaled_df.state.unique():\n",
                "    corr, _ = pearsonr(scaled_df[(scaled_df['state']==state) & (scaled_df['prec']>0)&(scaled_df['year']<2020)]['prec'], scaled_df[(scaled_df['state']==state) & (scaled_df['prec']>0)&(scaled_df['year']<2020)]['attendance'])\n",
                "    print('Pearsons correlation {}: {}'.format(state,corr))"
            ]
        },
        {
            "cell_type": "markdown",
            "metadata": {},
            "source": [
                "As expected, we see a negative correlation between rainfall and attendance. The strength of the correlation is weaker when we add data from 2020 onwards, and we hypothesize that it is due to the COVID-19 pandemic. Therefore, we will now only take into account data up to and including 2019. However, it is important to note that there are many variables other than rainfall that have an effect on attendance. "
            ]
        },
        {
            "cell_type": "markdown",
            "metadata": {},
            "source": [
                "---\n",
                "# Optimized curve fit"
            ]
        },
        {
            "cell_type": "code",
            "execution_count": 179,
            "metadata": {},
            "outputs": [],
            "source": [
                "from sklearn.preprocessing import MaxAbsScaler, RobustScaler \n",
                "\n",
                "from scipy.optimize import curve_fit"
            ]
        },
        {
            "cell_type": "markdown",
            "metadata": {},
            "source": [
                "## Reprocessing dataframe"
            ]
        },
        {
            "cell_type": "markdown",
            "metadata": {},
            "source": [
                "Here, we reprocess the data from each frame individually. For each state, the distribution of attendance rates is likely to be different due to individual fair size, population, etc... Therefore, we scale each of these fairs individually.\n",
                "\n",
                "The MaxAbsScaler used \"does not destroy any sparsity\", which is important as the days with precipatation are very sparse in the dataset. Furthermore, \"maximal absolute value of each feature in the training set will be 1.0\" which allows us to compare between states. (https://scikit-learn.org/stable/modules/generated/sklearn.preprocessing.MaxAbsScaler.html)\n"
            ]
        },
        {
            "cell_type": "code",
            "execution_count": 180,
            "metadata": {},
            "outputs": [],
            "source": [
                "MN_df = df[df['state']=='MN']\n",
                "TX_df = df[df['state']=='TX']\n",
                "NC_df = df[df['state']=='NC']\n",
                "NC_df = NC_df.drop(NC_df[(NC_df['state']=='NC') & (NC_df['year']==2019)].index) #removing the outlier\n",
                "NY_df = df[df['state']=='NY']\n"
            ]
        },
        {
            "cell_type": "code",
            "execution_count": 181,
            "metadata": {},
            "outputs": [],
            "source": [
                "def preprocess_state_df(df):\n",
                "    df = df[df['year']<2020]\n",
                "    scaler_prec = MaxAbsScaler()\n",
                "    X_train_prec = scaler_prec.fit_transform(np.array(df ['prec']).reshape(-1,1))\n",
                "    scaler_att = MaxAbsScaler()\n",
                "    X_train_att = scaler_att.fit_transform(np.array(df['attendance']).reshape(-1,1))\n",
                "    df['scaled_prec'] = X_train_prec\n",
                "    df['scaled_att'] = X_train_att\n",
                "    df = df[df['prec']>0]\n",
                "\n",
                "    q_low = df[\"attendance\"].quantile(0.0)\n",
                "    q_hi  = df[\"attendance\"].quantile(1)\n",
                "    df_filtered = df[(df[\"attendance\"] < q_hi) & (df[\"attendance\"] > q_low)]\n",
                "    return df_filtered, scaler_prec, scaler_att"
            ]
        },
        {
            "cell_type": "code",
            "execution_count": 182,
            "metadata": {},
            "outputs": [
                {
                    "name": "stderr",
                    "output_type": "stream",
                    "text": [
                        "C:\\Users\\joyji\\Anaconda3\\envs\\myenv\\lib\\site-packages\\ipykernel_launcher.py:7: SettingWithCopyWarning:\n",
                        "\n",
                        "\n",
                        "A value is trying to be set on a copy of a slice from a DataFrame.\n",
                        "Try using .loc[row_indexer,col_indexer] = value instead\n",
                        "\n",
                        "See the caveats in the documentation: https://pandas.pydata.org/pandas-docs/stable/user_guide/indexing.html#returning-a-view-versus-a-copy\n",
                        "\n",
                        "C:\\Users\\joyji\\Anaconda3\\envs\\myenv\\lib\\site-packages\\ipykernel_launcher.py:8: SettingWithCopyWarning:\n",
                        "\n",
                        "\n",
                        "A value is trying to be set on a copy of a slice from a DataFrame.\n",
                        "Try using .loc[row_indexer,col_indexer] = value instead\n",
                        "\n",
                        "See the caveats in the documentation: https://pandas.pydata.org/pandas-docs/stable/user_guide/indexing.html#returning-a-view-versus-a-copy\n",
                        "\n",
                        "C:\\Users\\joyji\\Anaconda3\\envs\\myenv\\lib\\site-packages\\ipykernel_launcher.py:7: SettingWithCopyWarning:\n",
                        "\n",
                        "\n",
                        "A value is trying to be set on a copy of a slice from a DataFrame.\n",
                        "Try using .loc[row_indexer,col_indexer] = value instead\n",
                        "\n",
                        "See the caveats in the documentation: https://pandas.pydata.org/pandas-docs/stable/user_guide/indexing.html#returning-a-view-versus-a-copy\n",
                        "\n",
                        "C:\\Users\\joyji\\Anaconda3\\envs\\myenv\\lib\\site-packages\\ipykernel_launcher.py:8: SettingWithCopyWarning:\n",
                        "\n",
                        "\n",
                        "A value is trying to be set on a copy of a slice from a DataFrame.\n",
                        "Try using .loc[row_indexer,col_indexer] = value instead\n",
                        "\n",
                        "See the caveats in the documentation: https://pandas.pydata.org/pandas-docs/stable/user_guide/indexing.html#returning-a-view-versus-a-copy\n",
                        "\n",
                        "C:\\Users\\joyji\\Anaconda3\\envs\\myenv\\lib\\site-packages\\ipykernel_launcher.py:7: SettingWithCopyWarning:\n",
                        "\n",
                        "\n",
                        "A value is trying to be set on a copy of a slice from a DataFrame.\n",
                        "Try using .loc[row_indexer,col_indexer] = value instead\n",
                        "\n",
                        "See the caveats in the documentation: https://pandas.pydata.org/pandas-docs/stable/user_guide/indexing.html#returning-a-view-versus-a-copy\n",
                        "\n",
                        "C:\\Users\\joyji\\Anaconda3\\envs\\myenv\\lib\\site-packages\\ipykernel_launcher.py:8: SettingWithCopyWarning:\n",
                        "\n",
                        "\n",
                        "A value is trying to be set on a copy of a slice from a DataFrame.\n",
                        "Try using .loc[row_indexer,col_indexer] = value instead\n",
                        "\n",
                        "See the caveats in the documentation: https://pandas.pydata.org/pandas-docs/stable/user_guide/indexing.html#returning-a-view-versus-a-copy\n",
                        "\n"
                    ]
                }
            ],
            "source": [
                "MN_df_scaled, MN_scaler_prec, MN_scaler_att = preprocess_state_df(MN_df)\n",
                "\n",
                "NC_df_scaled, NC_scaler_prec, NC_scaler_att = preprocess_state_df(NC_df)\n",
                "\n",
                "NY_df_scaled, NY_scaler_prec, NY_scaler_att = preprocess_state_df(NY_df)\n"
            ]
        },
        {
            "cell_type": "code",
            "execution_count": 183,
            "metadata": {},
            "outputs": [
                {
                    "name": "stderr",
                    "output_type": "stream",
                    "text": [
                        "C:\\Users\\joyji\\Anaconda3\\envs\\myenv\\lib\\site-packages\\ipykernel_launcher.py:7: SettingWithCopyWarning:\n",
                        "\n",
                        "\n",
                        "A value is trying to be set on a copy of a slice from a DataFrame.\n",
                        "Try using .loc[row_indexer,col_indexer] = value instead\n",
                        "\n",
                        "See the caveats in the documentation: https://pandas.pydata.org/pandas-docs/stable/user_guide/indexing.html#returning-a-view-versus-a-copy\n",
                        "\n",
                        "C:\\Users\\joyji\\Anaconda3\\envs\\myenv\\lib\\site-packages\\ipykernel_launcher.py:8: SettingWithCopyWarning:\n",
                        "\n",
                        "\n",
                        "A value is trying to be set on a copy of a slice from a DataFrame.\n",
                        "Try using .loc[row_indexer,col_indexer] = value instead\n",
                        "\n",
                        "See the caveats in the documentation: https://pandas.pydata.org/pandas-docs/stable/user_guide/indexing.html#returning-a-view-versus-a-copy\n",
                        "\n"
                    ]
                },
                {
                    "data": {
                        "application/vnd.plotly.v1+json": {
                            "config": {
                                "plotlyServerURL": "https://plot.ly"
                            },
                            "data": [
                                {
                                    "hovertemplate": "prec=%{x}<br>attendance=%{y}<extra></extra>",
                                    "legendgroup": "",
                                    "marker": {
                                        "color": "#636efa",
                                        "symbol": "circle"
                                    },
                                    "mode": "markers",
                                    "name": "",
                                    "orientation": "v",
                                    "showlegend": false,
                                    "type": "scatter",
                                    "x": [
                                        3.39,
                                        17.7,
                                        0.22,
                                        7.98,
                                        0.26,
                                        24.52,
                                        1.9,
                                        5.44,
                                        5.87,
                                        47.48,
                                        19.59,
                                        66.86,
                                        25.94,
                                        59.94,
                                        9.93,
                                        0.59,
                                        13.47,
                                        4.12,
                                        7.7,
                                        17.74,
                                        15.84,
                                        1.63,
                                        0.77,
                                        28.6
                                    ],
                                    "xaxis": "x",
                                    "y": [
                                        75089,
                                        54754,
                                        66181,
                                        122911,
                                        132705,
                                        144560,
                                        122708,
                                        190490,
                                        93636,
                                        35092,
                                        91290,
                                        59309,
                                        104649,
                                        28237,
                                        39946,
                                        81652,
                                        45345,
                                        43634,
                                        53760,
                                        120818,
                                        101283,
                                        169956,
                                        84217,
                                        153636
                                    ],
                                    "yaxis": "y"
                                }
                            ],
                            "layout": {
                                "legend": {
                                    "tracegroupgap": 0
                                },
                                "margin": {
                                    "t": 60
                                },
                                "template": {
                                    "data": {
                                        "bar": [
                                            {
                                                "error_x": {
                                                    "color": "#2a3f5f"
                                                },
                                                "error_y": {
                                                    "color": "#2a3f5f"
                                                },
                                                "marker": {
                                                    "line": {
                                                        "color": "#E5ECF6",
                                                        "width": 0.5
                                                    }
                                                },
                                                "type": "bar"
                                            }
                                        ],
                                        "barpolar": [
                                            {
                                                "marker": {
                                                    "line": {
                                                        "color": "#E5ECF6",
                                                        "width": 0.5
                                                    }
                                                },
                                                "type": "barpolar"
                                            }
                                        ],
                                        "carpet": [
                                            {
                                                "aaxis": {
                                                    "endlinecolor": "#2a3f5f",
                                                    "gridcolor": "white",
                                                    "linecolor": "white",
                                                    "minorgridcolor": "white",
                                                    "startlinecolor": "#2a3f5f"
                                                },
                                                "baxis": {
                                                    "endlinecolor": "#2a3f5f",
                                                    "gridcolor": "white",
                                                    "linecolor": "white",
                                                    "minorgridcolor": "white",
                                                    "startlinecolor": "#2a3f5f"
                                                },
                                                "type": "carpet"
                                            }
                                        ],
                                        "choropleth": [
                                            {
                                                "colorbar": {
                                                    "outlinewidth": 0,
                                                    "ticks": ""
                                                },
                                                "type": "choropleth"
                                            }
                                        ],
                                        "contour": [
                                            {
                                                "colorbar": {
                                                    "outlinewidth": 0,
                                                    "ticks": ""
                                                },
                                                "colorscale": [
                                                    [
                                                        0,
                                                        "#0d0887"
                                                    ],
                                                    [
                                                        0.1111111111111111,
                                                        "#46039f"
                                                    ],
                                                    [
                                                        0.2222222222222222,
                                                        "#7201a8"
                                                    ],
                                                    [
                                                        0.3333333333333333,
                                                        "#9c179e"
                                                    ],
                                                    [
                                                        0.4444444444444444,
                                                        "#bd3786"
                                                    ],
                                                    [
                                                        0.5555555555555556,
                                                        "#d8576b"
                                                    ],
                                                    [
                                                        0.6666666666666666,
                                                        "#ed7953"
                                                    ],
                                                    [
                                                        0.7777777777777778,
                                                        "#fb9f3a"
                                                    ],
                                                    [
                                                        0.8888888888888888,
                                                        "#fdca26"
                                                    ],
                                                    [
                                                        1,
                                                        "#f0f921"
                                                    ]
                                                ],
                                                "type": "contour"
                                            }
                                        ],
                                        "contourcarpet": [
                                            {
                                                "colorbar": {
                                                    "outlinewidth": 0,
                                                    "ticks": ""
                                                },
                                                "type": "contourcarpet"
                                            }
                                        ],
                                        "heatmap": [
                                            {
                                                "colorbar": {
                                                    "outlinewidth": 0,
                                                    "ticks": ""
                                                },
                                                "colorscale": [
                                                    [
                                                        0,
                                                        "#0d0887"
                                                    ],
                                                    [
                                                        0.1111111111111111,
                                                        "#46039f"
                                                    ],
                                                    [
                                                        0.2222222222222222,
                                                        "#7201a8"
                                                    ],
                                                    [
                                                        0.3333333333333333,
                                                        "#9c179e"
                                                    ],
                                                    [
                                                        0.4444444444444444,
                                                        "#bd3786"
                                                    ],
                                                    [
                                                        0.5555555555555556,
                                                        "#d8576b"
                                                    ],
                                                    [
                                                        0.6666666666666666,
                                                        "#ed7953"
                                                    ],
                                                    [
                                                        0.7777777777777778,
                                                        "#fb9f3a"
                                                    ],
                                                    [
                                                        0.8888888888888888,
                                                        "#fdca26"
                                                    ],
                                                    [
                                                        1,
                                                        "#f0f921"
                                                    ]
                                                ],
                                                "type": "heatmap"
                                            }
                                        ],
                                        "heatmapgl": [
                                            {
                                                "colorbar": {
                                                    "outlinewidth": 0,
                                                    "ticks": ""
                                                },
                                                "colorscale": [
                                                    [
                                                        0,
                                                        "#0d0887"
                                                    ],
                                                    [
                                                        0.1111111111111111,
                                                        "#46039f"
                                                    ],
                                                    [
                                                        0.2222222222222222,
                                                        "#7201a8"
                                                    ],
                                                    [
                                                        0.3333333333333333,
                                                        "#9c179e"
                                                    ],
                                                    [
                                                        0.4444444444444444,
                                                        "#bd3786"
                                                    ],
                                                    [
                                                        0.5555555555555556,
                                                        "#d8576b"
                                                    ],
                                                    [
                                                        0.6666666666666666,
                                                        "#ed7953"
                                                    ],
                                                    [
                                                        0.7777777777777778,
                                                        "#fb9f3a"
                                                    ],
                                                    [
                                                        0.8888888888888888,
                                                        "#fdca26"
                                                    ],
                                                    [
                                                        1,
                                                        "#f0f921"
                                                    ]
                                                ],
                                                "type": "heatmapgl"
                                            }
                                        ],
                                        "histogram": [
                                            {
                                                "marker": {
                                                    "colorbar": {
                                                        "outlinewidth": 0,
                                                        "ticks": ""
                                                    }
                                                },
                                                "type": "histogram"
                                            }
                                        ],
                                        "histogram2d": [
                                            {
                                                "colorbar": {
                                                    "outlinewidth": 0,
                                                    "ticks": ""
                                                },
                                                "colorscale": [
                                                    [
                                                        0,
                                                        "#0d0887"
                                                    ],
                                                    [
                                                        0.1111111111111111,
                                                        "#46039f"
                                                    ],
                                                    [
                                                        0.2222222222222222,
                                                        "#7201a8"
                                                    ],
                                                    [
                                                        0.3333333333333333,
                                                        "#9c179e"
                                                    ],
                                                    [
                                                        0.4444444444444444,
                                                        "#bd3786"
                                                    ],
                                                    [
                                                        0.5555555555555556,
                                                        "#d8576b"
                                                    ],
                                                    [
                                                        0.6666666666666666,
                                                        "#ed7953"
                                                    ],
                                                    [
                                                        0.7777777777777778,
                                                        "#fb9f3a"
                                                    ],
                                                    [
                                                        0.8888888888888888,
                                                        "#fdca26"
                                                    ],
                                                    [
                                                        1,
                                                        "#f0f921"
                                                    ]
                                                ],
                                                "type": "histogram2d"
                                            }
                                        ],
                                        "histogram2dcontour": [
                                            {
                                                "colorbar": {
                                                    "outlinewidth": 0,
                                                    "ticks": ""
                                                },
                                                "colorscale": [
                                                    [
                                                        0,
                                                        "#0d0887"
                                                    ],
                                                    [
                                                        0.1111111111111111,
                                                        "#46039f"
                                                    ],
                                                    [
                                                        0.2222222222222222,
                                                        "#7201a8"
                                                    ],
                                                    [
                                                        0.3333333333333333,
                                                        "#9c179e"
                                                    ],
                                                    [
                                                        0.4444444444444444,
                                                        "#bd3786"
                                                    ],
                                                    [
                                                        0.5555555555555556,
                                                        "#d8576b"
                                                    ],
                                                    [
                                                        0.6666666666666666,
                                                        "#ed7953"
                                                    ],
                                                    [
                                                        0.7777777777777778,
                                                        "#fb9f3a"
                                                    ],
                                                    [
                                                        0.8888888888888888,
                                                        "#fdca26"
                                                    ],
                                                    [
                                                        1,
                                                        "#f0f921"
                                                    ]
                                                ],
                                                "type": "histogram2dcontour"
                                            }
                                        ],
                                        "mesh3d": [
                                            {
                                                "colorbar": {
                                                    "outlinewidth": 0,
                                                    "ticks": ""
                                                },
                                                "type": "mesh3d"
                                            }
                                        ],
                                        "parcoords": [
                                            {
                                                "line": {
                                                    "colorbar": {
                                                        "outlinewidth": 0,
                                                        "ticks": ""
                                                    }
                                                },
                                                "type": "parcoords"
                                            }
                                        ],
                                        "pie": [
                                            {
                                                "automargin": true,
                                                "type": "pie"
                                            }
                                        ],
                                        "scatter": [
                                            {
                                                "marker": {
                                                    "colorbar": {
                                                        "outlinewidth": 0,
                                                        "ticks": ""
                                                    }
                                                },
                                                "type": "scatter"
                                            }
                                        ],
                                        "scatter3d": [
                                            {
                                                "line": {
                                                    "colorbar": {
                                                        "outlinewidth": 0,
                                                        "ticks": ""
                                                    }
                                                },
                                                "marker": {
                                                    "colorbar": {
                                                        "outlinewidth": 0,
                                                        "ticks": ""
                                                    }
                                                },
                                                "type": "scatter3d"
                                            }
                                        ],
                                        "scattercarpet": [
                                            {
                                                "marker": {
                                                    "colorbar": {
                                                        "outlinewidth": 0,
                                                        "ticks": ""
                                                    }
                                                },
                                                "type": "scattercarpet"
                                            }
                                        ],
                                        "scattergeo": [
                                            {
                                                "marker": {
                                                    "colorbar": {
                                                        "outlinewidth": 0,
                                                        "ticks": ""
                                                    }
                                                },
                                                "type": "scattergeo"
                                            }
                                        ],
                                        "scattergl": [
                                            {
                                                "marker": {
                                                    "colorbar": {
                                                        "outlinewidth": 0,
                                                        "ticks": ""
                                                    }
                                                },
                                                "type": "scattergl"
                                            }
                                        ],
                                        "scattermapbox": [
                                            {
                                                "marker": {
                                                    "colorbar": {
                                                        "outlinewidth": 0,
                                                        "ticks": ""
                                                    }
                                                },
                                                "type": "scattermapbox"
                                            }
                                        ],
                                        "scatterpolar": [
                                            {
                                                "marker": {
                                                    "colorbar": {
                                                        "outlinewidth": 0,
                                                        "ticks": ""
                                                    }
                                                },
                                                "type": "scatterpolar"
                                            }
                                        ],
                                        "scatterpolargl": [
                                            {
                                                "marker": {
                                                    "colorbar": {
                                                        "outlinewidth": 0,
                                                        "ticks": ""
                                                    }
                                                },
                                                "type": "scatterpolargl"
                                            }
                                        ],
                                        "scatterternary": [
                                            {
                                                "marker": {
                                                    "colorbar": {
                                                        "outlinewidth": 0,
                                                        "ticks": ""
                                                    }
                                                },
                                                "type": "scatterternary"
                                            }
                                        ],
                                        "surface": [
                                            {
                                                "colorbar": {
                                                    "outlinewidth": 0,
                                                    "ticks": ""
                                                },
                                                "colorscale": [
                                                    [
                                                        0,
                                                        "#0d0887"
                                                    ],
                                                    [
                                                        0.1111111111111111,
                                                        "#46039f"
                                                    ],
                                                    [
                                                        0.2222222222222222,
                                                        "#7201a8"
                                                    ],
                                                    [
                                                        0.3333333333333333,
                                                        "#9c179e"
                                                    ],
                                                    [
                                                        0.4444444444444444,
                                                        "#bd3786"
                                                    ],
                                                    [
                                                        0.5555555555555556,
                                                        "#d8576b"
                                                    ],
                                                    [
                                                        0.6666666666666666,
                                                        "#ed7953"
                                                    ],
                                                    [
                                                        0.7777777777777778,
                                                        "#fb9f3a"
                                                    ],
                                                    [
                                                        0.8888888888888888,
                                                        "#fdca26"
                                                    ],
                                                    [
                                                        1,
                                                        "#f0f921"
                                                    ]
                                                ],
                                                "type": "surface"
                                            }
                                        ],
                                        "table": [
                                            {
                                                "cells": {
                                                    "fill": {
                                                        "color": "#EBF0F8"
                                                    },
                                                    "line": {
                                                        "color": "white"
                                                    }
                                                },
                                                "header": {
                                                    "fill": {
                                                        "color": "#C8D4E3"
                                                    },
                                                    "line": {
                                                        "color": "white"
                                                    }
                                                },
                                                "type": "table"
                                            }
                                        ]
                                    },
                                    "layout": {
                                        "annotationdefaults": {
                                            "arrowcolor": "#2a3f5f",
                                            "arrowhead": 0,
                                            "arrowwidth": 1
                                        },
                                        "autotypenumbers": "strict",
                                        "coloraxis": {
                                            "colorbar": {
                                                "outlinewidth": 0,
                                                "ticks": ""
                                            }
                                        },
                                        "colorscale": {
                                            "diverging": [
                                                [
                                                    0,
                                                    "#8e0152"
                                                ],
                                                [
                                                    0.1,
                                                    "#c51b7d"
                                                ],
                                                [
                                                    0.2,
                                                    "#de77ae"
                                                ],
                                                [
                                                    0.3,
                                                    "#f1b6da"
                                                ],
                                                [
                                                    0.4,
                                                    "#fde0ef"
                                                ],
                                                [
                                                    0.5,
                                                    "#f7f7f7"
                                                ],
                                                [
                                                    0.6,
                                                    "#e6f5d0"
                                                ],
                                                [
                                                    0.7,
                                                    "#b8e186"
                                                ],
                                                [
                                                    0.8,
                                                    "#7fbc41"
                                                ],
                                                [
                                                    0.9,
                                                    "#4d9221"
                                                ],
                                                [
                                                    1,
                                                    "#276419"
                                                ]
                                            ],
                                            "sequential": [
                                                [
                                                    0,
                                                    "#0d0887"
                                                ],
                                                [
                                                    0.1111111111111111,
                                                    "#46039f"
                                                ],
                                                [
                                                    0.2222222222222222,
                                                    "#7201a8"
                                                ],
                                                [
                                                    0.3333333333333333,
                                                    "#9c179e"
                                                ],
                                                [
                                                    0.4444444444444444,
                                                    "#bd3786"
                                                ],
                                                [
                                                    0.5555555555555556,
                                                    "#d8576b"
                                                ],
                                                [
                                                    0.6666666666666666,
                                                    "#ed7953"
                                                ],
                                                [
                                                    0.7777777777777778,
                                                    "#fb9f3a"
                                                ],
                                                [
                                                    0.8888888888888888,
                                                    "#fdca26"
                                                ],
                                                [
                                                    1,
                                                    "#f0f921"
                                                ]
                                            ],
                                            "sequentialminus": [
                                                [
                                                    0,
                                                    "#0d0887"
                                                ],
                                                [
                                                    0.1111111111111111,
                                                    "#46039f"
                                                ],
                                                [
                                                    0.2222222222222222,
                                                    "#7201a8"
                                                ],
                                                [
                                                    0.3333333333333333,
                                                    "#9c179e"
                                                ],
                                                [
                                                    0.4444444444444444,
                                                    "#bd3786"
                                                ],
                                                [
                                                    0.5555555555555556,
                                                    "#d8576b"
                                                ],
                                                [
                                                    0.6666666666666666,
                                                    "#ed7953"
                                                ],
                                                [
                                                    0.7777777777777778,
                                                    "#fb9f3a"
                                                ],
                                                [
                                                    0.8888888888888888,
                                                    "#fdca26"
                                                ],
                                                [
                                                    1,
                                                    "#f0f921"
                                                ]
                                            ]
                                        },
                                        "colorway": [
                                            "#636efa",
                                            "#EF553B",
                                            "#00cc96",
                                            "#ab63fa",
                                            "#FFA15A",
                                            "#19d3f3",
                                            "#FF6692",
                                            "#B6E880",
                                            "#FF97FF",
                                            "#FECB52"
                                        ],
                                        "font": {
                                            "color": "#2a3f5f"
                                        },
                                        "geo": {
                                            "bgcolor": "white",
                                            "lakecolor": "white",
                                            "landcolor": "#E5ECF6",
                                            "showlakes": true,
                                            "showland": true,
                                            "subunitcolor": "white"
                                        },
                                        "hoverlabel": {
                                            "align": "left"
                                        },
                                        "hovermode": "closest",
                                        "mapbox": {
                                            "style": "light"
                                        },
                                        "paper_bgcolor": "white",
                                        "plot_bgcolor": "#E5ECF6",
                                        "polar": {
                                            "angularaxis": {
                                                "gridcolor": "white",
                                                "linecolor": "white",
                                                "ticks": ""
                                            },
                                            "bgcolor": "#E5ECF6",
                                            "radialaxis": {
                                                "gridcolor": "white",
                                                "linecolor": "white",
                                                "ticks": ""
                                            }
                                        },
                                        "scene": {
                                            "xaxis": {
                                                "backgroundcolor": "#E5ECF6",
                                                "gridcolor": "white",
                                                "gridwidth": 2,
                                                "linecolor": "white",
                                                "showbackground": true,
                                                "ticks": "",
                                                "zerolinecolor": "white"
                                            },
                                            "yaxis": {
                                                "backgroundcolor": "#E5ECF6",
                                                "gridcolor": "white",
                                                "gridwidth": 2,
                                                "linecolor": "white",
                                                "showbackground": true,
                                                "ticks": "",
                                                "zerolinecolor": "white"
                                            },
                                            "zaxis": {
                                                "backgroundcolor": "#E5ECF6",
                                                "gridcolor": "white",
                                                "gridwidth": 2,
                                                "linecolor": "white",
                                                "showbackground": true,
                                                "ticks": "",
                                                "zerolinecolor": "white"
                                            }
                                        },
                                        "shapedefaults": {
                                            "line": {
                                                "color": "#2a3f5f"
                                            }
                                        },
                                        "ternary": {
                                            "aaxis": {
                                                "gridcolor": "white",
                                                "linecolor": "white",
                                                "ticks": ""
                                            },
                                            "baxis": {
                                                "gridcolor": "white",
                                                "linecolor": "white",
                                                "ticks": ""
                                            },
                                            "bgcolor": "#E5ECF6",
                                            "caxis": {
                                                "gridcolor": "white",
                                                "linecolor": "white",
                                                "ticks": ""
                                            }
                                        },
                                        "title": {
                                            "x": 0.05
                                        },
                                        "xaxis": {
                                            "automargin": true,
                                            "gridcolor": "white",
                                            "linecolor": "white",
                                            "ticks": "",
                                            "title": {
                                                "standoff": 15
                                            },
                                            "zerolinecolor": "white",
                                            "zerolinewidth": 2
                                        },
                                        "yaxis": {
                                            "automargin": true,
                                            "gridcolor": "white",
                                            "linecolor": "white",
                                            "ticks": "",
                                            "title": {
                                                "standoff": 15
                                            },
                                            "zerolinecolor": "white",
                                            "zerolinewidth": 2
                                        }
                                    }
                                },
                                "xaxis": {
                                    "anchor": "y",
                                    "domain": [
                                        0,
                                        1
                                    ],
                                    "title": {
                                        "text": "prec"
                                    }
                                },
                                "yaxis": {
                                    "anchor": "x",
                                    "domain": [
                                        0,
                                        1
                                    ],
                                    "title": {
                                        "text": "attendance"
                                    }
                                }
                            }
                        }
                    },
                    "metadata": {},
                    "output_type": "display_data"
                }
            ],
            "source": [
                "TX_df_scaled, TX_scaler_prec, TX_scaler_att = preprocess_state_df(TX_df)\n",
                "px.scatter(TX_df_scaled, x='scaled_prec',y='scaled_att')\n",
                "px.scatter(TX_df_scaled, x='prec',y='attendance')"
            ]
        },
        {
            "cell_type": "code",
            "execution_count": 184,
            "metadata": {},
            "outputs": [],
            "source": [
                "# we assume the function follows\n",
                "def func(t, a, b, c):\n",
                "    return a*np.exp(-b*t-c) \n",
                "\n"
            ]
        },
        {
            "cell_type": "code",
            "execution_count": 185,
            "metadata": {},
            "outputs": [],
            "source": [
                "def fit_curve(state_df):\n",
                "    x = np.array(state_df[\"scaled_prec\"])\n",
                "    y = np.array(state_df[\"scaled_att\"])\n",
                "    popt, pcov = curve_fit(func, x, y,maxfev=5000, bounds=(0, np.inf))\n",
                "    p,a = zip(*sorted(zip(x, func(x, *popt))))\n",
                "    plt.plot(p,a, label=\"fit: a={}, b={}, c={}\".format(popt[0],popt[1],popt[2]))\n",
                "    plt.scatter(x,y)\n",
                "\n",
                "    plt.xlabel('Scaled precipitation')\n",
                "    plt.ylabel('Scaled attendance')\n",
                "    plt.show()\n",
                "    return popt"
            ]
        },
        {
            "cell_type": "code",
            "execution_count": 186,
            "metadata": {},
            "outputs": [
                {
                    "data": {
                        "image/png": "[encoded data removed]",
                        "text/plain": [
                            "<Figure size 432x288 with 1 Axes>"
                        ]
                    },
                    "metadata": {
                        "needs_background": "light"
                    },
                    "output_type": "display_data"
                },
                {
                    "data": {
                        "image/png": "[encoded data removed]",
                        "text/plain": [
                            "<Figure size 432x288 with 1 Axes>"
                        ]
                    },
                    "metadata": {
                        "needs_background": "light"
                    },
                    "output_type": "display_data"
                },
                {
                    "data": {
                        "image/png": "[encoded data removed]",
                        "text/plain": [
                            "<Figure size 432x288 with 1 Axes>"
                        ]
                    },
                    "metadata": {
                        "needs_background": "light"
                    },
                    "output_type": "display_data"
                }
            ],
            "source": [
                "popt_NC = fit_curve(NC_df_scaled)\n",
                "popt_MN = fit_curve(MN_df_scaled)\n",
                "popt_NY = fit_curve(NY_df_scaled)\n"
            ]
        },
        {
            "cell_type": "code",
            "execution_count": 187,
            "metadata": {},
            "outputs": [
                {
                    "data": {
                        "image/png": "[encoded data removed]",
                        "text/plain": [
                            "<Figure size 432x288 with 1 Axes>"
                        ]
                    },
                    "metadata": {
                        "needs_background": "light"
                    },
                    "output_type": "display_data"
                },
                {
                    "data": {
                        "text/plain": [
                            "array([1.32205753, 0.57600882, 1.04593536])"
                        ]
                    },
                    "execution_count": 187,
                    "metadata": {},
                    "output_type": "execute_result"
                }
            ],
            "source": [
                "popt_TX = fit_curve(TX_df_scaled)\n",
                "popt_TX"
            ]
        },
        {
            "cell_type": "markdown",
            "metadata": {},
            "source": [
                "---\n",
                "# Vendors - revenue loss"
            ]
        },
        {
            "cell_type": "code",
            "execution_count": 188,
            "metadata": {},
            "outputs": [],
            "source": [
                "def adjust_vendor_revenue(df,precipitation, gross_revenue, popt, scaler_prec):\n",
                "    \n",
                "    scaled_prec = scaler_prec.transform(np.array(precipitation).reshape(-1, 1))\n",
                "    no_rain_att =  func(0, popt[0],popt[1],popt[2]) #returns scaled attendance no rain\n",
                "    y_pred = func(scaled_prec[0,0], popt[0],popt[1],popt[2]) #returns scaled attendance with rain\n",
                "    sf = (y_pred)/no_rain_att\n",
                "\n",
                "    new_revenue = sf*gross_revenue\n",
                "\n",
                "    return (new_revenue)"
            ]
        },
        {
            "cell_type": "code",
            "execution_count": 189,
            "metadata": {},
            "outputs": [
                {
                    "data": {
                        "text/plain": [
                            "9744.856895578776"
                        ]
                    },
                    "execution_count": 189,
                    "metadata": {},
                    "output_type": "execute_result"
                }
            ],
            "source": [
                "# example: the new daily revenue of a vendor in Texas that usually earns 10000 daily, if there is 3 mm of rain\n",
                "adjust_vendor_revenue(TX_df_scaled, 3,10000, popt_TX, TX_scaler_prec)"
            ]
        },
        {
            "cell_type": "code",
            "execution_count": 190,
            "metadata": {},
            "outputs": [],
            "source": [
                "def plot_adj_rev(scaled_df, popt, scaler_prec):\n",
                "    adj_rev = []\n",
                "    for i in range(100):\n",
                "        adj_rev.append(adjust_vendor_revenue(scaled_df, i,10000, popt, scaler_prec))\n",
                "    return adj_rev\n"
            ]
        },
        {
            "cell_type": "code",
            "execution_count": 191,
            "metadata": {},
            "outputs": [],
            "source": [
                "tx_adj = plot_adj_rev(TX_df_scaled, popt_TX,TX_scaler_prec)"
            ]
        },
        {
            "cell_type": "code",
            "execution_count": 192,
            "metadata": {},
            "outputs": [],
            "source": [
                "ny_adj = plot_adj_rev(NY_df_scaled, popt_NY, NY_scaler_prec)"
            ]
        },
        {
            "cell_type": "code",
            "execution_count": 193,
            "metadata": {},
            "outputs": [],
            "source": [
                "nc_adj = plot_adj_rev(NC_df_scaled, popt_NC,NC_scaler_prec)"
            ]
        },
        {
            "cell_type": "code",
            "execution_count": 194,
            "metadata": {},
            "outputs": [],
            "source": [
                "mn_adj = plot_adj_rev(MN_df_scaled, popt_MN, MN_scaler_prec)"
            ]
        },
        {
            "cell_type": "code",
            "execution_count": 195,
            "metadata": {},
            "outputs": [
                {
                    "data": {
                        "application/vnd.plotly.v1+json": {
                            "config": {
                                "plotlyServerURL": "https://plot.ly"
                            },
                            "data": [
                                {
                                    "mode": "lines",
                                    "name": "North Carolina",
                                    "type": "scatter",
                                    "x": [
                                        0,
                                        1,
                                        2,
                                        3,
                                        4,
                                        5,
                                        6,
                                        7,
                                        8,
                                        9,
                                        10,
                                        11,
                                        12,
                                        13,
                                        14,
                                        15,
                                        16,
                                        17,
                                        18,
                                        19,
                                        20,
                                        21,
                                        22,
                                        23,
                                        24,
                                        25,
                                        26,
                                        27,
                                        28,
                                        29,
                                        30,
                                        31,
                                        32,
                                        33,
                                        34,
                                        35,
                                        36,
                                        37,
                                        38,
                                        39,
                                        40,
                                        41,
                                        42,
                                        43,
                                        44,
                                        45,
                                        46,
                                        47,
                                        48,
                                        49,
                                        50,
                                        51,
                                        52,
                                        53,
                                        54,
                                        55,
                                        56,
                                        57,
                                        58,
                                        59,
                                        60,
                                        61,
                                        62,
                                        63,
                                        64,
                                        65,
                                        66,
                                        67,
                                        68,
                                        69,
                                        70,
                                        71,
                                        72,
                                        73,
                                        74,
                                        75,
                                        76,
                                        77,
                                        78,
                                        79,
                                        80,
                                        81,
                                        82,
                                        83,
                                        84,
                                        85,
                                        86,
                                        87,
                                        88,
                                        89,
                                        90,
                                        91,
                                        92,
                                        93,
                                        94,
                                        95,
                                        96,
                                        97,
                                        98,
                                        99
                                    ],
                                    "y": [
                                        10000,
                                        9052.678531084495,
                                        8195.098858715817,
                                        7418.759549841172,
                                        6715.964530412526,
                                        6079.746791999044,
                                        5503.7993258359575,
                                        4982.41259963925,
                                        4510.417957375914,
                                        4083.136380895493,
                                        3696.3321054822673,
                                        3346.1706295057675,
                                        3029.180701907235,
                                        2742.2199106931093,
                                        2482.443531304396,
                                        2247.276326046889,
                                        2034.3870150219118,
                                        1841.665165480593,
                                        1667.2002704992342,
                                        1509.2628095766677,
                                        1366.287103401897,
                                        1236.8557928263979,
                                        1119.6857881767025,
                                        1013.6155496187654,
                                        917.5935724807211,
                                        830.6679633857351,
                                        751.9770038601728,
                                        680.7406078714228,
                                        616.2525886115039,
                                        557.8736578648608,
                                        505.02508856108034,
                                        457.18297768759396,
                                        413.87305268897603,
                                        374.66596986719003,
                                        339.173058174466,
                                        307.0424662058261,
                                        277.9556741952719,
                                        251.6243364380653,
                                        227.78742283712583,
                                        206.2086312368714,
                                        186.67404489223455,
                                        168.99001185066354,
                                        152.98122522482169,
                                        138.4889853251744,
                                        125.36962642448836,
                                        113.49309255830494,
                                        102.74164824289521,
                                        93.00871132966928,
                                        84.19779642579326,
                                        76.22155840684016,
                                        69.0009265395405,
                                        62.46432063094367,
                                        56.54694143345222,
                                        51.190128271310535,
                                        46.34077752051541,
                                        41.9508161773733,
                                        37.976725297037945,
                                        34.3791085777389,
                                        31.12230181395198,
                                        28.174019346909514,
                                        25.505034007612704,
                                        23.088887379529538,
                                        20.901627508729483,
                                        18.921571461300054,
                                        17.12909037420921,
                                        15.506414868760983,
                                        14.037458897652199,
                                        12.707660279375702,
                                        11.503836339141966,
                                        10.414053225246015,
                                        9.427507605375594,
                                        8.53441957008194,
                                        7.72593568173481,
                                        6.9940412078580305,
                                        6.331480668789673,
                                        5.7316859120328845,
                                        5.1887110002779515,
                                        4.697173267621814,
                                        4.252199959658404,
                                        3.8493799284678043,
                                        3.4847199036428043,
                                        3.154604905855002,
                                        2.8557624105287385,
                                        2.5852299063671693,
                                        2.3403255271287633,
                                        2.118621465518755,
                                        1.9179199056396394,
                                        1.7362312354123555,
                                        1.5717543229815785,
                                        1.4228586615794572,
                                        1.2880682058447963,
                                        1.1660467393623704,
                                        1.05558462836668,
                                        0.9555868302957878,
                                        0.8650620383205756,
                                        0.7831128542360862,
                                        0.7089268922959315,
                                        0.6417687257995849,
                                        0.580972596596735,
                                        0.5259358152359673
                                    ]
                                },
                                {
                                    "mode": "lines",
                                    "name": "New York",
                                    "type": "scatter",
                                    "x": [
                                        0,
                                        1,
                                        2,
                                        3,
                                        4,
                                        5,
                                        6,
                                        7,
                                        8,
                                        9,
                                        10,
                                        11,
                                        12,
                                        13,
                                        14,
                                        15,
                                        16,
                                        17,
                                        18,
                                        19,
                                        20,
                                        21,
                                        22,
                                        23,
                                        24,
                                        25,
                                        26,
                                        27,
                                        28,
                                        29,
                                        30,
                                        31,
                                        32,
                                        33,
                                        34,
                                        35,
                                        36,
                                        37,
                                        38,
                                        39,
                                        40,
                                        41,
                                        42,
                                        43,
                                        44,
                                        45,
                                        46,
                                        47,
                                        48,
                                        49,
                                        50,
                                        51,
                                        52,
                                        53,
                                        54,
                                        55,
                                        56,
                                        57,
                                        58,
                                        59,
                                        60,
                                        61,
                                        62,
                                        63,
                                        64,
                                        65,
                                        66,
                                        67,
                                        68,
                                        69,
                                        70,
                                        71,
                                        72,
                                        73,
                                        74,
                                        75,
                                        76,
                                        77,
                                        78,
                                        79,
                                        80,
                                        81,
                                        82,
                                        83,
                                        84,
                                        85,
                                        86,
                                        87,
                                        88,
                                        89,
                                        90,
                                        91,
                                        92,
                                        93,
                                        94,
                                        95,
                                        96,
                                        97,
                                        98,
                                        99
                                    ],
                                    "y": [
                                        10000,
                                        9848.424820855722,
                                        9699.147145204712,
                                        9552.1321485966,
                                        9407.345534433269,
                                        9264.753525967884,
                                        9124.322858425272,
                                        8986.02077124167,
                                        8849.815000422153,
                                        8715.673771013884,
                                        8583.565789693435,
                                        8453.460237466492,
                                        8325.326762478191,
                                        8199.135472932463,
                                        8074.856930118669,
                                        7952.462141543958,
                                        7831.922554169698,
                                        7713.210047750459,
                                        7596.296928273941,
                                        7481.155921500316,
                                        7367.76016659955,
                                        7256.083209885111,
                                        7146.098998642699,
                                        7037.7818750525,
                                        6931.106570203557,
                                        6826.04819819889,
                                        6722.582250349946,
                                        6620.684589459052,
                                        6520.331444188552,
                                        6421.499403515258,
                                        6324.165411268989,
                                        6228.306760753878,
                                        6133.901089451199,
                                        6040.926373802516,
                                        5949.360924071866,
                                        5859.1833792858515,
                                        5770.37270225041,
                                        5682.908174643126,
                                        5596.7693921799255,
                                        5511.936259855037,
                                        5428.388987253102,
                                        5346.108083932331,
                                        5265.074354877663,
                                        5185.26889602281,
                                        5106.67308984022,
                                        5029.2686009978415,
                                        4953.037372081748,
                                        4877.961619383589,
                                        4804.023828751892,
                                        4731.206751506248,
                                        4659.493400413432,
                                        4588.867045724508,
                                        4519.311211272014,
                                        4450.809670626284,
                                        4383.346443310058,
                                        4316.905791070443,
                                        4251.472214207396,
                                        4187.030447957858,
                                        4123.565458934683,
                                        4061.062441619565,
                                        3999.506814909108,
                                        3938.884218713247,
                                        3879.1805106052448,
                                        3820.3817625224474,
                                        3762.4742575170603,
                                        3705.444486556173,
                                        3649.27914537028,
                                        3593.9651313495847,
                                        3539.4895404873255,
                                        3485.8396643694596,
                                        3433.002987209959,
                                        3380.96718293104,
                                        3329.720112287671,
                                        3279.24982003564,
                                        3229.5445321425664,
                                        3180.5926530411734,
                                        3132.382762924205,
                                        3084.9036150803367,
                                        3038.144133270474,
                                        2992.0934091438135,
                                        2946.740699693075,
                                        2902.075424748304,
                                        2858.0871645086618,
                                        2814.7656571116268,
                                        2772.100796239042,
                                        2730.08262875945,
                                        2688.7013524061604,
                                        2647.9473134905197,
                                        2607.8110046498264,
                                        2568.283062629406,
                                        2529.354266098279,
                                        2491.01553349796,
                                        2453.2579209238475,
                                        2416.0726200387326,
                                        2379.4509560179376,
                                        2343.3843855255936,
                                        2307.8644947215994,
                                        2272.8829972987846,
                                        2238.4317325498305,
                                        2204.5026634634833
                                    ]
                                },
                                {
                                    "mode": "lines",
                                    "name": "Minnesota",
                                    "type": "scatter",
                                    "x": [
                                        0,
                                        1,
                                        2,
                                        3,
                                        4,
                                        5,
                                        6,
                                        7,
                                        8,
                                        9,
                                        10,
                                        11,
                                        12,
                                        13,
                                        14,
                                        15,
                                        16,
                                        17,
                                        18,
                                        19,
                                        20,
                                        21,
                                        22,
                                        23,
                                        24,
                                        25,
                                        26,
                                        27,
                                        28,
                                        29,
                                        30,
                                        31,
                                        32,
                                        33,
                                        34,
                                        35,
                                        36,
                                        37,
                                        38,
                                        39,
                                        40,
                                        41,
                                        42,
                                        43,
                                        44,
                                        45,
                                        46,
                                        47,
                                        48,
                                        49,
                                        50,
                                        51,
                                        52,
                                        53,
                                        54,
                                        55,
                                        56,
                                        57,
                                        58,
                                        59,
                                        60,
                                        61,
                                        62,
                                        63,
                                        64,
                                        65,
                                        66,
                                        67,
                                        68,
                                        69,
                                        70,
                                        71,
                                        72,
                                        73,
                                        74,
                                        75,
                                        76,
                                        77,
                                        78,
                                        79,
                                        80,
                                        81,
                                        82,
                                        83,
                                        84,
                                        85,
                                        86,
                                        87,
                                        88,
                                        89,
                                        90,
                                        91,
                                        92,
                                        93,
                                        94,
                                        95,
                                        96,
                                        97,
                                        98,
                                        99
                                    ],
                                    "y": [
                                        10000,
                                        9875.229161417927,
                                        9752.015099051903,
                                        9630.338388874528,
                                        9510.179849213624,
                                        9391.520537728355,
                                        9274.341748423043,
                                        9158.625008698296,
                                        9044.352076438892,
                                        8931.504937138012,
                                        8820.065801057352,
                                        8710.01710042265,
                                        8601.341486654257,
                                        8494.021827632196,
                                        8388.041204995385,
                                        8283.382911474559,
                                        8180.030448258449,
                                        8077.967522392839,
                                        7977.178044212069,
                                        7877.646124802585,
                                        7779.356073498141,
                                        7682.292395406252,
                                        7586.439788965499,
                                        7491.7831435333355,
                                        7398.307537003968,
                                        7305.99823345596,
                                        7214.840680829217,
                                        7124.820508630905,
                                        7035.923525670041,
                                        6948.135717820322,
                                        6861.443245810873,
                                        6775.83244304456,
                                        6691.289813443534,
                                        6607.802029321629,
                                        6525.355929283351,
                                        6443.938516149034,
                                        6363.536954905909,
                                        6284.138570684749,
                                        6205.730846761719,
                                        6128.301422585209,
                                        6051.838091827241,
                                        5976.3288004592205,
                                        5901.761644851671,
                                        5828.124869897705,
                                        5755.406867159888,
                                        5683.596173040231,
                                        5612.681466973024,
                                        5542.651569640195,
                                        5473.495441208968,
                                        5405.202179591491,
                                        5337.761018726163,
                                        5271.161326880445,
                                        5205.392604974819,
                                        5140.444484927655,
                                        5076.306728020754,
                                        5012.9692232852585,
                                        4950.421985907716,
                                        4888.655155656032,
                                        4827.658995325054,
                                        4767.4238892015555,
                                        4707.940341548366,
                                        4649.198975107429,
                                        4591.190529621524,
                                        4533.905860374428,
                                        4477.3359367493185,
                                        4421.471840805132,
                                        4366.3047658707055,
                                        4311.8260151564455,
                                        4258.027000383338,
                                        4204.899240429046,
                                        4152.4343599909,
                                        4100.624088265592,
                                        4049.460257645317,
                                        3998.934802430198,
                                        3949.0397575567736,
                                        3899.767257342344,
                                        3851.1095342449908,
                                        3803.058917639075,
                                        3755.6078326059906,
                                        3708.748798740024,
                                        3662.4744289691193,
                                        3616.7774283903327,
                                        3571.6505931198335,
                                        3527.086809157264,
                                        3483.0790512642307,
                                        3439.620381856841,
                                        3396.703949912014,
                                        3354.322989887459,
                                        3312.470820655119,
                                        3271.140844447941,
                                        3230.326545819758,
                                        3190.02149061817,
                                        3150.219324970246,
                                        3110.9137742808457,
                                        3072.0986422434903,
                                        3033.7678098635356,
                                        2995.9152344935374,
                                        2958.5349488806796,
                                        2921.62106022606,
                                        2885.167749255714
                                    ]
                                },
                                {
                                    "mode": "lines",
                                    "name": "Texas",
                                    "type": "scatter",
                                    "x": [
                                        0,
                                        1,
                                        2,
                                        3,
                                        4,
                                        5,
                                        6,
                                        7,
                                        8,
                                        9,
                                        10,
                                        11,
                                        12,
                                        13,
                                        14,
                                        15,
                                        16,
                                        17,
                                        18,
                                        19,
                                        20,
                                        21,
                                        22,
                                        23,
                                        24,
                                        25,
                                        26,
                                        27,
                                        28,
                                        29,
                                        30,
                                        31,
                                        32,
                                        33,
                                        34,
                                        35,
                                        36,
                                        37,
                                        38,
                                        39,
                                        40,
                                        41,
                                        42,
                                        43,
                                        44,
                                        45,
                                        46,
                                        47,
                                        48,
                                        49,
                                        50,
                                        51,
                                        52,
                                        53,
                                        54,
                                        55,
                                        56,
                                        57,
                                        58,
                                        59,
                                        60,
                                        61,
                                        62,
                                        63,
                                        64,
                                        65,
                                        66,
                                        67,
                                        68,
                                        69,
                                        70,
                                        71,
                                        72,
                                        73,
                                        74,
                                        75,
                                        76,
                                        77,
                                        78,
                                        79,
                                        80,
                                        81,
                                        82,
                                        83,
                                        84,
                                        85,
                                        86,
                                        87,
                                        88,
                                        89,
                                        90,
                                        91,
                                        92,
                                        93,
                                        94,
                                        95,
                                        96,
                                        97,
                                        98,
                                        99
                                    ],
                                    "y": [
                                        10000,
                                        9914.218556993059,
                                        9829.172959582555,
                                        9744.856895578776,
                                        9661.264106938886,
                                        9578.388389302452,
                                        9496.223591530925,
                                        9414.763615251117,
                                        9334.00241440257,
                                        9253.933994788798,
                                        9174.552413632404,
                                        9095.851779133982,
                                        9017.826250034846,
                                        8940.470035183462,
                                        8863.777393105627,
                                        8787.74263157834,
                                        8712.360107207298,
                                        8637.624225008063,
                                        8563.529437990774,
                                        8490.070246748452,
                                        8417.241199048814,
                                        8345.036889429626,
                                        8273.451958797485,
                                        8202.48109403006,
                                        8132.119027581755,
                                        8062.36053709274,
                                        7993.200445001337,
                                        7924.633618159744,
                                        7856.65496745304,
                                        7789.259447421465,
                                        7722.44205588594,
                                        7656.197833576801,
                                        7590.521863765719,
                                        7525.409271900765,
                                        7460.855225244618,
                                        7396.854932515883,
                                        7333.40364353346,
                                        7270.496648863997,
                                        7208.129279472329,
                                        7146.296906374958,
                                        7084.994940296469,
                                        7024.21883132892,
                                        6963.964068594129,
                                        6904.226179908881,
                                        6845.000731452991,
                                        6786.283327440234,
                                        6728.069609792056,
                                        6670.355257814147,
                                        6613.135987875723,
                                        6556.407553091613,
                                        6500.165743007034,
                                        6444.406383285091,
                                        6389.1253353969605,
                                        6334.318496314705,
                                        6279.981798206762,
                                        6226.111208136012,
                                        6172.702727760453,
                                        6119.752393036437,
                                        6067.256273924452,
                                        6015.210474097437,
                                        5963.611130651582,
                                        5912.45441381963,
                                        5861.736526686609,
                                        5811.453704908043,
                                        5761.60221643054,
                                        5712.178361214799,
                                        5663.1784709609965,
                                        5614.598908836511,
                                        5566.436069205991,
                                        5518.686377363755,
                                        5471.346289268455,
                                        5424.412291280043,
                                        5377.880899898984,
                                        5331.748661507705,
                                        5286.012152114261,
                                        5240.667977098201,
                                        5195.712770958628,
                                        5151.143197064386,
                                        5106.95594740643,
                                        5063.14774235229,
                                        5019.715330402659,
                                        4976.655487950059,
                                        4933.965019039582,
                                        4891.640755131685,
                                        4849.679554867009,
                                        4808.078303833235,
                                        4766.833914333917,
                                        4725.943325159319,
                                        4685.4035013592,
                                        4645.211434017564,
                                        4605.364140029328,
                                        4565.858661878915,
                                        4526.692067420744,
                                        4487.861449661602,
                                        4449.363926544884,
                                        4411.196640736679,
                                        4373.356759413705,
                                        4335.841474053037,
                                        4298.648000223677,
                                        4261.773577379869
                                    ]
                                }
                            ],
                            "layout": {
                                "template": {
                                    "data": {
                                        "bar": [
                                            {
                                                "error_x": {
                                                    "color": "#2a3f5f"
                                                },
                                                "error_y": {
                                                    "color": "#2a3f5f"
                                                },
                                                "marker": {
                                                    "line": {
                                                        "color": "#E5ECF6",
                                                        "width": 0.5
                                                    }
                                                },
                                                "type": "bar"
                                            }
                                        ],
                                        "barpolar": [
                                            {
                                                "marker": {
                                                    "line": {
                                                        "color": "#E5ECF6",
                                                        "width": 0.5
                                                    }
                                                },
                                                "type": "barpolar"
                                            }
                                        ],
                                        "carpet": [
                                            {
                                                "aaxis": {
                                                    "endlinecolor": "#2a3f5f",
                                                    "gridcolor": "white",
                                                    "linecolor": "white",
                                                    "minorgridcolor": "white",
                                                    "startlinecolor": "#2a3f5f"
                                                },
                                                "baxis": {
                                                    "endlinecolor": "#2a3f5f",
                                                    "gridcolor": "white",
                                                    "linecolor": "white",
                                                    "minorgridcolor": "white",
                                                    "startlinecolor": "#2a3f5f"
                                                },
                                                "type": "carpet"
                                            }
                                        ],
                                        "choropleth": [
                                            {
                                                "colorbar": {
                                                    "outlinewidth": 0,
                                                    "ticks": ""
                                                },
                                                "type": "choropleth"
                                            }
                                        ],
                                        "contour": [
                                            {
                                                "colorbar": {
                                                    "outlinewidth": 0,
                                                    "ticks": ""
                                                },
                                                "colorscale": [
                                                    [
                                                        0,
                                                        "#0d0887"
                                                    ],
                                                    [
                                                        0.1111111111111111,
                                                        "#46039f"
                                                    ],
                                                    [
                                                        0.2222222222222222,
                                                        "#7201a8"
                                                    ],
                                                    [
                                                        0.3333333333333333,
                                                        "#9c179e"
                                                    ],
                                                    [
                                                        0.4444444444444444,
                                                        "#bd3786"
                                                    ],
                                                    [
                                                        0.5555555555555556,
                                                        "#d8576b"
                                                    ],
                                                    [
                                                        0.6666666666666666,
                                                        "#ed7953"
                                                    ],
                                                    [
                                                        0.7777777777777778,
                                                        "#fb9f3a"
                                                    ],
                                                    [
                                                        0.8888888888888888,
                                                        "#fdca26"
                                                    ],
                                                    [
                                                        1,
                                                        "#f0f921"
                                                    ]
                                                ],
                                                "type": "contour"
                                            }
                                        ],
                                        "contourcarpet": [
                                            {
                                                "colorbar": {
                                                    "outlinewidth": 0,
                                                    "ticks": ""
                                                },
                                                "type": "contourcarpet"
                                            }
                                        ],
                                        "heatmap": [
                                            {
                                                "colorbar": {
                                                    "outlinewidth": 0,
                                                    "ticks": ""
                                                },
                                                "colorscale": [
                                                    [
                                                        0,
                                                        "#0d0887"
                                                    ],
                                                    [
                                                        0.1111111111111111,
                                                        "#46039f"
                                                    ],
                                                    [
                                                        0.2222222222222222,
                                                        "#7201a8"
                                                    ],
                                                    [
                                                        0.3333333333333333,
                                                        "#9c179e"
                                                    ],
                                                    [
                                                        0.4444444444444444,
                                                        "#bd3786"
                                                    ],
                                                    [
                                                        0.5555555555555556,
                                                        "#d8576b"
                                                    ],
                                                    [
                                                        0.6666666666666666,
                                                        "#ed7953"
                                                    ],
                                                    [
                                                        0.7777777777777778,
                                                        "#fb9f3a"
                                                    ],
                                                    [
                                                        0.8888888888888888,
                                                        "#fdca26"
                                                    ],
                                                    [
                                                        1,
                                                        "#f0f921"
                                                    ]
                                                ],
                                                "type": "heatmap"
                                            }
                                        ],
                                        "heatmapgl": [
                                            {
                                                "colorbar": {
                                                    "outlinewidth": 0,
                                                    "ticks": ""
                                                },
                                                "colorscale": [
                                                    [
                                                        0,
                                                        "#0d0887"
                                                    ],
                                                    [
                                                        0.1111111111111111,
                                                        "#46039f"
                                                    ],
                                                    [
                                                        0.2222222222222222,
                                                        "#7201a8"
                                                    ],
                                                    [
                                                        0.3333333333333333,
                                                        "#9c179e"
                                                    ],
                                                    [
                                                        0.4444444444444444,
                                                        "#bd3786"
                                                    ],
                                                    [
                                                        0.5555555555555556,
                                                        "#d8576b"
                                                    ],
                                                    [
                                                        0.6666666666666666,
                                                        "#ed7953"
                                                    ],
                                                    [
                                                        0.7777777777777778,
                                                        "#fb9f3a"
                                                    ],
                                                    [
                                                        0.8888888888888888,
                                                        "#fdca26"
                                                    ],
                                                    [
                                                        1,
                                                        "#f0f921"
                                                    ]
                                                ],
                                                "type": "heatmapgl"
                                            }
                                        ],
                                        "histogram": [
                                            {
                                                "marker": {
                                                    "colorbar": {
                                                        "outlinewidth": 0,
                                                        "ticks": ""
                                                    }
                                                },
                                                "type": "histogram"
                                            }
                                        ],
                                        "histogram2d": [
                                            {
                                                "colorbar": {
                                                    "outlinewidth": 0,
                                                    "ticks": ""
                                                },
                                                "colorscale": [
                                                    [
                                                        0,
                                                        "#0d0887"
                                                    ],
                                                    [
                                                        0.1111111111111111,
                                                        "#46039f"
                                                    ],
                                                    [
                                                        0.2222222222222222,
                                                        "#7201a8"
                                                    ],
                                                    [
                                                        0.3333333333333333,
                                                        "#9c179e"
                                                    ],
                                                    [
                                                        0.4444444444444444,
                                                        "#bd3786"
                                                    ],
                                                    [
                                                        0.5555555555555556,
                                                        "#d8576b"
                                                    ],
                                                    [
                                                        0.6666666666666666,
                                                        "#ed7953"
                                                    ],
                                                    [
                                                        0.7777777777777778,
                                                        "#fb9f3a"
                                                    ],
                                                    [
                                                        0.8888888888888888,
                                                        "#fdca26"
                                                    ],
                                                    [
                                                        1,
                                                        "#f0f921"
                                                    ]
                                                ],
                                                "type": "histogram2d"
                                            }
                                        ],
                                        "histogram2dcontour": [
                                            {
                                                "colorbar": {
                                                    "outlinewidth": 0,
                                                    "ticks": ""
                                                },
                                                "colorscale": [
                                                    [
                                                        0,
                                                        "#0d0887"
                                                    ],
                                                    [
                                                        0.1111111111111111,
                                                        "#46039f"
                                                    ],
                                                    [
                                                        0.2222222222222222,
                                                        "#7201a8"
                                                    ],
                                                    [
                                                        0.3333333333333333,
                                                        "#9c179e"
                                                    ],
                                                    [
                                                        0.4444444444444444,
                                                        "#bd3786"
                                                    ],
                                                    [
                                                        0.5555555555555556,
                                                        "#d8576b"
                                                    ],
                                                    [
                                                        0.6666666666666666,
                                                        "#ed7953"
                                                    ],
                                                    [
                                                        0.7777777777777778,
                                                        "#fb9f3a"
                                                    ],
                                                    [
                                                        0.8888888888888888,
                                                        "#fdca26"
                                                    ],
                                                    [
                                                        1,
                                                        "#f0f921"
                                                    ]
                                                ],
                                                "type": "histogram2dcontour"
                                            }
                                        ],
                                        "mesh3d": [
                                            {
                                                "colorbar": {
                                                    "outlinewidth": 0,
                                                    "ticks": ""
                                                },
                                                "type": "mesh3d"
                                            }
                                        ],
                                        "parcoords": [
                                            {
                                                "line": {
                                                    "colorbar": {
                                                        "outlinewidth": 0,
                                                        "ticks": ""
                                                    }
                                                },
                                                "type": "parcoords"
                                            }
                                        ],
                                        "pie": [
                                            {
                                                "automargin": true,
                                                "type": "pie"
                                            }
                                        ],
                                        "scatter": [
                                            {
                                                "marker": {
                                                    "colorbar": {
                                                        "outlinewidth": 0,
                                                        "ticks": ""
                                                    }
                                                },
                                                "type": "scatter"
                                            }
                                        ],
                                        "scatter3d": [
                                            {
                                                "line": {
                                                    "colorbar": {
                                                        "outlinewidth": 0,
                                                        "ticks": ""
                                                    }
                                                },
                                                "marker": {
                                                    "colorbar": {
                                                        "outlinewidth": 0,
                                                        "ticks": ""
                                                    }
                                                },
                                                "type": "scatter3d"
                                            }
                                        ],
                                        "scattercarpet": [
                                            {
                                                "marker": {
                                                    "colorbar": {
                                                        "outlinewidth": 0,
                                                        "ticks": ""
                                                    }
                                                },
                                                "type": "scattercarpet"
                                            }
                                        ],
                                        "scattergeo": [
                                            {
                                                "marker": {
                                                    "colorbar": {
                                                        "outlinewidth": 0,
                                                        "ticks": ""
                                                    }
                                                },
                                                "type": "scattergeo"
                                            }
                                        ],
                                        "scattergl": [
                                            {
                                                "marker": {
                                                    "colorbar": {
                                                        "outlinewidth": 0,
                                                        "ticks": ""
                                                    }
                                                },
                                                "type": "scattergl"
                                            }
                                        ],
                                        "scattermapbox": [
                                            {
                                                "marker": {
                                                    "colorbar": {
                                                        "outlinewidth": 0,
                                                        "ticks": ""
                                                    }
                                                },
                                                "type": "scattermapbox"
                                            }
                                        ],
                                        "scatterpolar": [
                                            {
                                                "marker": {
                                                    "colorbar": {
                                                        "outlinewidth": 0,
                                                        "ticks": ""
                                                    }
                                                },
                                                "type": "scatterpolar"
                                            }
                                        ],
                                        "scatterpolargl": [
                                            {
                                                "marker": {
                                                    "colorbar": {
                                                        "outlinewidth": 0,
                                                        "ticks": ""
                                                    }
                                                },
                                                "type": "scatterpolargl"
                                            }
                                        ],
                                        "scatterternary": [
                                            {
                                                "marker": {
                                                    "colorbar": {
                                                        "outlinewidth": 0,
                                                        "ticks": ""
                                                    }
                                                },
                                                "type": "scatterternary"
                                            }
                                        ],
                                        "surface": [
                                            {
                                                "colorbar": {
                                                    "outlinewidth": 0,
                                                    "ticks": ""
                                                },
                                                "colorscale": [
                                                    [
                                                        0,
                                                        "#0d0887"
                                                    ],
                                                    [
                                                        0.1111111111111111,
                                                        "#46039f"
                                                    ],
                                                    [
                                                        0.2222222222222222,
                                                        "#7201a8"
                                                    ],
                                                    [
                                                        0.3333333333333333,
                                                        "#9c179e"
                                                    ],
                                                    [
                                                        0.4444444444444444,
                                                        "#bd3786"
                                                    ],
                                                    [
                                                        0.5555555555555556,
                                                        "#d8576b"
                                                    ],
                                                    [
                                                        0.6666666666666666,
                                                        "#ed7953"
                                                    ],
                                                    [
                                                        0.7777777777777778,
                                                        "#fb9f3a"
                                                    ],
                                                    [
                                                        0.8888888888888888,
                                                        "#fdca26"
                                                    ],
                                                    [
                                                        1,
                                                        "#f0f921"
                                                    ]
                                                ],
                                                "type": "surface"
                                            }
                                        ],
                                        "table": [
                                            {
                                                "cells": {
                                                    "fill": {
                                                        "color": "#EBF0F8"
                                                    },
                                                    "line": {
                                                        "color": "white"
                                                    }
                                                },
                                                "header": {
                                                    "fill": {
                                                        "color": "#C8D4E3"
                                                    },
                                                    "line": {
                                                        "color": "white"
                                                    }
                                                },
                                                "type": "table"
                                            }
                                        ]
                                    },
                                    "layout": {
                                        "annotationdefaults": {
                                            "arrowcolor": "#2a3f5f",
                                            "arrowhead": 0,
                                            "arrowwidth": 1
                                        },
                                        "autotypenumbers": "strict",
                                        "coloraxis": {
                                            "colorbar": {
                                                "outlinewidth": 0,
                                                "ticks": ""
                                            }
                                        },
                                        "colorscale": {
                                            "diverging": [
                                                [
                                                    0,
                                                    "#8e0152"
                                                ],
                                                [
                                                    0.1,
                                                    "#c51b7d"
                                                ],
                                                [
                                                    0.2,
                                                    "#de77ae"
                                                ],
                                                [
                                                    0.3,
                                                    "#f1b6da"
                                                ],
                                                [
                                                    0.4,
                                                    "#fde0ef"
                                                ],
                                                [
                                                    0.5,
                                                    "#f7f7f7"
                                                ],
                                                [
                                                    0.6,
                                                    "#e6f5d0"
                                                ],
                                                [
                                                    0.7,
                                                    "#b8e186"
                                                ],
                                                [
                                                    0.8,
                                                    "#7fbc41"
                                                ],
                                                [
                                                    0.9,
                                                    "#4d9221"
                                                ],
                                                [
                                                    1,
                                                    "#276419"
                                                ]
                                            ],
                                            "sequential": [
                                                [
                                                    0,
                                                    "#0d0887"
                                                ],
                                                [
                                                    0.1111111111111111,
                                                    "#46039f"
                                                ],
                                                [
                                                    0.2222222222222222,
                                                    "#7201a8"
                                                ],
                                                [
                                                    0.3333333333333333,
                                                    "#9c179e"
                                                ],
                                                [
                                                    0.4444444444444444,
                                                    "#bd3786"
                                                ],
                                                [
                                                    0.5555555555555556,
                                                    "#d8576b"
                                                ],
                                                [
                                                    0.6666666666666666,
                                                    "#ed7953"
                                                ],
                                                [
                                                    0.7777777777777778,
                                                    "#fb9f3a"
                                                ],
                                                [
                                                    0.8888888888888888,
                                                    "#fdca26"
                                                ],
                                                [
                                                    1,
                                                    "#f0f921"
                                                ]
                                            ],
                                            "sequentialminus": [
                                                [
                                                    0,
                                                    "#0d0887"
                                                ],
                                                [
                                                    0.1111111111111111,
                                                    "#46039f"
                                                ],
                                                [
                                                    0.2222222222222222,
                                                    "#7201a8"
                                                ],
                                                [
                                                    0.3333333333333333,
                                                    "#9c179e"
                                                ],
                                                [
                                                    0.4444444444444444,
                                                    "#bd3786"
                                                ],
                                                [
                                                    0.5555555555555556,
                                                    "#d8576b"
                                                ],
                                                [
                                                    0.6666666666666666,
                                                    "#ed7953"
                                                ],
                                                [
                                                    0.7777777777777778,
                                                    "#fb9f3a"
                                                ],
                                                [
                                                    0.8888888888888888,
                                                    "#fdca26"
                                                ],
                                                [
                                                    1,
                                                    "#f0f921"
                                                ]
                                            ]
                                        },
                                        "colorway": [
                                            "#636efa",
                                            "#EF553B",
                                            "#00cc96",
                                            "#ab63fa",
                                            "#FFA15A",
                                            "#19d3f3",
                                            "#FF6692",
                                            "#B6E880",
                                            "#FF97FF",
                                            "#FECB52"
                                        ],
                                        "font": {
                                            "color": "#2a3f5f"
                                        },
                                        "geo": {
                                            "bgcolor": "white",
                                            "lakecolor": "white",
                                            "landcolor": "#E5ECF6",
                                            "showlakes": true,
                                            "showland": true,
                                            "subunitcolor": "white"
                                        },
                                        "hoverlabel": {
                                            "align": "left"
                                        },
                                        "hovermode": "closest",
                                        "mapbox": {
                                            "style": "light"
                                        },
                                        "paper_bgcolor": "white",
                                        "plot_bgcolor": "#E5ECF6",
                                        "polar": {
                                            "angularaxis": {
                                                "gridcolor": "white",
                                                "linecolor": "white",
                                                "ticks": ""
                                            },
                                            "bgcolor": "#E5ECF6",
                                            "radialaxis": {
                                                "gridcolor": "white",
                                                "linecolor": "white",
                                                "ticks": ""
                                            }
                                        },
                                        "scene": {
                                            "xaxis": {
                                                "backgroundcolor": "#E5ECF6",
                                                "gridcolor": "white",
                                                "gridwidth": 2,
                                                "linecolor": "white",
                                                "showbackground": true,
                                                "ticks": "",
                                                "zerolinecolor": "white"
                                            },
                                            "yaxis": {
                                                "backgroundcolor": "#E5ECF6",
                                                "gridcolor": "white",
                                                "gridwidth": 2,
                                                "linecolor": "white",
                                                "showbackground": true,
                                                "ticks": "",
                                                "zerolinecolor": "white"
                                            },
                                            "zaxis": {
                                                "backgroundcolor": "#E5ECF6",
                                                "gridcolor": "white",
                                                "gridwidth": 2,
                                                "linecolor": "white",
                                                "showbackground": true,
                                                "ticks": "",
                                                "zerolinecolor": "white"
                                            }
                                        },
                                        "shapedefaults": {
                                            "line": {
                                                "color": "#2a3f5f"
                                            }
                                        },
                                        "ternary": {
                                            "aaxis": {
                                                "gridcolor": "white",
                                                "linecolor": "white",
                                                "ticks": ""
                                            },
                                            "baxis": {
                                                "gridcolor": "white",
                                                "linecolor": "white",
                                                "ticks": ""
                                            },
                                            "bgcolor": "#E5ECF6",
                                            "caxis": {
                                                "gridcolor": "white",
                                                "linecolor": "white",
                                                "ticks": ""
                                            }
                                        },
                                        "title": {
                                            "x": 0.05
                                        },
                                        "xaxis": {
                                            "automargin": true,
                                            "gridcolor": "white",
                                            "linecolor": "white",
                                            "ticks": "",
                                            "title": {
                                                "standoff": 15
                                            },
                                            "zerolinecolor": "white",
                                            "zerolinewidth": 2
                                        },
                                        "yaxis": {
                                            "automargin": true,
                                            "gridcolor": "white",
                                            "linecolor": "white",
                                            "ticks": "",
                                            "title": {
                                                "standoff": 15
                                            },
                                            "zerolinecolor": "white",
                                            "zerolinewidth": 2
                                        }
                                    }
                                },
                                "title": {
                                    "text": "US State Fair Vendor Revenue Adjusted for Rainfall"
                                },
                                "xaxis": {
                                    "title": {
                                        "text": "Daily Precipitation (mm)"
                                    }
                                },
                                "yaxis": {
                                    "title": {
                                        "text": "Daily Revenue (USD)"
                                    }
                                }
                            }
                        }
                    },
                    "metadata": {},
                    "output_type": "display_data"
                }
            ],
            "source": [
                "x = np.arange(100)\n",
                "\n",
                "fig = go.Figure()\n",
                "fig.add_trace(go.Scatter(x=x, y=nc_adj,\n",
                "                    mode='lines',\n",
                "                    name='North Carolina'))\n",
                "fig.add_trace(go.Scatter(x=x, y=ny_adj,\n",
                "                    mode='lines',\n",
                "                    name='New York'))\n",
                "fig.add_trace(go.Scatter(x=x, y=mn_adj,\n",
                "                    mode='lines',\n",
                "                    name='Minnesota'))\n",
                "fig.add_trace(go.Scatter(x=x, y=tx_adj,\n",
                "                    mode='lines',\n",
                "                    name='Texas'))                \n",
                "# Edit the layout\n",
                "fig.update_layout(title='US State Fair Vendor Revenue Adjusted for Rainfall',\n",
                "                   xaxis_title='Daily Precipitation (mm)',\n",
                "                   yaxis_title='Daily Revenue (USD)')\n",
                "fig.show()"
            ]
        },
        {
            "cell_type": "markdown",
            "metadata": {},
            "source": [
                "## Vendor simulation (with costs)"
            ]
        },
        {
            "cell_type": "markdown",
            "metadata": {},
            "source": [
                "Now we add on expenses and costs of running a stall"
            ]
        },
        {
            "cell_type": "code",
            "execution_count": 196,
            "metadata": {},
            "outputs": [],
            "source": [
                "def rainfall_profit(df_scaled, popt, rainfall, scaler_prec, daily_revenue, percent_commission=0.15, percent_sales_tax=0.0738,percent_admission=0.02, percent_labour=0.18, percent_food=0.25, percent_income_tax = 0.12, extra_costs=0):\n",
                "    adjusted_rev = adjust_vendor_revenue(df_scaled, rainfall,daily_revenue, popt, scaler_prec)\n",
                "    commission = percent_commission*adjusted_rev\n",
                "    sales_tax = percent_sales_tax*adjusted_rev\n",
                "\n",
                "    admission = percent_admission*daily_revenue\n",
                "    labour = percent_labour*daily_revenue\n",
                "    food_cost = percent_food*daily_revenue\n",
                "\n",
                "    pre_tax_profit = adjusted_rev - commission - sales_tax - admission - labour - food_cost - extra_costs\n",
                "\n",
                "\n",
                "    calc_income_tax = lambda a : a*percent_income_tax if a > 0 else 0\n",
                "    income_tax = calc_income_tax(pre_tax_profit)\n",
                "\n",
                "    net_profit = pre_tax_profit - income_tax\n",
                "    return net_profit\n"
            ]
        },
        {
            "cell_type": "code",
            "execution_count": 197,
            "metadata": {},
            "outputs": [],
            "source": [
                "# save dfs\n",
                "MN_df_scaled.to_csv(\"MN_df_scaled.csv\", index=False)\n",
                "TX_df_scaled.to_csv(\"TX_df_scaled.csv\", index=False)\n",
                "NC_df_scaled.to_csv(\"NC_df_scaled.csv\", index=False)\n",
                "NY_df_scaled.to_csv(\"NY_df_scaled.csv\", index=False)\n"
            ]
        },
        {
            "cell_type": "code",
            "execution_count": 198,
            "metadata": {},
            "outputs": [
                {
                    "data": {
                        "text/plain": [
                            "20093.92"
                        ]
                    },
                    "execution_count": 198,
                    "metadata": {},
                    "output_type": "execute_result"
                }
            ],
            "source": [
                "rainfall_profit(MN_df_scaled, popt_MN,0,MN_scaler_prec,70000, extra_costs=0)"
            ]
        },
        {
            "cell_type": "code",
            "execution_count": 199,
            "metadata": {},
            "outputs": [],
            "source": [
                "# function to plot profit, assuming no extra costs, per day\n",
                "def plot_profit(df_scaled, popt, scaler_prec,revenue, extra_costs=0):\n",
                "    profit_list = []\n",
                "    for i in range(1,120):\n",
                "        profit_list.append(rainfall_profit(df_scaled, popt,i,scaler_prec, revenue, extra_costs=0))\n",
                "\n",
                "    return profit_list"
            ]
        },
        {
            "cell_type": "code",
            "execution_count": 200,
            "metadata": {},
            "outputs": [],
            "source": [
                "ny_profit = plot_profit(NY_df_scaled, popt_NY, NY_scaler_prec, 10000, extra_costs=0)\n",
                "tx_profit = plot_profit(TX_df_scaled, popt_TX, TX_scaler_prec, 10000, extra_costs=0)\n",
                "nc_profit = plot_profit(NC_df_scaled, popt_NC, NC_scaler_prec, 10000, extra_costs=0)\n",
                "mn_profit = plot_profit(MN_df_scaled, popt_MN, MN_scaler_prec, 10000, extra_costs=0)"
            ]
        },
        {
            "cell_type": "code",
            "execution_count": 201,
            "metadata": {},
            "outputs": [
                {
                    "data": {
                        "application/vnd.plotly.v1+json": {
                            "config": {
                                "plotlyServerURL": "https://plot.ly"
                            },
                            "data": [
                                {
                                    "mode": "lines",
                                    "name": "North Carolina",
                                    "type": "scatter",
                                    "x": [
                                        0,
                                        1,
                                        2,
                                        3,
                                        4,
                                        5,
                                        6,
                                        7,
                                        8,
                                        9,
                                        10,
                                        11,
                                        12,
                                        13,
                                        14,
                                        15,
                                        16,
                                        17,
                                        18,
                                        19,
                                        20,
                                        21,
                                        22,
                                        23,
                                        24,
                                        25,
                                        26,
                                        27,
                                        28,
                                        29,
                                        30,
                                        31,
                                        32,
                                        33,
                                        34,
                                        35,
                                        36,
                                        37,
                                        38,
                                        39,
                                        40,
                                        41,
                                        42,
                                        43,
                                        44,
                                        45,
                                        46,
                                        47,
                                        48,
                                        49,
                                        50,
                                        51,
                                        52,
                                        53,
                                        54,
                                        55,
                                        56,
                                        57,
                                        58,
                                        59,
                                        60,
                                        61,
                                        62,
                                        63,
                                        64,
                                        65,
                                        66,
                                        67,
                                        68,
                                        69,
                                        70,
                                        71,
                                        72,
                                        73,
                                        74,
                                        75,
                                        76,
                                        77,
                                        78,
                                        79,
                                        80,
                                        81,
                                        82,
                                        83,
                                        84,
                                        85,
                                        86,
                                        87,
                                        88,
                                        89,
                                        90,
                                        91,
                                        92,
                                        93,
                                        94,
                                        95,
                                        96,
                                        97,
                                        98,
                                        99,
                                        100,
                                        101,
                                        102,
                                        103,
                                        104,
                                        105,
                                        106,
                                        107,
                                        108,
                                        109,
                                        110,
                                        111,
                                        112,
                                        113,
                                        114,
                                        115,
                                        116,
                                        117,
                                        118,
                                        119
                                    ],
                                    "y": [
                                        2223.4863867284516,
                                        1637.7114460389912,
                                        1107.4282230763117,
                                        627.3798682854588,
                                        192.80752475569906,
                                        -227.95096328613,
                                        -632.6513401600141,
                                        -999.0135814848159,
                                        -1330.6695411489186,
                                        -1630.9070197246642,
                                        -1902.7023573776232,
                                        -2148.7499391796046,
                                        -2371.4889053200086,
                                        -2573.1273310015276,
                                        -2755.664115722405,
                                        -2920.9087989399923,
                                        -3070.499498553964,
                                        -3205.919150038494,
                                        -3328.5102072065906,
                                        -3439.4879503394477,
                                        -3539.95253360815,
                                        -3630.8998912172437,
                                        -3713.2316103859143,
                                        -3787.763869040464,
                                        -3855.2355268199926,
                                        -3916.315449603734,
                                        -3971.6091401702015,
                                        -4021.6647407197506,
                                        -4066.978466765295,
                                        -4107.999526258889,
                                        -4145.134572718889,
                                        -4178.751736502817,
                                        -4209.184274189087,
                                        -4236.7338722449795,
                                        -4261.673637731038,
                                        -4284.2508056896295,
                                        -4304.689190056773,
                                        -4323.1914023938225,
                                        -4339.9408604339405,
                                        -4355.103606354647,
                                        -4368.829952801515,
                                        -4381.255972980493,
                                        -4392.504849590599,
                                        -4402.688095969312,
                                        -4411.906661556244,
                                        -4420.251932633864,
                                        -4427.806638265911,
                                        -4434.645670414299,
                                        -4440.836826364611,
                                        -4446.441480820009,
                                        -4451.515194326262,
                                        -4456.108264059354,
                                        -4460.266222435808,
                                        -4464.030288488576,
                                        -4467.437776483122,
                                        -4470.522465824439,
                                        -4473.314935921959,
                                        -4475.84286933201,
                                        -4478.131326182929,
                                        -4480.202992603291,
                                        -4482.078405616009,
                                        -4483.776156727724,
                                        -4485.313076231739,
                                        -4486.704400051539,
                                        -4487.963920778868,
                                        -4489.104124403642,
                                        -4490.136314091149,
                                        -4491.070722233558,
                                        -4491.916611886564,
                                        -4492.682368596707,
                                        -4493.375583529702,
                                        -4494.003128723838,
                                        -4494.57122521446,
                                        -4495.085504704885,
                                        -4495.5510653950805,
                                        -4495.972522521584,
                                        -4496.354054109672,
                                        -4496.699442391313,
                                        -4497.012111299523,
                                        -4497.295160410793,
                                        -4497.551395672075,
                                        -4497.7833572169475,
                                        -4497.993344546678,
                                        -4498.183439325843,
                                        -4498.355526018464,
                                        -4498.511310569243,
                                        -4498.652337315073,
                                        -4498.780004294502,
                                        -4498.895577106882,
                                        -4499.000201458623,
                                        -4499.094914520907,
                                        -4499.180655211461,
                                        -4499.258273502324,
                                        -4499.328538845855,
                                        -4499.392147802542,
                                        -4499.4497309462,
                                        -4499.501859115035,
                                        -4499.5490490705215,
                                        -4499.591768620214,
                                        -4499.630441255249,
                                        -4499.665450348542,
                                        -4499.697142955267,
                                        -4499.725833253316,
                                        -4499.751805657836,
                                        -4499.775317640715,
                                        -4499.796602282979,
                                        -4499.815870585385,
                                        -4499.833313560137,
                                        -4499.849104124443,
                                        -4499.863398814692,
                                        -4499.876339338244,
                                        -4499.8880539782185,
                                        -4499.898658865197,
                                        -4499.908259128466,
                                        -4499.916949938184,
                                        -4499.924817448839,
                                        -4499.931939653319,
                                        -4499.9383871560785,
                                        -4499.944223873059
                                    ]
                                },
                                {
                                    "mode": "lines",
                                    "name": "New York",
                                    "type": "scatter",
                                    "x": [
                                        0,
                                        1,
                                        2,
                                        3,
                                        4,
                                        5,
                                        6,
                                        7,
                                        8,
                                        9,
                                        10,
                                        11,
                                        12,
                                        13,
                                        14,
                                        15,
                                        16,
                                        17,
                                        18,
                                        19,
                                        20,
                                        21,
                                        22,
                                        23,
                                        24,
                                        25,
                                        26,
                                        27,
                                        28,
                                        29,
                                        30,
                                        31,
                                        32,
                                        33,
                                        34,
                                        35,
                                        36,
                                        37,
                                        38,
                                        39,
                                        40,
                                        41,
                                        42,
                                        43,
                                        44,
                                        45,
                                        46,
                                        47,
                                        48,
                                        49,
                                        50,
                                        51,
                                        52,
                                        53,
                                        54,
                                        55,
                                        56,
                                        57,
                                        58,
                                        59,
                                        60,
                                        61,
                                        62,
                                        63,
                                        64,
                                        65,
                                        66,
                                        67,
                                        68,
                                        69,
                                        70,
                                        71,
                                        72,
                                        73,
                                        74,
                                        75,
                                        76,
                                        77,
                                        78,
                                        79,
                                        80,
                                        81,
                                        82,
                                        83,
                                        84,
                                        85,
                                        86,
                                        87,
                                        88,
                                        89,
                                        90,
                                        91,
                                        92,
                                        93,
                                        94,
                                        95,
                                        96,
                                        97,
                                        98,
                                        99,
                                        100,
                                        101,
                                        102,
                                        103,
                                        104,
                                        105,
                                        106,
                                        107,
                                        108,
                                        109,
                                        110,
                                        111,
                                        112,
                                        113,
                                        114,
                                        115,
                                        116,
                                        117,
                                        118,
                                        119
                                    ],
                                    "y": [
                                        2767.025664434426,
                                        2665.06065241495,
                                        2564.6411768917997,
                                        2465.7438113678513,
                                        2368.3454844335192,
                                        2272.423474384533,
                                        2177.955403921251,
                                        2084.919234928354,
                                        1993.2932633336595,
                                        1903.05611404484,
                                        1814.186735962912,
                                        1726.6643970713035,
                                        1640.4686795993566,
                                        1555.5794752591376,
                                        1471.9769805544493,
                                        1389.641692160937,
                                        1308.5544023762372,
                                        1228.6961946390854,
                                        1150.04843911632,
                                        1072.5927883568227,
                                        996.3111730112846,
                                        921.185797616887,
                                        847.1991364458607,
                                        774.3339294169607,
                                        702.5731780689407,
                                        631.9001415950328,
                                        562.2983329375426,
                                        493.7515149416555,
                                        426.24369656751753,
                                        359.75912915975147,
                                        294.2823027735014,
                                        229.79794255617838,
                                        166.29100518405147,
                                        103.7466753528324,
                                        42.15036232147657,
                                        -21.036708513232043,
                                        -88.92667484200592,
                                        -155.78759778994208,
                                        -221.63507510052023,
                                        -286.48446809414327,
                                        -350.3509052517238,
                                        -413.24928574395835,
                                        -475.19428290709493,
                                        -536.2003476660207,
                                        -596.2817119054748,
                                        -655.4523917901479,
                                        -713.7261910344578,
                                        -771.1167041227814,
                                        -827.6373194808502,
                                        -883.3012225990938,
                                        -938.121399108637,
                                        -992.1106378106629,
                                        -1045.2815336598783,
                                        -1097.6464907027325,
                                        -1149.2177249711217,
                                        -1200.0072673322193,
                                        -1250.0269662951105,
                                        -1299.2884907748985,
                                        -1347.803332814894,
                                        -1395.58281026755,
                                        -1442.6380694347777,
                                        -1488.9800876682089,
                                        -1534.6196759300765,
                                        -1579.5674813152577,
                                        -1623.8339895350987,
                                        -1667.429527363589,
                                        -1710.3642650464521,
                                        -1752.6482186737376,
                                        -1794.2912525164256,
                                        -1835.30308132763,
                                        -1875.6932726089271,
                                        -1915.4712488423102,
                                        -1954.6462896883363,
                                        -1993.2275341509398,
                                        -2031.2239827094413,
                                        -2068.644499418232,
                                        -2105.4978139746427,
                                        -2141.792523755458,
                                        -2177.537095822572,
                                        -2212.7398688982353,
                                        -2247.409055310366,
                                        -2281.552742908377,
                                        -2315.1788969499553,
                                        -2348.2953619592554,
                                        -2380.909863556915,
                                        -2413.0300102623382,
                                        -2444.6632952686587,
                                        -2475.8170981908047,
                                        -2506.4986867870557,
                                        -2536.7152186545163,
                                        -2566.4737428988838,
                                        -2595.78120177891,
                                        -2624.6444323259357,
                                        -2653.0701679388767,
                                        -2681.065039955034,
                                        -2708.6355791970946,
                                        -2735.7882174966835,
                                        -2762.5292891948216,
                                        -2788.8650326196444,
                                        -2814.8015915417154,
                                        -2840.3450166072853,
                                        -2865.50126674983,
                                        -2890.2762105801785,
                                        -2914.6756277555896,
                                        -2938.705210328063,
                                        -2962.370564072218,
                                        -2985.6772097930448,
                                        -3008.630584613833,
                                        -3031.236043244578,
                                        -3053.498859231164,
                                        -3075.4242261856075,
                                        -3097.017258997659,
                                        -3118.2829950280347,
                                        -3139.226395283566,
                                        -3159.852345574536,
                                        -3180.165657654468,
                                        -3200.171070342647,
                                        -3219.87325062962,
                                        -3239.2767947659395
                                    ]
                                },
                                {
                                    "mode": "lines",
                                    "name": "Minnesota",
                                    "type": "scatter",
                                    "x": [
                                        0,
                                        1,
                                        2,
                                        3,
                                        4,
                                        5,
                                        6,
                                        7,
                                        8,
                                        9,
                                        10,
                                        11,
                                        12,
                                        13,
                                        14,
                                        15,
                                        16,
                                        17,
                                        18,
                                        19,
                                        20,
                                        21,
                                        22,
                                        23,
                                        24,
                                        25,
                                        26,
                                        27,
                                        28,
                                        29,
                                        30,
                                        31,
                                        32,
                                        33,
                                        34,
                                        35,
                                        36,
                                        37,
                                        38,
                                        39,
                                        40,
                                        41,
                                        42,
                                        43,
                                        44,
                                        45,
                                        46,
                                        47,
                                        48,
                                        49,
                                        50,
                                        51,
                                        52,
                                        53,
                                        54,
                                        55,
                                        56,
                                        57,
                                        58,
                                        59,
                                        60,
                                        61,
                                        62,
                                        63,
                                        64,
                                        65,
                                        66,
                                        67,
                                        68,
                                        69,
                                        70,
                                        71,
                                        72,
                                        73,
                                        74,
                                        75,
                                        76,
                                        77,
                                        78,
                                        79,
                                        80,
                                        81,
                                        82,
                                        83,
                                        84,
                                        85,
                                        86,
                                        87,
                                        88,
                                        89,
                                        90,
                                        91,
                                        92,
                                        93,
                                        94,
                                        95,
                                        96,
                                        97,
                                        98,
                                        99,
                                        100,
                                        101,
                                        102,
                                        103,
                                        104,
                                        105,
                                        106,
                                        107,
                                        108,
                                        109,
                                        110,
                                        111,
                                        112,
                                        113,
                                        114,
                                        115,
                                        116,
                                        117,
                                        118,
                                        119
                                    ],
                                    "y": [
                                        2785.3345300814826,
                                        2701.1724254979963,
                                        2618.0604185510797,
                                        2535.9854070844613,
                                        2454.9344524185785,
                                        2374.89477731085,
                                        2295.8537639414235,
                                        2217.798951924043,
                                        2140.7180363417424,
                                        2064.5988658070296,
                                        1989.4294405462933,
                                        1915.19791050811,
                                        1841.8925734951372,
                                        1769.5018733193276,
                                        1698.0143979801664,
                                        1627.418877865622,
                                        1557.7041839755625,
                                        1488.8593261673188,
                                        1420.873451423155,
                                        1353.735842139346,
                                        1287.435914436613,
                                        1221.9632164916186,
                                        1157.3074268893063,
                                        1093.4583529957822,
                                        1030.4059293514945,
                                        968.1402160844817,
                                        906.6513973433916,
                                        845.9297797500755,
                                        785.9657908714778,
                                        726.7499777105915,
                                        668.2730052162456,
                                        610.5256548114861,
                                        553.4988229403147,
                                        497.183519632569,
                                        441.57086708669425,
                                        386.6520982702102,
                                        332.41855553764157,
                                        278.8616892656724,
                                        225.97305650536248,
                                        173.7443196511479,
                                        122.16724512647335,
                                        71.23370208580236,
                                        20.935661132847308,
                                        -32.6531897104951,
                                        -88.39265048617199,
                                        -143.43664533553965,
                                        -197.7938516452814,
                                        -251.4728385335984,
                                        -304.482068201085,
                                        -356.8298972647526,
                                        -408.52457807539895,
                                        -459.5742600185454,
                                        -509.9869907991538,
                                        -559.7707177102907,
                                        -608.9332888859826,
                                        -657.4824545384313,
                                        -705.4258681797887,
                                        -752.771087828693,
                                        -799.5255772017526,
                                        -845.6967068901586,
                                        -891.2917555216136,
                                        -936.3179109077732,
                                        -980.7822711773692,
                                        -1024.691845895179,
                                        -1068.0535571670562,
                                        -1110.8742407311584,
                                        -1153.1606470355669,
                                        -1194.9194423024528,
                                        -1236.1572095789747,
                                        -1276.8804497750634,
                                        -1317.0955826882473,
                                        -1356.808948015705,
                                        -1396.02680635368,
                                        -1434.7553401844325,
                                        -1473.0006548508727,
                                        -1510.7687795190382,
                                        -1548.06566812855,
                                        -1584.8972003312301,
                                        -1621.2691824179938,
                                        -1657.1873482341698,
                                        -1692.6573600834236,
                                        -1727.6848096203853,
                                        -1762.2752187321316,
                                        -1796.4340404087043,
                                        -1830.1666596027198,
                                        -1863.4783940782945,
                                        -1896.3744952493548,
                                        -1928.8601490074966,
                                        -1960.940476539508,
                                        -1992.620535134704,
                                        -2023.9053189821766,
                                        -2054.799759958095,
                                        -2085.3087284032076,
                                        -2115.437033890603,
                                        -2145.1894259839237,
                                        -2174.5705949861162,
                                        -2203.5851726788164,
                                        -2232.2377330525323,
                                        -2260.532793027715,
                                        -2288.474813166813,
                                        -2316.068198377469,
                                        -2343.317298606919,
                                        -2370.2264095277446,
                                        -2396.799773215062,
                                        -2423.041578815259,
                                        -2448.955963206391,
                                        -2474.54701165034,
                                        -2499.818758436836,
                                        -2524.7751875194326,
                                        -2549.4202331435645,
                                        -2573.7577804667544,
                                        -2597.79166617109,
                                        -2621.525679068054,
                                        -2644.9635606958113,
                                        -2668.1090059090393,
                                        -2690.965663461407,
                                        -2713.537136580777,
                                        -2735.8269835372303,
                                        -2757.8387182040233
                                    ]
                                },
                                {
                                    "mode": "lines",
                                    "name": "Texas",
                                    "type": "scatter",
                                    "x": [
                                        0,
                                        1,
                                        2,
                                        3,
                                        4,
                                        5,
                                        6,
                                        7,
                                        8,
                                        9,
                                        10,
                                        11,
                                        12,
                                        13,
                                        14,
                                        15,
                                        16,
                                        17,
                                        18,
                                        19,
                                        20,
                                        21,
                                        22,
                                        23,
                                        24,
                                        25,
                                        26,
                                        27,
                                        28,
                                        29,
                                        30,
                                        31,
                                        32,
                                        33,
                                        34,
                                        35,
                                        36,
                                        37,
                                        38,
                                        39,
                                        40,
                                        41,
                                        42,
                                        43,
                                        44,
                                        45,
                                        46,
                                        47,
                                        48,
                                        49,
                                        50,
                                        51,
                                        52,
                                        53,
                                        54,
                                        55,
                                        56,
                                        57,
                                        58,
                                        59,
                                        60,
                                        61,
                                        62,
                                        63,
                                        64,
                                        65,
                                        66,
                                        67,
                                        68,
                                        69,
                                        70,
                                        71,
                                        72,
                                        73,
                                        74,
                                        75,
                                        76,
                                        77,
                                        78,
                                        79,
                                        80,
                                        81,
                                        82,
                                        83,
                                        84,
                                        85,
                                        86,
                                        87,
                                        88,
                                        89,
                                        90,
                                        91,
                                        92,
                                        93,
                                        94,
                                        95,
                                        96,
                                        97,
                                        98,
                                        99,
                                        100,
                                        101,
                                        102,
                                        103,
                                        104,
                                        105,
                                        106,
                                        107,
                                        108,
                                        109,
                                        110,
                                        111,
                                        112,
                                        113,
                                        114,
                                        115,
                                        116,
                                        117,
                                        118,
                                        119
                                    ],
                                    "y": [
                                        2811.9664706654507,
                                        2753.8755650806215,
                                        2696.2829716664555,
                                        2639.184415829249,
                                        2582.5756596433753,
                                        2526.452501536747,
                                        2470.810775978967,
                                        2415.646353172163,
                                        2360.955138744457,
                                        2306.7330734460947,
                                        2252.976132848142,
                                        2199.6803270438027,
                                        2146.841700352274,
                                        2094.456331025157,
                                        2042.5203309553738,
                                        1991.0298453885885,
                                        1939.9810526371073,
                                        1889.3701637962258,
                                        1839.1934224630108,
                                        1789.4471044574866,
                                        1740.127517546243,
                                        1691.2310011683744,
                                        1642.7539261637962,
                                        1594.6926945038836,
                                        1547.043739024418,
                                        1499.8035231608337,
                                        1452.9685406857222,
                                        1406.5353154486038,
                                        1360.5004011179165,
                                        1314.8603809252268,
                                        1269.6118674116353,
                                        1224.7515021763566,
                                        1180.2759556274489,
                                        1136.1819267346877,
                                        1092.466142784569,
                                        1049.125359137392,
                                        1006.1563589864456,
                                        963.5559531192507,
                                        921.3209796808532,
                                        879.4483039391454,
                                        837.9348180522064,
                                        796.7774408376308,
                                        755.973117543841,
                                        715.5188196233545,
                                        675.4115445080165,
                                        635.6483153861232,
                                        596.2261809815003,
                                        557.1422153344403,
                                        518.3935175845455,
                                        479.9772117554129,
                                        441.8904465411808,
                                        404.13039509490625,
                                        366.694254818737,
                                        329.57924715591764,
                                        292.7826173845515,
                                        256.30163441314374,
                                        220.13359057789611,
                                        184.2758014417406,
                                        148.72560559509867,
                                        113.48036445834674,
                                        78.53746208598066,
                                        43.894304972448666,
                                        9.548321859668285,
                                        -27.8443596066154,
                                        -66.20715602507244,
                                        -104.24087084007533,
                                        -141.94832696110007,
                                        -179.3323230823098,
                                        -216.39563389025352,
                                        -253.14101026982553,
                                        -289.57117950842985,
                                        -325.6888454984082,
                                        -361.4966889377192,
                                        -396.9973675289102,
                                        -432.1935161763763,
                                        -467.0877471819126,
                                        -501.68265043862357,
                                        -535.9807936231291,
                                        -569.9847223861525,
                                        -603.6969605414561,
                                        -637.1200102531643,
                                        -670.2563522214759,
                                        -703.108445866786,
                                        -735.6787295122281,
                                        -767.9696205646433,
                                        -799.9835156940135,
                                        -831.722791011337,
                                        -863.1898022449886,
                                        -894.386884915567,
                                        -925.3163545092357,
                                        -955.980506649586,
                                        -986.3816172680185,
                                        -1016.5219427726647,
                                        -1046.403720215861,
                                        -1076.02916746019,
                                        -1105.4004833430822,
                                        -1134.5198478400325,
                                        -1163.389422226382,
                                        -1192.011349237746,
                                        -1220.3877532290435,
                                        -1248.5207403321679,
                                        -1276.4123986123118,
                                        -1304.064798222943,
                                        -1331.479991559454,
                                        -1358.6600134114933,
                                        -1385.6068811139899,
                                        -1412.3225946968823,
                                        -1438.809137033565,
                                        -1465.0684739880571,
                                        -1491.1025545609136,
                                        -1516.9133110338798,
                                        -1542.5026591133105,
                                        -1567.8724980723537,
                                        -1593.0247108919239,
                                        -1617.9611644004453,
                                        -1642.683709412422,
                                        -1667.1941808658048,
                                        -1691.4943979581844,
                                        -1715.5861642818058
                                    ]
                                }
                            ],
                            "layout": {
                                "template": {
                                    "data": {
                                        "bar": [
                                            {
                                                "error_x": {
                                                    "color": "#2a3f5f"
                                                },
                                                "error_y": {
                                                    "color": "#2a3f5f"
                                                },
                                                "marker": {
                                                    "line": {
                                                        "color": "#E5ECF6",
                                                        "width": 0.5
                                                    }
                                                },
                                                "type": "bar"
                                            }
                                        ],
                                        "barpolar": [
                                            {
                                                "marker": {
                                                    "line": {
                                                        "color": "#E5ECF6",
                                                        "width": 0.5
                                                    }
                                                },
                                                "type": "barpolar"
                                            }
                                        ],
                                        "carpet": [
                                            {
                                                "aaxis": {
                                                    "endlinecolor": "#2a3f5f",
                                                    "gridcolor": "white",
                                                    "linecolor": "white",
                                                    "minorgridcolor": "white",
                                                    "startlinecolor": "#2a3f5f"
                                                },
                                                "baxis": {
                                                    "endlinecolor": "#2a3f5f",
                                                    "gridcolor": "white",
                                                    "linecolor": "white",
                                                    "minorgridcolor": "white",
                                                    "startlinecolor": "#2a3f5f"
                                                },
                                                "type": "carpet"
                                            }
                                        ],
                                        "choropleth": [
                                            {
                                                "colorbar": {
                                                    "outlinewidth": 0,
                                                    "ticks": ""
                                                },
                                                "type": "choropleth"
                                            }
                                        ],
                                        "contour": [
                                            {
                                                "colorbar": {
                                                    "outlinewidth": 0,
                                                    "ticks": ""
                                                },
                                                "colorscale": [
                                                    [
                                                        0,
                                                        "#0d0887"
                                                    ],
                                                    [
                                                        0.1111111111111111,
                                                        "#46039f"
                                                    ],
                                                    [
                                                        0.2222222222222222,
                                                        "#7201a8"
                                                    ],
                                                    [
                                                        0.3333333333333333,
                                                        "#9c179e"
                                                    ],
                                                    [
                                                        0.4444444444444444,
                                                        "#bd3786"
                                                    ],
                                                    [
                                                        0.5555555555555556,
                                                        "#d8576b"
                                                    ],
                                                    [
                                                        0.6666666666666666,
                                                        "#ed7953"
                                                    ],
                                                    [
                                                        0.7777777777777778,
                                                        "#fb9f3a"
                                                    ],
                                                    [
                                                        0.8888888888888888,
                                                        "#fdca26"
                                                    ],
                                                    [
                                                        1,
                                                        "#f0f921"
                                                    ]
                                                ],
                                                "type": "contour"
                                            }
                                        ],
                                        "contourcarpet": [
                                            {
                                                "colorbar": {
                                                    "outlinewidth": 0,
                                                    "ticks": ""
                                                },
                                                "type": "contourcarpet"
                                            }
                                        ],
                                        "heatmap": [
                                            {
                                                "colorbar": {
                                                    "outlinewidth": 0,
                                                    "ticks": ""
                                                },
                                                "colorscale": [
                                                    [
                                                        0,
                                                        "#0d0887"
                                                    ],
                                                    [
                                                        0.1111111111111111,
                                                        "#46039f"
                                                    ],
                                                    [
                                                        0.2222222222222222,
                                                        "#7201a8"
                                                    ],
                                                    [
                                                        0.3333333333333333,
                                                        "#9c179e"
                                                    ],
                                                    [
                                                        0.4444444444444444,
                                                        "#bd3786"
                                                    ],
                                                    [
                                                        0.5555555555555556,
                                                        "#d8576b"
                                                    ],
                                                    [
                                                        0.6666666666666666,
                                                        "#ed7953"
                                                    ],
                                                    [
                                                        0.7777777777777778,
                                                        "#fb9f3a"
                                                    ],
                                                    [
                                                        0.8888888888888888,
                                                        "#fdca26"
                                                    ],
                                                    [
                                                        1,
                                                        "#f0f921"
                                                    ]
                                                ],
                                                "type": "heatmap"
                                            }
                                        ],
                                        "heatmapgl": [
                                            {
                                                "colorbar": {
                                                    "outlinewidth": 0,
                                                    "ticks": ""
                                                },
                                                "colorscale": [
                                                    [
                                                        0,
                                                        "#0d0887"
                                                    ],
                                                    [
                                                        0.1111111111111111,
                                                        "#46039f"
                                                    ],
                                                    [
                                                        0.2222222222222222,
                                                        "#7201a8"
                                                    ],
                                                    [
                                                        0.3333333333333333,
                                                        "#9c179e"
                                                    ],
                                                    [
                                                        0.4444444444444444,
                                                        "#bd3786"
                                                    ],
                                                    [
                                                        0.5555555555555556,
                                                        "#d8576b"
                                                    ],
                                                    [
                                                        0.6666666666666666,
                                                        "#ed7953"
                                                    ],
                                                    [
                                                        0.7777777777777778,
                                                        "#fb9f3a"
                                                    ],
                                                    [
                                                        0.8888888888888888,
                                                        "#fdca26"
                                                    ],
                                                    [
                                                        1,
                                                        "#f0f921"
                                                    ]
                                                ],
                                                "type": "heatmapgl"
                                            }
                                        ],
                                        "histogram": [
                                            {
                                                "marker": {
                                                    "colorbar": {
                                                        "outlinewidth": 0,
                                                        "ticks": ""
                                                    }
                                                },
                                                "type": "histogram"
                                            }
                                        ],
                                        "histogram2d": [
                                            {
                                                "colorbar": {
                                                    "outlinewidth": 0,
                                                    "ticks": ""
                                                },
                                                "colorscale": [
                                                    [
                                                        0,
                                                        "#0d0887"
                                                    ],
                                                    [
                                                        0.1111111111111111,
                                                        "#46039f"
                                                    ],
                                                    [
                                                        0.2222222222222222,
                                                        "#7201a8"
                                                    ],
                                                    [
                                                        0.3333333333333333,
                                                        "#9c179e"
                                                    ],
                                                    [
                                                        0.4444444444444444,
                                                        "#bd3786"
                                                    ],
                                                    [
                                                        0.5555555555555556,
                                                        "#d8576b"
                                                    ],
                                                    [
                                                        0.6666666666666666,
                                                        "#ed7953"
                                                    ],
                                                    [
                                                        0.7777777777777778,
                                                        "#fb9f3a"
                                                    ],
                                                    [
                                                        0.8888888888888888,
                                                        "#fdca26"
                                                    ],
                                                    [
                                                        1,
                                                        "#f0f921"
                                                    ]
                                                ],
                                                "type": "histogram2d"
                                            }
                                        ],
                                        "histogram2dcontour": [
                                            {
                                                "colorbar": {
                                                    "outlinewidth": 0,
                                                    "ticks": ""
                                                },
                                                "colorscale": [
                                                    [
                                                        0,
                                                        "#0d0887"
                                                    ],
                                                    [
                                                        0.1111111111111111,
                                                        "#46039f"
                                                    ],
                                                    [
                                                        0.2222222222222222,
                                                        "#7201a8"
                                                    ],
                                                    [
                                                        0.3333333333333333,
                                                        "#9c179e"
                                                    ],
                                                    [
                                                        0.4444444444444444,
                                                        "#bd3786"
                                                    ],
                                                    [
                                                        0.5555555555555556,
                                                        "#d8576b"
                                                    ],
                                                    [
                                                        0.6666666666666666,
                                                        "#ed7953"
                                                    ],
                                                    [
                                                        0.7777777777777778,
                                                        "#fb9f3a"
                                                    ],
                                                    [
                                                        0.8888888888888888,
                                                        "#fdca26"
                                                    ],
                                                    [
                                                        1,
                                                        "#f0f921"
                                                    ]
                                                ],
                                                "type": "histogram2dcontour"
                                            }
                                        ],
                                        "mesh3d": [
                                            {
                                                "colorbar": {
                                                    "outlinewidth": 0,
                                                    "ticks": ""
                                                },
                                                "type": "mesh3d"
                                            }
                                        ],
                                        "parcoords": [
                                            {
                                                "line": {
                                                    "colorbar": {
                                                        "outlinewidth": 0,
                                                        "ticks": ""
                                                    }
                                                },
                                                "type": "parcoords"
                                            }
                                        ],
                                        "pie": [
                                            {
                                                "automargin": true,
                                                "type": "pie"
                                            }
                                        ],
                                        "scatter": [
                                            {
                                                "marker": {
                                                    "colorbar": {
                                                        "outlinewidth": 0,
                                                        "ticks": ""
                                                    }
                                                },
                                                "type": "scatter"
                                            }
                                        ],
                                        "scatter3d": [
                                            {
                                                "line": {
                                                    "colorbar": {
                                                        "outlinewidth": 0,
                                                        "ticks": ""
                                                    }
                                                },
                                                "marker": {
                                                    "colorbar": {
                                                        "outlinewidth": 0,
                                                        "ticks": ""
                                                    }
                                                },
                                                "type": "scatter3d"
                                            }
                                        ],
                                        "scattercarpet": [
                                            {
                                                "marker": {
                                                    "colorbar": {
                                                        "outlinewidth": 0,
                                                        "ticks": ""
                                                    }
                                                },
                                                "type": "scattercarpet"
                                            }
                                        ],
                                        "scattergeo": [
                                            {
                                                "marker": {
                                                    "colorbar": {
                                                        "outlinewidth": 0,
                                                        "ticks": ""
                                                    }
                                                },
                                                "type": "scattergeo"
                                            }
                                        ],
                                        "scattergl": [
                                            {
                                                "marker": {
                                                    "colorbar": {
                                                        "outlinewidth": 0,
                                                        "ticks": ""
                                                    }
                                                },
                                                "type": "scattergl"
                                            }
                                        ],
                                        "scattermapbox": [
                                            {
                                                "marker": {
                                                    "colorbar": {
                                                        "outlinewidth": 0,
                                                        "ticks": ""
                                                    }
                                                },
                                                "type": "scattermapbox"
                                            }
                                        ],
                                        "scatterpolar": [
                                            {
                                                "marker": {
                                                    "colorbar": {
                                                        "outlinewidth": 0,
                                                        "ticks": ""
                                                    }
                                                },
                                                "type": "scatterpolar"
                                            }
                                        ],
                                        "scatterpolargl": [
                                            {
                                                "marker": {
                                                    "colorbar": {
                                                        "outlinewidth": 0,
                                                        "ticks": ""
                                                    }
                                                },
                                                "type": "scatterpolargl"
                                            }
                                        ],
                                        "scatterternary": [
                                            {
                                                "marker": {
                                                    "colorbar": {
                                                        "outlinewidth": 0,
                                                        "ticks": ""
                                                    }
                                                },
                                                "type": "scatterternary"
                                            }
                                        ],
                                        "surface": [
                                            {
                                                "colorbar": {
                                                    "outlinewidth": 0,
                                                    "ticks": ""
                                                },
                                                "colorscale": [
                                                    [
                                                        0,
                                                        "#0d0887"
                                                    ],
                                                    [
                                                        0.1111111111111111,
                                                        "#46039f"
                                                    ],
                                                    [
                                                        0.2222222222222222,
                                                        "#7201a8"
                                                    ],
                                                    [
                                                        0.3333333333333333,
                                                        "#9c179e"
                                                    ],
                                                    [
                                                        0.4444444444444444,
                                                        "#bd3786"
                                                    ],
                                                    [
                                                        0.5555555555555556,
                                                        "#d8576b"
                                                    ],
                                                    [
                                                        0.6666666666666666,
                                                        "#ed7953"
                                                    ],
                                                    [
                                                        0.7777777777777778,
                                                        "#fb9f3a"
                                                    ],
                                                    [
                                                        0.8888888888888888,
                                                        "#fdca26"
                                                    ],
                                                    [
                                                        1,
                                                        "#f0f921"
                                                    ]
                                                ],
                                                "type": "surface"
                                            }
                                        ],
                                        "table": [
                                            {
                                                "cells": {
                                                    "fill": {
                                                        "color": "#EBF0F8"
                                                    },
                                                    "line": {
                                                        "color": "white"
                                                    }
                                                },
                                                "header": {
                                                    "fill": {
                                                        "color": "#C8D4E3"
                                                    },
                                                    "line": {
                                                        "color": "white"
                                                    }
                                                },
                                                "type": "table"
                                            }
                                        ]
                                    },
                                    "layout": {
                                        "annotationdefaults": {
                                            "arrowcolor": "#2a3f5f",
                                            "arrowhead": 0,
                                            "arrowwidth": 1
                                        },
                                        "autotypenumbers": "strict",
                                        "coloraxis": {
                                            "colorbar": {
                                                "outlinewidth": 0,
                                                "ticks": ""
                                            }
                                        },
                                        "colorscale": {
                                            "diverging": [
                                                [
                                                    0,
                                                    "#8e0152"
                                                ],
                                                [
                                                    0.1,
                                                    "#c51b7d"
                                                ],
                                                [
                                                    0.2,
                                                    "#de77ae"
                                                ],
                                                [
                                                    0.3,
                                                    "#f1b6da"
                                                ],
                                                [
                                                    0.4,
                                                    "#fde0ef"
                                                ],
                                                [
                                                    0.5,
                                                    "#f7f7f7"
                                                ],
                                                [
                                                    0.6,
                                                    "#e6f5d0"
                                                ],
                                                [
                                                    0.7,
                                                    "#b8e186"
                                                ],
                                                [
                                                    0.8,
                                                    "#7fbc41"
                                                ],
                                                [
                                                    0.9,
                                                    "#4d9221"
                                                ],
                                                [
                                                    1,
                                                    "#276419"
                                                ]
                                            ],
                                            "sequential": [
                                                [
                                                    0,
                                                    "#0d0887"
                                                ],
                                                [
                                                    0.1111111111111111,
                                                    "#46039f"
                                                ],
                                                [
                                                    0.2222222222222222,
                                                    "#7201a8"
                                                ],
                                                [
                                                    0.3333333333333333,
                                                    "#9c179e"
                                                ],
                                                [
                                                    0.4444444444444444,
                                                    "#bd3786"
                                                ],
                                                [
                                                    0.5555555555555556,
                                                    "#d8576b"
                                                ],
                                                [
                                                    0.6666666666666666,
                                                    "#ed7953"
                                                ],
                                                [
                                                    0.7777777777777778,
                                                    "#fb9f3a"
                                                ],
                                                [
                                                    0.8888888888888888,
                                                    "#fdca26"
                                                ],
                                                [
                                                    1,
                                                    "#f0f921"
                                                ]
                                            ],
                                            "sequentialminus": [
                                                [
                                                    0,
                                                    "#0d0887"
                                                ],
                                                [
                                                    0.1111111111111111,
                                                    "#46039f"
                                                ],
                                                [
                                                    0.2222222222222222,
                                                    "#7201a8"
                                                ],
                                                [
                                                    0.3333333333333333,
                                                    "#9c179e"
                                                ],
                                                [
                                                    0.4444444444444444,
                                                    "#bd3786"
                                                ],
                                                [
                                                    0.5555555555555556,
                                                    "#d8576b"
                                                ],
                                                [
                                                    0.6666666666666666,
                                                    "#ed7953"
                                                ],
                                                [
                                                    0.7777777777777778,
                                                    "#fb9f3a"
                                                ],
                                                [
                                                    0.8888888888888888,
                                                    "#fdca26"
                                                ],
                                                [
                                                    1,
                                                    "#f0f921"
                                                ]
                                            ]
                                        },
                                        "colorway": [
                                            "#636efa",
                                            "#EF553B",
                                            "#00cc96",
                                            "#ab63fa",
                                            "#FFA15A",
                                            "#19d3f3",
                                            "#FF6692",
                                            "#B6E880",
                                            "#FF97FF",
                                            "#FECB52"
                                        ],
                                        "font": {
                                            "color": "#2a3f5f"
                                        },
                                        "geo": {
                                            "bgcolor": "white",
                                            "lakecolor": "white",
                                            "landcolor": "#E5ECF6",
                                            "showlakes": true,
                                            "showland": true,
                                            "subunitcolor": "white"
                                        },
                                        "hoverlabel": {
                                            "align": "left"
                                        },
                                        "hovermode": "closest",
                                        "mapbox": {
                                            "style": "light"
                                        },
                                        "paper_bgcolor": "white",
                                        "plot_bgcolor": "#E5ECF6",
                                        "polar": {
                                            "angularaxis": {
                                                "gridcolor": "white",
                                                "linecolor": "white",
                                                "ticks": ""
                                            },
                                            "bgcolor": "#E5ECF6",
                                            "radialaxis": {
                                                "gridcolor": "white",
                                                "linecolor": "white",
                                                "ticks": ""
                                            }
                                        },
                                        "scene": {
                                            "xaxis": {
                                                "backgroundcolor": "#E5ECF6",
                                                "gridcolor": "white",
                                                "gridwidth": 2,
                                                "linecolor": "white",
                                                "showbackground": true,
                                                "ticks": "",
                                                "zerolinecolor": "white"
                                            },
                                            "yaxis": {
                                                "backgroundcolor": "#E5ECF6",
                                                "gridcolor": "white",
                                                "gridwidth": 2,
                                                "linecolor": "white",
                                                "showbackground": true,
                                                "ticks": "",
                                                "zerolinecolor": "white"
                                            },
                                            "zaxis": {
                                                "backgroundcolor": "#E5ECF6",
                                                "gridcolor": "white",
                                                "gridwidth": 2,
                                                "linecolor": "white",
                                                "showbackground": true,
                                                "ticks": "",
                                                "zerolinecolor": "white"
                                            }
                                        },
                                        "shapedefaults": {
                                            "line": {
                                                "color": "#2a3f5f"
                                            }
                                        },
                                        "ternary": {
                                            "aaxis": {
                                                "gridcolor": "white",
                                                "linecolor": "white",
                                                "ticks": ""
                                            },
                                            "baxis": {
                                                "gridcolor": "white",
                                                "linecolor": "white",
                                                "ticks": ""
                                            },
                                            "bgcolor": "#E5ECF6",
                                            "caxis": {
                                                "gridcolor": "white",
                                                "linecolor": "white",
                                                "ticks": ""
                                            }
                                        },
                                        "title": {
                                            "x": 0.05
                                        },
                                        "xaxis": {
                                            "automargin": true,
                                            "gridcolor": "white",
                                            "linecolor": "white",
                                            "ticks": "",
                                            "title": {
                                                "standoff": 15
                                            },
                                            "zerolinecolor": "white",
                                            "zerolinewidth": 2
                                        },
                                        "yaxis": {
                                            "automargin": true,
                                            "gridcolor": "white",
                                            "linecolor": "white",
                                            "ticks": "",
                                            "title": {
                                                "standoff": 15
                                            },
                                            "zerolinecolor": "white",
                                            "zerolinewidth": 2
                                        }
                                    }
                                },
                                "title": {
                                    "text": "US State Fair Daily Profit Adjusted for Rainfall - with Expenses"
                                },
                                "xaxis": {
                                    "title": {
                                        "text": "Daily Precipitation (mm)"
                                    }
                                },
                                "yaxis": {
                                    "title": {
                                        "text": "Daily Profit (USD)"
                                    }
                                }
                            }
                        }
                    },
                    "metadata": {},
                    "output_type": "display_data"
                }
            ],
            "source": [
                "x = np.arange(120)\n",
                "\n",
                "fig = go.Figure()\n",
                "fig.add_trace(go.Scatter(x=x, y=nc_profit,\n",
                "                    mode='lines',\n",
                "                    name='North Carolina'))\n",
                "fig.add_trace(go.Scatter(x=x, y=ny_profit,\n",
                "                    mode='lines',\n",
                "                    name='New York'))\n",
                "fig.add_trace(go.Scatter(x=x, y=mn_profit,\n",
                "                    mode='lines',\n",
                "                    name='Minnesota'))\n",
                "fig.add_trace(go.Scatter(x=x, y=tx_profit,\n",
                "                    mode='lines',\n",
                "                    name='Texas'))                \n",
                "# Edit the layout\n",
                "fig.update_layout(title='US State Fair Daily Profit Adjusted for Rainfall - with Expenses',\n",
                "                   xaxis_title='Daily Precipitation (mm)',\n",
                "                   yaxis_title='Daily Profit (USD)')\n",
                "fig.show()"
            ]
        },
        {
            "cell_type": "code",
            "execution_count": 202,
            "metadata": {},
            "outputs": [],
            "source": [
                "def total_profit_fair(df_scaled, popt, scaler_prec, total_revenue, prec_list, extra_costs=0):\n",
                "    profit_list = []\n",
                "    daily_revenue = total_revenue/len(prec_list)\n",
                "    for prec in prec_list:\n",
                "        profit_list.append(rainfall_profit(df_scaled, popt,prec, scaler_prec, daily_revenue, extra_costs=0))\n",
                "    \n",
                "    total_profit = sum(profit_list)\n",
                "    rainy_days = len([x for x in prec_list if x > 0])\n",
                "\n",
                "    print('Total days: {}'.format(len(prec_list)))\n",
                "    print('Rainy days: {}'.format(rainy_days))\n",
                "    print('Daily Profit: {}'.format(profit_list))\n",
                "    print('Total Profit: {}'.format(total_profit))\n",
                "\n",
                "    return prec_list, profit_list, rainy_days, total_profit\n",
                "\n",
                "    "
            ]
        },
        {
            "cell_type": "code",
            "execution_count": 203,
            "metadata": {},
            "outputs": [
                {
                    "name": "stdout",
                    "output_type": "stream",
                    "text": [
                        "Total days: 14\n",
                        "Rainy days: 8\n",
                        "Daily Profit: [-1407.4007957708577, -697.791405133775, -697.791405133775, 1435.28, 1435.28, 1184.1727422167596, 1332.530326207475, 1435.28, 1435.28, 1042.459617464177, 951.52805702242, 179.87956457987573, 1435.28, 1435.28]\n",
                        "Total Profit: 10499.2667014523\n"
                    ]
                }
            ],
            "source": [
                "# example: a new york state fair vendor that has 0 extra costs, daily rainfall is 100,60,60,0,0,5,2,0,0,8,10,30,0,0 (mm)\n",
                "ex = total_profit_fair(NY_df_scaled, popt_NY, NY_scaler_prec, 70000, [100,60,60,0,0,5,2,0,0,8,10,30,0,0],extra_costs=0)"
            ]
        },
        {
            "cell_type": "code",
            "execution_count": 204,
            "metadata": {},
            "outputs": [],
            "source": [
                "scalers_dict = {'NY':NY_scaler_prec,\n",
                "'NC':NC_scaler_prec,\n",
                "'TX':TX_scaler_prec,\n",
                "'MN':MN_scaler_prec}"
            ]
        },
        {
            "cell_type": "markdown",
            "metadata": {},
            "source": [
                "The function below gives an average for all 4 state fairs rather than having to select a specific location"
            ]
        },
        {
            "cell_type": "code",
            "execution_count": 205,
            "metadata": {},
            "outputs": [],
            "source": [
                "def total_profit_fair_us(total_revenue, scalers_dict, prec_list, extra_costs=0):\n",
                "    profit_list_MN = []\n",
                "    profit_list_TX = []\n",
                "    profit_list_NC = []\n",
                "    profit_list_NY = []\n",
                "    daily_revenue = total_revenue/len(prec_list)\n",
                "    for prec in prec_list:\n",
                "        profit_list_MN.append(rainfall_profit(MN_df_scaled, popt_MN,prec, scalers_dict['MN'], daily_revenue, extra_costs=0))\n",
                "        profit_list_TX.append(rainfall_profit(TX_df_scaled, popt_TX,prec, scalers_dict['TX'],daily_revenue, extra_costs=0))\n",
                "        profit_list_NC.append(rainfall_profit(NC_df_scaled, popt_NC,prec, scalers_dict['NC'], daily_revenue, extra_costs=0))\n",
                "        profit_list_NY.append(rainfall_profit(NY_df_scaled, popt_NY,prec,scalers_dict['NY'], daily_revenue, extra_costs=0))\n",
                "    \n",
                "    avg_profit_list = np.average(np.array([profit_list_MN, profit_list_TX, profit_list_NC, profit_list_NY]), axis=0)\n",
                "    \n",
                "    total_profit_MN = sum(profit_list_MN)\n",
                "    total_profit_TX = sum(profit_list_TX)\n",
                "    total_profit_NC = sum(profit_list_NC)\n",
                "    total_profit_NY = sum(profit_list_NY)\n",
                "\n",
                "    avg_total_profit = (total_profit_MN + total_profit_TX + total_profit_NC + total_profit_NY)/4\n",
                "\n",
                "    rainy_days = len([x for x in prec_list if x > 0])\n",
                "\n",
                "    print('Total days: {}'.format(len(prec_list)))\n",
                "    print('Rainy days: {}'.format(rainy_days))\n",
                "    print('Average Daily Profit: {}'.format(avg_profit_list))\n",
                "    print('Average Total Profit: {}'.format(avg_total_profit))\n",
                "\n",
                "    return prec_list, avg_profit_list, rainy_days, avg_total_profit"
            ]
        },
        {
            "cell_type": "code",
            "execution_count": 206,
            "metadata": {},
            "outputs": [
                {
                    "name": "stdout",
                    "output_type": "stream",
                    "text": [
                        "Total days: 14\n",
                        "Rainy days: 8\n",
                        "Average Daily Profit: [ 1435.28        1435.28        1435.28        1435.28\n",
                        "  1435.28         949.83289016  1219.72751113 -1352.9118249\n",
                        " -1352.9118249  -1352.9118249    580.4351292   -213.32875481\n",
                        "  -213.32875481  1435.28      ]\n",
                        "Average Total Profit: 6876.28254616899\n"
                    ]
                }
            ],
            "source": [
                "ex2 = total_profit_fair_us(70000, scalers_dict,[0,0,0,0,0,5,2,100,100,100,10,30,30,0],extra_costs=0)"
            ]
        },
        {
            "cell_type": "code",
            "execution_count": 207,
            "metadata": {},
            "outputs": [],
            "source": [
                "# save scalers\n",
                "import joblib as jb\n",
                "\n",
                "for state, scaler in scalers_dict.items():\n",
                "    scaler_filename = \"{}_scaler_prec.save\".format(state)\n",
                "    jb.dump(scaler, scaler_filename) \n"
            ]
        },
        {
            "cell_type": "markdown",
            "metadata": {},
            "source": [
                "# Add insurance"
            ]
        },
        {
            "cell_type": "code",
            "execution_count": 208,
            "metadata": {},
            "outputs": [],
            "source": [
                "def add_insurance(prec_list, profit_list, threshold, payout, premium):\n",
                "    paid = False\n",
                "    new_profit_list = profit_list.copy()\n",
                "    for i in range(len(prec_list)):\n",
                "        if (prec_list[i]>threshold) and (paid==False):\n",
                "            new_profit_list[i] = profit_list[i] + payout\n",
                "            paid = True\n",
                "        elif (paid==True):\n",
                "            new_profit_list[i] = profit_list[i]\n",
                "        elif (paid==False):\n",
                "            new_profit_list[i] = profit_list[i] - premium\n",
                "\n",
                "    return new_profit_list\n"
            ]
        },
        {
            "cell_type": "markdown",
            "metadata": {},
            "source": [
                "# Find average fair duration"
            ]
        },
        {
            "cell_type": "code",
            "execution_count": 209,
            "metadata": {},
            "outputs": [
                {
                    "data": {
                        "text/html": [
                            "<div>\n",
                            "<style scoped>\n",
                            "    .dataframe tbody tr th:only-of-type {\n",
                            "        vertical-align: middle;\n",
                            "    }\n",
                            "\n",
                            "    .dataframe tbody tr th {\n",
                            "        vertical-align: top;\n",
                            "    }\n",
                            "\n",
                            "    .dataframe thead th {\n",
                            "        text-align: right;\n",
                            "    }\n",
                            "</style>\n",
                            "<table border=\"1\" class=\"dataframe\">\n",
                            "  <thead>\n",
                            "    <tr style=\"text-align: right;\">\n",
                            "      <th></th>\n",
                            "      <th>state</th>\n",
                            "      <th>year</th>\n",
                            "      <th>date</th>\n",
                            "    </tr>\n",
                            "  </thead>\n",
                            "  <tbody>\n",
                            "    <tr>\n",
                            "      <th>0</th>\n",
                            "      <td>MN</td>\n",
                            "      <td>2018</td>\n",
                            "      <td>11 days</td>\n",
                            "    </tr>\n",
                            "    <tr>\n",
                            "      <th>1</th>\n",
                            "      <td>MN</td>\n",
                            "      <td>2019</td>\n",
                            "      <td>11 days</td>\n",
                            "    </tr>\n",
                            "    <tr>\n",
                            "      <th>2</th>\n",
                            "      <td>MN</td>\n",
                            "      <td>2021</td>\n",
                            "      <td>11 days</td>\n",
                            "    </tr>\n",
                            "    <tr>\n",
                            "      <th>3</th>\n",
                            "      <td>NC</td>\n",
                            "      <td>2013</td>\n",
                            "      <td>10 days</td>\n",
                            "    </tr>\n",
                            "    <tr>\n",
                            "      <th>4</th>\n",
                            "      <td>NC</td>\n",
                            "      <td>2014</td>\n",
                            "      <td>10 days</td>\n",
                            "    </tr>\n",
                            "  </tbody>\n",
                            "</table>\n",
                            "</div>"
                        ],
                        "text/plain": [
                            "  state  year    date\n",
                            "0    MN  2018 11 days\n",
                            "1    MN  2019 11 days\n",
                            "2    MN  2021 11 days\n",
                            "3    NC  2013 10 days\n",
                            "4    NC  2014 10 days"
                        ]
                    },
                    "execution_count": 209,
                    "metadata": {},
                    "output_type": "execute_result"
                }
            ],
            "source": [
                "date_df = scaled_df.groupby(['state','year'],as_index=False)['date'].agg(np.ptp) \n",
                "date_df.head()"
            ]
        },
        {
            "cell_type": "code",
            "execution_count": 210,
            "metadata": {},
            "outputs": [
                {
                    "data": {
                        "text/plain": [
                            "Timedelta('12 days 23:02:24')"
                        ]
                    },
                    "execution_count": 210,
                    "metadata": {},
                    "output_type": "execute_result"
                }
            ],
            "source": [
                "date_df['date'].mean()"
            ]
        },
        {
            "cell_type": "markdown",
            "metadata": {},
            "source": [
                "# Plot output bar charts"
            ]
        },
        {
            "cell_type": "code",
            "execution_count": 211,
            "metadata": {},
            "outputs": [],
            "source": [
                "from plotly.subplots import make_subplots\n",
                "import plotly.graph_objects as go"
            ]
        },
        {
            "cell_type": "code",
            "execution_count": 212,
            "metadata": {},
            "outputs": [],
            "source": [
                "def plotly_prec_profit(prec_list, profit_list):\n",
                "\n",
                "    fig = make_subplots(rows=2, cols=1,\n",
                "                    shared_xaxes=True)\n",
                "    \n",
                "\n",
                "    fig.add_trace(\n",
                "        go.Bar(x=[x for x in range(1,len(prec_list)+1)], y=prec_list,name=\"Precipitation\"),\n",
                "        row=1, col=1\n",
                "    )\n",
                "\n",
                "    fig.add_trace(\n",
                "        go.Bar(x=[x for x in range(1,len(profit_list)+1)], y=profit_list, name = \"Profit\"),\n",
                "        row=2, col=1\n",
                "    )\n",
                "\n",
                "\n",
                "    fig.update_layout(title_text=\"Daily Precipitation and Profit\",)\n",
                "\n",
                "    # Update xaxis properties\n",
                "    fig.update_xaxes(title_text=\"Day\",row=1, col=1)\n",
                "    fig.update_xaxes(title_text=\"Day\", row=2, col=1)\n",
                "\n",
                "\n",
                "    # Update yaxis properties\n",
                "    fig.update_yaxes(title_text=\"Precipitation (mm)\", row=1, col=1)\n",
                "    fig.update_yaxes(title_text=\"Expected Profit (USD)\", row=2, col=1)\n",
                "\n",
                "    fig.show()\n",
                "    "
            ]
        },
        {
            "cell_type": "code",
            "execution_count": 213,
            "metadata": {},
            "outputs": [
                {
                    "name": "stdout",
                    "output_type": "stream",
                    "text": [
                        "Total days: 14\n",
                        "Rainy days: 6\n",
                        "Average Daily Profit: [ 1435.28        1435.28        1435.28        1435.28\n",
                        "  1435.28         949.83289016  1219.72751113  1435.28\n",
                        "  1435.28        -650.82442362 -1352.9118249  -1244.20653872\n",
                        " -1244.20653872  1435.28      ]\n",
                        "Average Total Profit: 9159.651075331038\n"
                    ]
                },
                {
                    "data": {
                        "application/vnd.plotly.v1+json": {
                            "config": {
                                "plotlyServerURL": "https://plot.ly"
                            },
                            "data": [
                                {
                                    "name": "Precipitation",
                                    "type": "bar",
                                    "x": [
                                        1,
                                        2,
                                        3,
                                        4,
                                        5,
                                        6,
                                        7,
                                        8,
                                        9,
                                        10,
                                        11,
                                        12,
                                        13,
                                        14
                                    ],
                                    "xaxis": "x",
                                    "y": [
                                        0,
                                        0,
                                        0,
                                        0,
                                        0,
                                        5,
                                        2,
                                        0,
                                        0,
                                        50,
                                        100,
                                        90,
                                        90,
                                        0
                                    ],
                                    "yaxis": "y"
                                },
                                {
                                    "name": "Profit",
                                    "type": "bar",
                                    "x": [
                                        1,
                                        2,
                                        3,
                                        4,
                                        5,
                                        6,
                                        7,
                                        8,
                                        9,
                                        10,
                                        11,
                                        12,
                                        13,
                                        14
                                    ],
                                    "xaxis": "x2",
                                    "y": [
                                        1435.28,
                                        1435.28,
                                        1435.28,
                                        1435.28,
                                        1435.28,
                                        949.8328901563965,
                                        1219.7275111290699,
                                        1435.28,
                                        1435.28,
                                        -650.8244236160554,
                                        -1352.9118248991026,
                                        -1244.2065387196349,
                                        -1244.2065387196349,
                                        1435.28
                                    ],
                                    "yaxis": "y2"
                                }
                            ],
                            "layout": {
                                "template": {
                                    "data": {
                                        "bar": [
                                            {
                                                "error_x": {
                                                    "color": "#2a3f5f"
                                                },
                                                "error_y": {
                                                    "color": "#2a3f5f"
                                                },
                                                "marker": {
                                                    "line": {
                                                        "color": "#E5ECF6",
                                                        "width": 0.5
                                                    }
                                                },
                                                "type": "bar"
                                            }
                                        ],
                                        "barpolar": [
                                            {
                                                "marker": {
                                                    "line": {
                                                        "color": "#E5ECF6",
                                                        "width": 0.5
                                                    }
                                                },
                                                "type": "barpolar"
                                            }
                                        ],
                                        "carpet": [
                                            {
                                                "aaxis": {
                                                    "endlinecolor": "#2a3f5f",
                                                    "gridcolor": "white",
                                                    "linecolor": "white",
                                                    "minorgridcolor": "white",
                                                    "startlinecolor": "#2a3f5f"
                                                },
                                                "baxis": {
                                                    "endlinecolor": "#2a3f5f",
                                                    "gridcolor": "white",
                                                    "linecolor": "white",
                                                    "minorgridcolor": "white",
                                                    "startlinecolor": "#2a3f5f"
                                                },
                                                "type": "carpet"
                                            }
                                        ],
                                        "choropleth": [
                                            {
                                                "colorbar": {
                                                    "outlinewidth": 0,
                                                    "ticks": ""
                                                },
                                                "type": "choropleth"
                                            }
                                        ],
                                        "contour": [
                                            {
                                                "colorbar": {
                                                    "outlinewidth": 0,
                                                    "ticks": ""
                                                },
                                                "colorscale": [
                                                    [
                                                        0,
                                                        "#0d0887"
                                                    ],
                                                    [
                                                        0.1111111111111111,
                                                        "#46039f"
                                                    ],
                                                    [
                                                        0.2222222222222222,
                                                        "#7201a8"
                                                    ],
                                                    [
                                                        0.3333333333333333,
                                                        "#9c179e"
                                                    ],
                                                    [
                                                        0.4444444444444444,
                                                        "#bd3786"
                                                    ],
                                                    [
                                                        0.5555555555555556,
                                                        "#d8576b"
                                                    ],
                                                    [
                                                        0.6666666666666666,
                                                        "#ed7953"
                                                    ],
                                                    [
                                                        0.7777777777777778,
                                                        "#fb9f3a"
                                                    ],
                                                    [
                                                        0.8888888888888888,
                                                        "#fdca26"
                                                    ],
                                                    [
                                                        1,
                                                        "#f0f921"
                                                    ]
                                                ],
                                                "type": "contour"
                                            }
                                        ],
                                        "contourcarpet": [
                                            {
                                                "colorbar": {
                                                    "outlinewidth": 0,
                                                    "ticks": ""
                                                },
                                                "type": "contourcarpet"
                                            }
                                        ],
                                        "heatmap": [
                                            {
                                                "colorbar": {
                                                    "outlinewidth": 0,
                                                    "ticks": ""
                                                },
                                                "colorscale": [
                                                    [
                                                        0,
                                                        "#0d0887"
                                                    ],
                                                    [
                                                        0.1111111111111111,
                                                        "#46039f"
                                                    ],
                                                    [
                                                        0.2222222222222222,
                                                        "#7201a8"
                                                    ],
                                                    [
                                                        0.3333333333333333,
                                                        "#9c179e"
                                                    ],
                                                    [
                                                        0.4444444444444444,
                                                        "#bd3786"
                                                    ],
                                                    [
                                                        0.5555555555555556,
                                                        "#d8576b"
                                                    ],
                                                    [
                                                        0.6666666666666666,
                                                        "#ed7953"
                                                    ],
                                                    [
                                                        0.7777777777777778,
                                                        "#fb9f3a"
                                                    ],
                                                    [
                                                        0.8888888888888888,
                                                        "#fdca26"
                                                    ],
                                                    [
                                                        1,
                                                        "#f0f921"
                                                    ]
                                                ],
                                                "type": "heatmap"
                                            }
                                        ],
                                        "heatmapgl": [
                                            {
                                                "colorbar": {
                                                    "outlinewidth": 0,
                                                    "ticks": ""
                                                },
                                                "colorscale": [
                                                    [
                                                        0,
                                                        "#0d0887"
                                                    ],
                                                    [
                                                        0.1111111111111111,
                                                        "#46039f"
                                                    ],
                                                    [
                                                        0.2222222222222222,
                                                        "#7201a8"
                                                    ],
                                                    [
                                                        0.3333333333333333,
                                                        "#9c179e"
                                                    ],
                                                    [
                                                        0.4444444444444444,
                                                        "#bd3786"
                                                    ],
                                                    [
                                                        0.5555555555555556,
                                                        "#d8576b"
                                                    ],
                                                    [
                                                        0.6666666666666666,
                                                        "#ed7953"
                                                    ],
                                                    [
                                                        0.7777777777777778,
                                                        "#fb9f3a"
                                                    ],
                                                    [
                                                        0.8888888888888888,
                                                        "#fdca26"
                                                    ],
                                                    [
                                                        1,
                                                        "#f0f921"
                                                    ]
                                                ],
                                                "type": "heatmapgl"
                                            }
                                        ],
                                        "histogram": [
                                            {
                                                "marker": {
                                                    "colorbar": {
                                                        "outlinewidth": 0,
                                                        "ticks": ""
                                                    }
                                                },
                                                "type": "histogram"
                                            }
                                        ],
                                        "histogram2d": [
                                            {
                                                "colorbar": {
                                                    "outlinewidth": 0,
                                                    "ticks": ""
                                                },
                                                "colorscale": [
                                                    [
                                                        0,
                                                        "#0d0887"
                                                    ],
                                                    [
                                                        0.1111111111111111,
                                                        "#46039f"
                                                    ],
                                                    [
                                                        0.2222222222222222,
                                                        "#7201a8"
                                                    ],
                                                    [
                                                        0.3333333333333333,
                                                        "#9c179e"
                                                    ],
                                                    [
                                                        0.4444444444444444,
                                                        "#bd3786"
                                                    ],
                                                    [
                                                        0.5555555555555556,
                                                        "#d8576b"
                                                    ],
                                                    [
                                                        0.6666666666666666,
                                                        "#ed7953"
                                                    ],
                                                    [
                                                        0.7777777777777778,
                                                        "#fb9f3a"
                                                    ],
                                                    [
                                                        0.8888888888888888,
                                                        "#fdca26"
                                                    ],
                                                    [
                                                        1,
                                                        "#f0f921"
                                                    ]
                                                ],
                                                "type": "histogram2d"
                                            }
                                        ],
                                        "histogram2dcontour": [
                                            {
                                                "colorbar": {
                                                    "outlinewidth": 0,
                                                    "ticks": ""
                                                },
                                                "colorscale": [
                                                    [
                                                        0,
                                                        "#0d0887"
                                                    ],
                                                    [
                                                        0.1111111111111111,
                                                        "#46039f"
                                                    ],
                                                    [
                                                        0.2222222222222222,
                                                        "#7201a8"
                                                    ],
                                                    [
                                                        0.3333333333333333,
                                                        "#9c179e"
                                                    ],
                                                    [
                                                        0.4444444444444444,
                                                        "#bd3786"
                                                    ],
                                                    [
                                                        0.5555555555555556,
                                                        "#d8576b"
                                                    ],
                                                    [
                                                        0.6666666666666666,
                                                        "#ed7953"
                                                    ],
                                                    [
                                                        0.7777777777777778,
                                                        "#fb9f3a"
                                                    ],
                                                    [
                                                        0.8888888888888888,
                                                        "#fdca26"
                                                    ],
                                                    [
                                                        1,
                                                        "#f0f921"
                                                    ]
                                                ],
                                                "type": "histogram2dcontour"
                                            }
                                        ],
                                        "mesh3d": [
                                            {
                                                "colorbar": {
                                                    "outlinewidth": 0,
                                                    "ticks": ""
                                                },
                                                "type": "mesh3d"
                                            }
                                        ],
                                        "parcoords": [
                                            {
                                                "line": {
                                                    "colorbar": {
                                                        "outlinewidth": 0,
                                                        "ticks": ""
                                                    }
                                                },
                                                "type": "parcoords"
                                            }
                                        ],
                                        "pie": [
                                            {
                                                "automargin": true,
                                                "type": "pie"
                                            }
                                        ],
                                        "scatter": [
                                            {
                                                "marker": {
                                                    "colorbar": {
                                                        "outlinewidth": 0,
                                                        "ticks": ""
                                                    }
                                                },
                                                "type": "scatter"
                                            }
                                        ],
                                        "scatter3d": [
                                            {
                                                "line": {
                                                    "colorbar": {
                                                        "outlinewidth": 0,
                                                        "ticks": ""
                                                    }
                                                },
                                                "marker": {
                                                    "colorbar": {
                                                        "outlinewidth": 0,
                                                        "ticks": ""
                                                    }
                                                },
                                                "type": "scatter3d"
                                            }
                                        ],
                                        "scattercarpet": [
                                            {
                                                "marker": {
                                                    "colorbar": {
                                                        "outlinewidth": 0,
                                                        "ticks": ""
                                                    }
                                                },
                                                "type": "scattercarpet"
                                            }
                                        ],
                                        "scattergeo": [
                                            {
                                                "marker": {
                                                    "colorbar": {
                                                        "outlinewidth": 0,
                                                        "ticks": ""
                                                    }
                                                },
                                                "type": "scattergeo"
                                            }
                                        ],
                                        "scattergl": [
                                            {
                                                "marker": {
                                                    "colorbar": {
                                                        "outlinewidth": 0,
                                                        "ticks": ""
                                                    }
                                                },
                                                "type": "scattergl"
                                            }
                                        ],
                                        "scattermapbox": [
                                            {
                                                "marker": {
                                                    "colorbar": {
                                                        "outlinewidth": 0,
                                                        "ticks": ""
                                                    }
                                                },
                                                "type": "scattermapbox"
                                            }
                                        ],
                                        "scatterpolar": [
                                            {
                                                "marker": {
                                                    "colorbar": {
                                                        "outlinewidth": 0,
                                                        "ticks": ""
                                                    }
                                                },
                                                "type": "scatterpolar"
                                            }
                                        ],
                                        "scatterpolargl": [
                                            {
                                                "marker": {
                                                    "colorbar": {
                                                        "outlinewidth": 0,
                                                        "ticks": ""
                                                    }
                                                },
                                                "type": "scatterpolargl"
                                            }
                                        ],
                                        "scatterternary": [
                                            {
                                                "marker": {
                                                    "colorbar": {
                                                        "outlinewidth": 0,
                                                        "ticks": ""
                                                    }
                                                },
                                                "type": "scatterternary"
                                            }
                                        ],
                                        "surface": [
                                            {
                                                "colorbar": {
                                                    "outlinewidth": 0,
                                                    "ticks": ""
                                                },
                                                "colorscale": [
                                                    [
                                                        0,
                                                        "#0d0887"
                                                    ],
                                                    [
                                                        0.1111111111111111,
                                                        "#46039f"
                                                    ],
                                                    [
                                                        0.2222222222222222,
                                                        "#7201a8"
                                                    ],
                                                    [
                                                        0.3333333333333333,
                                                        "#9c179e"
                                                    ],
                                                    [
                                                        0.4444444444444444,
                                                        "#bd3786"
                                                    ],
                                                    [
                                                        0.5555555555555556,
                                                        "#d8576b"
                                                    ],
                                                    [
                                                        0.6666666666666666,
                                                        "#ed7953"
                                                    ],
                                                    [
                                                        0.7777777777777778,
                                                        "#fb9f3a"
                                                    ],
                                                    [
                                                        0.8888888888888888,
                                                        "#fdca26"
                                                    ],
                                                    [
                                                        1,
                                                        "#f0f921"
                                                    ]
                                                ],
                                                "type": "surface"
                                            }
                                        ],
                                        "table": [
                                            {
                                                "cells": {
                                                    "fill": {
                                                        "color": "#EBF0F8"
                                                    },
                                                    "line": {
                                                        "color": "white"
                                                    }
                                                },
                                                "header": {
                                                    "fill": {
                                                        "color": "#C8D4E3"
                                                    },
                                                    "line": {
                                                        "color": "white"
                                                    }
                                                },
                                                "type": "table"
                                            }
                                        ]
                                    },
                                    "layout": {
                                        "annotationdefaults": {
                                            "arrowcolor": "#2a3f5f",
                                            "arrowhead": 0,
                                            "arrowwidth": 1
                                        },
                                        "autotypenumbers": "strict",
                                        "coloraxis": {
                                            "colorbar": {
                                                "outlinewidth": 0,
                                                "ticks": ""
                                            }
                                        },
                                        "colorscale": {
                                            "diverging": [
                                                [
                                                    0,
                                                    "#8e0152"
                                                ],
                                                [
                                                    0.1,
                                                    "#c51b7d"
                                                ],
                                                [
                                                    0.2,
                                                    "#de77ae"
                                                ],
                                                [
                                                    0.3,
                                                    "#f1b6da"
                                                ],
                                                [
                                                    0.4,
                                                    "#fde0ef"
                                                ],
                                                [
                                                    0.5,
                                                    "#f7f7f7"
                                                ],
                                                [
                                                    0.6,
                                                    "#e6f5d0"
                                                ],
                                                [
                                                    0.7,
                                                    "#b8e186"
                                                ],
                                                [
                                                    0.8,
                                                    "#7fbc41"
                                                ],
                                                [
                                                    0.9,
                                                    "#4d9221"
                                                ],
                                                [
                                                    1,
                                                    "#276419"
                                                ]
                                            ],
                                            "sequential": [
                                                [
                                                    0,
                                                    "#0d0887"
                                                ],
                                                [
                                                    0.1111111111111111,
                                                    "#46039f"
                                                ],
                                                [
                                                    0.2222222222222222,
                                                    "#7201a8"
                                                ],
                                                [
                                                    0.3333333333333333,
                                                    "#9c179e"
                                                ],
                                                [
                                                    0.4444444444444444,
                                                    "#bd3786"
                                                ],
                                                [
                                                    0.5555555555555556,
                                                    "#d8576b"
                                                ],
                                                [
                                                    0.6666666666666666,
                                                    "#ed7953"
                                                ],
                                                [
                                                    0.7777777777777778,
                                                    "#fb9f3a"
                                                ],
                                                [
                                                    0.8888888888888888,
                                                    "#fdca26"
                                                ],
                                                [
                                                    1,
                                                    "#f0f921"
                                                ]
                                            ],
                                            "sequentialminus": [
                                                [
                                                    0,
                                                    "#0d0887"
                                                ],
                                                [
                                                    0.1111111111111111,
                                                    "#46039f"
                                                ],
                                                [
                                                    0.2222222222222222,
                                                    "#7201a8"
                                                ],
                                                [
                                                    0.3333333333333333,
                                                    "#9c179e"
                                                ],
                                                [
                                                    0.4444444444444444,
                                                    "#bd3786"
                                                ],
                                                [
                                                    0.5555555555555556,
                                                    "#d8576b"
                                                ],
                                                [
                                                    0.6666666666666666,
                                                    "#ed7953"
                                                ],
                                                [
                                                    0.7777777777777778,
                                                    "#fb9f3a"
                                                ],
                                                [
                                                    0.8888888888888888,
                                                    "#fdca26"
                                                ],
                                                [
                                                    1,
                                                    "#f0f921"
                                                ]
                                            ]
                                        },
                                        "colorway": [
                                            "#636efa",
                                            "#EF553B",
                                            "#00cc96",
                                            "#ab63fa",
                                            "#FFA15A",
                                            "#19d3f3",
                                            "#FF6692",
                                            "#B6E880",
                                            "#FF97FF",
                                            "#FECB52"
                                        ],
                                        "font": {
                                            "color": "#2a3f5f"
                                        },
                                        "geo": {
                                            "bgcolor": "white",
                                            "lakecolor": "white",
                                            "landcolor": "#E5ECF6",
                                            "showlakes": true,
                                            "showland": true,
                                            "subunitcolor": "white"
                                        },
                                        "hoverlabel": {
                                            "align": "left"
                                        },
                                        "hovermode": "closest",
                                        "mapbox": {
                                            "style": "light"
                                        },
                                        "paper_bgcolor": "white",
                                        "plot_bgcolor": "#E5ECF6",
                                        "polar": {
                                            "angularaxis": {
                                                "gridcolor": "white",
                                                "linecolor": "white",
                                                "ticks": ""
                                            },
                                            "bgcolor": "#E5ECF6",
                                            "radialaxis": {
                                                "gridcolor": "white",
                                                "linecolor": "white",
                                                "ticks": ""
                                            }
                                        },
                                        "scene": {
                                            "xaxis": {
                                                "backgroundcolor": "#E5ECF6",
                                                "gridcolor": "white",
                                                "gridwidth": 2,
                                                "linecolor": "white",
                                                "showbackground": true,
                                                "ticks": "",
                                                "zerolinecolor": "white"
                                            },
                                            "yaxis": {
                                                "backgroundcolor": "#E5ECF6",
                                                "gridcolor": "white",
                                                "gridwidth": 2,
                                                "linecolor": "white",
                                                "showbackground": true,
                                                "ticks": "",
                                                "zerolinecolor": "white"
                                            },
                                            "zaxis": {
                                                "backgroundcolor": "#E5ECF6",
                                                "gridcolor": "white",
                                                "gridwidth": 2,
                                                "linecolor": "white",
                                                "showbackground": true,
                                                "ticks": "",
                                                "zerolinecolor": "white"
                                            }
                                        },
                                        "shapedefaults": {
                                            "line": {
                                                "color": "#2a3f5f"
                                            }
                                        },
                                        "ternary": {
                                            "aaxis": {
                                                "gridcolor": "white",
                                                "linecolor": "white",
                                                "ticks": ""
                                            },
                                            "baxis": {
                                                "gridcolor": "white",
                                                "linecolor": "white",
                                                "ticks": ""
                                            },
                                            "bgcolor": "#E5ECF6",
                                            "caxis": {
                                                "gridcolor": "white",
                                                "linecolor": "white",
                                                "ticks": ""
                                            }
                                        },
                                        "title": {
                                            "x": 0.05
                                        },
                                        "xaxis": {
                                            "automargin": true,
                                            "gridcolor": "white",
                                            "linecolor": "white",
                                            "ticks": "",
                                            "title": {
                                                "standoff": 15
                                            },
                                            "zerolinecolor": "white",
                                            "zerolinewidth": 2
                                        },
                                        "yaxis": {
                                            "automargin": true,
                                            "gridcolor": "white",
                                            "linecolor": "white",
                                            "ticks": "",
                                            "title": {
                                                "standoff": 15
                                            },
                                            "zerolinecolor": "white",
                                            "zerolinewidth": 2
                                        }
                                    }
                                },
                                "title": {
                                    "text": "Daily Precipitation and Profit"
                                },
                                "xaxis": {
                                    "anchor": "y",
                                    "domain": [
                                        0,
                                        1
                                    ],
                                    "matches": "x2",
                                    "showticklabels": false,
                                    "title": {
                                        "text": "Day"
                                    }
                                },
                                "xaxis2": {
                                    "anchor": "y2",
                                    "domain": [
                                        0,
                                        1
                                    ],
                                    "title": {
                                        "text": "Day"
                                    }
                                },
                                "yaxis": {
                                    "anchor": "x",
                                    "domain": [
                                        0.575,
                                        1
                                    ],
                                    "title": {
                                        "text": "Precipitation (mm)"
                                    }
                                },
                                "yaxis2": {
                                    "anchor": "x2",
                                    "domain": [
                                        0,
                                        0.425
                                    ],
                                    "title": {
                                        "text": "Expected Profit (USD)"
                                    }
                                }
                            }
                        }
                    },
                    "metadata": {},
                    "output_type": "display_data"
                }
            ],
            "source": [
                "prec_list, avg_profit_list, rainy_days, total_profit = total_profit_fair_us(70000,scalers_dict, [0,0,0,0,0,5,2,0,0,50,100,90,90,0],extra_costs=0)\n",
                "\n",
                "plotly_prec_profit(prec_list,avg_profit_list)"
            ]
        },
        {
            "cell_type": "markdown",
            "metadata": {},
            "source": [
                "If we add insurance"
            ]
        },
        {
            "cell_type": "code",
            "execution_count": 214,
            "metadata": {},
            "outputs": [
                {
                    "data": {
                        "application/vnd.plotly.v1+json": {
                            "config": {
                                "plotlyServerURL": "https://plot.ly"
                            },
                            "data": [
                                {
                                    "name": "Precipitation",
                                    "type": "bar",
                                    "x": [
                                        1,
                                        2,
                                        3,
                                        4,
                                        5,
                                        6,
                                        7,
                                        8,
                                        9,
                                        10,
                                        11,
                                        12,
                                        13,
                                        14
                                    ],
                                    "xaxis": "x",
                                    "y": [
                                        0,
                                        0,
                                        0,
                                        0,
                                        0,
                                        5,
                                        2,
                                        0,
                                        0,
                                        50,
                                        100,
                                        90,
                                        90,
                                        0
                                    ],
                                    "yaxis": "y"
                                },
                                {
                                    "name": "Profit",
                                    "type": "bar",
                                    "x": [
                                        1,
                                        2,
                                        3,
                                        4,
                                        5,
                                        6,
                                        7,
                                        8,
                                        9,
                                        10,
                                        11,
                                        12,
                                        13,
                                        14
                                    ],
                                    "xaxis": "x2",
                                    "y": [
                                        435.28,
                                        435.28,
                                        435.28,
                                        435.28,
                                        435.28,
                                        -50.1671098436035,
                                        219.72751112906985,
                                        435.28,
                                        435.28,
                                        19349.175576383946,
                                        -1352.9118248991026,
                                        -1244.2065387196349,
                                        -1244.2065387196349,
                                        1435.28
                                    ],
                                    "yaxis": "y2"
                                }
                            ],
                            "layout": {
                                "template": {
                                    "data": {
                                        "bar": [
                                            {
                                                "error_x": {
                                                    "color": "#2a3f5f"
                                                },
                                                "error_y": {
                                                    "color": "#2a3f5f"
                                                },
                                                "marker": {
                                                    "line": {
                                                        "color": "#E5ECF6",
                                                        "width": 0.5
                                                    }
                                                },
                                                "type": "bar"
                                            }
                                        ],
                                        "barpolar": [
                                            {
                                                "marker": {
                                                    "line": {
                                                        "color": "#E5ECF6",
                                                        "width": 0.5
                                                    }
                                                },
                                                "type": "barpolar"
                                            }
                                        ],
                                        "carpet": [
                                            {
                                                "aaxis": {
                                                    "endlinecolor": "#2a3f5f",
                                                    "gridcolor": "white",
                                                    "linecolor": "white",
                                                    "minorgridcolor": "white",
                                                    "startlinecolor": "#2a3f5f"
                                                },
                                                "baxis": {
                                                    "endlinecolor": "#2a3f5f",
                                                    "gridcolor": "white",
                                                    "linecolor": "white",
                                                    "minorgridcolor": "white",
                                                    "startlinecolor": "#2a3f5f"
                                                },
                                                "type": "carpet"
                                            }
                                        ],
                                        "choropleth": [
                                            {
                                                "colorbar": {
                                                    "outlinewidth": 0,
                                                    "ticks": ""
                                                },
                                                "type": "choropleth"
                                            }
                                        ],
                                        "contour": [
                                            {
                                                "colorbar": {
                                                    "outlinewidth": 0,
                                                    "ticks": ""
                                                },
                                                "colorscale": [
                                                    [
                                                        0,
                                                        "#0d0887"
                                                    ],
                                                    [
                                                        0.1111111111111111,
                                                        "#46039f"
                                                    ],
                                                    [
                                                        0.2222222222222222,
                                                        "#7201a8"
                                                    ],
                                                    [
                                                        0.3333333333333333,
                                                        "#9c179e"
                                                    ],
                                                    [
                                                        0.4444444444444444,
                                                        "#bd3786"
                                                    ],
                                                    [
                                                        0.5555555555555556,
                                                        "#d8576b"
                                                    ],
                                                    [
                                                        0.6666666666666666,
                                                        "#ed7953"
                                                    ],
                                                    [
                                                        0.7777777777777778,
                                                        "#fb9f3a"
                                                    ],
                                                    [
                                                        0.8888888888888888,
                                                        "#fdca26"
                                                    ],
                                                    [
                                                        1,
                                                        "#f0f921"
                                                    ]
                                                ],
                                                "type": "contour"
                                            }
                                        ],
                                        "contourcarpet": [
                                            {
                                                "colorbar": {
                                                    "outlinewidth": 0,
                                                    "ticks": ""
                                                },
                                                "type": "contourcarpet"
                                            }
                                        ],
                                        "heatmap": [
                                            {
                                                "colorbar": {
                                                    "outlinewidth": 0,
                                                    "ticks": ""
                                                },
                                                "colorscale": [
                                                    [
                                                        0,
                                                        "#0d0887"
                                                    ],
                                                    [
                                                        0.1111111111111111,
                                                        "#46039f"
                                                    ],
                                                    [
                                                        0.2222222222222222,
                                                        "#7201a8"
                                                    ],
                                                    [
                                                        0.3333333333333333,
                                                        "#9c179e"
                                                    ],
                                                    [
                                                        0.4444444444444444,
                                                        "#bd3786"
                                                    ],
                                                    [
                                                        0.5555555555555556,
                                                        "#d8576b"
                                                    ],
                                                    [
                                                        0.6666666666666666,
                                                        "#ed7953"
                                                    ],
                                                    [
                                                        0.7777777777777778,
                                                        "#fb9f3a"
                                                    ],
                                                    [
                                                        0.8888888888888888,
                                                        "#fdca26"
                                                    ],
                                                    [
                                                        1,
                                                        "#f0f921"
                                                    ]
                                                ],
                                                "type": "heatmap"
                                            }
                                        ],
                                        "heatmapgl": [
                                            {
                                                "colorbar": {
                                                    "outlinewidth": 0,
                                                    "ticks": ""
                                                },
                                                "colorscale": [
                                                    [
                                                        0,
                                                        "#0d0887"
                                                    ],
                                                    [
                                                        0.1111111111111111,
                                                        "#46039f"
                                                    ],
                                                    [
                                                        0.2222222222222222,
                                                        "#7201a8"
                                                    ],
                                                    [
                                                        0.3333333333333333,
                                                        "#9c179e"
                                                    ],
                                                    [
                                                        0.4444444444444444,
                                                        "#bd3786"
                                                    ],
                                                    [
                                                        0.5555555555555556,
                                                        "#d8576b"
                                                    ],
                                                    [
                                                        0.6666666666666666,
                                                        "#ed7953"
                                                    ],
                                                    [
                                                        0.7777777777777778,
                                                        "#fb9f3a"
                                                    ],
                                                    [
                                                        0.8888888888888888,
                                                        "#fdca26"
                                                    ],
                                                    [
                                                        1,
                                                        "#f0f921"
                                                    ]
                                                ],
                                                "type": "heatmapgl"
                                            }
                                        ],
                                        "histogram": [
                                            {
                                                "marker": {
                                                    "colorbar": {
                                                        "outlinewidth": 0,
                                                        "ticks": ""
                                                    }
                                                },
                                                "type": "histogram"
                                            }
                                        ],
                                        "histogram2d": [
                                            {
                                                "colorbar": {
                                                    "outlinewidth": 0,
                                                    "ticks": ""
                                                },
                                                "colorscale": [
                                                    [
                                                        0,
                                                        "#0d0887"
                                                    ],
                                                    [
                                                        0.1111111111111111,
                                                        "#46039f"
                                                    ],
                                                    [
                                                        0.2222222222222222,
                                                        "#7201a8"
                                                    ],
                                                    [
                                                        0.3333333333333333,
                                                        "#9c179e"
                                                    ],
                                                    [
                                                        0.4444444444444444,
                                                        "#bd3786"
                                                    ],
                                                    [
                                                        0.5555555555555556,
                                                        "#d8576b"
                                                    ],
                                                    [
                                                        0.6666666666666666,
                                                        "#ed7953"
                                                    ],
                                                    [
                                                        0.7777777777777778,
                                                        "#fb9f3a"
                                                    ],
                                                    [
                                                        0.8888888888888888,
                                                        "#fdca26"
                                                    ],
                                                    [
                                                        1,
                                                        "#f0f921"
                                                    ]
                                                ],
                                                "type": "histogram2d"
                                            }
                                        ],
                                        "histogram2dcontour": [
                                            {
                                                "colorbar": {
                                                    "outlinewidth": 0,
                                                    "ticks": ""
                                                },
                                                "colorscale": [
                                                    [
                                                        0,
                                                        "#0d0887"
                                                    ],
                                                    [
                                                        0.1111111111111111,
                                                        "#46039f"
                                                    ],
                                                    [
                                                        0.2222222222222222,
                                                        "#7201a8"
                                                    ],
                                                    [
                                                        0.3333333333333333,
                                                        "#9c179e"
                                                    ],
                                                    [
                                                        0.4444444444444444,
                                                        "#bd3786"
                                                    ],
                                                    [
                                                        0.5555555555555556,
                                                        "#d8576b"
                                                    ],
                                                    [
                                                        0.6666666666666666,
                                                        "#ed7953"
                                                    ],
                                                    [
                                                        0.7777777777777778,
                                                        "#fb9f3a"
                                                    ],
                                                    [
                                                        0.8888888888888888,
                                                        "#fdca26"
                                                    ],
                                                    [
                                                        1,
                                                        "#f0f921"
                                                    ]
                                                ],
                                                "type": "histogram2dcontour"
                                            }
                                        ],
                                        "mesh3d": [
                                            {
                                                "colorbar": {
                                                    "outlinewidth": 0,
                                                    "ticks": ""
                                                },
                                                "type": "mesh3d"
                                            }
                                        ],
                                        "parcoords": [
                                            {
                                                "line": {
                                                    "colorbar": {
                                                        "outlinewidth": 0,
                                                        "ticks": ""
                                                    }
                                                },
                                                "type": "parcoords"
                                            }
                                        ],
                                        "pie": [
                                            {
                                                "automargin": true,
                                                "type": "pie"
                                            }
                                        ],
                                        "scatter": [
                                            {
                                                "marker": {
                                                    "colorbar": {
                                                        "outlinewidth": 0,
                                                        "ticks": ""
                                                    }
                                                },
                                                "type": "scatter"
                                            }
                                        ],
                                        "scatter3d": [
                                            {
                                                "line": {
                                                    "colorbar": {
                                                        "outlinewidth": 0,
                                                        "ticks": ""
                                                    }
                                                },
                                                "marker": {
                                                    "colorbar": {
                                                        "outlinewidth": 0,
                                                        "ticks": ""
                                                    }
                                                },
                                                "type": "scatter3d"
                                            }
                                        ],
                                        "scattercarpet": [
                                            {
                                                "marker": {
                                                    "colorbar": {
                                                        "outlinewidth": 0,
                                                        "ticks": ""
                                                    }
                                                },
                                                "type": "scattercarpet"
                                            }
                                        ],
                                        "scattergeo": [
                                            {
                                                "marker": {
                                                    "colorbar": {
                                                        "outlinewidth": 0,
                                                        "ticks": ""
                                                    }
                                                },
                                                "type": "scattergeo"
                                            }
                                        ],
                                        "scattergl": [
                                            {
                                                "marker": {
                                                    "colorbar": {
                                                        "outlinewidth": 0,
                                                        "ticks": ""
                                                    }
                                                },
                                                "type": "scattergl"
                                            }
                                        ],
                                        "scattermapbox": [
                                            {
                                                "marker": {
                                                    "colorbar": {
                                                        "outlinewidth": 0,
                                                        "ticks": ""
                                                    }
                                                },
                                                "type": "scattermapbox"
                                            }
                                        ],
                                        "scatterpolar": [
                                            {
                                                "marker": {
                                                    "colorbar": {
                                                        "outlinewidth": 0,
                                                        "ticks": ""
                                                    }
                                                },
                                                "type": "scatterpolar"
                                            }
                                        ],
                                        "scatterpolargl": [
                                            {
                                                "marker": {
                                                    "colorbar": {
                                                        "outlinewidth": 0,
                                                        "ticks": ""
                                                    }
                                                },
                                                "type": "scatterpolargl"
                                            }
                                        ],
                                        "scatterternary": [
                                            {
                                                "marker": {
                                                    "colorbar": {
                                                        "outlinewidth": 0,
                                                        "ticks": ""
                                                    }
                                                },
                                                "type": "scatterternary"
                                            }
                                        ],
                                        "surface": [
                                            {
                                                "colorbar": {
                                                    "outlinewidth": 0,
                                                    "ticks": ""
                                                },
                                                "colorscale": [
                                                    [
                                                        0,
                                                        "#0d0887"
                                                    ],
                                                    [
                                                        0.1111111111111111,
                                                        "#46039f"
                                                    ],
                                                    [
                                                        0.2222222222222222,
                                                        "#7201a8"
                                                    ],
                                                    [
                                                        0.3333333333333333,
                                                        "#9c179e"
                                                    ],
                                                    [
                                                        0.4444444444444444,
                                                        "#bd3786"
                                                    ],
                                                    [
                                                        0.5555555555555556,
                                                        "#d8576b"
                                                    ],
                                                    [
                                                        0.6666666666666666,
                                                        "#ed7953"
                                                    ],
                                                    [
                                                        0.7777777777777778,
                                                        "#fb9f3a"
                                                    ],
                                                    [
                                                        0.8888888888888888,
                                                        "#fdca26"
                                                    ],
                                                    [
                                                        1,
                                                        "#f0f921"
                                                    ]
                                                ],
                                                "type": "surface"
                                            }
                                        ],
                                        "table": [
                                            {
                                                "cells": {
                                                    "fill": {
                                                        "color": "#EBF0F8"
                                                    },
                                                    "line": {
                                                        "color": "white"
                                                    }
                                                },
                                                "header": {
                                                    "fill": {
                                                        "color": "#C8D4E3"
                                                    },
                                                    "line": {
                                                        "color": "white"
                                                    }
                                                },
                                                "type": "table"
                                            }
                                        ]
                                    },
                                    "layout": {
                                        "annotationdefaults": {
                                            "arrowcolor": "#2a3f5f",
                                            "arrowhead": 0,
                                            "arrowwidth": 1
                                        },
                                        "autotypenumbers": "strict",
                                        "coloraxis": {
                                            "colorbar": {
                                                "outlinewidth": 0,
                                                "ticks": ""
                                            }
                                        },
                                        "colorscale": {
                                            "diverging": [
                                                [
                                                    0,
                                                    "#8e0152"
                                                ],
                                                [
                                                    0.1,
                                                    "#c51b7d"
                                                ],
                                                [
                                                    0.2,
                                                    "#de77ae"
                                                ],
                                                [
                                                    0.3,
                                                    "#f1b6da"
                                                ],
                                                [
                                                    0.4,
                                                    "#fde0ef"
                                                ],
                                                [
                                                    0.5,
                                                    "#f7f7f7"
                                                ],
                                                [
                                                    0.6,
                                                    "#e6f5d0"
                                                ],
                                                [
                                                    0.7,
                                                    "#b8e186"
                                                ],
                                                [
                                                    0.8,
                                                    "#7fbc41"
                                                ],
                                                [
                                                    0.9,
                                                    "#4d9221"
                                                ],
                                                [
                                                    1,
                                                    "#276419"
                                                ]
                                            ],
                                            "sequential": [
                                                [
                                                    0,
                                                    "#0d0887"
                                                ],
                                                [
                                                    0.1111111111111111,
                                                    "#46039f"
                                                ],
                                                [
                                                    0.2222222222222222,
                                                    "#7201a8"
                                                ],
                                                [
                                                    0.3333333333333333,
                                                    "#9c179e"
                                                ],
                                                [
                                                    0.4444444444444444,
                                                    "#bd3786"
                                                ],
                                                [
                                                    0.5555555555555556,
                                                    "#d8576b"
                                                ],
                                                [
                                                    0.6666666666666666,
                                                    "#ed7953"
                                                ],
                                                [
                                                    0.7777777777777778,
                                                    "#fb9f3a"
                                                ],
                                                [
                                                    0.8888888888888888,
                                                    "#fdca26"
                                                ],
                                                [
                                                    1,
                                                    "#f0f921"
                                                ]
                                            ],
                                            "sequentialminus": [
                                                [
                                                    0,
                                                    "#0d0887"
                                                ],
                                                [
                                                    0.1111111111111111,
                                                    "#46039f"
                                                ],
                                                [
                                                    0.2222222222222222,
                                                    "#7201a8"
                                                ],
                                                [
                                                    0.3333333333333333,
                                                    "#9c179e"
                                                ],
                                                [
                                                    0.4444444444444444,
                                                    "#bd3786"
                                                ],
                                                [
                                                    0.5555555555555556,
                                                    "#d8576b"
                                                ],
                                                [
                                                    0.6666666666666666,
                                                    "#ed7953"
                                                ],
                                                [
                                                    0.7777777777777778,
                                                    "#fb9f3a"
                                                ],
                                                [
                                                    0.8888888888888888,
                                                    "#fdca26"
                                                ],
                                                [
                                                    1,
                                                    "#f0f921"
                                                ]
                                            ]
                                        },
                                        "colorway": [
                                            "#636efa",
                                            "#EF553B",
                                            "#00cc96",
                                            "#ab63fa",
                                            "#FFA15A",
                                            "#19d3f3",
                                            "#FF6692",
                                            "#B6E880",
                                            "#FF97FF",
                                            "#FECB52"
                                        ],
                                        "font": {
                                            "color": "#2a3f5f"
                                        },
                                        "geo": {
                                            "bgcolor": "white",
                                            "lakecolor": "white",
                                            "landcolor": "#E5ECF6",
                                            "showlakes": true,
                                            "showland": true,
                                            "subunitcolor": "white"
                                        },
                                        "hoverlabel": {
                                            "align": "left"
                                        },
                                        "hovermode": "closest",
                                        "mapbox": {
                                            "style": "light"
                                        },
                                        "paper_bgcolor": "white",
                                        "plot_bgcolor": "#E5ECF6",
                                        "polar": {
                                            "angularaxis": {
                                                "gridcolor": "white",
                                                "linecolor": "white",
                                                "ticks": ""
                                            },
                                            "bgcolor": "#E5ECF6",
                                            "radialaxis": {
                                                "gridcolor": "white",
                                                "linecolor": "white",
                                                "ticks": ""
                                            }
                                        },
                                        "scene": {
                                            "xaxis": {
                                                "backgroundcolor": "#E5ECF6",
                                                "gridcolor": "white",
                                                "gridwidth": 2,
                                                "linecolor": "white",
                                                "showbackground": true,
                                                "ticks": "",
                                                "zerolinecolor": "white"
                                            },
                                            "yaxis": {
                                                "backgroundcolor": "#E5ECF6",
                                                "gridcolor": "white",
                                                "gridwidth": 2,
                                                "linecolor": "white",
                                                "showbackground": true,
                                                "ticks": "",
                                                "zerolinecolor": "white"
                                            },
                                            "zaxis": {
                                                "backgroundcolor": "#E5ECF6",
                                                "gridcolor": "white",
                                                "gridwidth": 2,
                                                "linecolor": "white",
                                                "showbackground": true,
                                                "ticks": "",
                                                "zerolinecolor": "white"
                                            }
                                        },
                                        "shapedefaults": {
                                            "line": {
                                                "color": "#2a3f5f"
                                            }
                                        },
                                        "ternary": {
                                            "aaxis": {
                                                "gridcolor": "white",
                                                "linecolor": "white",
                                                "ticks": ""
                                            },
                                            "baxis": {
                                                "gridcolor": "white",
                                                "linecolor": "white",
                                                "ticks": ""
                                            },
                                            "bgcolor": "#E5ECF6",
                                            "caxis": {
                                                "gridcolor": "white",
                                                "linecolor": "white",
                                                "ticks": ""
                                            }
                                        },
                                        "title": {
                                            "x": 0.05
                                        },
                                        "xaxis": {
                                            "automargin": true,
                                            "gridcolor": "white",
                                            "linecolor": "white",
                                            "ticks": "",
                                            "title": {
                                                "standoff": 15
                                            },
                                            "zerolinecolor": "white",
                                            "zerolinewidth": 2
                                        },
                                        "yaxis": {
                                            "automargin": true,
                                            "gridcolor": "white",
                                            "linecolor": "white",
                                            "ticks": "",
                                            "title": {
                                                "standoff": 15
                                            },
                                            "zerolinecolor": "white",
                                            "zerolinewidth": 2
                                        }
                                    }
                                },
                                "title": {
                                    "text": "Daily Precipitation and Profit"
                                },
                                "xaxis": {
                                    "anchor": "y",
                                    "domain": [
                                        0,
                                        1
                                    ],
                                    "matches": "x2",
                                    "showticklabels": false,
                                    "title": {
                                        "text": "Day"
                                    }
                                },
                                "xaxis2": {
                                    "anchor": "y2",
                                    "domain": [
                                        0,
                                        1
                                    ],
                                    "title": {
                                        "text": "Day"
                                    }
                                },
                                "yaxis": {
                                    "anchor": "x",
                                    "domain": [
                                        0.575,
                                        1
                                    ],
                                    "title": {
                                        "text": "Precipitation (mm)"
                                    }
                                },
                                "yaxis2": {
                                    "anchor": "x2",
                                    "domain": [
                                        0,
                                        0.425
                                    ],
                                    "title": {
                                        "text": "Expected Profit (USD)"
                                    }
                                }
                            }
                        }
                    },
                    "metadata": {},
                    "output_type": "display_data"
                }
            ],
            "source": [
                "new_profit_lst = add_insurance(prec_list,avg_profit_list,40,20000,1000)\n",
                "plotly_prec_profit(prec_list,new_profit_lst)"
            ]
        },
        {
            "cell_type": "code",
            "execution_count": null,
            "metadata": {},
            "outputs": [],
            "source": []
        },
        {
            "cell_type": "code",
            "execution_count": null,
            "metadata": {},
            "outputs": [],
            "source": []
        }
    ],
    "metadata": {
        "interpreter": {
            "hash": "1651fbb118edb08c0f1f9378d1167219bf84ed532f9f8babdd0e85557419e599"
        },
        "kernelspec": {
            "display_name": "Python 3.7.4 64-bit ('base': conda)",
            "name": "python3"
        },
        "language_info": {
            "codemirror_mode": {
                "name": "ipython",
                "version": 3
            },
            "file_extension": ".py",
            "mimetype": "text/x-python",
            "name": "python",
            "nbconvert_exporter": "python",
            "pygments_lexer": "ipython3",
            "version": "3.7.4"
        },
        "orig_nbformat": 4
    },
    "nbformat": 4,
    "nbformat_minor": 2
}
